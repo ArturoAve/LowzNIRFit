{
 "metadata": {
  "name": "",
  "signature": "sha256:e2c952b1c04a2f9207dd998b2bbdad287c47aaa250ec27603bbfcc9e5c7ccaf5"
 },
 "nbformat": 3,
 "nbformat_minor": 0,
 "worksheets": [
  {
   "cells": [
    {
     "cell_type": "markdown",
     "metadata": {},
     "source": [
      "# Create text files of: \n",
      "# - (phase, absolute mag, error mag) and\n",
      "# - (phase, apparent mag, error mag)"
     ]
    },
    {
     "cell_type": "markdown",
     "metadata": {},
     "source": [
      "### Notes\n"
     ]
    },
    {
     "cell_type": "markdown",
     "metadata": {},
     "source": [
      "# User interface"
     ]
    },
    {
     "cell_type": "code",
     "collapsed": false,
     "input": [
      "# USER\n",
      "\n",
      "import sys # To read arguments in command line\n",
      "\n",
      "#--- For command line ---\n",
      "# bandName = '%s'%sys.argv[1]\n",
      "# Sample = '%s'%sys.argv[2]\n",
      " \n",
      "#---- For notebook----\n",
      "bandName = 'J'  # (Y, Y, H, K)\n",
      "\n",
      "Sample = 'CfA'\n",
      "# Sample = 'CSP' \n",
      "# Sample = 'Others' \n",
      "# Sample = 'CfA_CSP' \n",
      "\n",
      "\n",
      "#----------------\n",
      "\n",
      "HoFix = 73.24 # 72 # Hubble constant (km/(s Mpc))\n",
      "# HoFix = 72.78  # TEMPORAL: value reported by Dhawan et al 2017.\n",
      "\n",
      "OmMFix = 0.28\n",
      "OmLFix = 0.72\n",
      "wFix = -1"
     ],
     "language": "python",
     "metadata": {},
     "outputs": [],
     "prompt_number": 1
    },
    {
     "cell_type": "markdown",
     "metadata": {},
     "source": [
      "-----"
     ]
    },
    {
     "cell_type": "markdown",
     "metadata": {},
     "source": [
      "# Automatic"
     ]
    },
    {
     "cell_type": "code",
     "collapsed": false,
     "input": [
      "from snpy import *\n",
      "# from numpy import * \n",
      "import numpy as np\n",
      "from matplotlib import pyplot as plt\n",
      "import json\n",
      "import glob # To read the name of the files in a given directory\n",
      "\n",
      "# %pylab qt \n",
      "# For CANOPY python: to show the plots in a separated Windows instead of inline.\n",
      "# If used, then I don't have to put the instruction \"plt.close()\" at\n",
      "# the end of the plot because it will show the figure and instantaneously \n",
      "# close the windows too.\n",
      "\n",
      "5+6"
     ],
     "language": "python",
     "metadata": {},
     "outputs": [
      {
       "metadata": {},
       "output_type": "pyout",
       "prompt_number": 2,
       "text": [
        "11"
       ]
      }
     ],
     "prompt_number": 2
    },
    {
     "cell_type": "code",
     "collapsed": false,
     "input": [],
     "language": "python",
     "metadata": {},
     "outputs": [],
     "prompt_number": 2
    },
    {
     "cell_type": "code",
     "collapsed": false,
     "input": [
      "\n",
      "#-------- BAND --------------------\n",
      "\n",
      "if bandName == 'J':\n",
      "    filterNames = ['J2m', 'JANDI', 'J', 'Jrc1', 'Jrc2', 'Jdw']\n",
      "\n",
      "if bandName == 'Y':\n",
      "    filterNames = ['Y', 'Ydw']\n",
      "\n",
      "if bandName == 'H':\n",
      "    filterNames = ['H2m', 'HANDI', 'H', 'Hdw']\n",
      "\n",
      "if bandName == 'K':\n",
      "    filterNames = ['Ks2m', 'KANDI', 'K', 'Kd']\n",
      "\n",
      "#-------------------- \n",
      "\n",
      "DataType = 'OpticalNIR' # OpticalNIR, Optical\n",
      "\n",
      "# The kcorr uncertainties were computed during the snoopy fitting\n",
      "# of the light curves?\n",
      "error_kcorr = False\n",
      "\n",
      "# Comment the CfA photometric observations flagged by Andrew Friedmann?\n",
      "CommentFlaggedCfAData = True\n",
      "\n",
      "\n",
      "######## (usually fixed) ########\n",
      "#   Filter system\n",
      "FilterSyst = 'Std_filters/'\n",
      "# FilterSyst = 'CSP_filters/'"
     ],
     "language": "python",
     "metadata": {},
     "outputs": [],
     "prompt_number": 3
    },
    {
     "cell_type": "code",
     "collapsed": false,
     "input": [
      "\n",
      "# Range of redshift data to be considered\n",
      "zMinCuttoff = 0.\n",
      "zMaxCuttoff = 0.1\n",
      "\n",
      "#-----------------------------------------\n",
      "\n",
      "# In CfA sample, remove the photometric data with the following error bars.\n",
      "flag1 = 0.175; flag2 = 0.25 # OK\n",
      "\n",
      "#-----------------------------------------\n",
      "\n",
      "#-- Consider the light curves with -at least- the following number of data:\n",
      "MinNumberOfDataInLCs=3\n",
      "\n",
      "#-- Consider the LC that contains data in the following range -at least- only:\n",
      "# phase_min = 3\n",
      "# phase_max = 10\n",
      "\n",
      "phase_min = 50\n",
      "phase_max = -15\n",
      "\n",
      "#-----------------------------------------\n",
      "\n",
      "#   Some fixed constants\n",
      "\n",
      "cc = 299792.458  # Speed of light (km/s)\n",
      "\n",
      "# Peculiar velocity\n",
      "# old. vpecFix = 150 # km/s. # Not used anymore\n",
      "\n",
      "##################################3\n",
      "\n",
      "# MainDir = '/Users/arturo/Dropbox/Research/SoftwareResearch/Snoopy/AndyLCComp_2018_02/'"
     ],
     "language": "python",
     "metadata": {},
     "outputs": [],
     "prompt_number": 4
    },
    {
     "cell_type": "code",
     "collapsed": false,
     "input": [],
     "language": "python",
     "metadata": {},
     "outputs": [],
     "prompt_number": 4
    },
    {
     "cell_type": "markdown",
     "metadata": {},
     "source": [
      "## Metadata: (zhel, zcmb)"
     ]
    },
    {
     "cell_type": "code",
     "collapsed": false,
     "input": [
      "DirMetadata = '/Users/arturo/Dropbox/Research/SoftwareResearch/\\\n",
      "Snoopy/AndyLCComp_2018_02/'\n",
      "\n",
      "# Reading the metadata file\n",
      "infoSNe_data = np.genfromtxt(DirMetadata+\n",
      "                             'carrick_Flow_corrections_snnames_v1.txt',\n",
      "                            dtype=['S17', float,float, 'S40',float,float,\n",
      "                                   float,float,float,float,'S16', int ])\n",
      "\n",
      "# Create a dictionary: \n",
      "# {snname: ra, dec, zhelio, e_zhel, zcmb, e_zcmb, zcmbFlow, e_zcmbFlow, code}\n",
      "\n",
      "infoSNe_dict = {infoSNe_data['f0'][i]: np.array( [ infoSNe_data['f1'][i],\n",
      "                infoSNe_data['f2'][i], \n",
      "                infoSNe_data['f4'][i]/cc, infoSNe_data['f5'][i]/cc,\n",
      "                infoSNe_data['f6'][i]/cc, infoSNe_data['f7'][i]/cc,\n",
      "                infoSNe_data['f8'][i]/cc, infoSNe_data['f9'][i]/cc,\n",
      "                infoSNe_data['f11'][i]] )\n",
      "                for i in range(len(infoSNe_data)) } \n",
      "\n",
      "print infoSNe_dict['sn1991T']\n",
      "# [  1.88542500e+02   2.66556000e+00   5.79067269e-03   3.33564095e-06\n",
      "#    3.19220839e-03   2.00138457e-05   6.60456908e-03   5.00346143e-04\n",
      "#    2.00000000e+00]"
     ],
     "language": "python",
     "metadata": {},
     "outputs": [
      {
       "output_type": "stream",
       "stream": "stdout",
       "text": [
        "[  1.88542500e+02   2.66556000e+00   5.79067269e-03   3.33564095e-06\n",
        "   3.19220839e-03   2.00138457e-05   9.20636903e-04   5.00346143e-04\n",
        "   2.00000000e+00]\n"
       ]
      }
     ],
     "prompt_number": 5
    },
    {
     "cell_type": "code",
     "collapsed": false,
     "input": [],
     "language": "python",
     "metadata": {},
     "outputs": [],
     "prompt_number": 5
    },
    {
     "cell_type": "markdown",
     "metadata": {},
     "source": [
      "### Uploading the SED of Hsiao to compute the extinction"
     ]
    },
    {
     "cell_type": "code",
     "collapsed": false,
     "input": [
      "Ia_w, Ia_f = kcorr.get_SED(0,'H3')"
     ],
     "language": "python",
     "metadata": {},
     "outputs": [],
     "prompt_number": 6
    },
    {
     "cell_type": "markdown",
     "metadata": {},
     "source": [
      "### Cosmology theory for $\\mu(z)$"
     ]
    },
    {
     "cell_type": "code",
     "collapsed": false,
     "input": [
      "from scipy.integrate import quad as intquad\n",
      "\n",
      "# Inverse of the dimensionless Hubble parameter\n",
      "def InvEHubblePar(z, OmM, wde):\n",
      "    \"Dimensionless Hubble parameter\"\n",
      "    InvEHubbleParInt = 1.0/(np.sqrt(OmM*(1.0+z)**3.0 + (1.0-OmM)*(1.+z)**(3.*(1.+wde))))\n",
      "    return InvEHubbleParInt\n",
      "\n",
      "# ---- The luminosity distance ----\n",
      "def LumDistance(z, OmM, wde, Ho):\n",
      "    \"Luminosity distance\"\n",
      "    LumDistanceVecInt = 0.\n",
      "    LumDistanceVecInt = cc*(1.+z)*intquad(InvEHubblePar, 0., z, args=(OmM, wde))[0]/Ho \n",
      "    return LumDistanceVecInt\n",
      "\n",
      "\n",
      "# ---- Distance modulus ----\n",
      "def DistanceMu(z, OmM, wde, Ho):\n",
      "    \"Distance modulus\"     \n",
      "    DistanceMuInt = 5.0*np.log10(LumDistance(z, OmM, wde, Ho)) + 25.0\n",
      "    return DistanceMuInt\n",
      "\n",
      "#--------------------------------------------------\n",
      "\n",
      "ztest1 = 0.1\n",
      "print DistanceMu(ztest1, OmMFix, wFix, HoFix)\n",
      "# 38.2572823409\n",
      "# 38.2202031449"
     ],
     "language": "python",
     "metadata": {},
     "outputs": [
      {
       "output_type": "stream",
       "stream": "stdout",
       "text": [
        "38.2202031449\n"
       ]
      }
     ],
     "prompt_number": 7
    },
    {
     "cell_type": "code",
     "collapsed": false,
     "input": [],
     "language": "python",
     "metadata": {},
     "outputs": [],
     "prompt_number": 7
    },
    {
     "cell_type": "markdown",
     "metadata": {},
     "source": [
      "### Generating a table of data (phase[TBmax], M, error_M) including the info of the SNe, from the \"snpy\" files\n",
      "\n",
      "The output data is already corrected by\n",
      "- k-correction\n",
      "- extinction by Milky Way dust\n",
      "- time dilation using the z_helio\n"
     ]
    },
    {
     "cell_type": "code",
     "collapsed": false,
     "input": [
      "#- Directory to save the data\n",
      "\n",
      "DirSaveFiles = '/Users/arturo/Dropbox/Research/Articulos/10_AndyKaisey/\\\n",
      "10Compute/TheTemplates/'+bandName+'_band/'+FilterSyst+'1_AllData_InitialFit/\\\n",
      "AbsMag/'+Sample+'/'    \n",
      "\n",
      "#- Force the creation of the directory to save the outputs.\n",
      "#- \"If the subdirectory does not exist then create it\"\n",
      "if not os.path.exists(DirSaveFiles): os.makedirs(DirSaveFiles)\n",
      "# if not os.path.exists(DirSavAppMag): os.makedirs(DirSavAppMag)\n",
      "\n",
      "#- Directory where the \".snpy\" files are located:\n",
      "DirLocationData = '/Users/arturo/Dropbox/Research/SoftwareResearch/\\\n",
      "Snoopy/AndyLCComp_2018_02/all/\\\n",
      "snoopy/2_Combine_Fit/'+Sample+'/'+DataType+'/Fit/'\n",
      "\n",
      "os.chdir(DirLocationData)\n",
      "\n",
      "# Create a list of the the \".snpy\" file names: \n",
      "list_SN = glob.glob('*_StdFilt.snpy')\n",
      "# tmp. list_SN = glob.glob('*_1stFit.snpy') # tmp\n",
      "\n",
      "print len(list_SN),\"SNe read with extension '_StdFilt.snpy.'\""
     ],
     "language": "python",
     "metadata": {},
     "outputs": [
      {
       "output_type": "stream",
       "stream": "stdout",
       "text": [
        "68 SNe read with extension '_StdFilt.snpy.'\n"
       ]
      }
     ],
     "prompt_number": 8
    },
    {
     "cell_type": "code",
     "collapsed": false,
     "input": [],
     "language": "python",
     "metadata": {},
     "outputs": [],
     "prompt_number": 8
    },
    {
     "cell_type": "code",
     "collapsed": false,
     "input": [
      "# AUTOMATIC: THIS DOES NOT NEED USER INTERACTION\n",
      "\n",
      "# Create a list of the the \"kcorr_Mean_Std.json\" file names:\n",
      "# old. list_JSON = glob.glob('*_kcorr_Mean_Std.json')\n",
      "\n",
      "log_text = open(DirSaveFiles+'Log_ListSNeWithData_in_'+bandName+'_band_'+Sample+'.log', 'w')\n",
      "# log_tex2 = open(DirSavAppMag+'Log_ListSNeWithData_in_'+bandName+'_band_'+Sample+'.log', 'w')\n",
      "\n",
      "log_text.write(\"# %s SNe read with extension '_StdFilt.snpy' \\\n",
      "in folder: \\n\"%len(list_SN))\n",
      "log_text.write(\"# %s \\n\"%DirLocationData)\n",
      "log_text.write(\"%s \\n\"%('-'*40))\n",
      "log_text.write('# '+bandName+'_band in the following SNe: \\n')\n",
      "# log_tex2.write(bandName+'_band in the following SNe: \\n')\n",
      "\n",
      "print 'SNe with data in band '+bandName+':'\n",
      "\n",
      "countSN_nir = 0 # Count SNe with data in a given NIR band\n",
      "# count_nodata = 0 # Count SNe with no data in a given NIR band.\n",
      "# SNe_nodata = [] # list of SNe with no data in a given NIR band.\n",
      "\n",
      "for sn in list_SN: # Loop over the SNe.\n",
      "\n",
      "    s=get_sn(sn) # upload .snpy info\n",
      "    \n",
      "    # The kcorr uncertainties were computed during the snoopy fitting\n",
      "    # of the light curves?\n",
      "    if error_kcorr == True:    \n",
      "        # upload the .json dictionary containing the k-corr uncertainties\n",
      "        with open(sn[:-12]+'kcorr_Mean_Std.json','r') \\\n",
      "as outfile: s_errorKcorr = json.load(outfile)  \n",
      "            \n",
      "    zhelio     = infoSNe_dict[s.name][2]\n",
      "    err_zhelio = infoSNe_dict[s.name][3]\n",
      "    \n",
      "    # Flag to determine the appropiate z_cmb:\n",
      "    flag_zcmb  = infoSNe_dict[s.name][8]\n",
      "    if flag_zcmb > 0.1:\n",
      "        zcmb       = infoSNe_dict[s.name][4]\n",
      "        err_zcmb   = infoSNe_dict[s.name][5]\n",
      "    else:\n",
      "        zcmb       = infoSNe_dict[s.name][6]\n",
      "        err_zcmb   = infoSNe_dict[s.name][7]\n",
      "\n",
      "    if zhelio > zMinCuttoff and zhelio < zMaxCuttoff:\n",
      "\n",
      "        # Count the number of similar bands in the same SNe (e.g., J, J2m)\n",
      "        CountNumSimilarBands = 0\n",
      "        \n",
      "        # Loop over all the variants of filters names in a given band.\n",
      "        for band in filterNames: \n",
      "            if (band in s.data.keys() and\n",
      "                (s.data[band].MJD[0] -s.Tmax)/(1+zhelio) <= phase_min and\n",
      "                (s.data[band].MJD[-1]-s.Tmax)/(1+zhelio) >= phase_max and\n",
      "                len(s.data[band].MJD) >= MinNumberOfDataInLCs):\n",
      "\n",
      "                CountNumSimilarBands = CountNumSimilarBands + 1\n",
      "                    \n",
      "                if CountNumSimilarBands == 1: \n",
      "                    SN_txtfile = open(DirSaveFiles+sn[0:18]+'_'+Sample+'_'+\n",
      "                                      bandName+'.txt', 'w')\n",
      "                else:\n",
      "                    SN_txtfile = open(DirSaveFiles+sn[0:18]+'_'+Sample+'_'+\n",
      "                                      bandName+'.txt', 'a')    \n",
      "                    SN_txtfile.write(\"#------ %s ------\\n\"%band)\n",
      "\n",
      "                #------- The extinction A_lambda --------\n",
      "                R_F = fset[band].R(wave=Ia_w, flux=Ia_f, Rv=3.1)\n",
      "                Alamb = R_F * s.EBVgal\n",
      "                e_Alamb = R_F * s.e_EBVgal\n",
      "\n",
      "                #------- distance modulus (LCDM)\n",
      "                mu_LCDM = DistanceMu(zcmb, OmMFix, wFix, HoFix)\n",
      "\n",
      "                #------------------------------------------------------------------------\n",
      "                #   WRITTING THE HEADERS IN THE TEXT FILE\n",
      "\n",
      "                if CountNumSimilarBands == 1:\n",
      "                    SN_txtfile.write(\"# {0} \\n\".format(s.name))\n",
      "                    # SN_txtfil2.write(\"# {0}    # SN name \\n\".format(s.name))\n",
      "\n",
      "                    # SN_txtfile.write(\"# \\n\")\n",
      "                    SN_txtfile.write(\"%-13.6f  %.6f  %.6f  %.6f  -1       -1  -1 # \\\n",
      "(zcmb, err_zcmb, zhelio, err_zhelio) \\n\"%(\n",
      "                            zcmb, err_zcmb, zhelio, err_zhelio))\n",
      "                    # SN_txtfil2.write(\"{0}  {1}  {2}  {3}  00.000  00.000 00.000 # \\\n",
      "    # (zcmb, err_zcmb, zhelio, err_zhelio) metadata file \\n\".format(zcmb, err_zcmb,\n",
      "    #                                                              zhelio, err_zhelio ))\n",
      "                    # SN_txtfile.write(\"# \\n\")\n",
      "                    SN_txtfile.write(\"%-13.6f  %.6f  %.6f   -1       -1       -1  -1 # \\\n",
      "(dm15, err_dm15, stretch) \\n\"%(\n",
      "                            s.dm15, s.e_dm15, s.ks_s))\n",
      "    #                SN_txtfil2.write(\"{0}  {1}  {2}   00.000  00.000 00.000 00.000 # \\\n",
      "    # (dm15, err_dm15, stretch) \\n\".format(s.dm15, s.e_dm15, s.ks_s))\n",
      "\n",
      "                    # SN_txtfile.write(\" \\n\")\n",
      "                    SN_txtfile.write(\"%-13.6f  %.6f  %.6f  -1       -1       -1  -1 # \\\n",
      "(mu_Snoopy, err_mu_Snoopy, mu_LCDM) \\n\"%(\n",
      "                            s.DM, s.e_DM, mu_LCDM))\n",
      "    #                 SN_txtfil2.write(\"{0}  {1}  {2}  00.000  00.000  00.000 00.000 # \\\n",
      "    # (mu_Snoopy, err_mu_Snoopy, mu_LCDM) \\n\".format(s.DM, s.e_DM, mu_LCDM))\n",
      "\n",
      "                    # SN_txtfile.write(\" \\n\")\n",
      "                    SN_txtfile.write(\"%-13.6f  %.6f  %.6f  %.6f  %.6f -1  -1 # \\\n",
      "(E(B-V)_MW, err_E(B-V)_MW, Alamb, err_Alamb, R_F) \\n\"%(\n",
      "                            s.EBVgal, s.e_EBVgal, Alamb, e_Alamb, R_F))\n",
      "    #                SN_txtfil2.write(\"{0}  {1}  {2}  {3}  {4} 00.000  00.000 # \\\n",
      "    # (E(B-V)_MW, err_E(B-V)_MW, Alamb, err_Alamb, R_F) \\n\".format(s.EBVgal, s.e_EBVgal,\n",
      "    #                                                              Alamb, e_Alamb, R_F))\n",
      "\n",
      "                    # SN_txtfile.write(\" \\n\")\n",
      "                    SN_txtfile.write(\"%-13.6f  %.6f  -1        -1        -1       -1  -1 # \\\n",
      "(E(B-V)_host, err_E(B-V)_host) \\n\"%(\n",
      "                            s.EBVhost, s.e_EBVhost))\n",
      "    #                 SN_txtfil2.write(\"{0}  {1}  00.000  00.000 00.000 00.000 00.000 # \\\n",
      "    # (E(B-V)_host, err_E(B-V)_host) \\n\".format(s.EBVhost, s.e_EBVhost))\n",
      "\n",
      "                    # SN_txtfile.write(\" \\n\")\n",
      "                    SN_txtfile.write(\"%-13.6f  %.6f  -1        -1        -1       -1  -1 # \\\n",
      "(T_Bmax, err_T_Bmax) \\n\"%(s.Tmax, s.e_Tmax))\n",
      "    #                 SN_txtfil2.write(\"{0}  {1}  00.000  00.000 00.000 00.000 00.000 # \\\n",
      "    # (T_Bmax, err_T_Bmax) \\n\".format(s.Tmax, s.e_Tmax))\n",
      "\n",
      "                    SN_txtfile.write(\"-1  -1  -1  -1  -1  -1  -1 # Free slot \\n\")\n",
      "\n",
      "\n",
      "                    SN_txtfile.write(\"-1  -1  -1  -1  -1  -1  -1 # Free slot \\n\")\n",
      "\n",
      "\n",
      "                    SN_txtfile.write(\"# Assuming flat LCDM with (Om={0}, OL={1}, w={2}, \\\n",
      "Ho={3}) \\n\".format(OmMFix, OmLFix, wFix, HoFix))\n",
      "\n",
      "                    SN_txtfile.write('#------------------------------------------------- \\n')\n",
      "                    SN_txtfile.write(\"#  %s \\n\"%band)\n",
      "                    SN_txtfile.write('#Phase(TBmax) Abs mag  Err_Absmag  App mag  \\\n",
      "Err_appmag   kcorr    err_kcorr  \\n')\n",
      "\n",
      "                #------------------------------------------------------------------------\n",
      "                #   WRITTING THE PHOTOMETRY\n",
      "\n",
      "                # Retriving the error in EBVgal\n",
      "                # e_EBVgal = dust_getval.get_dust_sigma_RADEC(s.ra, s.decl, calibration='SF11')\n",
      "\n",
      "                for i in range(len(s.data[band].MJD)): # Loop over MJD in a given band\n",
      "\n",
      "                    #---------------------------------------------\n",
      "                    # Remove bad photometric data points in CfA sample based on the flag\n",
      "                    # in the error value:\n",
      "\n",
      "                    if CommentFlaggedCfAData == False: CommentText = ''\n",
      "\n",
      "                    elif CommentFlaggedCfAData == True:\n",
      "                        if (Sample == 'CfA' and (s.data[band].e_mag[i] == flag1 or\n",
      "                              s.data[band].e_mag[i] == flag2)):\n",
      "                            CommentText = '##'\n",
      "                        else: CommentText = ''\n",
      "                            \n",
      "                    # Define the err_kcorr value:\n",
      "                    if error_kcorr == True:\n",
      "                            err_kcorr = s_errorKcorr[band]['%s'%s.data[band].MJD[i]][1]\n",
      "                    else: err_kcorr = 0.\n",
      "\n",
      "                    # Write in a text file: (phase, Absolute mag, error abs mag)\n",
      "                    SN_txtfile.write(\"%s%-9.5f   %.6f  %.6f  %.6f  %.6f  %10.6f  %.6f\\n\"%(\n",
      "                        CommentText,\n",
      "\n",
      "                        # phase:\n",
      "                        (s.data[band].MJD[i]-s.Tmax)/((1+zhelio)*s.ks_s),\n",
      "\n",
      "                        # Abs mag: kcorrected, MWdust corrected, and distance\n",
      "                        # modulus subtracted:\n",
      "                        s.data[band].mag[i] - s.ks[band][i] - Alamb - mu_LCDM,\n",
      "\n",
      "                       # Total uncertainty for abs mag =\n",
      "                       # = (e_mag^2 + e_Alamb^2 + e_kcorr^2)^(-1/2)\n",
      "                       np.sqrt((s.data[band].e_mag[i])**2 + e_Alamb**2 +\n",
      "                       err_kcorr**2 ),\n",
      "\n",
      "                       # Apparent magnitude: MWdust corrected\n",
      "                       s.data[band].mag[i] - Alamb,\n",
      "\n",
      "                       # Apparent magnitude error\n",
      "                       np.sqrt((s.data[band].e_mag[i])**2 + e_Alamb**2),\n",
      "\n",
      "                       # k-corr\n",
      "                       s.ks[band][i],\n",
      "\n",
      "                       # k-corr error\n",
      "                       err_kcorr\n",
      "                       ))\n",
      "\n",
      "                log_text.write('%s \\n'%sn)\n",
      "                # log_tex2.write('%s \\n'%sn)\n",
      "\n",
      "                SN_txtfile.close()\n",
      "                # SN_txtfil2.close()\n",
      "\n",
      "                countSN_nir = countSN_nir + 1\n",
      "                print '%r)'%countSN_nir, sn[0:36]\n",
      "\n",
      "            #--------------\n",
      "\n",
      "            # else:\n",
      "                # SNe_nodata += [sn]\n",
      "                # count_nodata += 1\n",
      "                # print \"No %s band in:\"%bandName, sn\n",
      "    else: print \"SN with z <\", zMinCuttoff,\":\", s.name\n",
      "\n",
      "log_text.write(\"# %s SNe in this list. \\n\"%countSN_nir)\n",
      "log_text.close()\n",
      "# log_tex2.close()\n",
      "\n",
      "print \"   \"\n",
      "print \"# -- %r SNe in subsample %s with data in %s band: done. -- \"%(\n",
      "        countSN_nir, Sample, bandName)\n",
      "print len(list_SN),\"# SNe read with extension '_StdFilt.snpy.'\"\n",
      "# print \"# %s SNe with no data in %s band or less than %s observations.\"%(\n",
      "#         count_nodata, bandName, MinNumberOfDataInLCs)\n",
      "# print \"# The SNe are:\"\n",
      "\n"
     ],
     "language": "python",
     "metadata": {},
     "outputs": [
      {
       "output_type": "stream",
       "stream": "stdout",
       "text": [
        "SNe with data in band J:\n",
        "1) sn1998bu__U_69_B_97_V_110_R_87_I_108\n",
        "2)"
       ]
      },
      {
       "output_type": "stream",
       "stream": "stdout",
       "text": [
        " sn2005bo__J_15_H_16_K_13__CfAIR2_fri\n",
        "3) sn2005cf__U_36_B_19_V_21_r_prime_17_\n",
        "4)"
       ]
      },
      {
       "output_type": "stream",
       "stream": "stdout",
       "text": [
        " sn2005el__U_55_B_39_V_55_r_prime_52_\n",
        "5) sn2005eq__U_22_B_24_V_33_r_prime_32_\n",
        "6)"
       ]
      },
      {
       "output_type": "stream",
       "stream": "stdout",
       "text": [
        " sn2005eu__B_16_V_25_r_prime_28_i_pri\n",
        "7) sn2005iq__U_7_B_15_V_14_r_prime_15_i\n",
        "8)"
       ]
      },
      {
       "output_type": "stream",
       "stream": "stdout",
       "text": [
        " sn2005ls__U_12_B_14_V_19_r_prime_19_\n",
        "9) sn2005na__U_13_B_13_V_21_r_prime_23_\n",
        "10) sn2006ac__U_27_B_23_V_30_r_prime_33_\n",
        "11)"
       ]
      },
      {
       "output_type": "stream",
       "stream": "stdout",
       "text": [
        " sn2006ax__U_37_B_23_V_23_r_prime_24_\n",
        "12) sn2006cp__U_6_B_7_V_8_r_prime_10_i_p\n",
        "13) sn2006D__U_24_B_22_V_26_r_prime_29_i\n",
        "14)"
       ]
      },
      {
       "output_type": "stream",
       "stream": "stdout",
       "text": [
        " sn2006gr__U_17_B_18_V_30_r_prime_34_\n",
        "15) sn2006le__U_36_B_31_V_55_r_prime_53_\n",
        "16)"
       ]
      },
      {
       "output_type": "stream",
       "stream": "stdout",
       "text": [
        " sn2006lf__U_3_B_24_V_34_r_prime_33_i\n",
        "17)"
       ]
      },
      {
       "output_type": "stream",
       "stream": "stdout",
       "text": [
        " sn2006N__U_26_B_24_V_31_r_prime_30_i\n",
        "18) sn2006X__U_34_B_37_V_50_r_prime_51_i\n",
        "19) sn2007ca__B_13_V_16_r_prime_15_i_pri\n",
        "20)"
       ]
      },
      {
       "output_type": "stream",
       "stream": "stdout",
       "text": [
        " sn2007co__U_19_B_23_V_28_r_prime_27_\n",
        "21) sn2007cq__B_26_V_29_r_prime_29_i_pri\n",
        "22)"
       ]
      },
      {
       "output_type": "stream",
       "stream": "stdout",
       "text": [
        " sn2007le__B_19_V_26_r_prime_26_i_pri\n",
        "23)"
       ]
      },
      {
       "output_type": "stream",
       "stream": "stdout",
       "text": [
        " sn2007nq__B_14_V_17_r_prime_17_i_pri\n",
        "24) sn2007qe__B_43_V_24_r_prime_26_i_pri\n",
        "25) sn2007rx__B_11_V_13_r_prime_13_i_pri\n",
        "26)"
       ]
      },
      {
       "output_type": "stream",
       "stream": "stdout",
       "text": [
        " sn2007S__B_40_V_48_r_prime_50_i_prim\n",
        "27) sn2008af__B_11_V_10_r_prime_11_i_pri\n",
        "28)"
       ]
      },
      {
       "output_type": "stream",
       "stream": "stdout",
       "text": [
        " sn2008C__B_19_V_19_r_prime_19_i_prim\n",
        "29)"
       ]
      },
      {
       "output_type": "stream",
       "stream": "stdout",
       "text": [
        " sn2008fr__U_17_B_19_V_21_r_prime_19_\n",
        "30) sn2008gb__U_5_B_14_V_15_r_prime_14_i\n",
        "31) sn2008gl__B_13_V_13_r_prime_13_i_pri\n",
        "32)"
       ]
      },
      {
       "output_type": "stream",
       "stream": "stdout",
       "text": [
        " sn2008hm__U_13_B_17_V_23_r_prime_21_\n",
        "33) sn2008hs__U_2_B_15_V_20_r_prime_20_i\n",
        "34)"
       ]
      },
      {
       "output_type": "stream",
       "stream": "stdout",
       "text": [
        " sn2008hv__B_31_V_36_r_prime_37_i_pri\n",
        "35)"
       ]
      },
      {
       "output_type": "stream",
       "stream": "stdout",
       "text": [
        " sn2008Z__U_12_B_24_V_25_r_prime_24_i\n",
        "36)"
       ]
      },
      {
       "output_type": "stream",
       "stream": "stdout",
       "text": [
        " sn2009ad__u_prime_10_B_18_V_19_r_pri\n",
        "37)"
       ]
      },
      {
       "output_type": "stream",
       "stream": "stdout",
       "text": [
        " sn2009al__u_prime_3_B_20_V_20_r_prim\n",
        "38) sn2009an__u_prime_4_B_20_V_21_r_prim\n",
        "39)"
       ]
      },
      {
       "output_type": "stream",
       "stream": "stdout",
       "text": [
        " sn2009bv__B_18_V_18_r_prime_15_i_pri\n",
        "40)"
       ]
      },
      {
       "output_type": "stream",
       "stream": "stdout",
       "text": [
        " sn2009D__B_15_V_18_r_prime_17_i_prim\n",
        "41) sn2009do__u_prime_3_B_15_V_18_r_prim\n",
        "42) sn2009ds__B_8_V_12_r_prime_13_i_prim\n",
        "43)"
       ]
      },
      {
       "output_type": "stream",
       "stream": "stdout",
       "text": [
        " sn2009fv__B_7_V_6_r_prime_6_i_prime_\n",
        "44)"
       ]
      },
      {
       "output_type": "stream",
       "stream": "stdout",
       "text": [
        " sn2009ig__u_prime_18_B_26_V_26_r_pri\n",
        "45)"
       ]
      },
      {
       "output_type": "stream",
       "stream": "stdout",
       "text": [
        " sn2009jr__B_16_V_16_r_prime_15_i_pri\n",
        "46) sn2009kk__B_18_V_19_r_prime_19_i_pri\n",
        "47)"
       ]
      },
      {
       "output_type": "stream",
       "stream": "stdout",
       "text": [
        " sn2009kq__u_prime_14_B_19_V_21_r_pri\n",
        "48) sn2009le__u_prime_6_B_8_V_7_r_prime_\n",
        "49)"
       ]
      },
      {
       "output_type": "stream",
       "stream": "stdout",
       "text": [
        " sn2009lf__B_11_V_16_r_prime_16_i_pri\n",
        "50) sn2009na__u_prime_3_B_14_V_15_r_prim\n",
        "51)"
       ]
      },
      {
       "output_type": "stream",
       "stream": "stdout",
       "text": [
        " sn2010ag__u_prime_3_B_13_V_17_r_prim\n",
        "52)"
       ]
      },
      {
       "output_type": "stream",
       "stream": "stdout",
       "text": [
        " sn2010ai__B_16_V_22_r_prime_21_i_pri\n",
        "53)"
       ]
      },
      {
       "output_type": "stream",
       "stream": "stdout",
       "text": [
        " sn2010dw__B_7_V_8_r_prime_8_i_prime_\n",
        "54) sn2010gn__B_4_V_4_r_prime_5_i_prime_\n",
        "55)"
       ]
      },
      {
       "output_type": "stream",
       "stream": "stdout",
       "text": [
        " sn2010iw__B_23_V_23_r_prime_24_i_pri\n",
        "56) sn2010ju__B_14_V_15_r_prime_16_i_pri\n",
        "57)"
       ]
      },
      {
       "output_type": "stream",
       "stream": "stdout",
       "text": [
        " sn2010kg__B_23_V_23_r_prime_23_i_pri\n",
        "58) sn2010Y__u_prime_1_B_21_V_23_r_prime\n",
        "59)"
       ]
      },
      {
       "output_type": "stream",
       "stream": "stdout",
       "text": [
        " sn2011ae__B_8_V_10_r_prime_10_i_prim\n",
        "60) sn2011ao__B_16_V_36_r_prime_39_i_pri\n",
        "61)"
       ]
      },
      {
       "output_type": "stream",
       "stream": "stdout",
       "text": [
        " sn2011B__B_30_V_31_r_prime_36_i_prim\n",
        "62) sn2011by__B_38_V_23_r_prime_31_i_pri\n",
        "63)"
       ]
      },
      {
       "output_type": "stream",
       "stream": "stdout",
       "text": [
        " sn2011df__B_15_V_15_r_prime_15_i_pri\n",
        "64) sn2011K__B_4_V_7_r_prime_7_i_prime_8\n",
        "65) snf20080514-002__J_9_H_9_K_8__CfAIR2\n",
        "66)"
       ]
      },
      {
       "output_type": "stream",
       "stream": "stdout",
       "text": [
        " snf20080522-000__B_9_V_12_r_prime_15\n",
        "67) snf20080522-011__B_16_V_18_r_prime_1\n",
        "   \n",
        "# -- 67 SNe in subsample CfA with data in J band: done. -- \n",
        "68 # SNe read with extension '_StdFilt.snpy.'\n"
       ]
      }
     ],
     "prompt_number": 9
    },
    {
     "cell_type": "code",
     "collapsed": false,
     "input": [
      "# -- 69 SNe in subsample CfA with data in J band: done -- \n",
      "# -- 84 SNe in subsample CSP with data in J band: done --\n"
     ],
     "language": "python",
     "metadata": {},
     "outputs": []
    },
    {
     "cell_type": "code",
     "collapsed": false,
     "input": [],
     "language": "python",
     "metadata": {},
     "outputs": []
    },
    {
     "cell_type": "code",
     "collapsed": false,
     "input": [],
     "language": "python",
     "metadata": {},
     "outputs": []
    },
    {
     "cell_type": "code",
     "collapsed": false,
     "input": [],
     "language": "python",
     "metadata": {},
     "outputs": []
    },
    {
     "cell_type": "code",
     "collapsed": false,
     "input": [],
     "language": "python",
     "metadata": {},
     "outputs": []
    },
    {
     "cell_type": "code",
     "collapsed": false,
     "input": [],
     "language": "python",
     "metadata": {},
     "outputs": []
    },
    {
     "cell_type": "code",
     "collapsed": false,
     "input": [],
     "language": "python",
     "metadata": {},
     "outputs": []
    },
    {
     "cell_type": "code",
     "collapsed": false,
     "input": [],
     "language": "python",
     "metadata": {},
     "outputs": []
    },
    {
     "cell_type": "code",
     "collapsed": false,
     "input": [],
     "language": "python",
     "metadata": {},
     "outputs": []
    },
    {
     "cell_type": "code",
     "collapsed": false,
     "input": [],
     "language": "python",
     "metadata": {},
     "outputs": []
    },
    {
     "cell_type": "code",
     "collapsed": false,
     "input": [],
     "language": "python",
     "metadata": {},
     "outputs": []
    },
    {
     "cell_type": "code",
     "collapsed": false,
     "input": [],
     "language": "python",
     "metadata": {},
     "outputs": []
    },
    {
     "cell_type": "code",
     "collapsed": false,
     "input": [],
     "language": "python",
     "metadata": {},
     "outputs": []
    },
    {
     "cell_type": "code",
     "collapsed": false,
     "input": [],
     "language": "python",
     "metadata": {},
     "outputs": []
    },
    {
     "cell_type": "code",
     "collapsed": false,
     "input": [],
     "language": "python",
     "metadata": {},
     "outputs": []
    },
    {
     "cell_type": "code",
     "collapsed": false,
     "input": [],
     "language": "python",
     "metadata": {},
     "outputs": []
    },
    {
     "cell_type": "code",
     "collapsed": false,
     "input": [],
     "language": "python",
     "metadata": {},
     "outputs": []
    },
    {
     "cell_type": "markdown",
     "metadata": {},
     "source": [
      "-----"
     ]
    },
    {
     "cell_type": "markdown",
     "metadata": {},
     "source": [
      "# Scratch"
     ]
    }
   ],
   "metadata": {}
  }
 ]
}
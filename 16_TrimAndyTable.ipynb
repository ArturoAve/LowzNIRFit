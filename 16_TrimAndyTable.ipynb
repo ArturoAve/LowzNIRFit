{
 "cells": [
  {
   "cell_type": "markdown",
   "metadata": {},
   "source": [
    "# Trim Andy's latex table about the metadata of the low-z compilation"
   ]
  },
  {
   "cell_type": "code",
   "execution_count": 1,
   "metadata": {},
   "outputs": [],
   "source": [
    "# USER\n",
    "\n",
    "#----------------\n",
    "# Andy's latex metadata file.\n",
    "\n",
    "DirAndyLatexFile = '/Users/arturo/Dropbox/Research/SoftwareResearch/\\\n",
    "Snoopy/AndyLCComp_2018_02/'\n",
    "\n",
    "AndyLatexFile = 'carrick_Flow_corrections_snnames0_Edited.tex'\n",
    "\n",
    "#----------------\n",
    "# Reference file to compare the SNe and remove the ones that are not\n",
    "# in that file.\n",
    "\n",
    "DirReferenceFile = '/Users/arturo/Dropbox/Research/Articulos/\\\n",
    "10_AndyKaisey/10Compute/TheTemplates/AllBands/Plots/HubbleDiagram/Template/'\n",
    "\n",
    "ReferenceFile = 'Table_TotalMu_AllBands_snNames_.txt'\n",
    "\n",
    "#----------------\n",
    "\n",
    "DirSaveOutput = '/Users/arturo/Dropbox/Research/Articulos/10_AndyKaisey\\\n",
    "/10Latex/Plots_LatexTables_ForThePaper/'\n",
    "\n",
    "#-------------------------------------------\n",
    "NotebookName = '15_TrimAndyTable.ipynb'"
   ]
  },
  {
   "cell_type": "markdown",
   "metadata": {},
   "source": [
    "-----------\n",
    "#### Useful functions"
   ]
  },
  {
   "cell_type": "code",
   "execution_count": 2,
   "metadata": {},
   "outputs": [
    {
     "data": {
      "text/plain": [
       "9"
      ]
     },
     "execution_count": 2,
     "metadata": {},
     "output_type": "execute_result"
    }
   ],
   "source": [
    "import numpy as np\n",
    "\n",
    "4+5"
   ]
  },
  {
   "cell_type": "code",
   "execution_count": 3,
   "metadata": {},
   "outputs": [
    {
     "name": "stdout",
     "output_type": "stream",
     "text": [
      "True False\n"
     ]
    }
   ],
   "source": [
    "# Function to identify if a string is an integer number or a letter.\n",
    "# This will be used in the dictionary construction to properly read some SN names.\n",
    "\n",
    "def is_number(s):\n",
    "    try:\n",
    "        int(s)\n",
    "        return True\n",
    "    except ValueError:\n",
    "        return False\n",
    "\n",
    "# Tests\n",
    "print is_number('5'), is_number('e')\n",
    "# True False"
   ]
  },
  {
   "cell_type": "markdown",
   "metadata": {},
   "source": [
    "Get the name of this ipython notebook\n",
    "To print it in the output text files as reference"
   ]
  },
  {
   "cell_type": "code",
   "execution_count": 4,
   "metadata": {},
   "outputs": [
    {
     "data": {
      "application/javascript": [
       "var kernel = IPython.notebook.kernel;\n",
       "var thename = window.document.getElementById(\"notebook_name\").innerHTML;\n",
       "var command = \"NotebookName = \" + \"'\"+thename+\".ipynb\"+\"'\";\n",
       "kernel.execute(command);"
      ],
      "text/plain": [
       "<IPython.core.display.Javascript object>"
      ]
     },
     "metadata": {},
     "output_type": "display_data"
    }
   ],
   "source": [
    "%%javascript\n",
    "var kernel = IPython.notebook.kernel;\n",
    "var thename = window.document.getElementById(\"notebook_name\").innerHTML;\n",
    "var command = \"NotebookName = \" + \"'\"+thename+\".ipynb\"+\"'\";\n",
    "kernel.execute(command);"
   ]
  },
  {
   "cell_type": "code",
   "execution_count": 5,
   "metadata": {},
   "outputs": [
    {
     "name": "stdout",
     "output_type": "stream",
     "text": [
      "# 15_TrimAndyTable.ipynb\n"
     ]
    }
   ],
   "source": [
    "print '#', (NotebookName)\n",
    "# Update_zcmb_in_SNANA_datafiles_v1_0.ipynb"
   ]
  },
  {
   "cell_type": "code",
   "execution_count": 6,
   "metadata": {},
   "outputs": [],
   "source": [
    "# Get the current date and time\n",
    "import datetime \n",
    "\n",
    "# Read the time and date now\n",
    "now = datetime.datetime.now()"
   ]
  },
  {
   "cell_type": "markdown",
   "metadata": {},
   "source": [
    "-----------\n",
    "#### Automatic"
   ]
  },
  {
   "cell_type": "code",
   "execution_count": 7,
   "metadata": {},
   "outputs": [
    {
     "name": "stdout",
     "output_type": "stream",
     "text": [
      "# 89 SNe in this list.\n"
     ]
    }
   ],
   "source": [
    "# Read/upload the reference file\n",
    "\n",
    "ReferenceFile_data = np.genfromtxt(DirReferenceFile+ReferenceFile, usecols=[0], dtype=['S28'])\n",
    "\n",
    "# Create a list with the SNe names only, removing\n",
    "#  the \"sn\" at the begining.\n",
    "SNeINHD_list = []\n",
    "count_sn1 = 0\n",
    "\n",
    "for i1 in range(len(ReferenceFile_data)):\n",
    "    # print ReferenceFile_data[i1][0]\n",
    "    SNeINHD_list += [ReferenceFile_data[i1][0][2:]]\n",
    "    count_sn1 += 1\n",
    "    \n",
    "print \"# %s SNe in this list.\"%len(SNeINHD_list)"
   ]
  },
  {
   "cell_type": "code",
   "execution_count": 9,
   "metadata": {},
   "outputs": [],
   "source": [
    "# SNeINHD_list"
   ]
  },
  {
   "cell_type": "code",
   "execution_count": null,
   "metadata": {},
   "outputs": [],
   "source": []
  },
  {
   "cell_type": "code",
   "execution_count": 19,
   "metadata": {},
   "outputs": [
    {
     "name": "stdout",
     "output_type": "stream",
     "text": [
      "1998bu\n",
      "1999ee\n",
      "1999ek\n",
      "2000E\n",
      "2000bh\n",
      "2000ca\n",
      "2001ba\n",
      "2001bt\n",
      "2001cn\n",
      "2001cz\n",
      "2001el\n",
      "2002dj\n",
      "2003du\n",
      "2003hv\n",
      "2004S\n",
      "2004ef\n",
      "2004eo\n",
      "2004ey\n",
      "2004gs\n",
      "2005bo\n",
      "2005cf\n",
      "2005el\n",
      "2005iq\n",
      "2005kc\n",
      "2005ki\n",
      "2005lu\n",
      "2005na\n",
      "2006D\n",
      "2006N\n",
      "2006ac\n",
      "2006ax\n",
      "2006bh\n",
      "2006bt\n",
      "2006cp\n",
      "2006ej\n",
      "2006kf\n",
      "2006lf\n",
      "2007A\n",
      "2007af\n",
      "2007ai\n",
      "2007as\n",
      "2007bc\n",
      "2007bd\n",
      "2007ca\n",
      "2007co\n",
      "2007cq\n",
      "2007jg\n",
      "2007le\n",
      "2007qe\n",
      "2007sr\n",
      "2007st\n",
      "2008C\n",
      "2008af\n",
      "2008ar\n",
      "2008bc\n",
      "2008bf\n",
      "2008fl\n",
      "2008fr\n",
      "2008fw\n",
      "2008gb\n",
      "2008gg\n",
      "2008gl\n",
      "2008gp\n",
      "2008hj\n",
      "2008hm\n",
      "2008hs\n",
      "2008hv\n",
      "2008ia\n",
      "2009D\n",
      "2009Y\n",
      "2009aa\n",
      "2009ab\n",
      "2009ad\n",
      "2009ag\n",
      "2009al\n",
      "2009an\n",
      "2009bv\n",
      "2009cz\n",
      "2009kk\n",
      "2009kq\n",
      "2010ai\n",
      "2010dw\n",
      "2010iw\n",
      "2010kg\n",
      "2011B\n",
      "2011ao\n",
      "2011by\n",
      "2011df\n",
      "f20080514-002\n",
      "#-------------\n",
      "% # 89 SNe written in this file. \n",
      "% # 155 SNe were commented out automatically (%%). \n",
      "\n"
     ]
    }
   ],
   "source": [
    "# Read all the photometry file names in a given sample folder:\n",
    "import os # To use command line like instructions\n",
    "import glob # To read the files in my directory\n",
    "# Read the time and date right now\n",
    "now = datetime.datetime.now()\n",
    "\n",
    "textfile_1 = open(DirSaveOutput+'carrick_Flow_corrections_snnames0_trimmed.txt','w')\n",
    "textfile_2 = open(DirSaveOutput+'carrick_Flow_corrections_snnames0_trimmed_all_main.txt','w')\n",
    "\n",
    "text_line = '% #'+'-'*60+'\\n'\n",
    "\n",
    "#----------------\n",
    "\n",
    "textfile_1.write(\"% #      Trimmed Andy's 'carrick_Flow_corrections_snnames0_trimmed.tex' file \\n\")\n",
    "textfile_1.write(\"% # I have recreated this file but considering the SNe that passed my cuts only. \\n\")\n",
    "\n",
    "textfile_1.write(text_line)\n",
    "textfile_1.write('% # Data table created by: Arturo Avelino \\n')\n",
    "text_01 = now.strftime(\"%Y-%m-%d (yyyy-mm-dd); %H:%M hrs.\")\n",
    "textfile_1.write('%% # On date: %s \\n'%text_01)\n",
    "textfile_1.write('%% # Script used: %s \\n'%NotebookName)\n",
    "textfile_1.write(text_line)\n",
    "\n",
    "#----------------\n",
    "\n",
    "textfile_2.write(\"% #      Trimmed Andy's 'carrick_Flow_corrections_snnames0_trimmed.tex' file \\n\")\n",
    "textfile_2.write(\"% # I have recreated this file but considering the SNe that passed my cuts only. \\n\")\n",
    "\n",
    "textfile_2.write(text_line)\n",
    "textfile_2.write('% # Data table created by: Arturo Avelino \\n')\n",
    "text_01 = now.strftime(\"%Y-%m-%d (yyyy-mm-dd); %H:%M hrs.\")\n",
    "textfile_2.write('%% # On date: %s \\n'%text_01)\n",
    "textfile_2.write('%% # Script used: %s \\n'%NotebookName)\n",
    "textfile_2.write(text_line)\n",
    "\n",
    "#--------------------------------------------------\n",
    "# Reset\n",
    "countSN = 0 # Count number of SNe that I write down in the file.\n",
    "countNoSNe = 0 # Count number of SNe that I DON'T write down in the file.\n",
    "\n",
    "# Loop over each line of the latex's file \n",
    "for line_1 in open(DirAndyLatexFile+AndyLatexFile):\n",
    "\n",
    "    snname_raw = line_1[:16]\n",
    "    # print snname_raw\n",
    "    \n",
    "    #----------\n",
    "    # Creating a string with the exact name of the SN\n",
    "    \n",
    "    if snname_raw[7]==' ': \n",
    "        name = snname_raw[2:7] # To read correctly, e.g., \"sn2011B\"\n",
    "    elif snname_raw[7]!=' ': \n",
    "        # To read correctly, e.g., \"snf20080514-002\"\n",
    "        if is_number(snname_raw[7]): name = snname_raw[2:15] \n",
    "        else: name = snname_raw[2:8]   # To read correctly, e.g., \"sn1998bu\"\n",
    "\n",
    "    # print name\n",
    "    #----------\n",
    "    if name in SNeINHD_list: \n",
    "        print name\n",
    "        textfile_1.write(\"%s\"%line_1)\n",
    "        textfile_2.write(\"%s\"%line_1)\n",
    "        countSN += 1\n",
    "    else:\n",
    "        # print name\n",
    "        textfile_2.write(\"%%%% %s\"%line_1)\n",
    "        countNoSNe += 1\n",
    "        \n",
    "    \n",
    "#--------------------------------------------------\n",
    "textfile_1.write(text_line)\n",
    "textfile_2.write(text_line)\n",
    "\n",
    "text_10 = \"%% # %s SNe written in this file. \\n\"%countSN\n",
    "text_11 = \"%% # %s SNe were commented out automatically (%%%%). \\n\"%countNoSNe\n",
    "\n",
    "textfile_1.write(text_10)\n",
    "textfile_2.write(text_10); textfile_2.write(text_11)\n",
    "\n",
    "print \"#-------------\"\n",
    "print text_10, text_11\n",
    "\n",
    "textfile_1.close(); textfile_2.close()\n"
   ]
  },
  {
   "cell_type": "code",
   "execution_count": 18,
   "metadata": {},
   "outputs": [],
   "source": [
    "textfile_1.close(); textfile_1.close(); textfile_1.close(); textfile_1.close(); \n",
    "textfile_2.close(); textfile_2.close(); textfile_2.close(); textfile_2.close();"
   ]
  },
  {
   "cell_type": "code",
   "execution_count": null,
   "metadata": {},
   "outputs": [],
   "source": []
  }
 ],
 "metadata": {
  "kernelspec": {
   "display_name": "Python [default]",
   "language": "python",
   "name": "python2"
  },
  "language_info": {
   "codemirror_mode": {
    "name": "ipython",
    "version": 2
   },
   "file_extension": ".py",
   "mimetype": "text/x-python",
   "name": "python",
   "nbconvert_exporter": "python",
   "pygments_lexer": "ipython2",
   "version": "2.7.13"
  }
 },
 "nbformat": 4,
 "nbformat_minor": 2
}

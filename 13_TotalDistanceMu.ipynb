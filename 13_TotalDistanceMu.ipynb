{
 "cells": [
  {
   "cell_type": "markdown",
   "metadata": {},
   "source": [
    "# Total distance modulus\n",
    "\n",
    "### For Template and Gaussian-Processes Methods\n",
    "\n",
    "### Computing the correlation among bands and using it to determine a single distance modulus using the 3 distance moduli in each band.\n",
    "\n",
    "Quantifying the correlation between bands by computing the population covariance matrix.\n",
    "\n",
    "The output are 2 datafiles:\n",
    "    - one similar in format to the 'DistanceMu_Good_AfterCutoffs_Main_.txt' files.\n",
    "    - one with latex format to easily put a table in the paper.\n",
    "    \n",
    "#### Notes:\n",
    "\n",
    "- I have to plot the Hubble diagram of the output of this notebook by using the regular \"11_DistanceMu_HubbleDiagram_vXX.ipynb\" notebook.\n",
    "\n",
    "\n",
    "- If I need to remove an outlier in any of the \"any YJHK\", YJHK, YJH or JHK Gaussian-Process or template Hubble diagrams, then: \n",
    "\n",
    "\n",
    "1. first I need to \"comment\" that SN in 'DistanceMu_Good_AfterCutoffs_Main_.txt' in all the bands, \n",
    "2. then, rerun this \"13_TotalDistanceMu_vXX.ipynb\" iPython notebook to recompute the covariance matrices and their inverse matrix from the remaining SNe.\n",
    "3. plot the Hubble diagram using \"11_DistanceMu_HubbleDiagram_vXX.ipynb\" notebook.\n",
    "    "
   ]
  },
  {
   "cell_type": "markdown",
   "metadata": {},
   "source": [
    "# USER"
   ]
  },
  {
   "cell_type": "code",
   "execution_count": 1,
   "metadata": {
    "collapsed": true
   },
   "outputs": [],
   "source": [
    "# Method =  'Template_M'   # template method\n",
    "# Method =  'GP_M'       # Gaussian-Process method at NIR max\n",
    "Method =  'GP_Bmax'       # Gaussian-Process method at B max\n",
    "\n",
    "# Peculiar velocity uncertainty to use in the plots. T\n",
    "# This is just to -select- the appropiate folder containing\n",
    "# the Hubble diagram that was previously computed using this value of vpecFix. \n",
    "#  Options e.g., (150, 250, 300, 400). This has to be consistent wity\n",
    "# the vpecFix value used for the individual NIR bands.\n",
    "vpecFix = 250 # km/s.\n",
    "\n",
    "MainDir = '/Users/arturo/Dropbox/Research/Articulos/10_AndyKaisey/\\\n",
    "10Compute/TheTemplates/'\n",
    "\n",
    "if Method =='GP_M': SubFolderSave = 'GaussianProcess'\n",
    "elif Method =='GP_Bmax': SubFolderSave = 'GP_Bmax'\n",
    "elif Method =='Template_M': SubFolderSave = 'Template'  \n",
    "    \n",
    "DirSaveOutput = MainDir+'AllBands/Plots/HubbleDiagram_vpec%s/'%(vpecFix)+SubFolderSave+'/'\n",
    "\n",
    "# Minimum number of SNe to define and use the YJHK covariance matrix:\n",
    "MinSNeForYJHK = 5  # 5 is the best option, given that for the \n",
    "# GP HD I have 4 SNe only.\n",
    "\n",
    "NotebookName = '13_TotalDistanceMu.ipynb'\n",
    "\n",
    "###################################################################\n",
    "\n",
    "#--- Fixed values ---\n",
    "\n",
    "HoFix = 73.24 # Hubble constant (km/(s Mpc))\n",
    "\n",
    "c = 299792.458  # Speed of light (km/s)\n",
    "cc = 299792.458  # Speed of light (km/s)\n",
    "OmMFix = 0.28 # Omega_Matter\n",
    "OmLFix = 0.72 # Omega_Lambda\n",
    "wFix = -1.0 # Dark energy EoS\n",
    "\n",
    "# Minimum values for anything else:"
   ]
  },
  {
   "cell_type": "code",
   "execution_count": 2,
   "metadata": {
    "collapsed": false
   },
   "outputs": [
    {
     "data": {
      "text/plain": [
       "'/Users/arturo/Dropbox/Research/Articulos/10_AndyKaisey/10Compute/TheTemplates/AllBands/Plots/HubbleDiagram_vpec250/GP_Bmax/'"
      ]
     },
     "execution_count": 2,
     "metadata": {},
     "output_type": "execute_result"
    }
   ],
   "source": [
    "DirSaveOutput"
   ]
  },
  {
   "cell_type": "markdown",
   "metadata": {},
   "source": [
    "--------"
   ]
  },
  {
   "cell_type": "markdown",
   "metadata": {},
   "source": [
    "# Automatic"
   ]
  },
  {
   "cell_type": "code",
   "execution_count": 3,
   "metadata": {
    "collapsed": true
   },
   "outputs": [
    {
     "data": {
      "text/plain": [
       "8"
      ]
     },
     "execution_count": 3,
     "metadata": {},
     "output_type": "execute_result"
    }
   ],
   "source": [
    "import numpy as np\n",
    "from matplotlib import pyplot as plt\n",
    "import os # To use command line like instructions\n",
    "from scipy.stats.stats import pearsonr\n",
    "\n",
    "6+2"
   ]
  },
  {
   "cell_type": "code",
   "execution_count": 4,
   "metadata": {
    "collapsed": true
   },
   "outputs": [],
   "source": [
    "#- Force the creation of the directory to save the outputs.\n",
    "#- \"If the subdirectory does not exist then create it\"\n",
    "import os # To use command line like instructions\n",
    "if not os.path.exists(DirSaveOutput): os.makedirs(DirSaveOutput)"
   ]
  },
  {
   "cell_type": "code",
   "execution_count": 5,
   "metadata": {
    "collapsed": false
   },
   "outputs": [],
   "source": [
    "# NOTE: Below this cell is included automatically the \n",
    "# case for 'DistanceMu_Good_AfterCutoffs_Main_Notes_.txt' in case it \n",
    "# exist for each NIR band.\n",
    "\n",
    "#---------------------------\n",
    "\n",
    "#    Y band\n",
    "\n",
    "# Hubble diagram \n",
    "if Method == 'Template_M':\n",
    "    Y_HubbleDir = MainDir+'Y_band/Std_filters/4_HubbleDiagram_FlatPrior/\\\n",
    "AllSamples/Templ_AllSamples_z_gr_0/\\\n",
    "Phase-8_30_resid20_chi3_EBVh0.4_Method7_MinData3_vpec%s_ok/plots_HD/'%vpecFix\n",
    "    Y_HubbleDataFile = 'DistanceMu_Good_AfterCutoffs_Main_.txt'\n",
    "\n",
    "elif Method == 'GP_M':\n",
    "    Y_HubbleDir = MainDir+'Y_band/Std_filters/4_HubbleDiagram_FlatPrior_GP/\\\n",
    "AllSamples/vpec%s_NIRmax/'%vpecFix\n",
    "    Y_HubbleDataFile = 'DistanceMu_Good_AfterCutoffs_Main_.txt'\n",
    "    \n",
    "elif Method == 'GP_Bmax':\n",
    "    Y_HubbleDir = MainDir+'Y_band/Std_filters/4_HubbleDiagram_FlatPrior_GP/\\\n",
    "AllSamples/vpec%s_Bmax/'%vpecFix\n",
    "    Y_HubbleDataFile = 'DistanceMu_Good_AfterCutoffs_Main_.txt'\n",
    "    \n",
    "#---------------------------\n",
    "\n",
    "#    J band\n",
    "\n",
    "# Hubble diagram \n",
    "if Method == 'Template_M':\n",
    "    J_HubbleDir = MainDir+'J_band/Std_filters/4_HubbleDiagram_FlatPrior/\\\n",
    "AllSamples/Templ_AllSamples_z_gr_0/\\\n",
    "Phase-8_30_resid20_chi_1e6_EBVh0.4_Method7_MinData3_vpec%s_ok/plots_HD/'%vpecFix\n",
    "    J_HubbleDataFile = 'DistanceMu_Good_AfterCutoffs_Main_.txt'\n",
    "    \n",
    "elif Method == 'GP_M':\n",
    "    J_HubbleDir = MainDir+'J_band/Std_filters/4_HubbleDiagram_FlatPrior_GP/\\\n",
    "AllSamples/vpec%s_NIRmax/'%vpecFix\n",
    "    J_HubbleDataFile = 'DistanceMu_Good_AfterCutoffs_Main_.txt'\n",
    "\n",
    "elif Method == 'GP_Bmax':\n",
    "    J_HubbleDir = MainDir+'J_band/Std_filters/4_HubbleDiagram_FlatPrior_GP/\\\n",
    "AllSamples/vpec%s_Bmax/'%vpecFix\n",
    "    J_HubbleDataFile = 'DistanceMu_Good_AfterCutoffs_Main_.txt'\n",
    "    \n",
    "#---------------------------\n",
    "\n",
    "#    H band\n",
    "\n",
    "# Hubble diagram \n",
    "if Method == 'Template_M':\n",
    "    H_HubbleDir = MainDir+'H_band/Std_filters/4_HubbleDiagram_FlatPrior/\\\n",
    "AllSamples/Templ_AllSamples_z_gr_0/\\\n",
    "Phase-8_30_resid20_chi_1e6_EBVh0.4_Method7_MinData3_vpec%s_ok/plots_HD/'%vpecFix\n",
    "    H_HubbleDataFile = 'DistanceMu_Good_AfterCutoffs_Main_.txt'\n",
    "    \n",
    "elif Method == 'GP_M':\n",
    "    H_HubbleDir = MainDir+'H_band/Std_filters/4_HubbleDiagram_FlatPrior_GP/\\\n",
    "AllSamples/vpec%s_NIRmax/'%vpecFix\n",
    "    H_HubbleDataFile = 'DistanceMu_Good_AfterCutoffs_Main_.txt'\n",
    "    \n",
    "elif Method == 'GP_Bmax':\n",
    "    H_HubbleDir = MainDir+'H_band/Std_filters/4_HubbleDiagram_FlatPrior_GP/\\\n",
    "AllSamples/vpec%s_Bmax/'%vpecFix\n",
    "    H_HubbleDataFile = 'DistanceMu_Good_AfterCutoffs_Main_.txt'\n",
    "\n",
    "#---------------------------\n",
    "\n",
    "#    K band\n",
    "\n",
    "# Hubble diagram \n",
    "if Method == 'Template_M':\n",
    "    K_HubbleDir = MainDir+'K_band/Std_filters/4_HubbleDiagram_FlatPrior/\\\n",
    "AllSamples/Templ_AllSamples_z_gr_0/\\\n",
    "Phase-8_30_resid20_chi4_EBVh0.4_Method7_MinData3_vpec%s_ok/plots_HD/'%vpecFix\n",
    "    K_HubbleDataFile = 'DistanceMu_Good_AfterCutoffs_Main_.txt'\n",
    "    \n",
    "elif Method == 'GP_M':\n",
    "    K_HubbleDir = MainDir+'K_band/Std_filters/4_HubbleDiagram_FlatPrior_GP/\\\n",
    "AllSamples/vpec%s_NIRmax/'%vpecFix\n",
    "    K_HubbleDataFile = 'DistanceMu_Good_AfterCutoffs_Main_.txt'\n",
    "    \n",
    "elif Method == 'GP_Bmax':\n",
    "    K_HubbleDir = MainDir+'K_band/Std_filters/4_HubbleDiagram_FlatPrior_GP/\\\n",
    "AllSamples/vpec%s_Bmax/'%vpecFix\n",
    "    K_HubbleDataFile = 'DistanceMu_Good_AfterCutoffs_Main_.txt'"
   ]
  },
  {
   "cell_type": "code",
   "execution_count": null,
   "metadata": {
    "collapsed": true
   },
   "outputs": [],
   "source": []
  },
  {
   "cell_type": "code",
   "execution_count": 6,
   "metadata": {
    "collapsed": false
   },
   "outputs": [],
   "source": [
    "# Reading the 'DistanceMu_Good_AfterCutoffs_Main_.txt' datatable files for each band\n",
    "\n",
    "try:\n",
    "    MuData_Y = np.genfromtxt(Y_HubbleDir+Y_HubbleDataFile[:-4]+'Notes_.txt', \n",
    "                                 dtype=['S30',\n",
    "                                       float,float,float,float,float,float,float,float,float,float,\n",
    "                                       float,float,float,float,float,float,float,float,float,float,\n",
    "                                       float,float,float,float,float,float,float,float,float,float,\n",
    "                                       float,float,float])\n",
    "except:\n",
    "    MuData_Y = np.genfromtxt(Y_HubbleDir+Y_HubbleDataFile, \n",
    "                                 dtype=['S30',\n",
    "                                       float,float,float,float,float,float,float,float,float,float,\n",
    "                                       float,float,float,float,float,float,float,float,float,float,\n",
    "                                       float,float,float,float,float,float,float,float,float,float,\n",
    "                                       float,float,float])\n",
    "    \n",
    "#----------------------------------------------------------\n",
    "\n",
    "try:\n",
    "    MuData_J = np.genfromtxt(J_HubbleDir+J_HubbleDataFile[:-4]+'Notes_.txt', \n",
    "                                 dtype=['S30',\n",
    "                                       float,float,float,float,float,float,float,float,float,float,\n",
    "                                       float,float,float,float,float,float,float,float,float,float,\n",
    "                                       float,float,float,float,float,float,float,float,float,float,\n",
    "                                       float,float,float])\n",
    "except:\n",
    "    MuData_J = np.genfromtxt(J_HubbleDir+J_HubbleDataFile, \n",
    "                                 dtype=['S30',\n",
    "                                       float,float,float,float,float,float,float,float,float,float,\n",
    "                                       float,float,float,float,float,float,float,float,float,float,\n",
    "                                       float,float,float,float,float,float,float,float,float,float,\n",
    "                                       float,float,float])\n",
    "\n",
    "#----------------------------------------------------------\n",
    "\n",
    "try:\n",
    "    MuData_H = np.genfromtxt(H_HubbleDir+H_HubbleDataFile[:-4]+'Notes_.txt', \n",
    "                                 dtype=['S30',\n",
    "                                       float,float,float,float,float,float,float,float,float,float,\n",
    "                                       float,float,float,float,float,float,float,float,float,float,\n",
    "                                       float,float,float,float,float,float,float,float,float,float,\n",
    "                                       float,float,float])\n",
    "    \n",
    "except:\n",
    "    MuData_H = np.genfromtxt(H_HubbleDir+H_HubbleDataFile, \n",
    "                                 dtype=['S30',\n",
    "                                       float,float,float,float,float,float,float,float,float,float,\n",
    "                                       float,float,float,float,float,float,float,float,float,float,\n",
    "                                       float,float,float,float,float,float,float,float,float,float,\n",
    "                                       float,float,float])    \n",
    "\n",
    "#----------------------------------------------------------\n",
    "\n",
    "try:\n",
    "    MuData_K = np.genfromtxt(K_HubbleDir+K_HubbleDataFile[:-4]+'Notes_.txt', \n",
    "                                 dtype=['S30',\n",
    "                                       float,float,float,float,float,float,float,float,float,float,\n",
    "                                       float,float,float,float,float,float,float,float,float,float,\n",
    "                                       float,float,float,float,float,float,float,float,float,float,\n",
    "                                       float,float,float])\n",
    "except:\n",
    "    MuData_K = np.genfromtxt(K_HubbleDir+K_HubbleDataFile, \n",
    "                                 dtype=['S30',\n",
    "                                       float,float,float,float,float,float,float,float,float,float,\n",
    "                                       float,float,float,float,float,float,float,float,float,float,\n",
    "                                       float,float,float,float,float,float,float,float,float,float,\n",
    "                                       float,float,float])    "
   ]
  },
  {
   "cell_type": "code",
   "execution_count": 7,
   "metadata": {
    "collapsed": true
   },
   "outputs": [],
   "source": [
    "# Create an array of sn NAMES but removing the last part of the name that\n",
    "# refers to the specific band. This will be used to compare the SN names and\n",
    "# find the SNe with observed in multiple bands.\n",
    "    \n",
    "MuData_Y_names = [];  sn=''\n",
    "for sn in MuData_Y['f0']:\n",
    "    MuData_Y_names += [sn[:-2]]\n",
    "    \n",
    "MuData_J_names = [];  sn=''\n",
    "for sn in MuData_J['f0']:\n",
    "    MuData_J_names += [sn[:-2]]\n",
    "\n",
    "MuData_H_names = [];  sn=''\n",
    "for sn in MuData_H['f0']:\n",
    "    MuData_H_names += [sn[:-2]]\n",
    "    \n",
    "MuData_K_names = [];  sn=''\n",
    "for sn in MuData_K['f0']:\n",
    "    MuData_K_names += [sn[:-2]]"
   ]
  },
  {
   "cell_type": "markdown",
   "metadata": {},
   "source": [
    "### Dictionaries"
   ]
  },
  {
   "cell_type": "code",
   "execution_count": 8,
   "metadata": {
    "collapsed": true
   },
   "outputs": [],
   "source": [
    "# Dictionaries (name: mu | error_mu | residual_mu | sample | z_CMB | error_zCMB | chi2dof)\n",
    "\n",
    "Mu_Y_dict = {MuData_Y_names[i]: [ MuData_Y['f3'][i], MuData_Y['f4'][i], MuData_Y['f5'][i], MuData_Y['f7'][i],\n",
    "                                  MuData_Y['f1'][i], MuData_Y['f2'][i], MuData_Y['f6'][i]  ]\n",
    "             for i in range(len(MuData_Y_names))}\n",
    "\n",
    "Mu_J_dict = {MuData_J_names[i]: [ MuData_J['f3'][i], MuData_J['f4'][i], MuData_J['f5'][i], MuData_J['f7'][i],\n",
    "                                  MuData_J['f1'][i], MuData_J['f2'][i], MuData_J['f6'][i]  ] \n",
    "             for i in range(len(MuData_J_names))}\n",
    "\n",
    "Mu_H_dict = {MuData_H_names[i]: [ MuData_H['f3'][i], MuData_H['f4'][i], MuData_H['f5'][i], MuData_H['f7'][i],\n",
    "                                  MuData_H['f1'][i], MuData_H['f2'][i], MuData_H['f6'][i]  ]\n",
    "             for i in range(len(MuData_H_names))}\n",
    "\n",
    "Mu_K_dict = {MuData_K_names[i]: [ MuData_K['f3'][i], MuData_K['f4'][i], MuData_K['f5'][i], MuData_K['f7'][i],\n",
    "                                  MuData_K['f1'][i], MuData_K['f2'][i], MuData_K['f6'][i]  ]\n",
    "             for i in range(len(MuData_K_names))}"
   ]
  },
  {
   "cell_type": "code",
   "execution_count": null,
   "metadata": {
    "collapsed": true
   },
   "outputs": [],
   "source": []
  },
  {
   "cell_type": "markdown",
   "metadata": {},
   "source": [
    "### $\\mu_{\\Lambda{\\rm CDM}}$"
   ]
  },
  {
   "cell_type": "code",
   "execution_count": 9,
   "metadata": {
    "collapsed": false
   },
   "outputs": [
    {
     "name": "stdout",
     "output_type": "stream",
     "text": [
      "Checking that the functions work well: 33.07739265766354\n"
     ]
    }
   ],
   "source": [
    "from scipy.integrate import quad as intquad\n",
    "\n",
    "\n",
    "# Inverse of the dimensionless Hubble parameter\n",
    "def InvEHubblePar(z, OmM, wde):\n",
    "    \"Dimensionless Hubble parameter\"\n",
    "    InvEHubbleParInt = 1.0/(np.sqrt(OmM*(1.0+z)**3.0 + (1.0-OmM)*(1.+z)**(3.*(1.+wde))))\n",
    "    return InvEHubbleParInt\n",
    "\n",
    "# ---- The luminosity distance ----\n",
    "def LumDistanceVec(z, OmM, wde, Ho):\n",
    "    \"Luminosity distance\"\n",
    "    LumDistanceVecInt = 0.\n",
    "    LumDistanceVecInt = c*(1.+z)*intquad(InvEHubblePar, 0., z, args=(OmM, wde))[0]/Ho \n",
    "    return LumDistanceVecInt\n",
    "\n",
    "# ---- Distance modulus scalar ----\n",
    "def DistanceMu(z, OmM, wde, Ho):\n",
    "    \"Distance modulus\"     \n",
    "    DistanceMuInt = 5.0*np.log10(LumDistanceVec(z, OmM, wde, Ho)) + 25.0\n",
    "    return DistanceMuInt\n",
    "\n",
    "# ---- Distance modulus Vector ----\n",
    "def DistanceMuVector(z, OmM, wde, Ho):\n",
    "    \"Distance modulus\"     \n",
    "    DistanceMuInt= []\n",
    "    for i in range(len(z)):\n",
    "        DistanceMuInt += [5.0*np.log10(LumDistanceVec(z[i], OmM, wde, Ho)) + 25.0] \n",
    "    return DistanceMuInt\n",
    "\n",
    "#--------------------------------------------------\n",
    "\n",
    "ztest1 = 0.01\n",
    "\n",
    "print 'Checking that the functions work well:', DistanceMu(ztest1, OmMFix, wFix, HoFix)\n",
    "# Checking that the functions work well: 33.1141460988 # Ho=72\n",
    "# Checking that the functions work well: 33.0773926577 # Ho=73.24"
   ]
  },
  {
   "cell_type": "code",
   "execution_count": 10,
   "metadata": {
    "collapsed": false
   },
   "outputs": [
    {
     "name": "stdout",
     "output_type": "stream",
     "text": [
      "True False\n"
     ]
    }
   ],
   "source": [
    "# Function to identify if a string is an integer number or a letter.\n",
    "# This will be used in the dictionary construction to properly read some SN names.\n",
    "\n",
    "def is_number(s):\n",
    "    try:\n",
    "        int(s)\n",
    "        return True\n",
    "    except ValueError:\n",
    "        return False\n",
    "\n",
    "# Tests\n",
    "print is_number('5'), is_number('e')\n",
    "# True False"
   ]
  },
  {
   "cell_type": "markdown",
   "metadata": {},
   "source": [
    "#### Get the name of this ipython notebook\n",
    "To print it in the output text files as reference"
   ]
  },
  {
   "cell_type": "code",
   "execution_count": 11,
   "metadata": {
    "collapsed": false
   },
   "outputs": [
    {
     "data": {
      "application/javascript": [
       "var kernel = IPython.notebook.kernel;\n",
       "var thename = window.document.getElementById(\"notebook_name\").innerHTML;\n",
       "var command = \"NotebookName = \" + \"'\"+thename+\".ipynb\"+\"'\";\n",
       "kernel.execute(command);"
      ],
      "text/plain": [
       "<IPython.core.display.Javascript object>"
      ]
     },
     "metadata": {},
     "output_type": "display_data"
    }
   ],
   "source": [
    "%%javascript\n",
    "var kernel = IPython.notebook.kernel;\n",
    "var thename = window.document.getElementById(\"notebook_name\").innerHTML;\n",
    "var command = \"NotebookName = \" + \"'\"+thename+\".ipynb\"+\"'\";\n",
    "kernel.execute(command);"
   ]
  },
  {
   "cell_type": "code",
   "execution_count": 12,
   "metadata": {
    "collapsed": false
   },
   "outputs": [
    {
     "name": "stdout",
     "output_type": "stream",
     "text": [
      "# 13_TotalDistanceMu.ipynb\n"
     ]
    }
   ],
   "source": [
    "print '#', (NotebookName)\n",
    "# Update_zcmb_in_SNANA_datafiles_v1_0.ipynb"
   ]
  },
  {
   "cell_type": "code",
   "execution_count": 13,
   "metadata": {
    "collapsed": true
   },
   "outputs": [],
   "source": [
    "# Get the current date and time\n",
    "import datetime \n",
    "\n",
    "# Read the time and date now\n",
    "now = datetime.datetime.now()"
   ]
  },
  {
   "cell_type": "code",
   "execution_count": null,
   "metadata": {
    "collapsed": true
   },
   "outputs": [],
   "source": []
  },
  {
   "cell_type": "markdown",
   "metadata": {},
   "source": [
    "---------"
   ]
  },
  {
   "cell_type": "markdown",
   "metadata": {},
   "source": [
    "# Computing the population covariance matrix of \n",
    "\n",
    "# $\\{\\Delta \\mu^Y_s, \\Delta \\mu^J_s, \\Delta \\mu^H_s \\}$,  $\\{\\Delta \\mu^J_s, \\Delta \\mu^H_s, \\Delta \\mu^K_s \\}$ and $\\{\\Delta \\mu^Y_s, \\Delta \\mu^J_s, \\Delta \\mu^H_s, \\Delta \\mu^K_s \\}$, $\\{\\Delta \\mu^J_s, \\Delta \\mu^H_s \\}$,\n",
    "\n",
    "### Arrays of residuals values"
   ]
  },
  {
   "cell_type": "code",
   "execution_count": 14,
   "metadata": {
    "collapsed": false
   },
   "outputs": [
    {
     "name": "stdout",
     "output_type": "stream",
     "text": [
      "# Number of SNe common in the YJH bands: 21 , for method: GP_Bmax\n"
     ]
    }
   ],
   "source": [
    "# Create an array of {residual_mu^Y_s, residual_mu^J_s, residual_mu^H_s}\n",
    "# with SNe that are common to all bands\n",
    "\n",
    "Residual_YJH = []\n",
    "countInt = 0\n",
    "\n",
    "for i in range(len(MuData_J_names)): # Loop over SNe in J band (it contains all the SNe)\n",
    "    snName = MuData_J_names[i] \n",
    "\n",
    "    # check that a given supernova was observed in YJH bands:\n",
    "    if snName in MuData_H_names: # In H band\n",
    "        if snName in MuData_Y_names: # In Y band\n",
    "            Residual_YJH+=[ [Mu_Y_dict[snName][2], Mu_J_dict[snName][2], Mu_H_dict[snName][2]] ]\n",
    "            countInt = countInt + 1\n",
    "\n",
    "Residual_YJH_np =  np.array(Residual_YJH)            \n",
    "print '# Number of SNe common in the YJH bands:', countInt, ', for method: %s'%Method\n",
    "\n",
    "# Number of SNe common in the YJH bands: 27 , for method: Template_M\n",
    "# Number of SNe common in the YJH bands: 15 , for method: GP_M"
   ]
  },
  {
   "cell_type": "code",
   "execution_count": 15,
   "metadata": {},
   "outputs": [
    {
     "name": "stdout",
     "output_type": "stream",
     "text": [
      "# Number of SNe common in the JH bands: 41 , for method: GP_Bmax\n"
     ]
    }
   ],
   "source": [
    "# Create an array of {residual_mu^J_s, residual_mu^H_s}\n",
    "# with SNe that are common to all bands\n",
    "\n",
    "Residual_JH = []\n",
    "countInt = 0\n",
    "\n",
    "for i in range(len(MuData_J_names)): # Loop over SNe in J band (it contains all the SNe)\n",
    "    snName = MuData_J_names[i] \n",
    "\n",
    "    # check that a given supernova was observed in JH bands:\n",
    "    if snName in MuData_H_names: # In H band\n",
    "        Residual_JH+=[ [Mu_J_dict[snName][2], Mu_H_dict[snName][2]] ]\n",
    "        countInt = countInt + 1\n",
    "\n",
    "Residual_JH_np =  np.array(Residual_JH)            \n",
    "print '# Number of SNe common in the JH bands:', countInt, ', for method: %s'%Method\n",
    "\n",
    "# Number of SNe common in the JH bands: 55 , for method: GP_Bmax"
   ]
  },
  {
   "cell_type": "code",
   "execution_count": 16,
   "metadata": {
    "collapsed": false
   },
   "outputs": [
    {
     "name": "stdout",
     "output_type": "stream",
     "text": [
      "# Number of SNe common in the JHK bands: 11 , for method: GP_Bmax\n"
     ]
    }
   ],
   "source": [
    "# Create an array of {residual_mu^J_s, residual_mu^H_s, residual_mu^K_s}\n",
    "# with SNe that are common to all bands\n",
    "\n",
    "Residual_JHK = []\n",
    "countInt = 0\n",
    "\n",
    "for i in range(len(MuData_J_names)): # Loop over SNe in J band (it contains all the SNe)\n",
    "    snName = MuData_J_names[i] \n",
    "\n",
    "    # check that a given supernova was observed in JHK bands:\n",
    "    if snName in MuData_H_names: # In H band\n",
    "        if snName in MuData_K_names: # In K band\n",
    "            Residual_JHK+=[ [Mu_J_dict[snName][2], Mu_H_dict[snName][2], Mu_K_dict[snName][2] ] ]\n",
    "            countInt = countInt + 1\n",
    "\n",
    "Residual_JHK_np =  np.array(Residual_JHK)            \n",
    "print '# Number of SNe common in the JHK bands:', countInt, ', for method: %s'%Method\n",
    "\n",
    "# Number of SNe common in the JHK bands: 40 , for method: Template_M\n",
    "# Number of SNe common in the JHK bands: 19 , for method: GP_M"
   ]
  },
  {
   "cell_type": "code",
   "execution_count": 17,
   "metadata": {
    "collapsed": false
   },
   "outputs": [
    {
     "name": "stdout",
     "output_type": "stream",
     "text": [
      "# Number of SNe common in the YJHK bands: 0 , for method: GP_Bmax\n",
      "# NOTE: YJHK covariance matrix from less or equal to 4 SNe, so I'll not define it.\n"
     ]
    }
   ],
   "source": [
    "# Create an array of {residual_mu^Y_s, residual_mu^J_s, residual_mu^H_s, residual_mu^K_s}\n",
    "# with SNe that are common to all bands\n",
    "\n",
    "Residual_YJHK = []\n",
    "count_YJHK = 0\n",
    "\n",
    "for i in range(len(MuData_J_names)): # Loop over SNe in J band (it contains all the SNe)\n",
    "    snName = MuData_J_names[i] \n",
    "\n",
    "    # check that a given supernova was observed in YJHK bands:\n",
    "    if snName in MuData_H_names: # In H band\n",
    "        if snName in MuData_K_names: # In K band\n",
    "            if snName in MuData_Y_names: # In Y band\n",
    "                Residual_YJHK += [ [ Mu_Y_dict[snName][2], Mu_J_dict[snName][2], \n",
    "                                    Mu_H_dict[snName][2], Mu_K_dict[snName][2] ] ]\n",
    "                count_YJHK = count_YJHK + 1\n",
    "                \n",
    "# In Andy's compilation there are four SNe only with observations in YJHK band that \n",
    "# passed my cutoffs for the Gaussian-Process Hubble diagram, then the covariance matrix \n",
    "# for YJHK was constructed based on 4 data only;\n",
    "# this makes the Cov_ResidualMu_YJHK very unreliable, so for these 4 SNe I'm going to ignore\n",
    "# their K band (the most unstable band) and then use the Cov_ResidualMu_YJH for them instead, \n",
    "# I mean, I treat those 4 SNe as if they had observations in the YJH bands only and then \n",
    "# use the corresponding YJH covariance matrix for them. This hack is implemented\n",
    "# in the main loop in the YJHK section as follows:\n",
    "#    if count_YJHK >= 4: mu_K = Mu_K_dict[snName][0]; err_mu_K = Mu_K_dict[snName][1];\n",
    "#    else: mu_K = -1.0 err_mu_K = -1.0;\n",
    "\n",
    "Residual_YJHK_np =  np.array(Residual_YJHK)            \n",
    "print '# Number of SNe common in the YJHK bands:', count_YJHK, ', for method: %s'%Method\n",
    "if count_YJHK < MinSNeForYJHK:\n",
    "    print \"# NOTE: YJHK covariance matrix from less or equal to 4 SNe, so I'll not define it.\"\n",
    "\n",
    "# Number of SNe common in the YJHK bands: 8 , for method: Template_M\n",
    "\n",
    "# Number of SNe common in the YJHK bands: 4 , for method: GP_M\n",
    "# NOTE: YJHK covariance matrix from less than 4 SNe, so I'll not define it."
   ]
  },
  {
   "cell_type": "code",
   "execution_count": 18,
   "metadata": {
    "collapsed": false
   },
   "outputs": [
    {
     "name": "stdout",
     "output_type": "stream",
     "text": [
      "# Method: GP_Bmax\n"
     ]
    },
    {
     "data": {
      "text/plain": [
       "array([], dtype=float64)"
      ]
     },
     "execution_count": 18,
     "metadata": {},
     "output_type": "execute_result"
    }
   ],
   "source": [
    "print '# Method: %s'%Method\n",
    "Residual_YJHK_np"
   ]
  },
  {
   "cell_type": "code",
   "execution_count": 19,
   "metadata": {
    "collapsed": false
   },
   "outputs": [
    {
     "data": {
      "text/plain": [
       "0"
      ]
     },
     "execution_count": 19,
     "metadata": {},
     "output_type": "execute_result"
    }
   ],
   "source": [
    "\"\"\" \n",
    "# Method: Template_M\n",
    "Out[26]:\n",
    "array([[-0.30470273, -0.17467252, -0.14548296, -0.13369866],\n",
    "       [-0.14852942,  0.17301276,  0.33535436, -0.00197036],\n",
    "       [ 0.19301063, -0.02689809, -0.02169436, -0.024731  ],\n",
    "       [ 0.08857268, -0.0427632 , -0.00584931, -0.03629692],\n",
    "       [ 0.01467822,  0.0333215 , -0.06123689,  0.04424478],\n",
    "       [-0.15601512, -0.16723751, -0.18561087, -0.19824235],\n",
    "       [ 0.05084302,  0.07579555,  0.05490407,  0.15554705],\n",
    "       [ 0.2090343 ,  0.20601834,  0.09896688,  0.17553847]])\n",
    "\"\"\"\n",
    "0"
   ]
  },
  {
   "cell_type": "code",
   "execution_count": 20,
   "metadata": {
    "collapsed": false
   },
   "outputs": [
    {
     "name": "stdout",
     "output_type": "stream",
     "text": [
      "----------------------------------------\n",
      "# Residual_YJH\n",
      "# Method: GP_Bmax\n",
      "[[-0.039681  0.037941 -0.043052 -0.044455  0.012996 -0.045089 -0.16612\n",
      "   0.043097  0.149735  0.151438  0.280164 -0.040662  0.080981 -0.146389\n",
      "   0.075388 -0.174659 -0.114631 -0.004671 -0.073074 -0.062661  0.062007]\n",
      " [-0.049873 -0.109748 -0.035905  0.013022 -0.008548 -0.025213 -0.233929\n",
      "   0.070288  0.194676  0.167985  0.119406  0.002186  0.027803 -0.239733\n",
      "   0.021644 -0.215528 -0.160157 -0.000762 -0.008712 -0.130444 -0.035858]\n",
      " [-0.00673   0.05198   0.003466  0.053208 -0.000433 -0.049846 -0.155187\n",
      "   0.078645  0.223998  0.163711  0.12979  -0.081517 -0.124043 -0.070623\n",
      "  -0.090169 -0.173841 -0.051404 -0.032387 -0.076513 -0.128338  0.023029]]\n"
     ]
    }
   ],
   "source": [
    "# Showing the residual arrays\n",
    "print '-'*40\n",
    "print '# Residual_YJH'\n",
    "print '# Method:', Method\n",
    "print Residual_YJH_np.T"
   ]
  },
  {
   "cell_type": "code",
   "execution_count": 21,
   "metadata": {
    "collapsed": false
   },
   "outputs": [
    {
     "data": {
      "text/plain": [
       "0"
      ]
     },
     "execution_count": 21,
     "metadata": {},
     "output_type": "execute_result"
    }
   ],
   "source": [
    "\"\"\"\n",
    "----------------------------------------\n",
    "Residual_YJH\n",
    "Method: GP_M\n",
    "[[ 0.199614  0.056224 -0.097403  0.073786 -0.002793 -0.184827  0.062929\n",
    "   0.035273  0.038942  0.203929 -0.067146 -0.123755  0.225456 -0.239269\n",
    "  -0.046039]\n",
    " [-0.019735 -0.03295  -0.029423  0.030745  0.031967 -0.15538   0.059613\n",
    "   0.040572  0.052979  0.187246 -0.060888 -0.094016  0.146176  0.133324\n",
    "  -0.058061]\n",
    " [ 0.017593  0.018076 -0.075921  0.020166 -0.067023 -0.163645  0.014715\n",
    "  -0.036097  0.026643  0.133155 -0.008095  0.026896  0.147487  0.012892\n",
    "  -0.109634]]\n",
    "  \n",
    "----------------------------------------\n",
    "# old\n",
    "Method: GP_M\n",
    "[[ 0.199614  0.056224 -0.097403 -0.08733   0.073786 -0.002793 -0.184827\n",
    "   0.062929  0.035273 -0.143864  0.038942  0.203929 -0.067146 -0.123755\n",
    "   0.225456 -0.239269 -0.046039]\n",
    " [-0.019735 -0.03295  -0.029423 -0.064664  0.030745  0.031967 -0.15538\n",
    "   0.059613  0.040572 -0.308332  0.052979  0.187246 -0.060888 -0.094016\n",
    "   0.146176  0.133324 -0.058061]\n",
    " [ 0.017593  0.018076 -0.075921 -0.064639  0.020166 -0.067023 -0.163645\n",
    "   0.014715 -0.036097 -0.275863  0.026643  0.133155 -0.008095  0.026896\n",
    "   0.147487  0.012892 -0.109634]]\n",
    "----------------------------------------\n",
    "Method: Template_M\n",
    "[[-0.30065647 -0.14448317  0.19705688  0.09261894  0.01872447  0.04466337\n",
    "  -0.03384123  0.05479277  0.02392337 -0.01134704 -0.05411286 -0.15196887\n",
    "   0.05571098  0.05488927 -0.07121784 -0.15065767  0.21929175  0.00865602\n",
    "   0.06495563  0.21308055 -0.09066075 -0.04269443 -0.08310727  0.00071864\n",
    "   0.29379559 -0.02727464  0.15487644 -0.25307886  0.01759397 -0.03878731]\n",
    " [-0.17138406  0.17630122 -0.02360964 -0.03947474  0.03660996 -0.08880439\n",
    "   0.07681392  0.01507897  0.07038173 -0.03452988  0.00086242 -0.16394905\n",
    "   0.09118188  0.07908401 -0.07711896 -0.31775486  0.22369447  0.06424931\n",
    "  -0.08534287  0.2093068  -0.09654246  0.07677891 -0.01210954  0.08476492\n",
    "   0.14881051 -0.01434049 -0.03361548  0.02471507  0.00366558 -0.14384124]\n",
    " [-0.14556291  0.33527442 -0.0217743  -0.00592925 -0.06131683 -0.03894456\n",
    "   0.11796274 -0.03522558  0.02468278 -0.00719586  0.24338049 -0.18569082\n",
    "  -0.00334408  0.05482412  0.12885713 -0.25265704  0.37209212  0.05024219\n",
    "  -0.03597335  0.09888693 -0.07077688  0.06283139  0.18269278  0.07720523\n",
    "   0.09013509 -0.00456274  0.2354566  -0.01718918 -0.01176091 -0.18907532]]\n",
    "\"\"\"\n",
    "0"
   ]
  },
  {
   "cell_type": "code",
   "execution_count": 22,
   "metadata": {
    "collapsed": false
   },
   "outputs": [
    {
     "name": "stdout",
     "output_type": "stream",
     "text": [
      "----------------------------------------\n",
      "Residual_JHK\n",
      "Method: GP_Bmax\n",
      "[[ 0.034968 -0.051326 -0.094272  0.028679 -0.440481  0.04163   0.313357\n",
      "  -0.04588   0.045245  0.259151  0.025749]\n",
      " [-0.034016  0.136955  0.023873  0.184626 -0.240161 -0.02503   0.342073\n",
      "  -0.055836  0.075843  0.149403 -0.087583]\n",
      " [-0.174161 -0.141521 -0.041094 -0.026822 -0.350741 -0.121483  0.209457\n",
      "   0.003825  0.10663   0.265572 -0.106602]]\n"
     ]
    }
   ],
   "source": [
    "# Showing the residual arrays\n",
    "print '-'*40\n",
    "print 'Residual_JHK'\n",
    "print 'Method:', Method\n",
    "print Residual_JHK_np.T"
   ]
  },
  {
   "cell_type": "code",
   "execution_count": 23,
   "metadata": {
    "collapsed": false
   },
   "outputs": [
    {
     "data": {
      "text/plain": [
       "0"
      ]
     },
     "execution_count": 23,
     "metadata": {},
     "output_type": "execute_result"
    }
   ],
   "source": [
    "\"\"\"\n",
    "----------------------------------------\n",
    "Residual_JHK\n",
    "Method: GP_M\n",
    "[[ 0.441983 -0.162256 -0.106825  0.004019 -0.471658  0.148553  0.05399\n",
    "  -0.019735 -0.03295  -0.041669 -0.022271  0.021961  0.040572  0.082899\n",
    "   0.187246 -0.031725  0.201348  0.039989 -0.029107]\n",
    " [ 0.345608  0.034018 -0.062583  0.053292 -0.322786  0.042103  0.09002\n",
    "   0.017593  0.018076 -0.113155 -0.098088  0.082938 -0.036097 -0.065292\n",
    "   0.133155 -0.06576   0.215014 -0.020408 -0.084706]\n",
    " [ 0.287763 -0.10705  -0.069881 -0.023472 -0.439629 -0.045765  0.023713\n",
    "  -0.039568 -0.01265   0.06962  -0.215275  0.087895  0.142242 -0.006351\n",
    "   0.184137 -0.258068  0.254893 -0.09841   0.134099]]\n",
    "   \n",
    "----------------------------------------\n",
    "OLD\n",
    "Method: GP_M\n",
    "[[ 0.441983 -0.162256 -0.106825  0.004019 -0.471658  0.148553  0.05399\n",
    "  -0.019735 -0.03295  -0.041669 -0.022271  0.021961  0.040572  0.082899\n",
    "   0.187246 -0.031725  0.228659  0.201348  0.039989 -0.029107]\n",
    " [ 0.345608  0.034018 -0.062583  0.053292 -0.322786  0.042103  0.09002\n",
    "   0.017593  0.018076 -0.113155 -0.098088  0.082938 -0.036097 -0.065292\n",
    "   0.133155 -0.06576   0.307049  0.215014 -0.020408 -0.084706]\n",
    " [ 0.287763 -0.10705  -0.069881 -0.023472 -0.439629 -0.045765  0.023713\n",
    "  -0.039568 -0.01265   0.06962  -0.215275  0.087895  0.142242 -0.006351\n",
    "   0.184137 -0.258068 -0.0779    0.254893 -0.09841   0.134099]]\n",
    "----------------------------------------\n",
    "Method: Template_M\n",
    "[[ 0.4643868  -0.17138406 -0.16165745 -0.08800488  0.0047992  -0.12504903\n",
    "  -0.49335913  0.04174324  0.05329606 -0.27713093  0.17630122 -0.02360964\n",
    "  -0.03947474 -0.1794335  -0.13370759 -0.03221086  0.02584556  0.03660996\n",
    "  -0.04759136 -0.03452988  0.16262424 -0.10627544 -0.16394905  0.12227416\n",
    "   0.07908401  0.08056557 -0.06894328  0.16648138  0.2093068   0.37777175\n",
    "  -0.0017766  -0.09945877  0.06886201  0.18614231  0.25722441 -0.06575552\n",
    "  -0.20350877 -0.01422345 -0.04632595 -0.13793173  0.02212121 -0.02294282\n",
    "   0.23277389]\n",
    " [ 0.29004987 -0.14556291 -0.04156751 -0.04303831  0.02882294 -0.15300612\n",
    "  -0.40076279 -0.09097209  0.01797546 -0.20426833  0.33527442 -0.0217743\n",
    "  -0.00592925 -0.17036448 -0.04909089 -0.10406594 -0.0989359  -0.06131683\n",
    "   0.02895879 -0.00719586  0.41792837 -0.15861639 -0.18569082  0.06124728\n",
    "   0.05482412 -0.1351896   0.0974203   0.04167179  0.09888693  0.35841772\n",
    "   0.23661562  0.08373385  0.067914    0.27655403  0.14315737  0.07062845\n",
    "  -0.22184853 -0.14861791 -0.0973112  -0.24613381 -0.1007093  -0.0577731\n",
    "   0.13783192]\n",
    " [ 0.33307544 -0.12522543 -0.11065781 -0.0435071  -0.00489785 -0.23447606\n",
    "  -0.41953859 -0.04623321  0.01622754 -0.22564483  0.00650287 -0.01625777\n",
    "  -0.02782369 -0.13046465 -0.02920947  0.09486149 -0.12305402  0.05271801\n",
    "  -0.13176887 -0.0721791  -0.00860312 -0.00620872 -0.18976912  0.19107438\n",
    "   0.16402028 -0.00338418 -0.01450647 -0.1314377   0.1840117   0.35338635\n",
    "   0.06807652 -0.15399458 -0.01687103 -0.16040092  0.30918356 -0.07299241\n",
    "  -0.2166978   0.11078122 -0.02807919 -0.28339005 -0.18008266  0.17428316\n",
    "   0.37620029]]\n",
    "\"\"\"\n",
    "0"
   ]
  },
  {
   "cell_type": "code",
   "execution_count": 24,
   "metadata": {
    "collapsed": false
   },
   "outputs": [
    {
     "name": "stdout",
     "output_type": "stream",
     "text": [
      "----------------------------------------\n",
      "Residual_YJHK\n",
      "Method: GP_Bmax\n",
      "[]\n",
      "NOTE: YJHK covariance matrix from less or equal to 4 SNe, so I'll not define it.\n"
     ]
    }
   ],
   "source": [
    "# Showing the residual arrays\n",
    "print '-'*40\n",
    "print 'Residual_YJHK'\n",
    "print 'Method:', Method\n",
    "print Residual_YJHK_np.T\n",
    "if count_YJHK < MinSNeForYJHK:\n",
    "    print \"NOTE: YJHK covariance matrix from less or equal to 4 SNe, so I'll not define it.\"\n"
   ]
  },
  {
   "cell_type": "code",
   "execution_count": 25,
   "metadata": {
    "collapsed": false
   },
   "outputs": [
    {
     "data": {
      "text/plain": [
       "0"
      ]
     },
     "execution_count": 25,
     "metadata": {},
     "output_type": "execute_result"
    }
   ],
   "source": [
    "\"\"\"\n",
    "----------------------------------------\n",
    "Method: GP_M\n",
    "[[ 0.199614  0.056224  0.035273  0.203929]\n",
    " [-0.019735 -0.03295   0.040572  0.187246]\n",
    " [ 0.017593  0.018076 -0.036097  0.133155]\n",
    " [-0.039568 -0.01265   0.142242  0.184137]]\n",
    "----------------------------------------\n",
    "Residual_YJHK\n",
    "Method: Template_M\n",
    "[[-0.30470273 -0.14852942  0.19301063  0.08857268  0.01467822 -0.15601512\n",
    "   0.05084302  0.2090343 ]\n",
    " [-0.17467252  0.17301276 -0.02689809 -0.0427632   0.0333215  -0.16723751\n",
    "   0.07579555  0.20601834]\n",
    " [-0.14548296  0.33535436 -0.02169436 -0.00584931 -0.06123689 -0.18561087\n",
    "   0.05490407  0.09896688]\n",
    " [-0.13369866 -0.00197036 -0.024731   -0.03629692  0.04424478 -0.19824235\n",
    "   0.15554705  0.17553847]]\n",
    "\"\"\"\n",
    "0"
   ]
  },
  {
   "cell_type": "code",
   "execution_count": null,
   "metadata": {
    "collapsed": true
   },
   "outputs": [],
   "source": []
  },
  {
   "cell_type": "markdown",
   "metadata": {},
   "source": [
    "## Covariance matrix computation\n",
    "\n",
    "#### Definition of the Covariance matrices"
   ]
  },
  {
   "cell_type": "code",
   "execution_count": 26,
   "metadata": {
    "collapsed": true
   },
   "outputs": [
    {
     "name": "stdout",
     "output_type": "stream",
     "text": [
      "NOTE: YJHK covariance matrix from less or equal to 4 SNe, so I don't define it.\n"
     ]
    }
   ],
   "source": [
    "# The covariance matrices\n",
    "\n",
    "Cov_ResidualMu_YJH   = np.cov(Residual_YJH_np.T)\n",
    "Cov_ResidualMu_JH   = np.cov(Residual_JH_np.T)\n",
    "Cov_ResidualMu_JHK   = np.cov(Residual_JHK_np.T)\n",
    "if count_YJHK >= MinSNeForYJHK: Cov_ResidualMu_YJHK  = np.cov(Residual_YJHK_np.T)\n",
    "else: print \"NOTE: YJHK covariance matrix from less or equal to 4 SNe, \\\n",
    "so I don't define it.\""
   ]
  },
  {
   "cell_type": "code",
   "execution_count": 27,
   "metadata": {
    "collapsed": false
   },
   "outputs": [
    {
     "name": "stdout",
     "output_type": "stream",
     "text": [
      "----------------------------------------\n",
      "The covariance matrix YJH:\n",
      "Method: GP_Bmax\n",
      "[[0.01271343 0.0114679  0.00865963]\n",
      " [0.0114679  0.01432951 0.00945242]\n",
      " [0.00865963 0.00945242 0.01097053]]\n",
      "--------------------\n",
      "% YJH, Latex format:\n",
      "0.0127 & 0.0115 & 0.0087 \\\\\n",
      "0.0115 & 0.0143 & 0.0095 \\\\\n",
      "0.0087 & 0.0095 & 0.0110 \\\\\n"
     ]
    },
    {
     "data": {
      "text/plain": [
       "0"
      ]
     },
     "execution_count": 27,
     "metadata": {},
     "output_type": "execute_result"
    }
   ],
   "source": [
    "print '-'*40\n",
    "print 'The covariance matrix YJH:'\n",
    "print 'Method:', Method\n",
    "print Cov_ResidualMu_YJH\n",
    "\n",
    "print '-'*20\n",
    "print \"% YJH, Latex format:\"\n",
    "for ii in range(len(Cov_ResidualMu_YJH)):\n",
    "    print \"%.4f & %.4f & %.4f \\\\\\\\\"%(Cov_ResidualMu_YJH[ii][0], \n",
    "        Cov_ResidualMu_YJH[ii][1], Cov_ResidualMu_YJH[ii][2])\n",
    "    \n",
    "\"\"\"\n",
    "----------------------------------------\n",
    "The covariance matrix YJH:\n",
    "Method: GP_M\n",
    "[[ 0.01922937  0.00577885  0.00637586]\n",
    " [ 0.00577885  0.00762349  0.00416688]\n",
    " [ 0.00637586  0.00416688  0.00489901]]\n",
    "--------------------\n",
    "% YJH, Latex format:\n",
    "0.0192 & 0.0058 & 0.0064 \\\\\n",
    "0.0058 & 0.0076 & 0.0042 \\\\\n",
    "0.0064 & 0.0042 & 0.0049 \\\\\n",
    "\"\"\"\n",
    "0"
   ]
  },
  {
   "cell_type": "code",
   "execution_count": null,
   "metadata": {
    "collapsed": true
   },
   "outputs": [],
   "source": []
  },
  {
   "cell_type": "code",
   "execution_count": 28,
   "metadata": {
    "collapsed": false
   },
   "outputs": [
    {
     "name": "stdout",
     "output_type": "stream",
     "text": [
      "----------------------------------------\n",
      "The covariance matrix JHK:\n",
      "Method: GP_Bmax\n",
      "[[0.03782497 0.02442239 0.02940811]\n",
      " [0.02442239 0.02486557 0.02125318]\n",
      " [0.02940811 0.02125318 0.03147783]]\n",
      "--------------------\n",
      "% JHK, Latex format:\n",
      "0.0378 & 0.0244 & 0.0294 \\\\\n",
      "0.0244 & 0.0249 & 0.0213 \\\\\n",
      "0.0294 & 0.0213 & 0.0315 \\\\\n"
     ]
    },
    {
     "data": {
      "text/plain": [
       "0"
      ]
     },
     "execution_count": 28,
     "metadata": {},
     "output_type": "execute_result"
    }
   ],
   "source": [
    "print '-'*40\n",
    "print 'The covariance matrix JHK:'\n",
    "print 'Method:', Method\n",
    "print Cov_ResidualMu_JHK\n",
    "\n",
    "print '-'*20\n",
    "print \"% JHK, Latex format:\"\n",
    "for ii in range(len(Cov_ResidualMu_JHK)):\n",
    "    print \"%.4f & %.4f & %.4f \\\\\\\\\"%(Cov_ResidualMu_JHK[ii][0], \n",
    "        Cov_ResidualMu_JHK[ii][1], Cov_ResidualMu_JHK[ii][2])\n",
    "\n",
    "\"\"\"\n",
    "----------------------------------------\n",
    "The covariance matrix JHK:\n",
    "Method: GP_M\n",
    "[[ 0.03264452  0.02211381  0.02550466]\n",
    " [ 0.02211381  0.01916061  0.01788598]\n",
    " [ 0.02550466  0.01788598  0.0275368 ]]\n",
    "--------------------\n",
    "% JHK, Latex format:\n",
    "0.0326 & 0.0221 & 0.0255 \\\\\n",
    "0.0221 & 0.0192 & 0.0179 \\\\\n",
    "0.0255 & 0.0179 & 0.0275 \\\\\n",
    "\"\"\"\n",
    "0"
   ]
  },
  {
   "cell_type": "code",
   "execution_count": 29,
   "metadata": {
    "collapsed": false
   },
   "outputs": [
    {
     "name": "stdout",
     "output_type": "stream",
     "text": [
      "----------------------------------------\n",
      "The covariance matrix YJHK:\n",
      "Method: GP_Bmax\n",
      "NOTE: There are less or equal to 4 SNe with YJHJ observations, so I'll not define the YJHK covariance matrix\n"
     ]
    },
    {
     "data": {
      "text/plain": [
       "0"
      ]
     },
     "execution_count": 29,
     "metadata": {},
     "output_type": "execute_result"
    }
   ],
   "source": [
    "print '-'*40\n",
    "print 'The covariance matrix YJHK:'\n",
    "print 'Method:', Method\n",
    "\n",
    "if count_YJHK >= MinSNeForYJHK: \n",
    "    print Cov_ResidualMu_YJHK\n",
    "    print '-'*20\n",
    "    print \"% YJHK, Latex format:\"\n",
    "    for ii in range(len(Cov_ResidualMu_YJHK)):\n",
    "        print \"%.4f & %.4f & %.4f & %.4f \\\\\\\\\"%(Cov_ResidualMu_YJHK[ii][0], \n",
    "        Cov_ResidualMu_YJHK[ii][1], Cov_ResidualMu_YJHK[ii][2],\n",
    "        Cov_ResidualMu_YJHK[ii][3])\n",
    "\n",
    "else:\n",
    "    print \"NOTE: There are less or equal to 4 SNe with YJHJ \\\n",
    "observations, so I'll not define the YJHK covariance matrix\"\n",
    "    \n",
    "\n",
    "\n",
    "\"\"\"\n",
    "----------------------------------------\n",
    "The covariance matrix YJHK:\n",
    "Method: GP_M\n",
    "[[ 0.0167763   0.0087207   0.00855105  0.01094712]\n",
    " [ 0.0087207   0.00920503  0.00616231  0.01049441]\n",
    " [ 0.00855105  0.00616231  0.00555262  0.00700263]\n",
    " [ 0.01094712  0.01049441  0.00700263  0.01680504]]\n",
    "--------------------\n",
    "% YJHK, Latex format:\n",
    "0.0168 & 0.0087 & 0.0086 & 0.0109 \\\\\n",
    "0.0087 & 0.0092 & 0.0062 & 0.0105 \\\\\n",
    "0.0086 & 0.0062 & 0.0056 & 0.0070 \\\\\n",
    "0.0109 & 0.0105 & 0.0070 & 0.0168 \\\\\n",
    "\"\"\"\n",
    "0"
   ]
  },
  {
   "cell_type": "code",
   "execution_count": null,
   "metadata": {
    "collapsed": true
   },
   "outputs": [],
   "source": []
  },
  {
   "cell_type": "markdown",
   "metadata": {},
   "source": [
    "#### Definition of the inverse(Covariance matrix)"
   ]
  },
  {
   "cell_type": "code",
   "execution_count": 30,
   "metadata": {
    "collapsed": false
   },
   "outputs": [
    {
     "name": "stdout",
     "output_type": "stream",
     "text": [
      "NOTE: YJHK covariance matrix from less or equal to 4 SNe, so I don't define it.\n"
     ]
    }
   ],
   "source": [
    "# Inverse of the total covariance matrix.\n",
    "# In this case the inverse covariance matrix of 2 bands is NOT a submatrix of the\n",
    "# inverse covariance matrix of 3 bands.\n",
    "\n",
    "# There are not SNe in YHK bands that are not in J band, that's why it is\n",
    "# not necessary to define the YH, HK, or YK covariance submatrices.\n",
    "\n",
    "# These matrices are what I actually use in the main loop, i.e., I don't directly use\n",
    "# the covariance matrices but their inverse.\n",
    "\n",
    "# In Andy's compilation there are four SNe only with observations in YJHK band that \n",
    "# passed my cutoffs for the Gaussian-Process Hubble diagram, then the covariance matrix \n",
    "# for YJHK was constructed based on 4 data only;\n",
    "# this makes the Cov_ResidualMu_YJHK very unreliable, so for these 4 SNe I'm going to ignore\n",
    "# their K band (the most unstable band) and then use the Cov_ResidualMu_YJH for them instead, \n",
    "# I mean, I treat those 4 SNe as if they had observations in the YJH bands only and then \n",
    "# use the corresponding YJH covariance matrix for them. This hack is implemented\n",
    "# in the main loop in the YJHK section as follows:\n",
    "#    if count_YJHK >= 4: mu_K = Mu_K_dict[snName][0]; err_mu_K = Mu_K_dict[snName][1];\n",
    "#    else: mu_K = -1.0 err_mu_K = -1.0;\n",
    "\n",
    "InvCov_ResidualMu_YJH  = np.linalg.inv(Cov_ResidualMu_YJH) # YJH bands\n",
    "InvCov_ResidualMu_JHK  = np.linalg.inv(Cov_ResidualMu_JHK) # JHK bands\n",
    "InvCov_ResidualMu_YJ = np.linalg.inv(Cov_ResidualMu_YJH[:2,:2]) # YJ bands \n",
    "InvCov_ResidualMu_JH = np.linalg.inv(Cov_ResidualMu_JH) # JH bands\n",
    "# old InvCov_ResidualMu_JH = np.linalg.inv(Cov_ResidualMu_YJH[1:3,1:3]) # JH bands\n",
    "InvCov_ResidualMu_JK = np.linalg.inv(Cov_ResidualMu_JHK[[0,2]][:,[0,2]]) # JK bands\n",
    "# old. InvCov_ResidualMu_HK = np.linalg.inv(Cov_ResidualMu_JHK[1:3,1:3]) # HK bands\n",
    "\n",
    "if count_YJHK >= MinSNeForYJHK:\n",
    "    InvCov_ResidualMu_YJHK = np.linalg.inv(Cov_ResidualMu_YJHK) # YJHK bands\n",
    "else: print \"NOTE: YJHK covariance matrix from less or equal to 4 SNe, \\\n",
    "so I don't define it.\""
   ]
  },
  {
   "cell_type": "code",
   "execution_count": null,
   "metadata": {
    "collapsed": true
   },
   "outputs": [],
   "source": []
  },
  {
   "cell_type": "code",
   "execution_count": 31,
   "metadata": {
    "collapsed": false
   },
   "outputs": [
    {
     "name": "stdout",
     "output_type": "stream",
     "text": [
      "----------------------------------------\n",
      "InvCov_ResidualMu_YJH\n",
      "Method: GP_Bmax\n",
      "[[ 304.64264721 -197.34138778  -70.43758777]\n",
      " [-197.34138778  289.51209042  -93.67705771]\n",
      " [ -70.43758777  -93.67705771  227.46735335]]\n"
     ]
    },
    {
     "data": {
      "text/plain": [
       "0"
      ]
     },
     "execution_count": 31,
     "metadata": {},
     "output_type": "execute_result"
    }
   ],
   "source": [
    "print '-'*40\n",
    "print 'InvCov_ResidualMu_YJH'\n",
    "print 'Method:', Method\n",
    "print InvCov_ResidualMu_YJH\n",
    "\n",
    "\"\"\"\n",
    "----------------------------------------\n",
    "InvCov_ResidualMu_YJH\n",
    "Method: GP_M\n",
    "[[  92.52633475   -2.34822654 -102.36312529]\n",
    " [  -2.34822654  253.50175067 -214.12907062]\n",
    " [-102.36312529 -214.12907062  449.6933111 ]]\n",
    "----------------------------------------\n",
    "OLD\n",
    "InvCov_ResidualMu_YJH\n",
    "Method: GP_M\n",
    "[[  96.50951221    8.73568743  -95.20530184]\n",
    " [   8.73568743  268.2616148  -276.44667248]\n",
    " [ -95.20530184 -276.44667248  459.42876418]]\n",
    "----------------------------------------\n",
    "Method: Template_M\n",
    "[[  76.52429592  -48.64452136    4.6191383 ]\n",
    " [ -48.64452136  182.06755386  -92.98396231]\n",
    " [   4.6191383   -92.98396231  102.26164373]]\n",
    " \n",
    "# OLD:\n",
    "[[ 112.30417948   -4.79247338  -69.80753848]\n",
    " [  -4.79247338  191.55897243 -161.57429499]\n",
    " [ -69.80753848 -161.57429499  218.96529368]]\n",
    "\"\"\"\n",
    "0"
   ]
  },
  {
   "cell_type": "code",
   "execution_count": 32,
   "metadata": {
    "collapsed": false
   },
   "outputs": [
    {
     "name": "stdout",
     "output_type": "stream",
     "text": [
      "----------------------------------------\n",
      "InvCov_ResidualMu_JHK\n",
      "Method: GP_Bmax\n",
      "[[119.5118398  -51.8995414  -76.61222968]\n",
      " [-51.8995414  117.63247838 -30.93594935]\n",
      " [-76.61222968 -30.93594935 124.23053281]]\n"
     ]
    },
    {
     "data": {
      "text/plain": [
       "0"
      ]
     },
     "execution_count": 32,
     "metadata": {},
     "output_type": "execute_result"
    }
   ],
   "source": [
    "print '-'*40\n",
    "print 'InvCov_ResidualMu_JHK'\n",
    "print 'Method:', Method\n",
    "print InvCov_ResidualMu_JHK\n",
    "\"\"\"\n",
    "----------------------------------------\n",
    "InvCov_ResidualMu_JHK\n",
    "Method: GP_M\n",
    "[[ 154.09302429 -122.7481813   -48.29418828]\n",
    " [-122.7481813   223.34466158  -37.4736257 ]\n",
    " [ -48.29418828  -37.4736257    92.71502074]]\n",
    "----------------------------------------\n",
    "OLD\n",
    "InvCov_ResidualMu_JHK\n",
    "Method: GP_M\n",
    "[[ 162.64759491 -128.96789537  -51.36613009]\n",
    " [-128.96789537  177.31643735   -1.65258813]\n",
    " [ -51.36613009   -1.65258813   73.28128679]]\n",
    "----------------------------------------\n",
    "Method: Template_M\n",
    "[[ 150.70982676  -77.35828068  -71.41242657]\n",
    " [ -77.35828068   90.97650315    6.08080445]\n",
    " [ -71.41242657    6.08080445   85.52794432]]\n",
    " \n",
    "# OLD:\n",
    "[[ 146.3691602  -105.67373084  -26.51172094]\n",
    " [-105.67373084  140.6436083   -24.50826247]\n",
    " [ -26.51172094  -24.50826247   58.31402258]]\n",
    "\"\"\"\n",
    "0"
   ]
  },
  {
   "cell_type": "code",
   "execution_count": 33,
   "metadata": {
    "collapsed": false
   },
   "outputs": [
    {
     "name": "stdout",
     "output_type": "stream",
     "text": [
      "----------------------------------------\n",
      "InvCov_ResidualMu_YJHK\n",
      "Method: GP_Bmax\n",
      "YJHK covariance matrix from less or equal to 4 SNe, so I didn't define it.\n"
     ]
    },
    {
     "data": {
      "text/plain": [
       "0"
      ]
     },
     "execution_count": 33,
     "metadata": {},
     "output_type": "execute_result"
    }
   ],
   "source": [
    "print '-'*40\n",
    "print 'InvCov_ResidualMu_YJHK'\n",
    "print 'Method:', Method\n",
    "if count_YJHK >= MinSNeForYJHK: print InvCov_ResidualMu_YJHK\n",
    "else: print \"YJHK covariance matrix from less or equal to 4 SNe, \\\n",
    "so I didn't define it.\"\n",
    "\n",
    "\n",
    "\"\"\"\n",
    "----------------------------------------\n",
    "InvCov_ResidualMu_YJHK\n",
    "Method: GP_M\n",
    "[[ -2.54296726e+18   1.15565374e+19  -5.55685495e+18  -7.77295761e+18]\n",
    " [  1.15565374e+19  -5.25187869e+19   2.52531768e+19   3.53242751e+19]\n",
    " [ -5.55685495e+18   2.52531768e+19  -1.21427584e+19  -1.69853536e+19]\n",
    " [ -7.77295761e+18   3.53242751e+19  -1.69853536e+19  -2.37592009e+19]]\n",
    " \n",
    "----------------------------------------\n",
    "OLD\n",
    "InvCov_ResidualMu_YJHK\n",
    "Method: GP_M\n",
    "[[  2.76659760e+16  -1.25728274e+17   6.04552871e+16   8.45651700e+16]\n",
    " [ -1.25728274e+17   5.71373262e+17  -2.74739591e+17  -3.84307168e+17]\n",
    " [  6.04552871e+16  -2.74739591e+17   1.32106012e+17   1.84790576e+17]\n",
    " [  8.45651700e+16  -3.84307168e+17   1.84790576e+17   2.58486018e+17]]\n",
    " \n",
    "----------------------------------------\n",
    "# OLD:\n",
    "Method: GP_M\n",
    "[[ -2.54296726e+18   1.15565374e+19  -5.55685495e+18  -7.77295761e+18]\n",
    " [  1.15565374e+19  -5.25187869e+19   2.52531768e+19   3.53242751e+19]\n",
    " [ -5.55685495e+18   2.52531768e+19  -1.21427584e+19  -1.69853536e+19]\n",
    " [ -7.77295761e+18   3.53242751e+19  -1.69853536e+19  -2.37592009e+19]]\n",
    " \n",
    "----------------------------------------\n",
    "InvCov_ResidualMu_YJHK\n",
    "Method: Template_M\n",
    "[[  61.65915066  -51.61212245   40.77863942  -37.94718923]\n",
    " [ -51.61212245  870.61859689 -435.52395146 -462.66172076]\n",
    " [  40.77863942 -435.52395146  275.62433864  177.70243833]\n",
    " [ -37.94718923 -462.66172076  177.70243833  404.58558108]]\n",
    " \n",
    "\"\"\"\n",
    "0"
   ]
  },
  {
   "cell_type": "code",
   "execution_count": null,
   "metadata": {
    "collapsed": true
   },
   "outputs": [],
   "source": [
    "\n",
    "\n"
   ]
  },
  {
   "cell_type": "markdown",
   "metadata": {},
   "source": [
    "---------"
   ]
  },
  {
   "cell_type": "markdown",
   "metadata": {},
   "source": [
    "### Just some cross checking of the matrices\n",
    "\n",
    "The quantities defined in this subsection are not used for any posterior computation"
   ]
  },
  {
   "cell_type": "code",
   "execution_count": 34,
   "metadata": {
    "collapsed": false
   },
   "outputs": [
    {
     "name": "stdout",
     "output_type": "stream",
     "text": [
      "----------------------------------------\n",
      "Method: GP_Bmax\n",
      "\n",
      "The covariance matrix of YJ bands computed directly from the YJH residual matrix:\n",
      "[[0.01271343 0.0114679 ]\n",
      " [0.0114679  0.01432951]]\n",
      "\n",
      "Comparing with the YJ submatrix of the YJH matrix: both (above) and this submatrices are the same:\n",
      "[[0.01271343 0.0114679 ]\n",
      " [0.0114679  0.01432951]]\n"
     ]
    },
    {
     "data": {
      "text/plain": [
       "0"
      ]
     },
     "execution_count": 34,
     "metadata": {},
     "output_type": "execute_result"
    }
   ],
   "source": [
    "# Checking that the covariance matrix of YJ bands only is the submatrix\n",
    "# of the 'np.cov(Residual_YJH)' covariance matrix\n",
    "\n",
    "Cov_ResidualMu_YJ = np.cov(Residual_YJH_np[:,0:2].T)\n",
    "\n",
    "print '-'*40\n",
    "print 'Method:', Method\n",
    "print ''\n",
    "print 'The covariance matrix of YJ bands computed directly from the YJH residual matrix:'\n",
    "print Cov_ResidualMu_YJ # Result: it IS a submatrix of 'np.cov(Residual_YJH)' as I expected.\n",
    "\n",
    "print ''\n",
    "print 'Comparing with the YJ submatrix of the YJH matrix: both (above) and this submatrices are the same:'\n",
    "print Cov_ResidualMu_YJH[:2,:2]\n",
    "\n",
    "\"\"\"\n",
    "----------------------------------------\n",
    "Method: GP_M\n",
    "\n",
    "The covariance matrix of YJ bands computed directly from the YJH residual matrix:\n",
    "[[ 0.01923037  0.0064833 ]\n",
    " [ 0.0064833   0.00878466]]\n",
    "\n",
    "Comparing with the YJ submatrix of the YJH matrix: both (above) and this submatrices are the same:\n",
    "[[ 0.01923037  0.0064833 ]\n",
    " [ 0.0064833   0.00878466]]\n",
    " \n",
    "----------------------------------------\n",
    "OLD \n",
    "Method: GP_M\n",
    "\n",
    "The covariance matrix of YJ bands computed directly from the YJH residual matrix:\n",
    "[[ 0.01863856  0.00887887]\n",
    " [ 0.00887887  0.01404139]]\n",
    "\n",
    "Comparing with the YJ submatrix of the YJH matrix: both (above) and this submatrices are the same:\n",
    "[[ 0.01863856  0.00887887]\n",
    " [ 0.00887887  0.01404139]]\n",
    " \n",
    "----------------------------------------\n",
    "Method: Template_M\n",
    "\n",
    "The covariance matrix of YJ bands computed directly from the YJH residual matrix:\n",
    "[[ 0.01890086  0.00723753]\n",
    " [ 0.00723753  0.01095913]]\n",
    "\n",
    "Comparing with the YJ submatrix of the YJH matrix: both (above) and this submatrices are the same:\n",
    "[[ 0.01890086  0.00723753]\n",
    " [ 0.00723753  0.01095913]]\n",
    "\"\"\"\n",
    "0"
   ]
  },
  {
   "cell_type": "code",
   "execution_count": 35,
   "metadata": {
    "collapsed": false
   },
   "outputs": [
    {
     "name": "stdout",
     "output_type": "stream",
     "text": [
      "There are equal or less than 4 SNe, so the matrix for YJHK was not defined\n"
     ]
    }
   ],
   "source": [
    "# Checking that the inverse of InvCov_ResidualMu_YJHK is the equal to the\n",
    "# covariance matrix Cov_ResidualMu_YJHK\n",
    "\n",
    "if count_YJHK > MinSNeForYJHK:\n",
    "    print '-'*40\n",
    "    print 'Checking that inv(InvCov_ResidualMu_YJHK) should be equal to Cov_ResidualMu_YJHK.'\n",
    "    print 'Method:', Method\n",
    "    print ''\n",
    "    print 'Inverse of InvCov_ResidualMu_YJHK:'\n",
    "    print np.linalg.inv(InvCov_ResidualMu_YJHK) # Result: \n",
    "\n",
    "    print ''\n",
    "    print 'Covariance matrix:'\n",
    "    print Cov_ResidualMu_YJHK\n",
    "else:\n",
    "    print \"There are equal or less than 4 SNe, so the matrix for YJHK was not defined\""
   ]
  },
  {
   "cell_type": "code",
   "execution_count": 36,
   "metadata": {
    "collapsed": false
   },
   "outputs": [
    {
     "name": "stdout",
     "output_type": "stream",
     "text": [
      "----------------------------------------\n",
      "Method: GP_Bmax\n",
      "\n",
      "JH cov submatrix computed directly from the -YJH- residual matrix:\n",
      "[[0.01432951 0.00945242]\n",
      " [0.00945242 0.01097053]]\n",
      "\n",
      "JH cov submatrix computed directly from the -JHK- residual matrix:\n",
      "[[0.03782497 0.02442239]\n",
      " [0.02442239 0.02486557]]\n"
     ]
    },
    {
     "data": {
      "text/plain": [
       "0"
      ]
     },
     "execution_count": 36,
     "metadata": {},
     "output_type": "execute_result"
    }
   ],
   "source": [
    "print '-'*40\n",
    "print 'Method:', Method\n",
    "print ''\n",
    "print 'JH cov submatrix computed directly from the -YJH- residual matrix:'\n",
    "print np.cov(Residual_YJH_np[:,1:3].T)\n",
    "\n",
    "\n",
    "print ''\n",
    "print 'JH cov submatrix computed directly from the -JHK- residual matrix:'\n",
    "print np.cov(Residual_JHK_np[:,0:2].T)\n",
    "\n",
    "\"\"\"\n",
    "----------------------------------------\n",
    "Method: Template_M\n",
    "\n",
    "JH cov submatrix computed directly from the -YJH- residual matrix:\n",
    "[[ 0.01395943  0.01232575]\n",
    " [ 0.01232575  0.02068883]]\n",
    "\n",
    "JH cov submatrix computed directly from the -JHK- residual matrix:\n",
    "[[ 0.0299566   0.02391424]\n",
    " [ 0.02391424  0.03013497]]\n",
    "\"\"\"\n",
    "\n",
    "0"
   ]
  },
  {
   "cell_type": "code",
   "execution_count": 37,
   "metadata": {
    "collapsed": false
   },
   "outputs": [
    {
     "name": "stdout",
     "output_type": "stream",
     "text": [
      "----------------------------------------\n",
      "Method: GP_Bmax\n",
      "[[ 282.83092919 -226.34944487]\n",
      " [-226.34944487  250.93340644]]\n"
     ]
    },
    {
     "data": {
      "text/plain": [
       "0"
      ]
     },
     "execution_count": 37,
     "metadata": {},
     "output_type": "execute_result"
    }
   ],
   "source": [
    "# I notice that the inverse of the covariance matrix of the YJ submatrix\n",
    "# is NOT a submatrix of the inverse covariance matrix of 3 bands.\n",
    "\n",
    "print '-'*40\n",
    "print 'Method:', Method\n",
    "print InvCov_ResidualMu_YJ\n",
    "\n",
    "\"\"\"\n",
    "----------------------------------------\n",
    "Method: Template_M\n",
    "[[ 76.31565035 -44.4444541 ]\n",
    " [-44.4444541   97.51955589]]\n",
    "\"\"\"\n",
    "0"
   ]
  },
  {
   "cell_type": "code",
   "execution_count": 38,
   "metadata": {
    "collapsed": false
   },
   "outputs": [
    {
     "name": "stdout",
     "output_type": "stream",
     "text": [
      "----------------------------------------\n",
      "Method: GP_Bmax\n",
      "[[ 99.52119897 -81.65719198]\n",
      " [-81.65719198 132.47878462]]\n"
     ]
    },
    {
     "data": {
      "text/plain": [
       "0"
      ]
     },
     "execution_count": 38,
     "metadata": {},
     "output_type": "execute_result"
    }
   ],
   "source": [
    "# I notice that the inverse of the covariance matrix of the JH submatrix\n",
    "# is NOT a submatrix of the inverse covariance matrix of 3 bands.\n",
    "\n",
    "print '-'*40\n",
    "print 'Method:', Method\n",
    "print InvCov_ResidualMu_JH\n",
    "\n",
    "\"\"\"\n",
    "----------------------------------------\n",
    "Method: Template_M\n",
    "[[ 151.14548617  -90.04769521]\n",
    " [ -90.04769521  101.98282459]]\n",
    "\"\"\"\n",
    "0"
   ]
  },
  {
   "cell_type": "code",
   "execution_count": 39,
   "metadata": {
    "collapsed": false
   },
   "outputs": [
    {
     "name": "stdout",
     "output_type": "stream",
     "text": [
      "----------------------------------------\n",
      "Method: GP_Bmax\n",
      "[[0.01271343 0.0114679  0.00865963]\n",
      " [0.0114679  0.01432951 0.00945242]\n",
      " [0.00865963 0.00945242 0.01097053]]\n"
     ]
    },
    {
     "data": {
      "text/plain": [
       "0"
      ]
     },
     "execution_count": 39,
     "metadata": {},
     "output_type": "execute_result"
    }
   ],
   "source": [
    "# Checking that the inverse of the inverse covariance matrix is \n",
    "# the covariance matrix. OK.\n",
    "\n",
    "print '-'*40\n",
    "print 'Method:', Method\n",
    "print np.linalg.inv(InvCov_ResidualMu_YJH)\n",
    "\n",
    "\"\"\"\n",
    "----------------------------------------\n",
    "Method: Template_M\n",
    "[[ 0.01783799  0.00812965  0.00658635]\n",
    " [ 0.00812965  0.01395943  0.01232575]\n",
    " [ 0.00658635  0.01232575  0.02068883]]\n",
    "\"\"\"\n",
    "0"
   ]
  },
  {
   "cell_type": "code",
   "execution_count": 40,
   "metadata": {
    "collapsed": false
   },
   "outputs": [
    {
     "name": "stdout",
     "output_type": "stream",
     "text": [
      "----------------------------------------\n",
      "Method: GP_Bmax\n",
      "The correlation matrix of YJH bands:\n",
      "[[1.         0.84964351 0.73325309]\n",
      " [0.84964351 1.         0.75389966]\n",
      " [0.73325309 0.75389966 1.        ]]\n"
     ]
    },
    {
     "data": {
      "text/plain": [
       "0"
      ]
     },
     "execution_count": 40,
     "metadata": {},
     "output_type": "execute_result"
    }
   ],
   "source": [
    "# The correlation matrix\n",
    "\n",
    "# This quantity is NOT needed in my computations. I just\n",
    "# compute it here to visualize it and gain better understanding\n",
    "# of my results.\n",
    "\n",
    "Corr_ResidualMu_YJH = np.corrcoef(Residual_YJH_np.T)\n",
    "\n",
    "print '-'*40\n",
    "print 'Method:', Method\n",
    "print 'The correlation matrix of YJH bands:'\n",
    "print Corr_ResidualMu_YJH\n",
    "\n",
    "\"\"\"\n",
    "The correlation matrix of YJH bands:\n",
    "----------------------------------------\n",
    "Method: Template_M\n",
    "The correlation matrix of YJH bands:\n",
    "[[ 1.          0.51518702  0.34284969]\n",
    " [ 0.51518702  1.          0.72528967]\n",
    " [ 0.34284969  0.72528967  1.        ]]\n",
    "\"\"\"\n",
    "0"
   ]
  },
  {
   "cell_type": "code",
   "execution_count": null,
   "metadata": {
    "collapsed": true
   },
   "outputs": [],
   "source": []
  },
  {
   "cell_type": "markdown",
   "metadata": {},
   "source": [
    "---------"
   ]
  },
  {
   "cell_type": "markdown",
   "metadata": {},
   "source": [
    "# Total distance modulus"
   ]
  },
  {
   "cell_type": "markdown",
   "metadata": {},
   "source": [
    "## Any YJHK HD\n",
    "### Main loop\n",
    "\n",
    "This cell produce also the final latex table that will be used in the paper. The \"14_Latex_Tables_Figures_v2_5.ipynb\" script doesn't do it."
   ]
  },
  {
   "cell_type": "code",
   "execution_count": 41,
   "metadata": {
    "collapsed": false
   },
   "outputs": [
    {
     "name": "stdout",
     "output_type": "stream",
     "text": [
      "1 , J-H-K__1 , sn1998bu__U_69_B_9_CfA\n",
      "2 , J-H__1 , sn1999ee__U_45_B_1_CSP\n",
      "3 , J-H__2 , sn1999ek__U_2_B_38_Others\n",
      "4 , J__1 , sn2000ca__U_6_B_18_CSP\n",
      "5 , J-H-K__2 , sn2000E__U_5_B_27__Others\n",
      "6 , J-H-K__3 , sn2001ba__B_30_V_3_CSP\n",
      "7 , J-H-K__4 , sn2001bt__B_22_V_2_Others\n",
      "8 , J-H-K__5 , sn2001cz__B_14_V_1_Others\n",
      "9 , J-H-K__6 , sn2001el__U_20_B_4_Others\n",
      "10 , J-H-K__7 , sn2002dj__U_13_B_1_Others\n",
      "11 , J-H-Y__1 , sn2004eo_dummytext_CSP\n",
      "12 , J-H-Y__2 , sn2004ey_dummytext_CSP\n",
      "13 , J-H-K__8 , sn2005cf__U_36_B_1_CfA\n",
      "14 , J-H-Y__3 , sn2005el_dummytext_CSP\n",
      "15 , J-H-Y__4 , sn2005iq_dummytext_CSP\n",
      "16 , J-H-Y__5 , sn2005kc_dummytext_CSP\n",
      "17 , J-H-Y__6 , sn2005ki_dummytext_CSP\n",
      "18 , J-H-Y__7 , sn2006ax_dummytext_CSP\n",
      "19 , J-H-Y__8 , sn2006bh_dummytext_CSP\n",
      "20 , J__2 , sn2006bt_dummytext_CSP\n",
      "21 , J-H-K__9 , sn2006D__U_24_B_22_CfA\n",
      "22 , J-H-Y__9 , sn2006kf_dummytext_CSP\n",
      "23 , J-H__3 , sn2006lf__U_3_B_24_CfA\n",
      "24 , J-Y__1 , sn2007A_dummytext__CSP\n",
      "25 , J-H-Y__10 , sn2007af_dummytext_CSP\n",
      "26 , J__3 , sn2007bc_dummytext_CSP\n",
      "27 , J-Y__2 , sn2007bd_dummytext_CSP\n",
      "28 , J-Y__3 , sn2007jg_dummytext_CSP\n",
      "29 , J-H-Y__11 , sn2007le_dummytext_CSP\n",
      "30 , J-H-Y__12 , sn2008ar_dummytext_CSP\n",
      "31 , J-H-Y__13 , sn2008bc_dummytext_CSP\n",
      "32 , J-Y__4 , sn2008bf_dummytext_CSP\n",
      "33 , J-H-Y__14 , sn2008gp_dummytext_CSP\n",
      "34 , J-Y__5 , sn2008hj_dummytext_CSP\n",
      "35 , J-K__1 , sn2008hs__U_2_B_15_CfA\n",
      "36 , J-H-Y__15 , sn2008hv_dummytext_CSP\n",
      "37 , J-H-Y__16 , sn2009aa_dummytext_CSP\n",
      "38 , J-H-Y__17 , sn2009ad_dummytext_CSP\n",
      "39 , J-H-Y__18 , sn2009ag_dummytext_CSP\n",
      "40 , J-H__4 , sn2009al__u_prime__CfA\n",
      "41 , J-H-K__10 , sn2009an__u_prime__CfA\n",
      "42 , J-H-Y__19 , sn2009cz_dummytext_CSP\n",
      "43 , J-H-Y__20 , sn2009D_dummytext__CSP\n",
      "44 , J-H-Y__21 , sn2009Y_dummytext__CSP\n",
      "45 , J-H-K__11 , sn2010ai__B_16_V_2_CfA\n",
      "46 , J-H__5 , sn2010kg__B_23_V_2_CfA\n",
      "47 , J-H__6 , sn2011ao__B_16_V_3_CfA\n",
      "48 , J__4 , sn2011B__B_30_V_31_CfA\n",
      "49 , J-H__7 , sn2011by__B_38_V_2_CfA\n",
      "50 , J-H__8 , sn2011df__B_15_V_1_CfA\n",
      "51 , J-H__9 , snf20080514-002__J_CfA\n",
      "52 , Y__1 , sn2007ai_dummytext_CSP\n",
      "53 , Y__2 , sn2007as_dummytext_CSP\n",
      "54 , Y__3 , sn2007ca_dummytext_CSP\n",
      "55 , K__1 , sn2008gb__U_5_B_14_CfA\n",
      "56 , H__1 , sn2007as_dummytext_CSP\n",
      "57 , H__2 , sn2007ca_dummytext_CSP\n",
      "58 , H__3 , sn2009bv__B_18_V_1_CfA\n"
     ]
    }
   ],
   "source": [
    "# The MAIN loop: SNe with distance modulus in ANY band.\n",
    "# (The loops in the cells below are copied from this loop cell)\n",
    "\n",
    "# SNe with YJHK data, but if there is not data in the 4 bands, then use 3, or 2, or 1 band.\n",
    "\n",
    "# Open the writting to a text file\n",
    "textfile_1 = open(DirSaveOutput+'Table_TotalMu_AllBands_.txt', 'w')\n",
    "textfile_2 = open(DirSaveOutput+'Table_TotalMu_AllBands_Latex_.txt', 'w')\n",
    "textfile_3 = open(DirSaveOutput+'Table_TotalMu_AllBands_snNames_.txt', 'w')\n",
    "\n",
    "now = datetime.datetime.now() # Read the time and date right now\n",
    "# old. text_timenow = now.strftime(\"%Y-%m-%d (yyyy-mm-dd); %H:%M hrs.\")\n",
    "text_timenow = now.strftime(\"%Y-%m-%d (yyyy-mm-dd).\")\n",
    "text_Date   = '# On date: %s \\n'%text_timenow\n",
    "text_Author = '# Data table created by: Arturo Avelino \\n'\n",
    "text_script = '# Script used: %s \\n'%NotebookName\n",
    "text_line = '#'+'-'*60 + '\\n'\n",
    "\n",
    "textfile_1.write(text_line)\n",
    "textfile_1.write(text_Author); textfile_1.write(text_Date); textfile_1.write(text_script); \n",
    "textfile_1.write(text_line)\n",
    "\n",
    "textfile_3.write(text_line)\n",
    "textfile_3.write(text_Author); textfile_3.write(text_Date); textfile_3.write(text_script); \n",
    "textfile_3.write(text_line)\n",
    "\n",
    "text_1 = '#   SN name                     z_CMB         error_zcmb       mu_total      error_mu       \\\n",
    "mu_residual    chi2_dof  Sample     mu_Y         error_mu_Y       mu_J          error_mu_J      mu_H           \\\n",
    "error_mu_H     mu_K            error_mu_K    Unused columns \\n'\n",
    "textfile_1.write(text_1); \n",
    "textfile_3.write(text_1); \n",
    "# textfile_2.write('% '+text_1)\n",
    "\n",
    "# Some counters\n",
    "count_YJHK = 0;\n",
    "count_YJH = 0; count_YJ = 0; count_JH = 0; \n",
    "count_JHK = 0; count_JK = 0; \n",
    "count_J=0; count_Y=0;  count_H=0; count_K=0;\n",
    "count_all = 0;\n",
    "\n",
    "# Loop over SNe in J band (it contains almost all the SNe)\n",
    "for i in range(len(MuData_J_names)): \n",
    "    \n",
    "    # Resetting variables\n",
    "    snName = '';\n",
    "    zcmbInt = 0; error_zcmbInt=0; chi2dofInt=0;\n",
    "    mu_LCDMInt=0; mu_residualInt=0;\n",
    "    SampleFlag = 0; SampleFlatText='';\n",
    "    mu_Y = 0; mu_J = 0; mu_H = 0; mu_K = 0;\n",
    "    err_mu_Y=0; err_mu_J=0; err_mu_H=0; err_mu_K=0;\n",
    "    mu_np  = np.zeros(3); errorMu_np = np.zeros(3); \n",
    "    var_np = np.zeros(3);\n",
    "    weight_InvError2Mu_np=np.zeros(3);\n",
    "    CovMatrix_Mu = np.zeros([3,3]); InvCovMatrix_Mu = np.zeros([3,3]);\n",
    "    Numerator_Mu = 0; Denominator_Mu = 0;\n",
    "    Numerator_Var = 0; \n",
    "    muTotal = 0; error_muTotal = 0;\n",
    "    JbandOnly = 0;\n",
    "    \n",
    "    #--------------------------------\n",
    "    \n",
    "    # Defining variables\n",
    "    \n",
    "    snName = MuData_J_names[i] \n",
    "    \n",
    "    # Begin textfile variables --->>\n",
    "    # These variables are not used for computing, they are just to \n",
    "    # be written in the text files \n",
    "    zcmbInt = Mu_J_dict[snName][4]\n",
    "    error_zcmbInt = Mu_J_dict[snName][5]\n",
    "    chi2dofInt = Mu_J_dict[snName][6]\n",
    "    mu_LCDMInt = DistanceMu(zcmbInt, OmMFix, wFix, HoFix)\n",
    "    \n",
    "    # Sample flag\n",
    "    SampleFlag = Mu_J_dict[snName][3]\n",
    "    if   SampleFlag ==1: SampleFlatText = 'CfA' \n",
    "    elif SampleFlag ==2: SampleFlatText = 'CSP'\n",
    "    elif SampleFlag ==3: SampleFlatText = 'Others'\n",
    "    # <<---- End textfile variables \n",
    "    \n",
    "    \n",
    "    if snName in MuData_H_names: # In H band\n",
    "        if snName in MuData_K_names: # In K band  \n",
    "            if snName in MuData_Y_names: # In Y band  \n",
    "                \n",
    "                # SNe with distance mu from YJHK bands:\n",
    "            \n",
    "                #--- Begin copy (this is the original) ---------->> \n",
    "                count_YJHK = count_YJHK + 1\n",
    "                count_all  = count_all  + 1\n",
    "                print count_all, ', J-H-K-Y__%r'%count_YJHK, ',', snName\n",
    "                \n",
    "                # In Andy's compilation there are four SNe only with observations \n",
    "                # in YJHK band that \n",
    "                # passed my cutoffs for the Gaussian-Process Hubble diagram, \n",
    "                # then the covariance matrix \n",
    "                # for YJHK was constructed based on 4 data only;\n",
    "                # this makes the Cov_ResidualMu_YJHK very unreliable, so for these \n",
    "                # 4 SNe I'm going to ignore\n",
    "                # their K band (the most unstable band) and then use the \n",
    "                # Cov_ResidualMu_YJH for them instead, \n",
    "                # I mean, I treat those 4 SNe as if they had observations in the \n",
    "                # YJH bands only and then \n",
    "                # use the corresponding YJH covariance matrix for them.\n",
    "    \n",
    "                # The distance mu and uncertainties from each NIR band.\n",
    "                mu_Y = Mu_Y_dict[snName][0]; err_mu_Y = Mu_Y_dict[snName][1];\n",
    "                mu_J = Mu_J_dict[snName][0]; err_mu_J = Mu_J_dict[snName][1];\n",
    "                mu_H = Mu_H_dict[snName][0]; err_mu_H = Mu_H_dict[snName][1];\n",
    "                if count_YJHK >= MinSNeForYJHK: \n",
    "                    mu_K = Mu_K_dict[snName][0]; err_mu_K = Mu_K_dict[snName][1];\n",
    "                else: mu_K = -1.000000000; err_mu_K = -1.000000000;\n",
    "                                \n",
    "                # distance mu array\n",
    "                mu_np = np.array([ mu_Y, mu_J, mu_H, mu_K  ])\n",
    "                \n",
    "                # variance of distance mu array\n",
    "                var_np = np.array([err_mu_Y**2., err_mu_J**2., err_mu_H**2., err_mu_K**2.])\n",
    "\n",
    "                #--- Computing the best estimated total distance modulus ---\n",
    "                \n",
    "                if count_YJHK >= MinSNeForYJHK:\n",
    "                    for i1 in range(4): \n",
    "                        Numerator_Mu = Numerator_Mu + mu_np[i1]*np.sum(InvCov_ResidualMu_YJHK[i1,:])\n",
    "                        Denominator_Mu = Denominator_Mu + np.sum(InvCov_ResidualMu_YJHK[i1,:]) \n",
    "                else: \n",
    "                    for i1 in range(3): \n",
    "                        Numerator_Mu = Numerator_Mu + mu_np[i1]*np.sum(InvCov_ResidualMu_YJH[i1,:])\n",
    "                        Denominator_Mu = Denominator_Mu + np.sum(InvCov_ResidualMu_YJH[i1,:]) \n",
    "                       \n",
    "                # --- Computing the VARIANCE of the total distance modulus ---\n",
    "                if count_YJHK >= MinSNeForYJHK:\n",
    "                    for i1 in range(4): \n",
    "                        Numerator_Var = Numerator_Var + var_np[i1]*(np.sum(InvCov_ResidualMu_YJHK[i1,:])/Denominator_Mu)**2.\n",
    "                else: \n",
    "                    for i1 in range(3): \n",
    "                        Numerator_Var = Numerator_Var + var_np[i1]*(np.sum(InvCov_ResidualMu_YJH[i1,:])/Denominator_Mu)**2.  \n",
    "                        \n",
    "                # <<-------- End copy (this is the original)---\n",
    "                  \n",
    "       \n",
    "            else: # SNe with distance mu from JHK bands only\n",
    "                \n",
    "                # Begin copy  ---------->> \n",
    "                count_JHK = count_JHK + 1\n",
    "                count_all  = count_all  + 1\n",
    "                print count_all, ', J-H-K__%r'%count_JHK, ',', snName\n",
    "\n",
    "                # The distance mu and uncertainties for the bands.\n",
    "                mu_Y = -1.000000000;         err_mu_Y = -1.000000000;\n",
    "                mu_J = Mu_J_dict[snName][0]; err_mu_J = Mu_J_dict[snName][1];\n",
    "                mu_H = Mu_H_dict[snName][0]; err_mu_H = Mu_H_dict[snName][1];\n",
    "                mu_K = Mu_K_dict[snName][0]; err_mu_K = Mu_K_dict[snName][1];\n",
    "                \n",
    "                # distance mu array\n",
    "                mu_np = np.array([ mu_J, mu_H, mu_K ])\n",
    "                # variance of distance mu array\n",
    "                var_np = np.array([err_mu_J**2., err_mu_H**2., err_mu_K**2.])\n",
    "                \n",
    "                #--- Computing the best estimated total distance modulus ---\n",
    "                for i2 in range(3): \n",
    "                    Numerator_Mu = Numerator_Mu + mu_np[i2]*np.sum(InvCov_ResidualMu_JHK[i2,:])\n",
    "                    Denominator_Mu = Denominator_Mu + np.sum(InvCov_ResidualMu_JHK[i2,:]) \n",
    "\n",
    "                # --- Computing the VARIANCE of the total distance modulus ---\n",
    "                for i2 in range(3): \n",
    "                    Numerator_Var = Numerator_Var + var_np[i2]*(np.sum(InvCov_ResidualMu_JHK[i2,:])/Denominator_Mu)**2.\n",
    "\n",
    "                # <<-------- End copy\n",
    "                   \n",
    "                \n",
    "        elif snName in MuData_Y_names: # In Y band  \n",
    "            \n",
    "            # SNe with distance mu from YJH bands.\n",
    "\n",
    "            # Begin copy  ---------->> \n",
    "            count_YJH = count_YJH + 1\n",
    "            count_all  = count_all  + 1\n",
    "            print count_all, ', J-H-Y__%r'%count_YJH, ',', snName\n",
    "\n",
    "            # The distance mu and uncertainties for the bands.\n",
    "            mu_Y = Mu_Y_dict[snName][0]; err_mu_Y = Mu_Y_dict[snName][1];\n",
    "            mu_J = Mu_J_dict[snName][0]; err_mu_J = Mu_J_dict[snName][1];\n",
    "            mu_H = Mu_H_dict[snName][0]; err_mu_H = Mu_H_dict[snName][1];\n",
    "            mu_K = -1.000000000;         err_mu_K = -1.000000000;\n",
    "\n",
    "            # distance mu array\n",
    "            mu_np = np.array([ mu_Y, mu_J, mu_H  ])\n",
    "            # variance of distance mu array\n",
    "            var_np = np.array([err_mu_Y**2., err_mu_J**2., err_mu_H**2.])\n",
    "\n",
    "            #--- Computing the best estimated total distance modulus ---\n",
    "            for i3 in range(3): \n",
    "                Numerator_Mu = Numerator_Mu + mu_np[i3]*np.sum(InvCov_ResidualMu_YJH[i3,:])\n",
    "                Denominator_Mu = Denominator_Mu + np.sum(InvCov_ResidualMu_YJH[i3,:]) \n",
    "                \n",
    "            # --- Computing the VARIANCE of the total distance modulus ---\n",
    "            for i3 in range(3): \n",
    "                Numerator_Var = Numerator_Var + var_np[i3]*( np.sum(InvCov_ResidualMu_YJH[i3,:])/Denominator_Mu )**2.\n",
    "                \n",
    "            # <<-------- End copy     \n",
    "            \n",
    "        else: # SNe with distance mu from JH bands.\n",
    "\n",
    "            # Begin copy  ---------->> \n",
    "            count_JH = count_JH + 1\n",
    "            count_all  = count_all  + 1\n",
    "            print count_all, ', J-H__%r'%count_JH, ',', snName\n",
    "\n",
    "            # The distance mu and uncertainties for the bands.\n",
    "            mu_Y = -1.000000000;         err_mu_Y = -1.000000000;\n",
    "            mu_J = Mu_J_dict[snName][0]; err_mu_J = Mu_J_dict[snName][1];\n",
    "            mu_H = Mu_H_dict[snName][0]; err_mu_H = Mu_H_dict[snName][1];\n",
    "            mu_K = -1.000000000;         err_mu_K = -1.000000000;\n",
    "\n",
    "            # distance mu array\n",
    "            mu_np = np.array([ mu_J, mu_H  ])\n",
    "            # variance of distance mu array\n",
    "            var_np = np.array([err_mu_J**2., err_mu_H**2.])\n",
    "\n",
    "            #--- Computing the best estimated total distance modulus ---\n",
    "            for i4 in range(2): \n",
    "                Numerator_Mu = Numerator_Mu + mu_np[i4]*np.sum(InvCov_ResidualMu_JH[i4,:])\n",
    "                Denominator_Mu = Denominator_Mu + np.sum(InvCov_ResidualMu_JH[i4,:])  \n",
    "                \n",
    "            # --- Computing the VARIANCE of the total distance modulus ---\n",
    "            for i4 in range(2): \n",
    "                Numerator_Var = Numerator_Var + var_np[i4]*(np.sum(InvCov_ResidualMu_JH[i4,:])/Denominator_Mu )**2.              \n",
    "                \n",
    "            # <<-------- End copy                       \n",
    "           \n",
    "        \n",
    "    elif snName in MuData_Y_names: # In Y band  \n",
    "        \n",
    "        # SNe with distance mu from YJ bands.  \n",
    "\n",
    "        #--- Begin copy  ---------->> \n",
    "        count_YJ = count_YJ + 1\n",
    "        count_all  = count_all  + 1\n",
    "        print count_all, ', J-Y__%r'%count_YJ, ',', snName\n",
    "\n",
    "        # The distance mu and uncertainties for the bands.\n",
    "        mu_Y = Mu_Y_dict[snName][0]; err_mu_Y = Mu_Y_dict[snName][1];\n",
    "        mu_J = Mu_J_dict[snName][0]; err_mu_J = Mu_J_dict[snName][1];\n",
    "        mu_H = -1.000000000; err_mu_H = -1.000000000;\n",
    "        mu_K = -1.000000000; err_mu_K = -1.000000000;\n",
    "\n",
    "        # distance mu array\n",
    "        mu_np = np.array([ mu_Y, mu_J  ])\n",
    "        # variance of distance mu array\n",
    "        var_np = np.array([err_mu_Y**2., err_mu_J**2.])\n",
    "\n",
    "        #--- Computing the best estimated total distance modulus ---\n",
    "        for i5 in range(2): \n",
    "            Numerator_Mu = Numerator_Mu + mu_np[i5]*np.sum(InvCov_ResidualMu_YJ[i5,:])\n",
    "            Denominator_Mu = Denominator_Mu + np.sum(InvCov_ResidualMu_YJ[i5,:])  \n",
    "            \n",
    "        # --- Computing the VARIANCE of the total distance modulus ---\n",
    "        for i5 in range(2): \n",
    "            Numerator_Var = Numerator_Var + var_np[i5]*(np.sum(InvCov_ResidualMu_YJ[i5,:])/Denominator_Mu)**2.\n",
    "            \n",
    "        # <<-------- End copy ---            \n",
    "          \n",
    "            \n",
    "    elif snName in MuData_K_names: # In K band  # SNe with distance mu from JK bands.\n",
    "\n",
    "        # Begin copy  ---------->> \n",
    "        count_JK = count_JK + 1\n",
    "        count_all  = count_all  + 1\n",
    "        print count_all, ', J-K__%r'%count_JK, ',', snName\n",
    "\n",
    "        # The distance mu and uncertainties for the bands.\n",
    "        mu_Y = -1.000000000;         err_mu_Y = -1.000000000;\n",
    "        mu_J = Mu_J_dict[snName][0]; err_mu_J = Mu_J_dict[snName][1];\n",
    "        mu_H = -1.000000000;         err_mu_H = -1.000000000;\n",
    "        mu_K = Mu_K_dict[snName][0]; err_mu_K = Mu_K_dict[snName][1];\n",
    "\n",
    "        # distance mu array\n",
    "        mu_np = np.array([ mu_J, mu_K  ])\n",
    "        # variance of distance mu array\n",
    "        var_np = np.array([err_mu_J**2., err_mu_K**2.])\n",
    "\n",
    "        #--- Computing the best estimated total distance modulus ---\n",
    "        for i6 in range(2): \n",
    "            Numerator_Mu = Numerator_Mu + mu_np[i6]*np.sum(InvCov_ResidualMu_JK[i6,:])\n",
    "            Denominator_Mu = Denominator_Mu + np.sum(InvCov_ResidualMu_JK[i6,:]) \n",
    "            \n",
    "        # --- Computing the VARIANCE of the total distance modulus ---\n",
    "        for i6 in range(2): \n",
    "            Numerator_Var = Numerator_Var + var_np[i6]*(np.sum(InvCov_ResidualMu_JK[i6,:])/Denominator_Mu)**2.\n",
    "        # <<-------- End copy             \n",
    "            \n",
    "            \n",
    "    else: # In J band only  # SNe with distance mu from J band only.\n",
    "\n",
    "        # Begin copy  ---------->> \n",
    "        count_J = count_J + 1\n",
    "        count_all  = count_all  + 1\n",
    "        print count_all, ', J__%r'%count_J, ',', snName\n",
    "        \n",
    "        # The distance mu and uncertainties for the bands.\n",
    "        mu_Y = -1.000000000;         err_mu_Y = -1.000000000;\n",
    "        mu_J = Mu_J_dict[snName][0]; err_mu_J = Mu_J_dict[snName][1];\n",
    "        mu_H = -1.000000000;         err_mu_H = -1.000000000;\n",
    "        mu_K = -1.000000000;         err_mu_K = -1.000000000;\n",
    "        \n",
    "        JbandOnly = 1 # Flag to indicate that this SNe only have data in J band.\n",
    "        # <<-------- End copy               \n",
    "      \n",
    "    #---------------------------------------------------------------------------------------\n",
    "    # TOTAL distance mu and its uncertainty\n",
    "    \n",
    "    if JbandOnly == 1:\n",
    "        muTotal = mu_J \n",
    "        error_muTotal = err_mu_J  # Uncertainty in the total distance mu\n",
    "    else:\n",
    "        muTotal = Numerator_Mu/Denominator_Mu  # TOTAL distance mu\n",
    "        #old. error_muTotal = np.sqrt(1/Denominator_Mu)  # Uncertainty in the total distance mu\n",
    "        error_muTotal= np.sqrt(Numerator_Var) # Uncertainty in the total distance mu\n",
    "\n",
    "    mu_residualInt = muTotal - mu_LCDMInt # Residual distance modulus\n",
    "    \n",
    "    #---------------------------------------------------------------------------------------\n",
    "    \n",
    "    # For the latex text file:\n",
    "    \n",
    "    if mu_Y == -1.000000000: mu_Y_latex = '...'\n",
    "    else: mu_Y_latex = '$%.2f \\pm %.2f$'%(mu_Y, err_mu_Y)\n",
    "        \n",
    "    if mu_J == -1.000000000: mu_J_latex = '...'\n",
    "    else: mu_J_latex = '$%.2f \\pm %.2f$'%(mu_J, err_mu_J)\n",
    "        \n",
    "    if mu_H == -1.000000000: mu_H_latex = '...'\n",
    "    else: mu_H_latex = '$%.2f \\pm %.2f$'%(mu_H, err_mu_H)\n",
    "        \n",
    "    if mu_K == -1.000000000: mu_K_latex = '...'\n",
    "    else: mu_K_latex = '$%.2f \\pm %.2f$'%(mu_K, err_mu_K)\n",
    "        \n",
    "    #----------\n",
    "    # Creating a string with the exact name of the SN\n",
    "    \n",
    "    if snName[7]=='_': name = snName[0:7] # To read correctly, e.g., \"sn2011B\"\n",
    "    elif snName[7]!='_': \n",
    "        if is_number(snName[7]): name = snName[0:15] # To read correctly, e.g., \"snf20080514-002\"\n",
    "        else: name = snName[0:8]   # To read correctly, e.g., \"sn1998bu\"\n",
    "\n",
    "    #------Write to the text file -------------------\n",
    "    \n",
    "    textfile_1.write('%-30s  %.10f  %.10f  %.10f  %.10f  %14.10f  1.00000000    %.0f    %.10f  %14.10f  \\\n",
    "%.10f  %14.10f  %.10f  %14.10f  %.10f  %14.10f  \\\n",
    "0  0  0  0  0  0  0  0  0  0  0  0  0  0  0  0  0  0 \\n'%\n",
    "                     (snName, zcmbInt, error_zcmbInt, muTotal, error_muTotal, mu_residualInt, SampleFlag,\n",
    "                      mu_Y, err_mu_Y, mu_J, err_mu_J, mu_H, err_mu_H, mu_K, err_mu_K ))\n",
    "    # Latex file:\n",
    "    textfile_2.write('SN%-10s & %s & %s & %s & %s & %s & $%.2f \\pm %.3f$ \\\\\\\\ \\n'%\n",
    "                     (name[2:], SampleFlatText, mu_Y_latex, mu_J_latex, mu_H_latex, mu_K_latex,\n",
    "                      muTotal, error_muTotal))\n",
    "    \n",
    "    textfile_3.write('%-30s  %.10f  %.10f  %.10f  %.10f  %14.10f  1.00000000    %.0f    %.10f  %14.10f  \\\n",
    "%.10f  %14.10f  %.10f  %14.10f  %.10f  %14.10f  \\\n",
    "0  0  0  0  0  0  0  0  0  0  0  0  0  0  0  0  0  0 \\n'%\n",
    "                     (name, zcmbInt, error_zcmbInt, muTotal, error_muTotal, mu_residualInt, SampleFlag,\n",
    "                      mu_Y, err_mu_Y, mu_J, err_mu_J, mu_H, err_mu_H, mu_K, err_mu_K ))\n",
    "\n",
    "    #<<--------END main loop ------------\n",
    "textfile_1.write(text_line)\n",
    "textfile_2.write('%'+text_line)\n",
    "textfile_3.write(text_line)\n",
    "    \n",
    "#------------ BEGIN LOOP 2: Y band ------------\n",
    "# SNe that are not in J band HD list but should be included.\n",
    "\n",
    "textfile_1.write(\"# Y band only. \\n\")\n",
    "textfile_2.write('%'+\"# Y band only. \\n\")\n",
    "textfile_3.write(\"# Y band only. \\n\")\n",
    "for j1 in range(len(MuData_Y_names)):\n",
    "    \n",
    "    snName = MuData_Y_names[j1] \n",
    "    \n",
    "    # If this SNe is not in J band, then include it in the text file:\n",
    "    if snName not in MuData_J_names:\n",
    "        # Begin textfile variables --->>\n",
    "        # These variables are not used for computing, they are just to be written in the text files \n",
    "        zcmbInt = Mu_Y_dict[snName][4]\n",
    "        error_zcmbInt = Mu_Y_dict[snName][5]\n",
    "        chi2dofInt = Mu_Y_dict[snName][6]\n",
    "        mu_LCDMInt = DistanceMu(zcmbInt, OmMFix, wFix, HoFix)\n",
    "\n",
    "        # Sample flag\n",
    "        SampleFlag = Mu_Y_dict[snName][3]\n",
    "        if   SampleFlag ==1: SampleFlatText = 'CfA' \n",
    "        elif SampleFlag ==2: SampleFlatText = 'CSP'\n",
    "        elif SampleFlag ==3: SampleFlatText = 'Others'\n",
    "        # <<---- End textfile variables \n",
    "    \n",
    "        # The distance mu and uncertainties for the bands.\n",
    "        mu_Y = Mu_Y_dict[snName][0]; err_mu_Y = Mu_Y_dict[snName][1];\n",
    "        mu_J = -1.000000000;         err_mu_J = -1.000000000;\n",
    "        mu_H = -1.000000000;         err_mu_H = -1.000000000;\n",
    "        mu_K = -1.000000000;         err_mu_K = -1.000000000;\n",
    "        \n",
    "        # TOTAL distance mu and its uncertainty\n",
    "        muTotal = mu_Y \n",
    "        error_muTotal = err_mu_Y  # Uncertainty in the total distance mu\n",
    "        mu_residualInt = muTotal - mu_LCDMInt # Residual distance modulus\n",
    "        \n",
    "        # For the latex text file:\n",
    "        if mu_Y == -1.000000000: mu_Y_latex = '...'\n",
    "        else: mu_Y_latex = '$%.2f \\pm %.2f$'%(mu_Y, err_mu_Y)\n",
    "        if mu_J == -1.000000000: mu_J_latex = '...'\n",
    "        else: mu_J_latex = '$%.2f \\pm %.2f$'%(mu_J, err_mu_J)\n",
    "        if mu_H == -1.000000000: mu_H_latex = '...'\n",
    "        else: mu_H_latex = '$%.2f \\pm %.2f$'%(mu_H, err_mu_H)\n",
    "        if mu_K == -1.000000000: mu_K_latex = '...'\n",
    "        else: mu_K_latex = '$%.2f \\pm %.2f$'%(mu_K, err_mu_K)\n",
    "            \n",
    "        #----------\n",
    "        # Creating a string with the exact name of the SN\n",
    "        if snName[7]=='_': name = snName[0:7] # To read correctly, e.g., \"sn2011B\"\n",
    "        elif snName[7]!='_': \n",
    "            if is_number(snName[7]): name = snName[0:15] # To read correctly, e.g., \"snf20080514-002\"\n",
    "            else: name = snName[0:8]   # To read correctly, e.g., \"sn1998bu\"\n",
    "        \n",
    "        textfile_1.write('%-30s  %.10f  %.10f  %.10f  %.10f  %14.10f  1.00000000    %.0f    %.10f  %14.10f  \\\n",
    "%.10f  %14.10f  %.10f  %14.10f  %.10f  %14.10f  \\\n",
    "0  0  0  0  0  0  0  0  0  0  0  0  0  0  0  0  0  0 \\n'%\n",
    "                     (snName, zcmbInt, error_zcmbInt, muTotal, error_muTotal, mu_residualInt, SampleFlag,\n",
    "                      mu_Y, err_mu_Y, mu_J, err_mu_J, mu_H, err_mu_H, mu_K, err_mu_K ))\n",
    "        # Latex file:\n",
    "        textfile_2.write('SN%-10s & %s & %s & %s & %s & %s & $%.2f \\pm %.3f$ \\\\\\\\ \\n'%\n",
    "                     (name[2:], SampleFlatText, mu_Y_latex, mu_J_latex, mu_H_latex, mu_K_latex,\n",
    "                      muTotal, error_muTotal))\n",
    "        \n",
    "        textfile_3.write('%-30s  %.10f  %.10f  %.10f  %.10f  %14.10f  1.00000000    %.0f    %.10f  %14.10f  \\\n",
    "%.10f  %14.10f  %.10f  %14.10f  %.10f  %14.10f  \\\n",
    "0  0  0  0  0  0  0  0  0  0  0  0  0  0  0  0  0  0 \\n'%\n",
    "                     (name, zcmbInt, error_zcmbInt, muTotal, error_muTotal, mu_residualInt, SampleFlag,\n",
    "                      mu_Y, err_mu_Y, mu_J, err_mu_J, mu_H, err_mu_H, mu_K, err_mu_K ))\n",
    "        \n",
    "        count_all += 1; count_Y += 1\n",
    "        print count_all, ', Y__%r'%count_Y, ',', snName\n",
    "   \n",
    "    #-------------END LOOP 2: Y band -----------------------------\n",
    "textfile_1.write(text_line)\n",
    "textfile_2.write('%'+text_line)\n",
    "textfile_3.write(text_line)\n",
    "\n",
    "#------------ BEGIN LOOP 3: K band ------------\n",
    "# Copy/paste of \"BEGIN LOOP 2: Y band\" but just replacing:\n",
    "# \"_Y_\" --> \"_K_\"\n",
    "# \"j1\" --> \"j2\"\n",
    "\n",
    "textfile_1.write(\"# K band only. \\n\")\n",
    "textfile_2.write('%'+\"# K band only. \\n\")\n",
    "textfile_3.write(\"# K band only. \\n\")\n",
    "\n",
    "# SNe that are not in J band HD list but should be included.\n",
    "for j2 in range(len(MuData_K_names)):\n",
    "    \n",
    "    snName = MuData_K_names[j2] \n",
    "    \n",
    "    # If this SNe is not in J band, then include it in the text file:\n",
    "    if snName not in MuData_J_names:\n",
    "        # Begin textfile variables --->>\n",
    "        # These variables are not used for computing, they are just to be written in the text files \n",
    "        zcmbInt = Mu_K_dict[snName][4]\n",
    "        error_zcmbInt = Mu_K_dict[snName][5]\n",
    "        chi2dofInt = Mu_K_dict[snName][6]\n",
    "        mu_LCDMInt = DistanceMu(zcmbInt, OmMFix, wFix, HoFix)\n",
    "\n",
    "        # Sample flag\n",
    "        SampleFlag = Mu_K_dict[snName][3]\n",
    "        if   SampleFlag ==1: SampleFlatText = 'CfA' \n",
    "        elif SampleFlag ==2: SampleFlatText = 'CSP'\n",
    "        elif SampleFlag ==3: SampleFlatText = 'Others'\n",
    "        # <<---- End textfile variables \n",
    "    \n",
    "        # The distance mu and uncertainties for the bands.\n",
    "        mu_Y = -1.000000000;         err_mu_Y = -1.000000000;\n",
    "        mu_J = -1.000000000;         err_mu_J = -1.000000000;\n",
    "        mu_H = -1.000000000;         err_mu_H = -1.000000000;\n",
    "        mu_K = Mu_K_dict[snName][0]; err_mu_K = Mu_K_dict[snName][1];\n",
    "        \n",
    "        # TOTAL distance mu and its uncertainty\n",
    "        muTotal = mu_K \n",
    "        error_muTotal = err_mu_K  # Uncertainty in the total distance mu\n",
    "        mu_residualInt = muTotal - mu_LCDMInt # Residual distance modulus\n",
    "        \n",
    "        # For the latex text file:\n",
    "        if mu_Y == -1.000000000: mu_Y_latex = '...'\n",
    "        else: mu_Y_latex = '$%.2f \\pm %.2f$'%(mu_Y, err_mu_Y)\n",
    "        if mu_J == -1.000000000: mu_J_latex = '...'\n",
    "        else: mu_J_latex = '$%.2f \\pm %.2f$'%(mu_J, err_mu_J)\n",
    "        if mu_H == -1.000000000: mu_H_latex = '...'\n",
    "        else: mu_H_latex = '$%.2f \\pm %.2f$'%(mu_H, err_mu_H)\n",
    "        if mu_K == -1.000000000: mu_K_latex = '...'\n",
    "        else: mu_K_latex = '$%.2f \\pm %.2f$'%(mu_K, err_mu_K)\n",
    "            \n",
    "        #----------\n",
    "        # Creating a string with the exact name of the SN\n",
    "        if snName[7]=='_': name = snName[0:7] # To read correctly, e.g., \"sn2011B\"\n",
    "        elif snName[7]!='_': \n",
    "            if is_number(snName[7]): name = snName[0:15] # To read correctly, e.g., \"snf20080514-002\"\n",
    "            else: name = snName[0:8]   # To read correctly, e.g., \"sn1998bu\"\n",
    "        \n",
    "        textfile_1.write('%-30s  %.10f  %.10f  %.10f  %.10f  %14.10f  1.00000000    %.0f    %.10f  %14.10f  \\\n",
    "%.10f  %14.10f  %.10f  %14.10f  %.10f  %14.10f  \\\n",
    "0  0  0  0  0  0  0  0  0  0  0  0  0  0  0  0  0  0 \\n'%\n",
    "                     (snName, zcmbInt, error_zcmbInt, muTotal, error_muTotal, mu_residualInt, SampleFlag,\n",
    "                      mu_Y, err_mu_Y, mu_J, err_mu_J, mu_H, err_mu_H, mu_K, err_mu_K ))\n",
    "        # Latex file:\n",
    "        textfile_2.write('SN%-10s & %s & %s & %s & %s & %s & $%.2f \\pm %.3f$ \\\\\\\\ \\n'%\n",
    "                     (name[2:], SampleFlatText, mu_Y_latex, mu_J_latex, mu_H_latex, mu_K_latex,\n",
    "                      muTotal, error_muTotal))\n",
    "        \n",
    "        textfile_3.write('%-30s  %.10f  %.10f  %.10f  %.10f  %14.10f  1.00000000    %.0f    %.10f  %14.10f  \\\n",
    "%.10f  %14.10f  %.10f  %14.10f  %.10f  %14.10f  \\\n",
    "0  0  0  0  0  0  0  0  0  0  0  0  0  0  0  0  0  0 \\n'%\n",
    "                     (name, zcmbInt, error_zcmbInt, muTotal, error_muTotal, mu_residualInt, SampleFlag,\n",
    "                      mu_Y, err_mu_Y, mu_J, err_mu_J, mu_H, err_mu_H, mu_K, err_mu_K ))\n",
    "        \n",
    "        count_all += 1; count_K += 1\n",
    "        print count_all, ', K__%r'%count_K, ',', snName\n",
    "        \n",
    "    #-------------END LOOP 3: K band -----------------------------\n",
    "textfile_1.write(text_line)\n",
    "textfile_2.write('%'+text_line)\n",
    "textfile_3.write(text_line)\n",
    "\n",
    "#------------ BEGIN LOOP 4: H band ------------\n",
    "# Copy/paste of \"BEGIN LOOP 2: Y band\" but just replacing:\n",
    "# \"_Y_\" --> \"_K_\"\n",
    "# \"j1\" --> \"j3\"\n",
    "\n",
    "textfile_1.write(\"# H band only. \\n\")\n",
    "textfile_2.write('%'+\"# H band only. \\n\")\n",
    "textfile_3.write(\"# H band only. \\n\")\n",
    "\n",
    "for j3 in range(len(MuData_H_names)):\n",
    "    \n",
    "    snName = MuData_H_names[j3] \n",
    "    \n",
    "    # If this SNe is not in J band, then include it in the text file:\n",
    "    if snName not in MuData_J_names:\n",
    "        # Begin textfile variables --->>\n",
    "        # These variables are not used for computing, they are just to be written in the text files \n",
    "        zcmbInt = Mu_H_dict[snName][4]\n",
    "        error_zcmbInt = Mu_H_dict[snName][5]\n",
    "        chi2dofInt = Mu_H_dict[snName][6]\n",
    "        mu_LCDMInt = DistanceMu(zcmbInt, OmMFix, wFix, HoFix)\n",
    "\n",
    "        # Sample flag\n",
    "        SampleFlag = Mu_H_dict[snName][3]\n",
    "        if   SampleFlag ==1: SampleFlatText = 'CfA' \n",
    "        elif SampleFlag ==2: SampleFlatText = 'CSP'\n",
    "        elif SampleFlag ==3: SampleFlatText = 'Others'\n",
    "        # <<---- End textfile variables \n",
    "    \n",
    "        # The distance mu and uncertainties for the bands.\n",
    "        mu_Y = -1.000000000;         err_mu_Y = -1.000000000;\n",
    "        mu_J = -1.000000000;         err_mu_J = -1.000000000;\n",
    "        mu_H = Mu_H_dict[snName][0]; err_mu_H = Mu_H_dict[snName][1];\n",
    "        mu_K = -1.000000000;         err_mu_K = -1.000000000;\n",
    "        \n",
    "        # TOTAL distance mu and its uncertainty\n",
    "        muTotal = mu_H \n",
    "        error_muTotal = err_mu_H  # Uncertainty in the total distance mu\n",
    "        mu_residualInt = muTotal - mu_LCDMInt # Residual distance modulus\n",
    "        \n",
    "        # For the latex text file:\n",
    "        if mu_Y == -1.000000000: mu_Y_latex = '...'\n",
    "        else: mu_Y_latex = '$%.2f \\pm %.2f$'%(mu_Y, err_mu_Y)\n",
    "        if mu_J == -1.000000000: mu_J_latex = '...'\n",
    "        else: mu_J_latex = '$%.2f \\pm %.2f$'%(mu_J, err_mu_J)\n",
    "        if mu_H == -1.000000000: mu_H_latex = '...'\n",
    "        else: mu_H_latex = '$%.2f \\pm %.2f$'%(mu_H, err_mu_H)\n",
    "        if mu_K == -1.000000000: mu_K_latex = '...'\n",
    "        else: mu_K_latex = '$%.2f \\pm %.2f$'%(mu_K, err_mu_K)\n",
    "            \n",
    "        #----------\n",
    "        # Creating a string with the exact name of the SN\n",
    "        if snName[7]=='_': name = snName[0:7] # To read correctly, e.g., \"sn2011B\"\n",
    "        elif snName[7]!='_': \n",
    "            if is_number(snName[7]): name = snName[0:15] # To read correctly, e.g., \"snf20080514-002\"\n",
    "            else: name = snName[0:8]   # To read correctly, e.g., \"sn1998bu\"\n",
    "        \n",
    "        textfile_1.write('%-30s  %.10f  %.10f  %.10f  %.10f  %14.10f  1.00000000    %.0f    %.10f  %14.10f  \\\n",
    "%.10f  %14.10f  %.10f  %14.10f  %.10f  %14.10f  \\\n",
    "0  0  0  0  0  0  0  0  0  0  0  0  0  0  0  0  0  0 \\n'%\n",
    "                     (snName, zcmbInt, error_zcmbInt, muTotal, error_muTotal, mu_residualInt, SampleFlag,\n",
    "                      mu_Y, err_mu_Y, mu_J, err_mu_J, mu_H, err_mu_H, mu_K, err_mu_K ))\n",
    "        # Latex file:\n",
    "        textfile_2.write('SN%-10s & %s & %s & %s & %s & %s & $%.2f \\pm %.3f$ \\\\\\\\ \\n'%\n",
    "                     (name[2:], SampleFlatText, mu_Y_latex, mu_J_latex, mu_H_latex, mu_K_latex,\n",
    "                      muTotal, error_muTotal))\n",
    "        \n",
    "        textfile_3.write('%-30s  %.10f  %.10f  %.10f  %.10f  %14.10f  1.00000000    %.0f    %.10f  %14.10f  \\\n",
    "%.10f  %14.10f  %.10f  %14.10f  %.10f  %14.10f  \\\n",
    "0  0  0  0  0  0  0  0  0  0  0  0  0  0  0  0  0  0 \\n'%\n",
    "                     (name, zcmbInt, error_zcmbInt, muTotal, error_muTotal, mu_residualInt, SampleFlag,\n",
    "                      mu_Y, err_mu_Y, mu_J, err_mu_J, mu_H, err_mu_H, mu_K, err_mu_K ))\n",
    "\n",
    "        count_all += 1; count_H += 1\n",
    "        print count_all, ', H__%r'%count_H, ',', snName\n",
    "        \n",
    "    #-------------END LOOP 4: H band -----------------------------\n",
    "\n",
    "#------------------------------------------------------------\n",
    "# Close text files\n",
    "\n",
    "textfile_1.write(text_line)\n",
    "textfile_1.write(\"# %s SNe in this list. \\n\"%count_all)\n",
    "textfile_1.write(\"# %s SNe with data in YJH  bands. \\n\"%count_YJH)\n",
    "textfile_1.write(\"# %s SNe with data in JHK  bands. \\n\"%count_JHK)\n",
    "textfile_1.write(\"# %s SNe with data in YJHK bands. \\n\"%count_YJHK)\n",
    "textfile_1.write(\"# %s SNe with data in YJ   bands. \\n\"%count_YJ)\n",
    "textfile_1.write(\"# %s SNe with data in JH   bands. \\n\"%count_JH)\n",
    "textfile_1.write(\"# %s SNe with data in JK   bands. \\n\"%count_JK)\n",
    "textfile_1.write(\"# %s SNe with data in J    bands only. \\n\"%count_J)\n",
    "textfile_1.write(\"# %s SNe with data in Y    bands only. \\n\"%count_Y)\n",
    "textfile_1.write(\"# %s SNe with data in K    bands only. \\n\"%count_K)\n",
    "textfile_1.write(\"# %s SNe with data in H    bands only. \\n\"%count_H)\n",
    "\n",
    "textfile_3.write(text_line)\n",
    "textfile_3.write(\"# %s SNe in this list. \\n\"%count_all)\n",
    "textfile_3.write(\"# %s SNe with data in YJH  bands. \\n\"%count_YJH)\n",
    "textfile_3.write(\"# %s SNe with data in JHK  bands. \\n\"%count_JHK)\n",
    "textfile_3.write(\"# %s SNe with data in YJHK bands. \\n\"%count_YJHK)\n",
    "textfile_3.write(\"# %s SNe with data in YJ   bands. \\n\"%count_YJ)\n",
    "textfile_3.write(\"# %s SNe with data in JH   bands. \\n\"%count_JH)\n",
    "textfile_3.write(\"# %s SNe with data in JK   bands. \\n\"%count_JK)\n",
    "textfile_3.write(\"# %s SNe with data in J    bands only. \\n\"%count_J)\n",
    "textfile_3.write(\"# %s SNe with data in Y    bands only. \\n\"%count_Y)\n",
    "textfile_3.write(\"# %s SNe with data in K    bands only. \\n\"%count_K)\n",
    "textfile_3.write(\"# %s SNe with data in H    bands only. \\n\"%count_H)\n",
    "\n",
    "textfile_1.close(); textfile_2.close(); textfile_3.close();"
   ]
  },
  {
   "cell_type": "code",
   "execution_count": 42,
   "metadata": {
    "collapsed": true
   },
   "outputs": [],
   "source": [
    "textfile_1.close(); textfile_2.close(); textfile_3.close();"
   ]
  },
  {
   "cell_type": "code",
   "execution_count": null,
   "metadata": {},
   "outputs": [],
   "source": []
  },
  {
   "cell_type": "markdown",
   "metadata": {},
   "source": [
    "### YJHK strict.\n",
    "\n",
    "This cell produce also the final latex table that will be used in the paper. The \"14_Latex_Tables_Figures_v2_5.ipynb\" script doesn't do it."
   ]
  },
  {
   "cell_type": "code",
   "execution_count": 43,
   "metadata": {
    "collapsed": false
   },
   "outputs": [
    {
     "name": "stdout",
     "output_type": "stream",
     "text": [
      "# YJHK covariance matrix from less or equal to 4 SNe, so I didn't define it.\n"
     ]
    }
   ],
   "source": [
    "# Only if the YJHK cov matrix was defined:\n",
    "if count_YJHK >= MinSNeForYJHK: \n",
    "\n",
    "    # Loop 2: SNe with distance modulus in YJHK bands.\n",
    "    # (Ths loop is a copy from the main loop, but with small modifications)\n",
    "\n",
    "    # Open the writting to a text file\n",
    "    textfile_1 = open(DirSaveOutput+'Table_TotalMu_YJHK_.txt', 'w')\n",
    "    textfile_2 = open(DirSaveOutput+'Table_TotalMu_YJHK_Latex_.txt', 'w')\n",
    "\n",
    "    now = datetime.datetime.now() # Read the time and date right now\n",
    "    # old. text_timenow = now.strftime(\"%Y-%m-%d (yyyy-mm-dd); %H:%M hrs.\")\n",
    "    text_timenow = now.strftime(\"%Y-%m-%d (yyyy-mm-dd)\")\n",
    "    text_Date   = '# On date: %s \\n'%text_timenow\n",
    "    text_Author = '# Data table created by: Arturo Avelino \\n'\n",
    "    text_script = '# Script used: %s \\n'%NotebookName\n",
    "    text_line = '#'+'-'*60 + '\\n'\n",
    "\n",
    "    textfile_1.write(text_line)\n",
    "    textfile_1.write(text_Author); textfile_1.write(text_Date); textfile_1.write(text_script); \n",
    "    textfile_1.write(text_line)\n",
    "\n",
    "    text_1 = '#   SN name                     z_CMB         error_zcmb       mu_total      error_mu       \\\n",
    "    mu_residual    chi2_dof  Sample     mu_Y         error_mu_Y       mu_J          error_mu_J      mu_H           \\\n",
    "    error_mu_H     mu_K            error_mu_K    Unused columns \\n'\n",
    "    textfile_1.write(text_1); \n",
    "    # textfile_2.write('% '+text_1)\n",
    "\n",
    "    # Some counters\n",
    "    count_YJHK = 0;\n",
    "    count_YJH = 0; count_YJ = 0; count_JH = 0; \n",
    "    count_JHK = 0; count_JK = 0; \n",
    "    count_J=0; count_all = 0\n",
    "\n",
    "    # Loop over SNe in J band (it contains almost all the SNe)\n",
    "    for i in range(len(MuData_J_names)): \n",
    "\n",
    "        # Resetting variables\n",
    "        snName = '';\n",
    "        zcmbInt = 0; error_zcmbInt=0; chi2dofInt=0;\n",
    "        mu_LCDMInt=0; mu_residualInt=0;\n",
    "        SampleFlag = 0; SampleFlatText='';\n",
    "        mu_Y = 0; mu_J = 0; mu_H = 0; mu_K = 0;\n",
    "        err_mu_Y=0; err_mu_J=0; err_mu_H=0; err_mu_K=0;\n",
    "        mu_np  = np.zeros(3); errorMu_np = np.zeros(3); \n",
    "        weight_InvError2Mu_np=np.zeros(3);\n",
    "        var_np = np.zeros(3);\n",
    "        CovMatrix_Mu = np.zeros([3,3]); InvCovMatrix_Mu = np.zeros([3,3]);\n",
    "        Numerator_Mu = 0; Denominator_Mu = 0;\n",
    "        Numerator_Var= 0;\n",
    "        muTotal = 0; error_muTotal = 0;\n",
    "        JbandOnly = 0;\n",
    "\n",
    "        #--------------------------------\n",
    "\n",
    "        # Defining variables\n",
    "\n",
    "        snName = MuData_J_names[i] \n",
    "\n",
    "        # Begin textfile variables --->>\n",
    "        # These variables are not used for computing, they are just to be written in the text files \n",
    "        zcmbInt = Mu_J_dict[snName][4]\n",
    "        error_zcmbInt = Mu_J_dict[snName][5]\n",
    "        chi2dofInt = Mu_J_dict[snName][6]\n",
    "        mu_LCDMInt = DistanceMu(zcmbInt, OmMFix, wFix, HoFix)\n",
    "\n",
    "        # Sample flag\n",
    "        SampleFlag = Mu_J_dict[snName][3]\n",
    "        if   SampleFlag ==1: SampleFlatText = 'CfA' \n",
    "        elif SampleFlag ==2: SampleFlatText = 'CSP'\n",
    "        elif SampleFlag ==3: SampleFlatText = 'Others'\n",
    "        # <<---- End textfile variables \n",
    "\n",
    "\n",
    "        if snName in MuData_H_names: # In H band\n",
    "            if snName in MuData_K_names: # In K band  \n",
    "                if snName in MuData_Y_names: # In Y band  # SNe with distance mu from YJHK bands.\n",
    "\n",
    "                    # Begin copy (this is the original) ---------->> \n",
    "                    count_YJHK = count_YJHK + 1\n",
    "                    count_all  = count_all  + 1\n",
    "                    print count_all, ', J-H-K-Y__%r'%count_YJHK, ',', snName\n",
    "\n",
    "                    # The distance mu and uncertainties for the bands.\n",
    "                    mu_Y = Mu_Y_dict[snName][0]; err_mu_Y = Mu_Y_dict[snName][1];\n",
    "                    mu_J = Mu_J_dict[snName][0]; err_mu_J = Mu_J_dict[snName][1];\n",
    "                    mu_H = Mu_H_dict[snName][0]; err_mu_H = Mu_H_dict[snName][1];\n",
    "                    mu_K = Mu_K_dict[snName][0]; err_mu_K = Mu_K_dict[snName][1];\n",
    "\n",
    "                    # distance mu array\n",
    "                    mu_np = np.array([ mu_Y, mu_J, mu_H, mu_K  ])\n",
    "                    # variance of distance mu array\n",
    "                    var_np = np.array([err_mu_Y**2., err_mu_J**2., err_mu_H**2., err_mu_K**2.])\n",
    "\n",
    "                    #--- Computing the best estimated total distance modulus ---\n",
    "                    for i in range(4): \n",
    "                        Numerator_Mu = Numerator_Mu + mu_np[i]*np.sum(InvCov_ResidualMu_YJHK[i,:])\n",
    "                        Denominator_Mu = Denominator_Mu + np.sum(InvCov_ResidualMu_YJHK[i,:])   \n",
    "                        \n",
    "                    # --- Computing the VARIANCE of the total distance modulus ---\n",
    "                    for i in range(4): \n",
    "                        Numerator_Var = Numerator_Var + var_np[i]*(np.sum(InvCov_ResidualMu_YJHK[i,:])/Denominator_Mu )**2. \n",
    "                        \n",
    "                    # <<-------- End copy (this is the original)\n",
    "\n",
    "                    #-------------------------------------------------------------\n",
    "\n",
    "                    # TOTAL distance mu and its uncertainty\n",
    "\n",
    "                    muTotal = Numerator_Mu/Denominator_Mu  # TOTAL distance mu\n",
    "                    \n",
    "                    # Uncertainty in the total distance mu:\n",
    "                    # old. error_muTotal = np.sqrt(1/Denominator_Mu)  \n",
    "                    error_muTotal = np.sqrt(Numerator_Var)\n",
    "                    \n",
    "                    mu_residualInt = muTotal - mu_LCDMInt # Residual distance modulus\n",
    "\n",
    "                    #---------------------------------------------------------------------------------------\n",
    "\n",
    "                    # For the latex text file:\n",
    "\n",
    "                    if mu_Y == -1.000000000: mu_Y_latex = '...'\n",
    "                    else: mu_Y_latex = '$%.2f \\pm %.2f$'%(mu_Y, err_mu_Y)\n",
    "\n",
    "                    if mu_J == -1.000000000: mu_J_latex = '...'\n",
    "                    else: mu_J_latex = '$%.2f \\pm %.2f$'%(mu_J, err_mu_J)\n",
    "\n",
    "                    if mu_H == -1.000000000: mu_H_latex = '...'\n",
    "                    else: mu_H_latex = '$%.2f \\pm %.2f$'%(mu_H, err_mu_H)\n",
    "\n",
    "                    if mu_K == -1.000000000: mu_K_latex = '...'\n",
    "                    else: mu_K_latex = '$%.2f \\pm %.2f$'%(mu_K, err_mu_K)\n",
    "\n",
    "                    #----------\n",
    "                    # Creating a string with the exact name of the SN\n",
    "\n",
    "                    if snName[7]=='_': name = snName[0:7] # To read correctly \"sn2011B\"\n",
    "                    elif snName[7]!='_': \n",
    "                        if is_number(snName[7]): name = snName[0:15] # To read correctly \"snf20080514-002\"\n",
    "                        else: name = snName[0:8]   # To read correctly \"sn1998bu\"\n",
    "\n",
    "                    #---------------------------------------------------------------------------------------\n",
    "\n",
    "                    textfile_1.write('%-30s  %.10f  %.10f  %.10f  %.10f  %14.10f  1.00000000    %.0f    %.10f  %14.10f  \\\n",
    "%.10f  %14.10f  %.10f  %14.10f  %.10f  %14.10f  0  0  0  0  0  0  0  0  0  0  0  0  0  0  0  0  0  0 \\n'%\n",
    "                                     (snName, zcmbInt, error_zcmbInt, muTotal, error_muTotal, mu_residualInt, SampleFlag,\n",
    "                                      mu_Y, err_mu_Y, mu_J, err_mu_J, mu_H, err_mu_H, mu_K, err_mu_K ))\n",
    "                    # Latex file:\n",
    "                    textfile_2.write('SN%-10s & %s & %s & %s & %s & %s & $%.2f \\pm %.3f$ \\\\\\\\ \\n'%\n",
    "                                     (name[2:], SampleFlatText, mu_Y_latex, mu_J_latex, mu_H_latex, mu_K_latex,\n",
    "                                      muTotal, error_muTotal))\n",
    "\n",
    "    textfile_1.write(text_line)\n",
    "    textfile_1.write(\"# %s SNe with data in YJHK bands \\n\"%count_YJHK)\n",
    "\n",
    "    textfile_1.close()\n",
    "    textfile_2.close()\n",
    "\n",
    "else: print \"# YJHK covariance matrix from less or equal to 4 SNe, \\\n",
    "so I didn't define it.\""
   ]
  },
  {
   "cell_type": "code",
   "execution_count": 44,
   "metadata": {
    "collapsed": true
   },
   "outputs": [],
   "source": [
    "textfile_1.close(); textfile_2.close();"
   ]
  },
  {
   "cell_type": "code",
   "execution_count": null,
   "metadata": {},
   "outputs": [],
   "source": []
  },
  {
   "cell_type": "markdown",
   "metadata": {},
   "source": [
    "### YJH only\n",
    "\n",
    "This cell produce also the final latex table that will be used in the paper. The \"14_Latex_Tables_Figures_v2_5.ipynb\" script doesn't do it."
   ]
  },
  {
   "cell_type": "code",
   "execution_count": 45,
   "metadata": {
    "collapsed": false
   },
   "outputs": [
    {
     "name": "stdout",
     "output_type": "stream",
     "text": [
      "1 , J-H-Y__1 , sn2004eo_dummytext_CSP\n",
      "2 , J-H-Y__2 , sn2004ey_dummytext_CSP\n",
      "3 , J-H-Y__3 , sn2005el_dummytext_CSP\n",
      "4 , J-H-Y__4 , sn2005iq_dummytext_CSP\n",
      "5 , J-H-Y__5 , sn2005kc_dummytext_CSP\n",
      "6 , J-H-Y__6 , sn2005ki_dummytext_CSP\n",
      "7 , J-H-Y__7 , sn2006ax_dummytext_CSP\n",
      "8 , J-H-Y__8 , sn2006bh_dummytext_CSP\n",
      "9 , J-H-Y__9 , sn2006kf_dummytext_CSP\n",
      "10 , J-H-Y__10 , sn2007af_dummytext_CSP\n",
      "11 , J-H-Y__11 , sn2007le_dummytext_CSP\n",
      "12 , J-H-Y__12 , sn2008ar_dummytext_CSP\n",
      "13 , J-H-Y__13 , sn2008bc_dummytext_CSP\n",
      "14 , J-H-Y__14 , sn2008gp_dummytext_CSP\n",
      "15 , J-H-Y__15 , sn2008hv_dummytext_CSP\n",
      "16 , J-H-Y__16 , sn2009aa_dummytext_CSP\n",
      "17 , J-H-Y__17 , sn2009ad_dummytext_CSP\n",
      "18 , J-H-Y__18 , sn2009ag_dummytext_CSP\n",
      "19 , J-H-Y__19 , sn2009cz_dummytext_CSP\n",
      "20 , J-H-Y__20 , sn2009D_dummytext__CSP\n",
      "21 , J-H-Y__21 , sn2009Y_dummytext__CSP\n"
     ]
    }
   ],
   "source": [
    "# Loop 3: SNe with distance modulus in YJH bands.\n",
    "# (Ths loop is a copy from the main loop, but with small modifications)\n",
    "\n",
    "# SNe with YJH data\n",
    "\n",
    "# Open the writting to a text file\n",
    "textfile_1 = open(DirSaveOutput+'Table_TotalMu_YJH_.txt', 'w')\n",
    "textfile_2 = open(DirSaveOutput+'Table_TotalMu_YJH_Latex_.txt', 'w')\n",
    "\n",
    "now = datetime.datetime.now() # Read the time and date right now\n",
    "# old. text_timenow = now.strftime(\"%Y-%m-%d (yyyy-mm-dd); %H:%M hrs.\")\n",
    "text_timenow = now.strftime(\"%Y-%m-%d (yyyy-mm-dd)\")\n",
    "text_Date   = '# On date: %s \\n'%text_timenow\n",
    "text_Author = '# Data table created by: Arturo Avelino \\n'\n",
    "text_script = '# Script used: %s \\n'%NotebookName\n",
    "text_line = '#'+'-'*60 + '\\n'\n",
    "\n",
    "textfile_1.write(text_line)\n",
    "textfile_1.write(text_Author); textfile_1.write(text_Date); textfile_1.write(text_script); \n",
    "textfile_1.write(text_line)\n",
    "\n",
    "text_1 = '#   SN name                     z_CMB         error_zcmb       mu_total      error_mu       \\\n",
    "mu_residual    chi2_dof  Sample     mu_Y         error_mu_Y       mu_J          error_mu_J      mu_H           \\\n",
    "error_mu_H     mu_K            error_mu_K    Unused columns \\n'\n",
    "textfile_1.write(text_1); \n",
    "# textfile_2.write('% '+text_1)\n",
    "\n",
    "# Some counters\n",
    "count_YJHK = 0;\n",
    "count_YJH = 0; count_YJ = 0; count_JH = 0; \n",
    "count_JHK = 0; count_JK = 0; \n",
    "count_J=0; count_all = 0\n",
    "\n",
    "# Loop over SNe in J band (it contains all the SNe)\n",
    "for i in range(len(MuData_J_names)): \n",
    "    \n",
    "    # Resetting variables\n",
    "    snName = '';\n",
    "    zcmbInt = 0; error_zcmbInt=0; chi2dofInt=0;\n",
    "    mu_LCDMInt=0; mu_residualInt=0;\n",
    "    SampleFlag = 0; SampleFlatText='';\n",
    "    mu_Y = 0; mu_J = 0; mu_H = 0; mu_K = 0;\n",
    "    err_mu_Y=0; err_mu_J=0; err_mu_H=0; err_mu_K=0;\n",
    "    mu_np  = np.zeros(3); errorMu_np = np.zeros(3); \n",
    "    weight_InvError2Mu_np=np.zeros(3);\n",
    "    CovMatrix_Mu = np.zeros([3,3]); InvCovMatrix_Mu = np.zeros([3,3]);\n",
    "    var_np  = np.zeros(3);\n",
    "    Numerator_Mu = 0; Denominator_Mu = 0\n",
    "    Numerator_Var= 0;\n",
    "    muTotal = 0; error_muTotal = 0;\n",
    "    JbandOnly = 0;\n",
    "    \n",
    "    #--------------------------------\n",
    "    \n",
    "    # Defining variables\n",
    "    \n",
    "    snName = MuData_J_names[i] \n",
    "    \n",
    "    # Begin textfile variables --->>\n",
    "    # These variables are not used for computing, \n",
    "    # they are just to be written in the text files \n",
    "    zcmbInt = Mu_J_dict[snName][4]\n",
    "    error_zcmbInt = Mu_J_dict[snName][5]\n",
    "    chi2dofInt = Mu_J_dict[snName][6]\n",
    "    mu_LCDMInt = DistanceMu(zcmbInt, OmMFix, wFix, HoFix)\n",
    "    \n",
    "    # Sample flag\n",
    "    SampleFlag = Mu_J_dict[snName][3]\n",
    "    if   SampleFlag ==1: SampleFlatText = 'CfA' \n",
    "    elif SampleFlag ==2: SampleFlatText = 'CSP'\n",
    "    elif SampleFlag ==3: SampleFlatText = 'Others'\n",
    "    # <<---- End textfile variables \n",
    "    \n",
    "    \n",
    "    if snName in MuData_H_names: # In H band       \n",
    "        if snName in MuData_Y_names: # In Y band  \n",
    "            \n",
    "            # SNe with distance mu from YJH bands.\n",
    "    \n",
    "            # Begin copy  ---------->> \n",
    "            count_YJH = count_YJH + 1\n",
    "            count_all  = count_all  + 1\n",
    "            print count_all, ', J-H-Y__%r'%count_YJH, ',', snName\n",
    "\n",
    "            # The distance mu and uncertainties for the bands.\n",
    "            mu_Y = Mu_Y_dict[snName][0]; err_mu_Y = Mu_Y_dict[snName][1];\n",
    "            mu_J = Mu_J_dict[snName][0]; err_mu_J = Mu_J_dict[snName][1];\n",
    "            mu_H = Mu_H_dict[snName][0]; err_mu_H = Mu_H_dict[snName][1];\n",
    "            mu_K = -1.000000000;         err_mu_K = -1.000000000;\n",
    "\n",
    "            # distance mu array\n",
    "            mu_np = np.array([ mu_Y, mu_J, mu_H  ])\n",
    "            # variance of distance mu array\n",
    "            var_np = np.array([err_mu_Y**2., err_mu_J**2., err_mu_H**2.])\n",
    "\n",
    "            #--- Computing the best estimated total distance modulus ---\n",
    "            for i in range(3): \n",
    "                Numerator_Mu = Numerator_Mu + mu_np[i]*np.sum(InvCov_ResidualMu_YJH[i,:])\n",
    "                Denominator_Mu = Denominator_Mu + np.sum(InvCov_ResidualMu_YJH[i,:])  \n",
    "                \n",
    "            # --- Computing the VARIANCE of the total distance modulus ---\n",
    "            for i in range(3): \n",
    "                Numerator_Var = Numerator_Var + var_np[i]*(np.sum(InvCov_ResidualMu_YJH[i,:])/Denominator_Mu )**2.\n",
    "                \n",
    "            # <<-------- End copy    \n",
    "    \n",
    "            #-------------------------------------------------------------\n",
    "            # TOTAL distance mu and its uncertainty\n",
    "        \n",
    "            muTotal = Numerator_Mu/Denominator_Mu  # TOTAL distance mu\n",
    "            \n",
    "            # Uncertainty in the total distance mu\n",
    "            # old. error_muTotal = np.sqrt(1/Denominator_Mu) \n",
    "            error_muTotal = np.sqrt(Numerator_Var) \n",
    "\n",
    "            mu_residualInt = muTotal - mu_LCDMInt # Residual distance modulus\n",
    "\n",
    "            #---------------------------------------------------------------------------------------\n",
    "\n",
    "            # For the latex text file:\n",
    "\n",
    "            if mu_Y == -1.000000000: mu_Y_latex = '...'\n",
    "            else: mu_Y_latex = '$%.2f \\pm %.2f$'%(mu_Y, err_mu_Y)\n",
    "\n",
    "            if mu_J == -1.000000000: mu_J_latex = '...'\n",
    "            else: mu_J_latex = '$%.2f \\pm %.2f$'%(mu_J, err_mu_J)\n",
    "\n",
    "            if mu_H == -1.000000000: mu_H_latex = '...'\n",
    "            else: mu_H_latex = '$%.2f \\pm %.2f$'%(mu_H, err_mu_H)\n",
    "\n",
    "            if mu_K == -1.000000000: mu_K_latex = '...'\n",
    "            else: mu_K_latex = '$%.2f \\pm %.2f$'%(mu_K, err_mu_K)\n",
    "\n",
    "            #----------\n",
    "            # Creating a string with the exact name of the SN\n",
    "\n",
    "            if snName[7]=='_': name = snName[0:7] # To read correctly \"sn2011B\"\n",
    "            elif snName[7]!='_': \n",
    "                if is_number(snName[7]): name = snName[0:15] # To read correctly \"snf20080514-002\"\n",
    "                else: name = snName[0:8]   # To read correctly \"sn1998bu\"\n",
    "\n",
    "            #---------------------------------------------------------------------------------------\n",
    "\n",
    "            textfile_1.write('%-30s  %.10f  %.10f  %.10f  %.10f  %14.10f  1.00000000    %.0f    %.10f  %14.10f  \\\n",
    "%.10f  %14.10f  %.10f  %14.10f  %.10f  %14.10f  \\\n",
    "0  0  0  0  0  0  0  0  0  0  0  0  0  0  0  0  0  0 \\n'%\n",
    "                             (snName, zcmbInt, error_zcmbInt, muTotal, error_muTotal, mu_residualInt, SampleFlag,\n",
    "                              mu_Y, err_mu_Y, mu_J, err_mu_J, mu_H, err_mu_H, mu_K, err_mu_K ))\n",
    "            # Latex file:\n",
    "            textfile_2.write('SN%-10s & %s & %s & %s & %s & %s & $%.2f \\pm %.3f$ \\\\\\\\ \\n'%\n",
    "                             (name[2:], SampleFlatText, mu_Y_latex, mu_J_latex, mu_H_latex, mu_K_latex,\n",
    "                              muTotal, error_muTotal))\n",
    "\n",
    "textfile_1.write(text_line)\n",
    "textfile_1.write(\"# %s SNe with data in YJH  bands \\n\"%count_YJH)\n",
    "\n",
    "textfile_1.close()\n",
    "textfile_2.close()    "
   ]
  },
  {
   "cell_type": "code",
   "execution_count": 46,
   "metadata": {
    "collapsed": true
   },
   "outputs": [],
   "source": [
    "textfile_1.close(); textfile_2.close();"
   ]
  },
  {
   "cell_type": "code",
   "execution_count": null,
   "metadata": {},
   "outputs": [],
   "source": []
  },
  {
   "cell_type": "markdown",
   "metadata": {},
   "source": [
    "### JH only\n",
    "\n",
    "This cell produce also the final latex table that will be used in the paper. \n",
    "The \"14_Latex_Tables_Figures_v2_5.ipynb\" script doesn't do it."
   ]
  },
  {
   "cell_type": "code",
   "execution_count": 47,
   "metadata": {},
   "outputs": [
    {
     "name": "stdout",
     "output_type": "stream",
     "text": [
      "1 , J-H__1 , sn1998bu__U_69_B_9_CfA\n",
      "2 , J-H__2 , sn1999ee__U_45_B_1_CSP\n",
      "3 , J-H__3 , sn1999ek__U_2_B_38_Others\n",
      "4 , J-H__4 , sn2000E__U_5_B_27__Others\n",
      "5 , J-H__5 , sn2001ba__B_30_V_3_CSP\n",
      "6 , J-H__6 , sn2001bt__B_22_V_2_Others\n",
      "7 , J-H__7 , sn2001cz__B_14_V_1_Others\n",
      "8 , J-H__8 , sn2001el__U_20_B_4_Others\n",
      "9 , J-H__9 , sn2002dj__U_13_B_1_Others\n",
      "10 , J-H__10 , sn2004eo_dummytext_CSP\n",
      "11 , J-H__11 , sn2004ey_dummytext_CSP\n",
      "12 , J-H__12 , sn2005cf__U_36_B_1_CfA\n",
      "13 , J-H__13 , sn2005el_dummytext_CSP\n",
      "14 , J-H__14 , sn2005iq_dummytext_CSP\n",
      "15 , J-H__15 , sn2005kc_dummytext_CSP\n",
      "16 , J-H__16 , sn2005ki_dummytext_CSP\n",
      "17 , J-H__17 , sn2006ax_dummytext_CSP\n",
      "18 , J-H__18 , sn2006bh_dummytext_CSP\n",
      "19 , J-H__19 , sn2006D__U_24_B_22_CfA\n",
      "20 , J-H__20 , sn2006kf_dummytext_CSP\n",
      "21 , J-H__21 , sn2006lf__U_3_B_24_CfA\n",
      "22 , J-H__22 , sn2007af_dummytext_CSP\n",
      "23 , J-H__23 , sn2007le_dummytext_CSP\n",
      "24 , J-H__24 , sn2008ar_dummytext_CSP\n",
      "25 , J-H__25 , sn2008bc_dummytext_CSP\n",
      "26 , J-H__26 , sn2008gp_dummytext_CSP\n",
      "27 , J-H__27 , sn2008hv_dummytext_CSP\n",
      "28 , J-H__28 , sn2009aa_dummytext_CSP\n",
      "29 , J-H__29 , sn2009ad_dummytext_CSP\n",
      "30 , J-H__30 , sn2009ag_dummytext_CSP\n",
      "31 , J-H__31 , sn2009al__u_prime__CfA\n",
      "32 , J-H__32 , sn2009an__u_prime__CfA\n",
      "33 , J-H__33 , sn2009cz_dummytext_CSP\n",
      "34 , J-H__34 , sn2009D_dummytext__CSP\n",
      "35 , J-H__35 , sn2009Y_dummytext__CSP\n",
      "36 , J-H__36 , sn2010ai__B_16_V_2_CfA\n",
      "37 , J-H__37 , sn2010kg__B_23_V_2_CfA\n",
      "38 , J-H__38 , sn2011ao__B_16_V_3_CfA\n",
      "39 , J-H__39 , sn2011by__B_38_V_2_CfA\n",
      "40 , J-H__40 , sn2011df__B_15_V_1_CfA\n",
      "41 , J-H__41 , snf20080514-002__J_CfA\n"
     ]
    }
   ],
   "source": [
    "# Loop 3: SNe with distance modulus in JH bands.\n",
    "# (Ths loop is a copy from the main loop, but with small modifications)\n",
    "\n",
    "# SNe with JH data\n",
    "\n",
    "# Open the writting to a text file\n",
    "textfile_1 = open(DirSaveOutput+'Table_TotalMu_JH_.txt', 'w')\n",
    "textfile_2 = open(DirSaveOutput+'Table_TotalMu_JH_Latex_.txt', 'w')\n",
    "\n",
    "now = datetime.datetime.now() # Read the time and date right now\n",
    "text_timenow = now.strftime(\"%Y-%m-%d (yyyy-mm-dd)\")\n",
    "text_Date   = '# On date: %s \\n'%text_timenow\n",
    "text_Author = '# Data table created by: Arturo Avelino \\n'\n",
    "text_script = '# Script used: %s \\n'%NotebookName\n",
    "text_line = '#'+'-'*60 + '\\n'\n",
    "\n",
    "textfile_1.write(text_line)\n",
    "textfile_1.write(text_Author); textfile_1.write(text_Date); textfile_1.write(text_script); \n",
    "textfile_1.write(text_line)\n",
    "\n",
    "text_1 = '#   SN name                     z_CMB         error_zcmb       mu_total      error_mu       \\\n",
    "mu_residual    chi2_dof  Sample     mu_Y         error_mu_Y       mu_J          error_mu_J      mu_H           \\\n",
    "error_mu_H     mu_K            error_mu_K    Unused columns \\n'\n",
    "textfile_1.write(text_1); \n",
    "# textfile_2.write('% '+text_1)\n",
    "\n",
    "# Some counters\n",
    "count_YJHK = 0;\n",
    "count_YJH = 0; count_YJ = 0; count_JH = 0; \n",
    "count_JHK = 0; count_JK = 0; \n",
    "count_J=0; count_all = 0\n",
    "\n",
    "# Loop over SNe in J band (it contains all the SNe)\n",
    "for i in range(len(MuData_J_names)): \n",
    "    \n",
    "    # Resetting variables\n",
    "    snName = '';\n",
    "    zcmbInt = 0; error_zcmbInt=0; chi2dofInt=0;\n",
    "    mu_LCDMInt=0; mu_residualInt=0;\n",
    "    SampleFlag = 0; SampleFlatText='';\n",
    "    mu_Y = 0; mu_J = 0; mu_H = 0; mu_K = 0;\n",
    "    err_mu_Y=0; err_mu_J=0; err_mu_H=0; err_mu_K=0;\n",
    "    mu_np  = np.zeros(3); errorMu_np = np.zeros(3); \n",
    "    weight_InvError2Mu_np=np.zeros(3);\n",
    "    CovMatrix_Mu = np.zeros([3,3]); InvCovMatrix_Mu = np.zeros([3,3]);\n",
    "    var_np  = np.zeros(3);\n",
    "    Numerator_Mu = 0; Denominator_Mu = 0\n",
    "    Numerator_Var= 0;\n",
    "    muTotal = 0; error_muTotal = 0;\n",
    "    JbandOnly = 0;\n",
    "    \n",
    "    #--------------------------------\n",
    "    \n",
    "    # Defining variables\n",
    "    \n",
    "    snName = MuData_J_names[i] \n",
    "    \n",
    "    # Begin textfile variables --->>\n",
    "    # These variables are not used for computing, \n",
    "    # they are just to be written in the text files \n",
    "    zcmbInt = Mu_J_dict[snName][4]\n",
    "    error_zcmbInt = Mu_J_dict[snName][5]\n",
    "    chi2dofInt = Mu_J_dict[snName][6]\n",
    "    mu_LCDMInt = DistanceMu(zcmbInt, OmMFix, wFix, HoFix)\n",
    "    \n",
    "    # Sample flag\n",
    "    SampleFlag = Mu_J_dict[snName][3]\n",
    "    if   SampleFlag ==1: SampleFlatText = 'CfA' \n",
    "    elif SampleFlag ==2: SampleFlatText = 'CSP'\n",
    "    elif SampleFlag ==3: SampleFlatText = 'Others'\n",
    "    # <<---- End textfile variables \n",
    "    \n",
    "    \n",
    "    if snName in MuData_H_names: # In H band \n",
    "        \n",
    "        # SNe with distance mu from YJH bands.\n",
    "    \n",
    "        # Begin copy  ---------->> \n",
    "        count_JH = count_JH + 1\n",
    "        count_all  = count_all  + 1\n",
    "        print count_all, ', J-H__%r'%count_JH, ',', snName\n",
    "\n",
    "        # The distance mu and uncertainties for the bands.\n",
    "        mu_Y = -1.000000000;         err_mu_Y = -1.000000000;\n",
    "        mu_J = Mu_J_dict[snName][0]; err_mu_J = Mu_J_dict[snName][1];\n",
    "        mu_H = Mu_H_dict[snName][0]; err_mu_H = Mu_H_dict[snName][1];\n",
    "        mu_K = -1.000000000;         err_mu_K = -1.000000000;\n",
    "\n",
    "        # distance mu array\n",
    "        mu_np = np.array([ mu_J, mu_H  ])\n",
    "        # variance of distance mu array\n",
    "        var_np = np.array([ err_mu_J**2., err_mu_H**2.])\n",
    "\n",
    "        #--- Computing the best estimated total distance modulus ---\n",
    "        for i in range(2): \n",
    "            Numerator_Mu = Numerator_Mu + mu_np[i]*np.sum(InvCov_ResidualMu_JH[i,:])\n",
    "            Denominator_Mu = Denominator_Mu + np.sum(InvCov_ResidualMu_JH[i,:])  \n",
    "\n",
    "        # --- Computing the VARIANCE of the total distance modulus ---\n",
    "        for i in range(2): \n",
    "            Numerator_Var = Numerator_Var + var_np[i]*(np.sum(InvCov_ResidualMu_JH[i,:])/Denominator_Mu )**2.\n",
    "\n",
    "        # <<-------- End copy    \n",
    "\n",
    "        #-------------------------------------------------------------\n",
    "        # TOTAL distance mu and its uncertainty\n",
    "\n",
    "        muTotal = Numerator_Mu/Denominator_Mu  # TOTAL distance mu\n",
    "\n",
    "        # Uncertainty in the total distance mu\n",
    "        # old. error_muTotal = np.sqrt(1/Denominator_Mu) \n",
    "        error_muTotal = np.sqrt(Numerator_Var) \n",
    "\n",
    "        mu_residualInt = muTotal - mu_LCDMInt # Residual distance modulus\n",
    "\n",
    "        #---------------------------------------------------------------------------------------\n",
    "\n",
    "        # For the latex text file:\n",
    "\n",
    "        if mu_Y == -1.000000000: mu_Y_latex = '...'\n",
    "        else: mu_Y_latex = '$%.2f \\pm %.2f$'%(mu_Y, err_mu_Y)\n",
    "\n",
    "        if mu_J == -1.000000000: mu_J_latex = '...'\n",
    "        else: mu_J_latex = '$%.2f \\pm %.2f$'%(mu_J, err_mu_J)\n",
    "\n",
    "        if mu_H == -1.000000000: mu_H_latex = '...'\n",
    "        else: mu_H_latex = '$%.2f \\pm %.2f$'%(mu_H, err_mu_H)\n",
    "\n",
    "        if mu_K == -1.000000000: mu_K_latex = '...'\n",
    "        else: mu_K_latex = '$%.2f \\pm %.2f$'%(mu_K, err_mu_K)\n",
    "\n",
    "        #----------\n",
    "        # Creating a string with the exact name of the SN\n",
    "\n",
    "        if snName[7]=='_': name = snName[0:7] # To read correctly \"sn2011B\"\n",
    "        elif snName[7]!='_': \n",
    "            if is_number(snName[7]): name = snName[0:15] # To read correctly \"snf20080514-002\"\n",
    "            else: name = snName[0:8]   # To read correctly \"sn1998bu\"\n",
    "\n",
    "        #---------------------------------------------------------------------------------------\n",
    "\n",
    "        textfile_1.write('%-30s  %.10f  %.10f  %.10f  %.10f  %14.10f  1.00000000    %.0f    %.10f  %14.10f  \\\n",
    "%.10f  %14.10f  %.10f  %14.10f  %.10f  %14.10f  \\\n",
    "0  0  0  0  0  0  0  0  0  0  0  0  0  0  0  0  0  0 \\n'%\n",
    "                         (snName, zcmbInt, error_zcmbInt, muTotal, error_muTotal, mu_residualInt, SampleFlag,\n",
    "                          mu_Y, err_mu_Y, mu_J, err_mu_J, mu_H, err_mu_H, mu_K, err_mu_K ))\n",
    "        # Latex file:\n",
    "        textfile_2.write('SN%-10s & %s & %s & %s & %s & %s & $%.2f \\pm %.3f$ \\\\\\\\ \\n'%\n",
    "                         (name[2:], SampleFlatText, mu_Y_latex, mu_J_latex, mu_H_latex, mu_K_latex,\n",
    "                          muTotal, error_muTotal))\n",
    "\n",
    "textfile_1.write(text_line)\n",
    "textfile_1.write(\"# %s SNe with data in JH  bands \\n\"%count_JH)\n",
    "\n",
    "textfile_1.close()\n",
    "textfile_2.close()    "
   ]
  },
  {
   "cell_type": "code",
   "execution_count": 48,
   "metadata": {},
   "outputs": [],
   "source": [
    "textfile_1.close(); textfile_2.close(); textfile_1.close(); textfile_2.close();"
   ]
  },
  {
   "cell_type": "markdown",
   "metadata": {},
   "source": [
    "### JHK\n",
    "\n",
    "This cell produce also the final latex table that will be used in the paper. The \"14_Latex_Tables_Figures_v2_5.ipynb\" script doesn't do it."
   ]
  },
  {
   "cell_type": "code",
   "execution_count": 49,
   "metadata": {
    "collapsed": false
   },
   "outputs": [
    {
     "name": "stdout",
     "output_type": "stream",
     "text": [
      "1 , J-H-K__1 , sn1998bu__U_69_B_9_CfA\n",
      "2 , J-H-K__2 , sn2000E__U_5_B_27__Others\n",
      "3 , J-H-K__3 , sn2001ba__B_30_V_3_CSP\n",
      "4 , J-H-K__4 , sn2001bt__B_22_V_2_Others\n",
      "5 , J-H-K__5 , sn2001cz__B_14_V_1_Others\n",
      "6 , J-H-K__6 , sn2001el__U_20_B_4_Others\n",
      "7 , J-H-K__7 , sn2002dj__U_13_B_1_Others\n",
      "8 , J-H-K__8 , sn2005cf__U_36_B_1_CfA\n",
      "9 , J-H-K__9 , sn2006D__U_24_B_22_CfA\n",
      "10 , J-H-K__10 , sn2009an__u_prime__CfA\n",
      "11 , J-H-K__11 , sn2010ai__B_16_V_2_CfA\n"
     ]
    }
   ],
   "source": [
    "# Loop 4: SNe with distance modulus in JHK bands.\n",
    "# (This loop is a copy from the main loop, but with small modifications)\n",
    "\n",
    "# Open the writting to a text file\n",
    "textfile_1 = open(DirSaveOutput+'Table_TotalMu_JHK_.txt', 'w')\n",
    "textfile_2 = open(DirSaveOutput+'Table_TotalMu_JHK_Latex_.txt', 'w')\n",
    "\n",
    "now = datetime.datetime.now() # Read the time and date right now\n",
    "# old. text_timenow = now.strftime(\"%Y-%m-%d (yyyy-mm-dd); %H:%M hrs.\")\n",
    "text_timenow = now.strftime(\"%Y-%m-%d (yyyy-mm-dd)\")\n",
    "text_Date   = '# On date: %s \\n'%text_timenow\n",
    "text_Author = '# Data table created by: Arturo Avelino \\n'\n",
    "text_script = '# Script used: %s \\n'%NotebookName\n",
    "text_line = '#'+'-'*60 + '\\n'\n",
    "\n",
    "textfile_1.write(text_line)\n",
    "textfile_1.write(text_Author); textfile_1.write(text_Date); textfile_1.write(text_script); \n",
    "textfile_1.write(text_line)\n",
    "\n",
    "text_1 = '#   SN name                     z_CMB         error_zcmb       mu_total      error_mu       \\\n",
    "mu_residual    chi2_dof  Sample     mu_Y         error_mu_Y       mu_J          error_mu_J      mu_H           \\\n",
    "error_mu_H     mu_K            error_mu_K    Unused columns \\n'\n",
    "textfile_1.write(text_1); \n",
    "# textfile_2.write('% '+text_1)\n",
    "\n",
    "# Some counters\n",
    "count_YJHK = 0;\n",
    "count_YJH = 0; count_YJ = 0; count_JH = 0; \n",
    "count_JHK = 0; count_JK = 0; \n",
    "count_J=0; count_all = 0\n",
    "\n",
    "for i in range(len(MuData_J_names)): # Loop over SNe in J band (it contains all the SNe)\n",
    "    \n",
    "    # Resetting variables\n",
    "    snName = '';\n",
    "    zcmbInt = 0; error_zcmbInt=0; chi2dofInt=0;\n",
    "    mu_LCDMInt=0; mu_residualInt=0;\n",
    "    SampleFlag = 0; SampleFlatText='';\n",
    "    mu_Y = 0; mu_J = 0; mu_H = 0; mu_K = 0;\n",
    "    err_mu_Y=0; err_mu_J=0; err_mu_H=0; err_mu_K=0;\n",
    "    mu_np  = np.zeros(3); errorMu_np = np.zeros(3); \n",
    "    var_np  = np.zeros(3);\n",
    "    weight_InvError2Mu_np=np.zeros(3);\n",
    "    CovMatrix_Mu = np.zeros([3,3]); InvCovMatrix_Mu = np.zeros([3,3]);\n",
    "    Numerator_Mu = 0; Denominator_Mu = 0;\n",
    "    Numerator_Var = 0;\n",
    "    muTotal = 0; error_muTotal = 0;\n",
    "    JbandOnly = 0;\n",
    "    \n",
    "    #--------------------------------\n",
    "    \n",
    "    # Defining variables\n",
    "    \n",
    "    snName = MuData_J_names[i] \n",
    "    \n",
    "    # Begin textfile variables --->>\n",
    "    # These variables are not used for computing, they are just to be written in the text files \n",
    "    zcmbInt = Mu_J_dict[snName][4]\n",
    "    error_zcmbInt = Mu_J_dict[snName][5]\n",
    "    chi2dofInt = Mu_J_dict[snName][6]\n",
    "    mu_LCDMInt = DistanceMu(zcmbInt, OmMFix, wFix, HoFix)\n",
    "    \n",
    "    # Sample flag\n",
    "    SampleFlag = Mu_J_dict[snName][3]\n",
    "    if   SampleFlag ==1: SampleFlatText = 'CfA' \n",
    "    elif SampleFlag ==2: SampleFlatText = 'CSP'\n",
    "    elif SampleFlag ==3: SampleFlatText = 'Others'\n",
    "    # <<---- End textfile variables \n",
    "    \n",
    "    \n",
    "    if snName in MuData_H_names: # In H band\n",
    "        if snName in MuData_K_names: # In K band # SNe with distance mu from JHK bands only        \n",
    "\n",
    "            # Begin copy  ---------->> \n",
    "            count_JHK = count_JHK + 1\n",
    "            count_all  = count_all  + 1\n",
    "            print count_all, ', J-H-K__%r'%count_JHK, ',', snName\n",
    "\n",
    "            # The distance mu and uncertainties for the bands.\n",
    "            mu_Y = -1.000000000;         err_mu_Y = -1.000000000;\n",
    "            mu_J = Mu_J_dict[snName][0]; err_mu_J = Mu_J_dict[snName][1];\n",
    "            mu_H = Mu_H_dict[snName][0]; err_mu_H = Mu_H_dict[snName][1];\n",
    "            mu_K = Mu_K_dict[snName][0]; err_mu_K = Mu_K_dict[snName][1];\n",
    "\n",
    "            # distance mu array\n",
    "            mu_np = np.array([ mu_J, mu_H, mu_K ])\n",
    "            # variance of distance mu array\n",
    "            var_np = np.array([err_mu_J**2., err_mu_H**2., err_mu_K**2.])\n",
    "\n",
    "            #--- Computing the best estimated total distance modulus ---\n",
    "            for i in range(3): \n",
    "                Numerator_Mu = Numerator_Mu + mu_np[i]*np.sum(InvCov_ResidualMu_JHK[i,:])\n",
    "                Denominator_Mu = Denominator_Mu + np.sum(InvCov_ResidualMu_JHK[i,:]) \n",
    "                \n",
    "            # --- Computing the VARIANCE of the total distance modulus ---\n",
    "            for i in range(3): \n",
    "                Numerator_Var = Numerator_Var + var_np[i]*(np.sum(InvCov_ResidualMu_JHK[i,:])/Denominator_Mu )**2.\n",
    "                \n",
    "            # <<-------- End copy\n",
    "            \n",
    "            #-------------------------------------------------------------\n",
    "            # TOTAL distance mu and its uncertainty\n",
    "            \n",
    "            muTotal = Numerator_Mu/Denominator_Mu  # TOTAL distance mu\n",
    "            \n",
    "            # Uncertainty in the total distance mu:\n",
    "            # old. error_muTotal = np.sqrt(1/Denominator_Mu)  \n",
    "            error_muTotal = np.sqrt(Numerator_Var)\n",
    "            \n",
    "            mu_residualInt = muTotal - mu_LCDMInt # Residual distance modulus\n",
    "\n",
    "            #---------------------------------------------------------------------------------------\n",
    "\n",
    "            # For the latex text file:\n",
    "\n",
    "            if mu_Y == -1.000000000: mu_Y_latex = '...'\n",
    "            else: mu_Y_latex = '$%.2f \\pm %.2f$'%(mu_Y, err_mu_Y)\n",
    "\n",
    "            if mu_J == -1.000000000: mu_J_latex = '...'\n",
    "            else: mu_J_latex = '$%.2f \\pm %.2f$'%(mu_J, err_mu_J)\n",
    "\n",
    "            if mu_H == -1.000000000: mu_H_latex = '...'\n",
    "            else: mu_H_latex = '$%.2f \\pm %.2f$'%(mu_H, err_mu_H)\n",
    "\n",
    "            if mu_K == -1.000000000: mu_K_latex = '...'\n",
    "            else: mu_K_latex = '$%.2f \\pm %.2f$'%(mu_K, err_mu_K)\n",
    "\n",
    "            #----------\n",
    "            # Creating a string with the exact name of the SN\n",
    "\n",
    "            if snName[7]=='_': name = snName[0:7] # To read correctly \"sn2011B\"\n",
    "            elif snName[7]!='_': \n",
    "                if is_number(snName[7]): name = snName[0:15] # To read correctly \"snf20080514-002\"\n",
    "                else: name = snName[0:8]   # To read correctly \"sn1998bu\"\n",
    "\n",
    "            #---------------------------------------------------------------------------------------\n",
    "\n",
    "            textfile_1.write('%-30s  %.10f  %.10f  %.10f  %.10f  %14.10f  1.00000000    %.0f    %.10f  %14.10f  \\\n",
    "%.10f  %14.10f  %.10f  %14.10f  %.10f  %14.10f  \\\n",
    "0  0  0  0  0  0  0  0  0  0  0  0  0  0  0  0  0  0 \\n'%\n",
    "                             (snName, zcmbInt, error_zcmbInt, muTotal, error_muTotal, mu_residualInt, SampleFlag,\n",
    "                              mu_Y, err_mu_Y, mu_J, err_mu_J, mu_H, err_mu_H, mu_K, err_mu_K ))\n",
    "            # Latex file:\n",
    "            textfile_2.write('SN%-10s & %s & %s & %s & %s & %s & $%.2f \\pm %.3f$ \\\\\\\\ \\n'%\n",
    "                             (name[2:], SampleFlatText, mu_Y_latex, mu_J_latex, mu_H_latex, mu_K_latex,\n",
    "                              muTotal, error_muTotal))\n",
    "\n",
    "textfile_1.write(text_line)\n",
    "textfile_1.write(\"# %s SNe with data in JHK  bands \\n\"%count_JHK)\n",
    "\n",
    "textfile_1.close()\n",
    "textfile_2.close()  "
   ]
  },
  {
   "cell_type": "code",
   "execution_count": 50,
   "metadata": {
    "collapsed": true
   },
   "outputs": [],
   "source": [
    "textfile_1.close(); textfile_2.close();"
   ]
  },
  {
   "cell_type": "code",
   "execution_count": 51,
   "metadata": {
    "collapsed": true
   },
   "outputs": [
    {
     "name": "stdout",
     "output_type": "stream",
     "text": [
      "# All done. \n"
     ]
    }
   ],
   "source": [
    "print \"# All done. \""
   ]
  },
  {
   "cell_type": "code",
   "execution_count": null,
   "metadata": {},
   "outputs": [],
   "source": []
  },
  {
   "cell_type": "code",
   "execution_count": null,
   "metadata": {},
   "outputs": [],
   "source": []
  }
 ],
 "metadata": {
  "anaconda-cloud": {},
  "kernelspec": {
   "display_name": "Python 2",
   "language": "python",
   "name": "python2"
  },
  "language_info": {
   "codemirror_mode": {
    "name": "ipython",
    "version": 2
   },
   "file_extension": ".py",
   "mimetype": "text/x-python",
   "name": "python",
   "nbconvert_exporter": "python",
   "pygments_lexer": "ipython2",
   "version": "2.7.14"
  }
 },
 "nbformat": 4,
 "nbformat_minor": 2
}

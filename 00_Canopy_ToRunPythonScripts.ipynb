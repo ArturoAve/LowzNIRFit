{
 "metadata": {
  "name": "",
  "signature": "sha256:7ad310c1116f1f07b0e646e3a38393b324c8e5f18d9d84b2495ebb004b1766e4"
 },
 "nbformat": 3,
 "nbformat_minor": 0,
 "worksheets": [
  {
   "cells": [
    {
     "cell_type": "markdown",
     "metadata": {},
     "source": [
      "# 3_Canopy_Fitting_vXX.py"
     ]
    },
    {
     "cell_type": "markdown",
     "metadata": {},
     "source": [
      "The first path is for the python code to run, and the second for the location of the snoopy data."
     ]
    },
    {
     "cell_type": "markdown",
     "metadata": {},
     "source": [
      "### CfA"
     ]
    },
    {
     "cell_type": "code",
     "collapsed": false,
     "input": [
      "%run \"/Users/arturo/Dropbox/Research/Articulos/10_AndyKaisey/10Compute/\\\n",
      "github/LowzNIRFit/3_Canopy_Fitting_v1_10.py\"   \"/Users/arturo/Dropbox/Research/\\\n",
      "SoftwareResearch/Snoopy/AndyLCComp_2018_02/all/snoopy/2_Combine_Fit\""
     ],
     "language": "python",
     "metadata": {},
     "outputs": []
    },
    {
     "cell_type": "code",
     "collapsed": false,
     "input": [
      "\n"
     ],
     "language": "python",
     "metadata": {},
     "outputs": []
    },
    {
     "cell_type": "markdown",
     "metadata": {},
     "source": [
      "### CSP"
     ]
    },
    {
     "cell_type": "code",
     "collapsed": false,
     "input": [
      "%run \"/Users/arturo/Dropbox/Research/SoftwareResearch/Snoopy/Codes/\\\n",
      "Canopy/3_Canopy_Fitting_v1_10.py\"   \"/Users/arturo/Dropbox/Research/\\\n",
      "SoftwareResearch/Snoopy/AndyLCComp_2018_02/all/snoopy/2_Combine_Fit\""
     ],
     "language": "python",
     "metadata": {},
     "outputs": []
    },
    {
     "cell_type": "code",
     "collapsed": false,
     "input": [
      "\n"
     ],
     "language": "python",
     "metadata": {},
     "outputs": []
    },
    {
     "cell_type": "markdown",
     "metadata": {},
     "source": [
      "### Others"
     ]
    },
    {
     "cell_type": "code",
     "collapsed": false,
     "input": [
      "%run \"/Users/arturo/Dropbox/Research/SoftwareResearch/Snoopy/Codes/\\\n",
      "Canopy/3_Canopy_Fitting_v1_10.py\"   \"/Users/arturo/Dropbox/Research/\\\n",
      "SoftwareResearch/Snoopy/AndyLCComp_2018_02/all/snoopy/2_Combine_Fit\""
     ],
     "language": "python",
     "metadata": {},
     "outputs": []
    },
    {
     "cell_type": "code",
     "collapsed": false,
     "input": [],
     "language": "python",
     "metadata": {},
     "outputs": []
    },
    {
     "cell_type": "code",
     "collapsed": false,
     "input": [],
     "language": "python",
     "metadata": {},
     "outputs": []
    },
    {
     "cell_type": "markdown",
     "metadata": {},
     "source": [
      "### RAISIN-1"
     ]
    },
    {
     "cell_type": "code",
     "collapsed": false,
     "input": [
      "%run \"/Users/arturo/Dropbox/Research/SoftwareResearch/Snoopy/Codes/\\\n",
      "Canopy/3_Canopy_Fitting_v1_10.py\"   \"/Users/arturo/Dropbox/Research/\\\n",
      "Articulos/12_RAISINs/Data/RAISIN_1/Data/PS1/2018_01_30/DavidJones/snoopy_fit_v1/data\"  "
     ],
     "language": "python",
     "metadata": {},
     "outputs": [],
     "prompt_number": 0
    },
    {
     "cell_type": "code",
     "collapsed": false,
     "input": [
      "4+3"
     ],
     "language": "python",
     "metadata": {},
     "outputs": [
      {
       "metadata": {},
       "output_type": "pyout",
       "prompt_number": 44,
       "text": [
        "7"
       ]
      }
     ],
     "prompt_number": 44
    },
    {
     "cell_type": "code",
     "collapsed": false,
     "input": [],
     "language": "python",
     "metadata": {},
     "outputs": []
    },
    {
     "cell_type": "markdown",
     "metadata": {},
     "source": [
      "### RAISIN-2"
     ]
    },
    {
     "cell_type": "code",
     "collapsed": false,
     "input": [
      "%run \"/Users/arturo/Dropbox/Research/SoftwareResearch/Snoopy/Codes/\\\n",
      "Canopy/3_Canopy_Fitting_v1_10.py\"   \"/Users/arturo/Dropbox/Research/\\\n",
      "Articulos/12_RAISINs/Data/RAISIN_2/Data/DES/2017_11_21/snoopy_fit_v1/data\""
     ],
     "language": "python",
     "metadata": {},
     "outputs": [],
     "prompt_number": 0
    },
    {
     "cell_type": "code",
     "collapsed": false,
     "input": [],
     "language": "python",
     "metadata": {},
     "outputs": []
    },
    {
     "cell_type": "code",
     "collapsed": false,
     "input": [],
     "language": "python",
     "metadata": {},
     "outputs": []
    },
    {
     "cell_type": "markdown",
     "metadata": {},
     "source": [
      "--------"
     ]
    },
    {
     "cell_type": "markdown",
     "metadata": {},
     "source": [
      "# Canopy_Extract_DistanceMu_FromSnpy_v1_6_OK.py"
     ]
    },
    {
     "cell_type": "code",
     "collapsed": false,
     "input": [
      "%run \"/Users/arturo/Dropbox/Research/SoftwareResearch/Snoopy/\\\n",
      "Codes/Canopy/Canopy_Extract_DistanceMu_FromSnpy_v1_6_OK.py\"    "
     ],
     "language": "python",
     "metadata": {},
     "outputs": [
      {
       "output_type": "stream",
       "stream": "stdout",
       "text": [
        "# 22 SNe in this folder.\n",
        "# The '*_1stFit.snpy' files in this folder are for SNe:\n",
        "DES15C1NHV\n",
        "DES15C1NHV , zcmb (NED) = 0.42014 , done ok.\n",
        "DES15C3ODZ"
       ]
      },
      {
       "output_type": "stream",
       "stream": "stdout",
       "text": [
        "\n",
        "DES15C3ODZ , zcmb (NED) = 0.50640 , done ok.\n",
        "DES15E2MHY\n",
        "DES15E2MHY , zcmb (NED) = 0.43799 , done ok.\n",
        "DES15E2NLZ\n",
        "DES15E2NLZ , zcmb (NED) = 0.40929 , done ok.\n",
        "DES15E2UC"
       ]
      },
      {
       "output_type": "stream",
       "stream": "stdout",
       "text": [
        "\n",
        "DES15E2UC , zcmb (NED) = 0.56477 , done ok.\n",
        "DES15X2KVT\n",
        "DES15X2KVT , zcmb (NED) = 0.40389 , done ok.\n",
        "DES15X2MEY\n",
        "DES15X2MEY , zcmb (NED) = 0.60819 , done ok.\n",
        "DES15X2NKZ"
       ]
      },
      {
       "output_type": "stream",
       "stream": "stdout",
       "text": [
        "\n",
        "DES15X2NKZ , zcmb (NED) = 0.46919 , done ok.\n",
        "DES16C2CVA\n",
        "DES16C2CVA , zcmb (NED) = 0.40303 , done ok.\n",
        "DES16C3CMY\n",
        "DES16C3CMY , zcmb (NED) = 0.55669 , done ok.\n",
        "DES16E1DCX"
       ]
      },
      {
       "output_type": "stream",
       "stream": "stdout",
       "text": [
        "\n",
        "DES16E1DCX , zcmb (NED) = 0.44527 , done ok.\n",
        "DES16E2CLK\n",
        "DES16E2CLK , zcmb (NED) = 0.36618 , done ok.\n",
        "DES16E2CQQ\n",
        "DES16E2CQQ , zcmb (NED) = 0.42468 , done ok.\n",
        "DES16E2CXW"
       ]
      },
      {
       "output_type": "stream",
       "stream": "stdout",
       "text": [
        "\n",
        "DES16E2CXW , zcmb (NED) = 0.29199 , done ok.\n",
        "DES16E2RD\n",
        "DES16E2RD , zcmb (NED) = 0.49277 , done ok.\n",
        "DES16S1AGD\n",
        "DES16S1AGD , zcmb (NED) = 0.50320 , done ok.\n",
        "DES16S1BNO"
       ]
      },
      {
       "output_type": "stream",
       "stream": "stdout",
       "text": [
        "\n",
        "DES16S1BNO , zcmb (NED) = 0.46429 , done ok.\n",
        "DES16S2AFZ\n",
        "DES16S2AFZ , zcmb (NED) = 0.48127 , done ok.\n",
        "DES16X1CPF"
       ]
      },
      {
       "output_type": "stream",
       "stream": "stdout",
       "text": [
        "\n",
        "DES16X1CPF , zcmb (NED) = 0.43626 , done ok.\n",
        "DES16X2CRR\n",
        "DES16X2CRR , zcmb (NED) = 0.31108 , done ok.\n",
        "DES16X3CRY"
       ]
      },
      {
       "output_type": "stream",
       "stream": "stdout",
       "text": [
        "\n",
        "DES16X3CRY , zcmb (NED) = 0.61119 , done ok.\n",
        "DES16X3ZD\n",
        "DES16X3ZD , zcmb (NED) = 0.49420 , done ok.\n",
        "\n",
        " --- 22 SNe done ---\n"
       ]
      }
     ],
     "prompt_number": 38
    },
    {
     "cell_type": "code",
     "collapsed": false,
     "input": [],
     "language": "python",
     "metadata": {},
     "outputs": []
    },
    {
     "cell_type": "code",
     "collapsed": false,
     "input": [],
     "language": "python",
     "metadata": {},
     "outputs": []
    },
    {
     "cell_type": "markdown",
     "metadata": {},
     "source": [
      "--------"
     ]
    },
    {
     "cell_type": "markdown",
     "metadata": {},
     "source": [
      "# Canopy_Plot_AllLCData_WithoutFitting_v1_0.py"
     ]
    },
    {
     "cell_type": "code",
     "collapsed": false,
     "input": [
      "%run \"/Users/arturo/Dropbox/Research/SoftwareResearch/Snoopy/Codes/\\\n",
      "Canopy/Canopy_Plot_AllLCData_WithoutFitting_v1_0.py\"   \"/Users/arturo/\\\n",
      "Dropbox/Research/Articulos/12_RAISINs/Data/RAISIN_2/Data/HST_DES/data\""
     ],
     "language": "python",
     "metadata": {},
     "outputs": [
      {
       "output_type": "stream",
       "stream": "stdout",
       "text": [
        "/Users/arturo/Dropbox/Research/Articulos/12_RAISINs/Data/RAISIN_2/Data/HST_DES/data\n",
        "22 SNe in the list of SNe to be plotted.\n",
        "0 SNe done."
       ]
      },
      {
       "output_type": "stream",
       "stream": "stdout",
       "text": [
        "\n"
       ]
      }
     ],
     "prompt_number": 13
    },
    {
     "cell_type": "code",
     "collapsed": false,
     "input": [],
     "language": "python",
     "metadata": {},
     "outputs": []
    },
    {
     "cell_type": "code",
     "collapsed": false,
     "input": [],
     "language": "python",
     "metadata": {},
     "outputs": []
    },
    {
     "cell_type": "markdown",
     "metadata": {},
     "source": [
      "--------"
     ]
    },
    {
     "cell_type": "markdown",
     "metadata": {},
     "source": [
      "# 6_Canopy_AbsAppMag_Phase_ForEachBand_v5_15.py\n",
      "\n",
      "The first path is for the python code to run."
     ]
    },
    {
     "cell_type": "code",
     "collapsed": false,
     "input": [
      "%run \"/Users/arturo/Dropbox/Research/Articulos/10_AndyKaisey/10Compute/\\\n",
      "github/LowzNIRFit/6_Canopy_AbsAppMag_Phase_ForEachBand_v5_15.py\" J CfA"
     ],
     "language": "python",
     "metadata": {},
     "outputs": [
      {
       "output_type": "stream",
       "stream": "stdout",
       "text": [
        "[  1.88542500e+02   2.66556000e+00   5.79067269e-03   3.33564095e-06\n",
        "   3.19220839e-03   2.00138457e-05   9.20636903e-04   5.00346143e-04\n",
        "   2.00000000e+00]\n",
        "38.2202031449\n",
        "68"
       ]
      },
      {
       "output_type": "stream",
       "stream": "stdout",
       "text": [
        " SNe read with extension '_StdFilt.snpy.'\n",
        "SNe with data in band J:\n",
        "1)"
       ]
      },
      {
       "output_type": "stream",
       "stream": "stdout",
       "text": [
        " sn1998bu__U_69_B_97_V_110_R_87_I_108\n",
        "2)"
       ]
      },
      {
       "output_type": "stream",
       "stream": "stdout",
       "text": [
        " sn2005bo__J_15_H_16_K_13__CfAIR2_fri\n",
        "3)"
       ]
      },
      {
       "output_type": "stream",
       "stream": "stdout",
       "text": [
        " sn2005cf__U_36_B_19_V_21_r_prime_17_\n",
        "4)"
       ]
      },
      {
       "output_type": "stream",
       "stream": "stdout",
       "text": [
        " sn2005el__U_55_B_39_V_55_r_prime_52_\n",
        "5) sn2005eq__U_22_B_24_V_33_r_prime_32_\n",
        "6)"
       ]
      },
      {
       "output_type": "stream",
       "stream": "stdout",
       "text": [
        " sn2005eu__B_16_V_25_r_prime_28_i_pri\n",
        "7)"
       ]
      },
      {
       "output_type": "stream",
       "stream": "stdout",
       "text": [
        " sn2005iq__U_7_B_15_V_14_r_prime_15_i\n",
        "8)"
       ]
      },
      {
       "output_type": "stream",
       "stream": "stdout",
       "text": [
        " sn2005ls__U_12_B_14_V_19_r_prime_19_\n",
        "9)"
       ]
      },
      {
       "output_type": "stream",
       "stream": "stdout",
       "text": [
        " sn2005na__U_13_B_13_V_21_r_prime_23_\n",
        "10)"
       ]
      },
      {
       "output_type": "stream",
       "stream": "stdout",
       "text": [
        " sn2006ac__U_27_B_23_V_30_r_prime_33_\n",
        "11)"
       ]
      },
      {
       "output_type": "stream",
       "stream": "stdout",
       "text": [
        " sn2006ax__U_37_B_23_V_23_r_prime_24_\n",
        "12)"
       ]
      },
      {
       "output_type": "stream",
       "stream": "stdout",
       "text": [
        " sn2006cp__U_6_B_7_V_8_r_prime_10_i_p\n",
        "13)"
       ]
      },
      {
       "output_type": "stream",
       "stream": "stdout",
       "text": [
        " sn2006D__U_24_B_22_V_26_r_prime_29_i\n",
        "14)"
       ]
      },
      {
       "output_type": "stream",
       "stream": "stdout",
       "text": [
        " sn2006gr__U_17_B_18_V_30_r_prime_34_\n",
        "15)"
       ]
      },
      {
       "output_type": "stream",
       "stream": "stdout",
       "text": [
        " sn2006le__U_36_B_31_V_55_r_prime_53_\n",
        "16)"
       ]
      },
      {
       "output_type": "stream",
       "stream": "stdout",
       "text": [
        " sn2006lf__U_3_B_24_V_34_r_prime_33_i\n",
        "17)"
       ]
      },
      {
       "output_type": "stream",
       "stream": "stdout",
       "text": [
        " sn2006N__U_26_B_24_V_31_r_prime_30_i\n",
        "18)"
       ]
      },
      {
       "output_type": "stream",
       "stream": "stdout",
       "text": [
        " sn2006X__U_34_B_37_V_50_r_prime_51_i\n",
        "19)"
       ]
      },
      {
       "output_type": "stream",
       "stream": "stdout",
       "text": [
        " sn2007ca__B_13_V_16_r_prime_15_i_pri\n",
        "20) sn2007co__U_19_B_23_V_28_r_prime_27_\n",
        "21)"
       ]
      },
      {
       "output_type": "stream",
       "stream": "stdout",
       "text": [
        " sn2007cq__B_26_V_29_r_prime_29_i_pri\n",
        "22)"
       ]
      },
      {
       "output_type": "stream",
       "stream": "stdout",
       "text": [
        " sn2007le__B_19_V_26_r_prime_26_i_pri\n",
        "23)"
       ]
      },
      {
       "output_type": "stream",
       "stream": "stdout",
       "text": [
        " sn2007nq__B_14_V_17_r_prime_17_i_pri\n",
        "24)"
       ]
      },
      {
       "output_type": "stream",
       "stream": "stdout",
       "text": [
        " sn2007qe__B_43_V_24_r_prime_26_i_pri\n",
        "25)"
       ]
      },
      {
       "output_type": "stream",
       "stream": "stdout",
       "text": [
        " sn2007rx__B_11_V_13_r_prime_13_i_pri\n",
        "26)"
       ]
      },
      {
       "output_type": "stream",
       "stream": "stdout",
       "text": [
        " sn2007S__B_40_V_48_r_prime_50_i_prim\n",
        "27)"
       ]
      },
      {
       "output_type": "stream",
       "stream": "stdout",
       "text": [
        " sn2008af__B_11_V_10_r_prime_11_i_pri\n",
        "28)"
       ]
      },
      {
       "output_type": "stream",
       "stream": "stdout",
       "text": [
        " sn2008C__B_19_V_19_r_prime_19_i_prim\n",
        "29)"
       ]
      },
      {
       "output_type": "stream",
       "stream": "stdout",
       "text": [
        " sn2008fr__U_17_B_19_V_21_r_prime_19_\n",
        "30)"
       ]
      },
      {
       "output_type": "stream",
       "stream": "stdout",
       "text": [
        " sn2008gb__U_5_B_14_V_15_r_prime_14_i\n",
        "31)"
       ]
      },
      {
       "output_type": "stream",
       "stream": "stdout",
       "text": [
        " sn2008gl__B_13_V_13_r_prime_13_i_pri\n",
        "32)"
       ]
      },
      {
       "output_type": "stream",
       "stream": "stdout",
       "text": [
        " sn2008hm__U_13_B_17_V_23_r_prime_21_\n",
        "33)"
       ]
      },
      {
       "output_type": "stream",
       "stream": "stdout",
       "text": [
        " sn2008hs__U_2_B_15_V_20_r_prime_20_i\n",
        "34)"
       ]
      },
      {
       "output_type": "stream",
       "stream": "stdout",
       "text": [
        " sn2008hv__B_31_V_36_r_prime_37_i_pri\n",
        "35)"
       ]
      },
      {
       "output_type": "stream",
       "stream": "stdout",
       "text": [
        " sn2008Z__U_12_B_24_V_25_r_prime_24_i\n",
        "36)"
       ]
      },
      {
       "output_type": "stream",
       "stream": "stdout",
       "text": [
        " sn2009ad__u_prime_10_B_18_V_19_r_pri\n",
        "37)"
       ]
      },
      {
       "output_type": "stream",
       "stream": "stdout",
       "text": [
        " sn2009al__u_prime_3_B_20_V_20_r_prim\n",
        "38)"
       ]
      },
      {
       "output_type": "stream",
       "stream": "stdout",
       "text": [
        " sn2009an__u_prime_4_B_20_V_21_r_prim\n",
        "39)"
       ]
      },
      {
       "output_type": "stream",
       "stream": "stdout",
       "text": [
        " sn2009bv__B_18_V_18_r_prime_15_i_pri\n",
        "40)"
       ]
      },
      {
       "output_type": "stream",
       "stream": "stdout",
       "text": [
        " sn2009D__B_15_V_18_r_prime_17_i_prim\n",
        "41)"
       ]
      },
      {
       "output_type": "stream",
       "stream": "stdout",
       "text": [
        " sn2009do__u_prime_3_B_15_V_18_r_prim\n",
        "42)"
       ]
      },
      {
       "output_type": "stream",
       "stream": "stdout",
       "text": [
        " sn2009ds__B_8_V_12_r_prime_13_i_prim\n",
        "43)"
       ]
      },
      {
       "output_type": "stream",
       "stream": "stdout",
       "text": [
        " sn2009fv__B_7_V_6_r_prime_6_i_prime_\n",
        "44)"
       ]
      },
      {
       "output_type": "stream",
       "stream": "stdout",
       "text": [
        " sn2009ig__u_prime_18_B_26_V_26_r_pri\n",
        "45)"
       ]
      },
      {
       "output_type": "stream",
       "stream": "stdout",
       "text": [
        " sn2009jr__B_16_V_16_r_prime_15_i_pri\n",
        "46)"
       ]
      },
      {
       "output_type": "stream",
       "stream": "stdout",
       "text": [
        " sn2009kk__B_18_V_19_r_prime_19_i_pri\n",
        "47)"
       ]
      },
      {
       "output_type": "stream",
       "stream": "stdout",
       "text": [
        " sn2009kq__u_prime_14_B_19_V_21_r_pri\n",
        "48)"
       ]
      },
      {
       "output_type": "stream",
       "stream": "stdout",
       "text": [
        " sn2009le__u_prime_6_B_8_V_7_r_prime_\n",
        "49)"
       ]
      },
      {
       "output_type": "stream",
       "stream": "stdout",
       "text": [
        " sn2009lf__B_11_V_16_r_prime_16_i_pri\n",
        "50)"
       ]
      },
      {
       "output_type": "stream",
       "stream": "stdout",
       "text": [
        " sn2009na__u_prime_3_B_14_V_15_r_prim\n",
        "51)"
       ]
      },
      {
       "output_type": "stream",
       "stream": "stdout",
       "text": [
        " sn2010ag__u_prime_3_B_13_V_17_r_prim\n",
        "52) sn2010ai__B_16_V_22_r_prime_21_i_pri\n",
        "53)"
       ]
      },
      {
       "output_type": "stream",
       "stream": "stdout",
       "text": [
        " sn2010dw__B_7_V_8_r_prime_8_i_prime_\n",
        "54)"
       ]
      },
      {
       "output_type": "stream",
       "stream": "stdout",
       "text": [
        " sn2010gn__B_4_V_4_r_prime_5_i_prime_\n",
        "55)"
       ]
      },
      {
       "output_type": "stream",
       "stream": "stdout",
       "text": [
        " sn2010iw__B_23_V_23_r_prime_24_i_pri\n",
        "56)"
       ]
      },
      {
       "output_type": "stream",
       "stream": "stdout",
       "text": [
        " sn2010ju__B_14_V_15_r_prime_16_i_pri\n",
        "57)"
       ]
      },
      {
       "output_type": "stream",
       "stream": "stdout",
       "text": [
        " sn2010kg__B_23_V_23_r_prime_23_i_pri\n",
        "58)"
       ]
      },
      {
       "output_type": "stream",
       "stream": "stdout",
       "text": [
        " sn2010Y__u_prime_1_B_21_V_23_r_prime\n",
        "59)"
       ]
      },
      {
       "output_type": "stream",
       "stream": "stdout",
       "text": [
        " sn2011ae__B_8_V_10_r_prime_10_i_prim\n",
        "60)"
       ]
      },
      {
       "output_type": "stream",
       "stream": "stdout",
       "text": [
        " sn2011ao__B_16_V_36_r_prime_39_i_pri\n",
        "61)"
       ]
      },
      {
       "output_type": "stream",
       "stream": "stdout",
       "text": [
        " sn2011B__B_30_V_31_r_prime_36_i_prim\n",
        "62)"
       ]
      },
      {
       "output_type": "stream",
       "stream": "stdout",
       "text": [
        " sn2011by__B_38_V_23_r_prime_31_i_pri\n",
        "63) sn2011df__B_15_V_15_r_prime_15_i_pri\n",
        "64)"
       ]
      },
      {
       "output_type": "stream",
       "stream": "stdout",
       "text": [
        " sn2011K__B_4_V_7_r_prime_7_i_prime_8\n",
        "65) snf20080514-002__J_9_H_9_K_8__CfAIR2\n",
        "66)"
       ]
      },
      {
       "output_type": "stream",
       "stream": "stdout",
       "text": [
        " snf20080522-000__B_9_V_12_r_prime_15\n",
        "67)"
       ]
      },
      {
       "output_type": "stream",
       "stream": "stdout",
       "text": [
        " snf20080522-011__B_16_V_18_r_prime_1\n",
        "   \n",
        "# -- 67 SNe in subsample CfA with data in J band: done. -- \n",
        "68 # SNe read with extension '_StdFilt.snpy.'\n"
       ]
      }
     ],
     "prompt_number": 13
    },
    {
     "cell_type": "code",
     "collapsed": false,
     "input": [
      "%run \"/Users/arturo/Dropbox/Research/Articulos/10_AndyKaisey/10Compute/\\\n",
      "github/LowzNIRFit/6_Canopy_AbsAppMag_Phase_ForEachBand_v5_15.py\" J CSP"
     ],
     "language": "python",
     "metadata": {},
     "outputs": [
      {
       "output_type": "stream",
       "stream": "stdout",
       "text": [
        "[  1.88542500e+02   2.66556000e+00   5.79067269e-03   3.33564095e-06\n",
        "   3.19220839e-03   2.00138457e-05   9.20636903e-04   5.00346143e-04\n",
        "   2.00000000e+00]\n",
        "38.2202031449\n",
        "106"
       ]
      },
      {
       "output_type": "stream",
       "stream": "stdout",
       "text": [
        " SNe read with extension '_StdFilt.snpy.'\n",
        "SNe with data in band J:\n",
        "1)"
       ]
      },
      {
       "output_type": "stream",
       "stream": "stdout",
       "text": [
        " sn1999ee__U_45_B_118_V_126_R_53_I_10\n",
        "2)"
       ]
      },
      {
       "output_type": "stream",
       "stream": "stdout",
       "text": [
        " sn2000bh__B_12_V_12_R_9_I_11_Y_CSP_6\n",
        "3)"
       ]
      },
      {
       "output_type": "stream",
       "stream": "stdout",
       "text": [
        " sn2000ca__U_6_B_18_V_18_R_18_I_18_J_\n",
        "4)"
       ]
      },
      {
       "output_type": "stream",
       "stream": "stdout",
       "text": [
        " sn2001ba__B_30_V_34_I_33_J_CSP_15_H_\n",
        "5)"
       ]
      },
      {
       "output_type": "stream",
       "stream": "stdout",
       "text": [
        " sn2004ef_dummytext_CSP_StdFilt.snpy\n",
        "6)"
       ]
      },
      {
       "output_type": "stream",
       "stream": "stdout",
       "text": [
        " sn2004eo_dummytext_CSP_StdFilt.snpy\n",
        "7)"
       ]
      },
      {
       "output_type": "stream",
       "stream": "stdout",
       "text": [
        " sn2004ey_dummytext_CSP_StdFilt.snpy\n",
        "8)"
       ]
      },
      {
       "output_type": "stream",
       "stream": "stdout",
       "text": [
        " sn2004gs_dummytext_CSP_StdFilt.snpy\n",
        "9)"
       ]
      },
      {
       "output_type": "stream",
       "stream": "stdout",
       "text": [
        " sn2004gu_dummytext_CSP_StdFilt.snpy\n",
        "10)"
       ]
      },
      {
       "output_type": "stream",
       "stream": "stdout",
       "text": [
        " sn2005al_dummytext_CSP_StdFilt.snpy\n",
        "11)"
       ]
      },
      {
       "output_type": "stream",
       "stream": "stdout",
       "text": [
        " sn2005am_dummytext_CSP_StdFilt.snpy\n",
        "12)"
       ]
      },
      {
       "output_type": "stream",
       "stream": "stdout",
       "text": [
        " sn2005el_dummytext_CSP_StdFilt.snpy\n",
        "13) sn2005el_dummytext_CSP_StdFilt.snpy\n",
        "14)"
       ]
      },
      {
       "output_type": "stream",
       "stream": "stdout",
       "text": [
        " sn2005eq_dummytext_CSP_StdFilt.snpy\n",
        "15)"
       ]
      },
      {
       "output_type": "stream",
       "stream": "stdout",
       "text": [
        " sn2005hc_dummytext_CSP_StdFilt.snpy\n",
        "16)"
       ]
      },
      {
       "output_type": "stream",
       "stream": "stdout",
       "text": [
        " sn2005iq_dummytext_CSP_StdFilt.snpy\n",
        "17)"
       ]
      },
      {
       "output_type": "stream",
       "stream": "stdout",
       "text": [
        " sn2005kc_dummytext_CSP_StdFilt.snpy\n",
        "18)"
       ]
      },
      {
       "output_type": "stream",
       "stream": "stdout",
       "text": [
        " sn2005ke_dummytext_CSP_StdFilt.snpy\n",
        "19) sn2005ke_dummytext_CSP_StdFilt.snpy\n",
        "20)"
       ]
      },
      {
       "output_type": "stream",
       "stream": "stdout",
       "text": [
        " sn2005ki_dummytext_CSP_StdFilt.snpy\n",
        "21) sn2005ki_dummytext_CSP_StdFilt.snpy\n",
        "22)"
       ]
      },
      {
       "output_type": "stream",
       "stream": "stdout",
       "text": [
        " sn2005M_dummytext_CSP_StdFilt.snpy\n",
        "23)"
       ]
      },
      {
       "output_type": "stream",
       "stream": "stdout",
       "text": [
        " sn2005na_dummytext_CSP_StdFilt.snpy\n",
        "24)"
       ]
      },
      {
       "output_type": "stream",
       "stream": "stdout",
       "text": [
        " sn2006ax_dummytext_CSP_StdFilt.snpy\n",
        "25) sn2006ax_dummytext_CSP_StdFilt.snpy\n",
        "26)"
       ]
      },
      {
       "output_type": "stream",
       "stream": "stdout",
       "text": [
        " sn2006bh_dummytext_CSP_StdFilt.snpy\n",
        "27) sn2006bh_dummytext_CSP_StdFilt.snpy\n",
        "28)"
       ]
      },
      {
       "output_type": "stream",
       "stream": "stdout",
       "text": [
        " sn2006bt_dummytext_CSP_StdFilt.snpy\n",
        "29)"
       ]
      },
      {
       "output_type": "stream",
       "stream": "stdout",
       "text": [
        " sn2006ej_dummytext_CSP_StdFilt.snpy\n",
        "30)"
       ]
      },
      {
       "output_type": "stream",
       "stream": "stdout",
       "text": [
        " sn2006et_dummytext_CSP_StdFilt.snpy\n",
        "31) sn2006et_dummytext_CSP_StdFilt.snpy\n",
        "32)"
       ]
      },
      {
       "output_type": "stream",
       "stream": "stdout",
       "text": [
        " sn2006gj_dummytext_CSP_StdFilt.snpy\n",
        "33)"
       ]
      },
      {
       "output_type": "stream",
       "stream": "stdout",
       "text": [
        " sn2006gt_dummytext_CSP_StdFilt.snpy\n",
        "34) sn2006gt_dummytext_CSP_StdFilt.snpy\n",
        "35)"
       ]
      },
      {
       "output_type": "stream",
       "stream": "stdout",
       "text": [
        " sn2006hb_dummytext_CSP_StdFilt.snpy\n",
        "36)"
       ]
      },
      {
       "output_type": "stream",
       "stream": "stdout",
       "text": [
        " sn2006hx_dummytext_CSP_StdFilt.snpy\n",
        "37)"
       ]
      },
      {
       "output_type": "stream",
       "stream": "stdout",
       "text": [
        " sn2006is_dummytext_CSP_StdFilt.snpy\n",
        "38) sn2006is_dummytext_CSP_StdFilt.snpy\n",
        "39)"
       ]
      },
      {
       "output_type": "stream",
       "stream": "stdout",
       "text": [
        " sn2006kf_dummytext_CSP_StdFilt.snpy\n",
        "40) sn2006kf_dummytext_CSP_StdFilt.snpy\n",
        "41)"
       ]
      },
      {
       "output_type": "stream",
       "stream": "stdout",
       "text": [
        " sn2006os_dummytext_CSP_StdFilt.snpy\n",
        "42) sn2006os_dummytext_CSP_StdFilt.snpy\n",
        "43)"
       ]
      },
      {
       "output_type": "stream",
       "stream": "stdout",
       "text": [
        " sn2006X_dummytext_CSP_StdFilt.snpy\n",
        "44) sn2006X_dummytext_CSP_StdFilt.snpy\n",
        "45)"
       ]
      },
      {
       "output_type": "stream",
       "stream": "stdout",
       "text": [
        " sn2007A_dummytext_CSP_StdFilt.snpy\n",
        "46)"
       ]
      },
      {
       "output_type": "stream",
       "stream": "stdout",
       "text": [
        " sn2007af_dummytext_CSP_StdFilt.snpy\n",
        "47) sn2007af_dummytext_CSP_StdFilt.snpy\n",
        "48)"
       ]
      },
      {
       "output_type": "stream",
       "stream": "stdout",
       "text": [
        " sn2007ai_dummytext_CSP_StdFilt.snpy\n",
        "49) sn2007ai_dummytext_CSP_StdFilt.snpy\n",
        "50)"
       ]
      },
      {
       "output_type": "stream",
       "stream": "stdout",
       "text": [
        " sn2007as_dummytext_CSP_StdFilt.snpy\n",
        "51)"
       ]
      },
      {
       "output_type": "stream",
       "stream": "stdout",
       "text": [
        " sn2007bc_dummytext_CSP_StdFilt.snpy\n",
        "52)"
       ]
      },
      {
       "output_type": "stream",
       "stream": "stdout",
       "text": [
        " sn2007bd_dummytext_CSP_StdFilt.snpy\n",
        "53)"
       ]
      },
      {
       "output_type": "stream",
       "stream": "stdout",
       "text": [
        " sn2007bm_dummytext_CSP_StdFilt.snpy\n",
        "54) sn2007bm_dummytext_CSP_StdFilt.snpy\n",
        "55)"
       ]
      },
      {
       "output_type": "stream",
       "stream": "stdout",
       "text": [
        " sn2007ca_dummytext_CSP_StdFilt.snpy\n",
        "56) sn2007ca_dummytext_CSP_StdFilt.snpy\n",
        "57)"
       ]
      },
      {
       "output_type": "stream",
       "stream": "stdout",
       "text": [
        " sn2007hj_dummytext_CSP_StdFilt.snpy\n",
        "58) sn2007hj_dummytext_CSP_StdFilt.snpy\n",
        "59)"
       ]
      },
      {
       "output_type": "stream",
       "stream": "stdout",
       "text": [
        " sn2007jd_dummytext_CSP_StdFilt.snpy\n",
        "60)"
       ]
      },
      {
       "output_type": "stream",
       "stream": "stdout",
       "text": [
        " sn2007jg_dummytext_CSP_StdFilt.snpy\n",
        "61)"
       ]
      },
      {
       "output_type": "stream",
       "stream": "stdout",
       "text": [
        " sn2007le_dummytext_CSP_StdFilt.snpy\n",
        "62) sn2007le_dummytext_CSP_StdFilt.snpy\n",
        "63)"
       ]
      },
      {
       "output_type": "stream",
       "stream": "stdout",
       "text": [
        " sn2007nq_dummytext_CSP_StdFilt.snpy\n",
        "64) sn2007nq_dummytext_CSP_StdFilt.snpy\n",
        "65)"
       ]
      },
      {
       "output_type": "stream",
       "stream": "stdout",
       "text": [
        " sn2007on_dummytext_CSP_StdFilt.snpy\n",
        "66) sn2007on_dummytext_CSP_StdFilt.snpy\n",
        "67)"
       ]
      },
      {
       "output_type": "stream",
       "stream": "stdout",
       "text": [
        " sn2007S_dummytext_CSP_StdFilt.snpy\n",
        "68) sn2007S_dummytext_CSP_StdFilt.snpy\n",
        "69)"
       ]
      },
      {
       "output_type": "stream",
       "stream": "stdout",
       "text": [
        " sn2007sr_dummytext_CSP_StdFilt.snpy\n",
        "70) sn2007sr_dummytext_CSP_StdFilt.snpy\n",
        "71)"
       ]
      },
      {
       "output_type": "stream",
       "stream": "stdout",
       "text": [
        " sn2007st_dummytext_CSP_StdFilt.snpy\n",
        "72) sn2007st_dummytext_CSP_StdFilt.snpy\n",
        "73)"
       ]
      },
      {
       "output_type": "stream",
       "stream": "stdout",
       "text": [
        " sn2007ux_dummytext_CSP_StdFilt.snpy\n",
        "74)"
       ]
      },
      {
       "output_type": "stream",
       "stream": "stdout",
       "text": [
        " sn2008ar_dummytext_CSP_StdFilt.snpy\n",
        "75)"
       ]
      },
      {
       "output_type": "stream",
       "stream": "stdout",
       "text": [
        " sn2008bc_dummytext_CSP_StdFilt.snpy\n",
        "76) sn2008bc_dummytext_CSP_StdFilt.snpy\n",
        "77)"
       ]
      },
      {
       "output_type": "stream",
       "stream": "stdout",
       "text": [
        " sn2008bf_dummytext_CSP_StdFilt.snpy\n",
        "78) sn2008bf_dummytext_CSP_StdFilt.snpy\n",
        "79)"
       ]
      },
      {
       "output_type": "stream",
       "stream": "stdout",
       "text": [
        " sn2008bq_dummytext_CSP_StdFilt.snpy\n",
        "80)"
       ]
      },
      {
       "output_type": "stream",
       "stream": "stdout",
       "text": [
        " sn2008C_dummytext_CSP_StdFilt.snpy\n",
        "81) sn2008C_dummytext_CSP_StdFilt.snpy\n",
        "82)"
       ]
      },
      {
       "output_type": "stream",
       "stream": "stdout",
       "text": [
        " sn2008cc_dummytext_CSP_StdFilt.snpy\n",
        "83)"
       ]
      },
      {
       "output_type": "stream",
       "stream": "stdout",
       "text": [
        " sn2008ff_dummytext_CSP_StdFilt.snpy\n",
        "84) sn2008ff_dummytext_CSP_StdFilt.snpy\n",
        "85)"
       ]
      },
      {
       "output_type": "stream",
       "stream": "stdout",
       "text": [
        " sn2008fl_dummytext_CSP_StdFilt.snpy\n",
        "86) sn2008fl_dummytext_CSP_StdFilt.snpy\n",
        "87)"
       ]
      },
      {
       "output_type": "stream",
       "stream": "stdout",
       "text": [
        " sn2008fp_dummytext_CSP_StdFilt.snpy\n",
        "88) sn2008fp_dummytext_CSP_StdFilt.snpy\n",
        "89)"
       ]
      },
      {
       "output_type": "stream",
       "stream": "stdout",
       "text": [
        " sn2008fr_dummytext_CSP_StdFilt.snpy\n",
        "90)"
       ]
      },
      {
       "output_type": "stream",
       "stream": "stdout",
       "text": [
        " sn2008fu_dummytext_CSP_StdFilt.snpy\n",
        "91)"
       ]
      },
      {
       "output_type": "stream",
       "stream": "stdout",
       "text": [
        " sn2008fw_dummytext_CSP_StdFilt.snpy\n",
        "92)"
       ]
      },
      {
       "output_type": "stream",
       "stream": "stdout",
       "text": [
        " sn2008gg_dummytext_CSP_StdFilt.snpy\n",
        "93) sn2008gg_dummytext_CSP_StdFilt.snpy\n",
        "94)"
       ]
      },
      {
       "output_type": "stream",
       "stream": "stdout",
       "text": [
        " sn2008gl_dummytext_CSP_StdFilt.snpy\n",
        "95)"
       ]
      },
      {
       "output_type": "stream",
       "stream": "stdout",
       "text": [
        " sn2008gp_dummytext_CSP_StdFilt.snpy\n",
        "96)"
       ]
      },
      {
       "output_type": "stream",
       "stream": "stdout",
       "text": [
        " sn2008hj_dummytext_CSP_StdFilt.snpy\n",
        "97)"
       ]
      },
      {
       "output_type": "stream",
       "stream": "stdout",
       "text": [
        " sn2008hu_dummytext_CSP_StdFilt.snpy\n",
        "98)"
       ]
      },
      {
       "output_type": "stream",
       "stream": "stdout",
       "text": [
        " sn2008hv_dummytext_CSP_StdFilt.snpy\n",
        "99) sn2008hv_dummytext_CSP_StdFilt.snpy\n",
        "100) sn2008hv_dummytext_CSP_StdFilt.snpy\n",
        "101) sn2008ia_dummytext_CSP_StdFilt.snpy\n",
        "102) sn2008ia_dummytext_CSP_StdFilt.snpy\n",
        "103) sn2008ia_dummytext_CSP_StdFilt.snpy\n",
        "104)"
       ]
      },
      {
       "output_type": "stream",
       "stream": "stdout",
       "text": [
        " sn2008O_dummytext_CSP_StdFilt.snpy\n",
        "105) sn2008R_dummytext_CSP_StdFilt.snpy\n",
        "106)"
       ]
      },
      {
       "output_type": "stream",
       "stream": "stdout",
       "text": [
        " sn2009aa_dummytext_CSP_StdFilt.snpy\n",
        "107) sn2009aa_dummytext_CSP_StdFilt.snpy\n",
        "108)"
       ]
      },
      {
       "output_type": "stream",
       "stream": "stdout",
       "text": [
        " sn2009ab_dummytext_CSP_StdFilt.snpy\n",
        "109)"
       ]
      },
      {
       "output_type": "stream",
       "stream": "stdout",
       "text": [
        " sn2009ad_dummytext_CSP_StdFilt.snpy\n",
        "110)"
       ]
      },
      {
       "output_type": "stream",
       "stream": "stdout",
       "text": [
        " sn2009ag_dummytext_CSP_StdFilt.snpy\n",
        "111) sn2009ag_dummytext_CSP_StdFilt.snpy\n",
        "112)"
       ]
      },
      {
       "output_type": "stream",
       "stream": "stdout",
       "text": [
        " sn2009cz_dummytext_CSP_StdFilt.snpy\n",
        "113)"
       ]
      },
      {
       "output_type": "stream",
       "stream": "stdout",
       "text": [
        " sn2009D_dummytext_CSP_StdFilt.snpy\n",
        "114) sn2009D_dummytext_CSP_StdFilt.snpy\n",
        "115)"
       ]
      },
      {
       "output_type": "stream",
       "stream": "stdout",
       "text": [
        " sn2009dc_dummytext_CSP_StdFilt.snpy\n",
        "116) sn2009dc_dummytext_CSP_StdFilt.snpy\n",
        "117)"
       ]
      },
      {
       "output_type": "stream",
       "stream": "stdout",
       "text": [
        " sn2009ds_dummytext_CSP_StdFilt.snpy\n",
        "118)"
       ]
      },
      {
       "output_type": "stream",
       "stream": "stdout",
       "text": [
        " sn2009I_dummytext_CSP_StdFilt.snpy\n",
        "119)"
       ]
      },
      {
       "output_type": "stream",
       "stream": "stdout",
       "text": [
        " sn2009le_dummytext_CSP_StdFilt.snpy\n",
        "120)"
       ]
      },
      {
       "output_type": "stream",
       "stream": "stdout",
       "text": [
        " sn2009P_dummytext_CSP_StdFilt.snpy\n",
        "121)"
       ]
      },
      {
       "output_type": "stream",
       "stream": "stdout",
       "text": [
        " sn2009Y_dummytext_CSP_StdFilt.snpy\n",
        "122) sn2009Y_dummytext_CSP_StdFilt.snpy\n",
        "   \n",
        "# -- 122 SNe in subsample CSP with data in J band: done. -- \n",
        "106 # SNe read with extension '_StdFilt.snpy.'\n"
       ]
      }
     ],
     "prompt_number": 14
    },
    {
     "cell_type": "code",
     "collapsed": false,
     "input": [
      "%run \"/Users/arturo/Dropbox/Research/Articulos/10_AndyKaisey/10Compute/\\\n",
      "github/LowzNIRFit/6_Canopy_AbsAppMag_Phase_ForEachBand_v5_15.py\" J Others"
     ],
     "language": "python",
     "metadata": {},
     "outputs": [
      {
       "output_type": "stream",
       "stream": "stdout",
       "text": [
        "[  1.88542500e+02   2.66556000e+00   5.79067269e-03   3.33564095e-06\n",
        "   3.19220839e-03   2.00138457e-05   9.20636903e-04   5.00346143e-04\n",
        "   2.00000000e+00]\n",
        "38.2202031449\n",
        "68"
       ]
      },
      {
       "output_type": "stream",
       "stream": "stdout",
       "text": [
        " SNe read with extension '_StdFilt.snpy.'\n",
        "SNe with data in band J:\n",
        "1)"
       ]
      },
      {
       "output_type": "stream",
       "stream": "stdout",
       "text": [
        " sn1999aa__U_24_B_58_V_57_R_53_I_53_J\n",
        "2)"
       ]
      },
      {
       "output_type": "stream",
       "stream": "stdout",
       "text": [
        " sn1999cl__U_8_B_15_V_17_R_16_I_16_J_\n",
        "3)"
       ]
      },
      {
       "output_type": "stream",
       "stream": "stdout",
       "text": [
        " sn1999ek__U_2_B_38_V_39_R_37_I_37_J_\n",
        "4)"
       ]
      },
      {
       "output_type": "stream",
       "stream": "stdout",
       "text": [
        " sn1999gp__U_11_B_47_V_49_R_44_I_39_J\n",
        "5)"
       ]
      },
      {
       "output_type": "stream",
       "stream": "stdout",
       "text": [
        " sn2000bk__B_9_V_9_R_9_I_9_J_18_H_16_\n",
        "6)"
       ]
      },
      {
       "output_type": "stream",
       "stream": "stdout",
       "text": [
        " sn2000ce__U_6_B_13_V_13_R_13_I_13_J_\n",
        "7)"
       ]
      },
      {
       "output_type": "stream",
       "stream": "stdout",
       "text": [
        " sn2000E__U_5_B_27_V_26_R_27_I_9_J_16\n",
        "8)"
       ]
      },
      {
       "output_type": "stream",
       "stream": "stdout",
       "text": [
        " sn2001bt__B_22_V_23_R_20_I_22_J_21_H\n",
        "9)"
       ]
      },
      {
       "output_type": "stream",
       "stream": "stdout",
       "text": [
        " sn2001cn__U_3_B_25_V_25_R_25_I_25_J_\n",
        "10) sn2001cz__B_14_V_14_R_12_I_12_J_12_H\n",
        "11)"
       ]
      },
      {
       "output_type": "stream",
       "stream": "stdout",
       "text": [
        " sn2001el__U_20_B_44_V_44_R_39_I_39_J\n",
        "12)"
       ]
      },
      {
       "output_type": "stream",
       "stream": "stdout",
       "text": [
        " sn2002bo__U_16_B_53_V_57_R_46_I_60_J\n",
        "13) sn2002dj__U_13_B_18_V_20_R_20_I_19_J\n",
        "14)"
       ]
      },
      {
       "output_type": "stream",
       "stream": "stdout",
       "text": [
        " sn2003du__U_16_B_18_V_22_R_32_I_21_J\n",
        "15)"
       ]
      },
      {
       "output_type": "stream",
       "stream": "stdout",
       "text": [
        " sn2003hv__U_24_B_70_V_70_R_69_I_66_Y\n",
        "16)"
       ]
      },
      {
       "output_type": "stream",
       "stream": "stdout",
       "text": [
        " sn2004S__U_19_B_23_V_26_R_25_I_25_J_\n",
        "17)"
       ]
      },
      {
       "output_type": "stream",
       "stream": "stdout",
       "text": [
        " sn2008fv__B_10_V_10_R_9_I_9_J_15_H_1\n",
        "18)"
       ]
      },
      {
       "output_type": "stream",
       "stream": "stdout",
       "text": [
        " sn2011fe__J_31_H_35_K_31__WIYN_mathe\n",
        "19)"
       ]
      },
      {
       "output_type": "stream",
       "stream": "stdout",
       "text": [
        " sn2014J__U_17_B_18_V_20_R_20_I_19_J_\n",
        "   \n",
        "# -- 19 SNe in subsample Others with data in J band: done. -- \n",
        "68 # SNe read with extension '_StdFilt.snpy.'\n"
       ]
      }
     ],
     "prompt_number": 15
    },
    {
     "cell_type": "code",
     "collapsed": false,
     "input": [],
     "language": "python",
     "metadata": {},
     "outputs": [],
     "prompt_number": 15
    },
    {
     "cell_type": "code",
     "collapsed": false,
     "input": [
      "%run \"/Users/arturo/Dropbox/Research/Articulos/10_AndyKaisey/10Compute/\\\n",
      "github/LowzNIRFit/6_Canopy_AbsAppMag_Phase_ForEachBand_v5_15.py\" Y CfA"
     ],
     "language": "python",
     "metadata": {},
     "outputs": [
      {
       "output_type": "stream",
       "stream": "stdout",
       "text": [
        "[  1.88542500e+02   2.66556000e+00   5.79067269e-03   3.33564095e-06\n",
        "   3.19220839e-03   2.00138457e-05   9.20636903e-04   5.00346143e-04\n",
        "   2.00000000e+00]\n",
        "38.2202031449\n",
        "68 SNe read with extension '_StdFilt.snpy.'\n",
        "SNe with data in band Y:\n",
        "   "
       ]
      },
      {
       "output_type": "stream",
       "stream": "stdout",
       "text": [
        "\n",
        "# -- 0 SNe in subsample CfA with data in Y band: done. -- \n",
        "68 # SNe read with extension '_StdFilt.snpy.'\n"
       ]
      }
     ],
     "prompt_number": 16
    },
    {
     "cell_type": "code",
     "collapsed": false,
     "input": [
      "%run \"/Users/arturo/Dropbox/Research/Articulos/10_AndyKaisey/10Compute/\\\n",
      "github/LowzNIRFit/6_Canopy_AbsAppMag_Phase_ForEachBand_v5_15.py\" Y CSP"
     ],
     "language": "python",
     "metadata": {},
     "outputs": [
      {
       "output_type": "stream",
       "stream": "stdout",
       "text": [
        "[  1.88542500e+02   2.66556000e+00   5.79067269e-03   3.33564095e-06\n",
        "   3.19220839e-03   2.00138457e-05   9.20636903e-04   5.00346143e-04\n",
        "   2.00000000e+00]\n",
        "38.2202031449\n",
        "106 SNe read with extension '_StdFilt.snpy.'\n",
        "SNe with data in band Y:\n",
        "1) sn2000bh__B_12_V_12_R_9_I_11_Y_CSP_6\n",
        "2)"
       ]
      },
      {
       "output_type": "stream",
       "stream": "stdout",
       "text": [
        " sn2004ef_dummytext_CSP_StdFilt.snpy\n",
        "3) sn2004eo_dummytext_CSP_StdFilt.snpy\n",
        "4) sn2004ey_dummytext_CSP_StdFilt.snpy\n",
        "5)"
       ]
      },
      {
       "output_type": "stream",
       "stream": "stdout",
       "text": [
        " sn2004gs_dummytext_CSP_StdFilt.snpy\n",
        "6) sn2004gu_dummytext_CSP_StdFilt.snpy\n",
        "7)"
       ]
      },
      {
       "output_type": "stream",
       "stream": "stdout",
       "text": [
        " sn2005al_dummytext_CSP_StdFilt.snpy\n",
        "8) sn2005am_dummytext_CSP_StdFilt.snpy\n",
        "9)"
       ]
      },
      {
       "output_type": "stream",
       "stream": "stdout",
       "text": [
        " sn2005el_dummytext_CSP_StdFilt.snpy\n",
        "10) sn2005el_dummytext_CSP_StdFilt.snpy\n",
        "11) sn2005eq_dummytext_CSP_StdFilt.snpy\n",
        "12)"
       ]
      },
      {
       "output_type": "stream",
       "stream": "stdout",
       "text": [
        " sn2005hc_dummytext_CSP_StdFilt.snpy\n",
        "13) sn2005iq_dummytext_CSP_StdFilt.snpy\n",
        "14)"
       ]
      },
      {
       "output_type": "stream",
       "stream": "stdout",
       "text": [
        " sn2005kc_dummytext_CSP_StdFilt.snpy\n",
        "15) sn2005ke_dummytext_CSP_StdFilt.snpy\n",
        "16)"
       ]
      },
      {
       "output_type": "stream",
       "stream": "stdout",
       "text": [
        " sn2005ke_dummytext_CSP_StdFilt.snpy\n",
        "17) sn2005ki_dummytext_CSP_StdFilt.snpy\n",
        "18) sn2005ki_dummytext_CSP_StdFilt.snpy\n",
        "19)"
       ]
      },
      {
       "output_type": "stream",
       "stream": "stdout",
       "text": [
        " sn2005ku_dummytext_CSP_StdFilt.snpy\n",
        "20) sn2005lu_dummytext_CSP_StdFilt.snpy\n",
        "21) sn2005M_dummytext_CSP_StdFilt.snpy\n",
        "22)"
       ]
      },
      {
       "output_type": "stream",
       "stream": "stdout",
       "text": [
        " sn2005na_dummytext_CSP_StdFilt.snpy\n",
        "23)"
       ]
      },
      {
       "output_type": "stream",
       "stream": "stdout",
       "text": [
        " sn2005na_dummytext_CSP_StdFilt.snpy\n",
        "24) sn2006ax_dummytext_CSP_StdFilt.snpy\n",
        "25)"
       ]
      },
      {
       "output_type": "stream",
       "stream": "stdout",
       "text": [
        " sn2006ax_dummytext_CSP_StdFilt.snpy\n",
        "26) sn2006bh_dummytext_CSP_StdFilt.snpy\n",
        "27)"
       ]
      },
      {
       "output_type": "stream",
       "stream": "stdout",
       "text": [
        " sn2006bh_dummytext_CSP_StdFilt.snpy\n",
        "28) sn2006bt_dummytext_CSP_StdFilt.snpy\n",
        "29) sn2006ej_dummytext_CSP_StdFilt.snpy\n",
        "30)"
       ]
      },
      {
       "output_type": "stream",
       "stream": "stdout",
       "text": [
        " sn2006et_dummytext_CSP_StdFilt.snpy\n",
        "31)"
       ]
      },
      {
       "output_type": "stream",
       "stream": "stdout",
       "text": [
        " sn2006et_dummytext_CSP_StdFilt.snpy\n",
        "32) sn2006gj_dummytext_CSP_StdFilt.snpy\n",
        "33)"
       ]
      },
      {
       "output_type": "stream",
       "stream": "stdout",
       "text": [
        " sn2006gj_dummytext_CSP_StdFilt.snpy\n",
        "34) sn2006gt_dummytext_CSP_StdFilt.snpy\n",
        "35)"
       ]
      },
      {
       "output_type": "stream",
       "stream": "stdout",
       "text": [
        " sn2006gt_dummytext_CSP_StdFilt.snpy\n",
        "36) sn2006hb_dummytext_CSP_StdFilt.snpy\n",
        "37) sn2006hx_dummytext_CSP_StdFilt.snpy\n",
        "38)"
       ]
      },
      {
       "output_type": "stream",
       "stream": "stdout",
       "text": [
        " sn2006is_dummytext_CSP_StdFilt.snpy\n",
        "39)"
       ]
      },
      {
       "output_type": "stream",
       "stream": "stdout",
       "text": [
        " sn2006is_dummytext_CSP_StdFilt.snpy\n",
        "40) sn2006kf_dummytext_CSP_StdFilt.snpy\n",
        "41)"
       ]
      },
      {
       "output_type": "stream",
       "stream": "stdout",
       "text": [
        " sn2006kf_dummytext_CSP_StdFilt.snpy\n",
        "42) sn2006lu_dummytext_CSP_StdFilt.snpy\n",
        "43) sn2006ob_dummytext_CSP_StdFilt.snpy\n",
        "44)"
       ]
      },
      {
       "output_type": "stream",
       "stream": "stdout",
       "text": [
        " sn2006os_dummytext_CSP_StdFilt.snpy\n",
        "45)"
       ]
      },
      {
       "output_type": "stream",
       "stream": "stdout",
       "text": [
        " sn2006os_dummytext_CSP_StdFilt.snpy\n",
        "46) sn2006X_dummytext_CSP_StdFilt.snpy\n",
        "47)"
       ]
      },
      {
       "output_type": "stream",
       "stream": "stdout",
       "text": [
        " sn2006X_dummytext_CSP_StdFilt.snpy\n",
        "48) sn2007A_dummytext_CSP_StdFilt.snpy\n",
        "49) sn2007af_dummytext_CSP_StdFilt.snpy\n",
        "50)"
       ]
      },
      {
       "output_type": "stream",
       "stream": "stdout",
       "text": [
        " sn2007af_dummytext_CSP_StdFilt.snpy\n",
        "51) sn2007ai_dummytext_CSP_StdFilt.snpy\n",
        "52)"
       ]
      },
      {
       "output_type": "stream",
       "stream": "stdout",
       "text": [
        " sn2007ai_dummytext_CSP_StdFilt.snpy\n",
        "53) sn2007as_dummytext_CSP_StdFilt.snpy\n",
        "54)"
       ]
      },
      {
       "output_type": "stream",
       "stream": "stdout",
       "text": [
        " sn2007as_dummytext_CSP_StdFilt.snpy\n",
        "55) sn2007bc_dummytext_CSP_StdFilt.snpy\n",
        "56)"
       ]
      },
      {
       "output_type": "stream",
       "stream": "stdout",
       "text": [
        " sn2007bc_dummytext_CSP_StdFilt.snpy\n",
        "57) sn2007bd_dummytext_CSP_StdFilt.snpy\n",
        "58)"
       ]
      },
      {
       "output_type": "stream",
       "stream": "stdout",
       "text": [
        " sn2007bd_dummytext_CSP_StdFilt.snpy\n",
        "59) sn2007bm_dummytext_CSP_StdFilt.snpy\n",
        "60)"
       ]
      },
      {
       "output_type": "stream",
       "stream": "stdout",
       "text": [
        " sn2007ca_dummytext_CSP_StdFilt.snpy\n",
        "61)"
       ]
      },
      {
       "output_type": "stream",
       "stream": "stdout",
       "text": [
        " sn2007ca_dummytext_CSP_StdFilt.snpy\n",
        "62) sn2007cg_dummytext_CSP_StdFilt.snpy\n",
        "63) sn2007cg_dummytext_CSP_StdFilt.snpy\n",
        "64)"
       ]
      },
      {
       "output_type": "stream",
       "stream": "stdout",
       "text": [
        " sn2007hj_dummytext_CSP_StdFilt.snpy\n",
        "65)"
       ]
      },
      {
       "output_type": "stream",
       "stream": "stdout",
       "text": [
        " sn2007hj_dummytext_CSP_StdFilt.snpy\n",
        "66) sn2007hx_dummytext_CSP_StdFilt.snpy\n",
        "67)"
       ]
      },
      {
       "output_type": "stream",
       "stream": "stdout",
       "text": [
        " sn2007hx_dummytext_CSP_StdFilt.snpy\n",
        "68) sn2007jd_dummytext_CSP_StdFilt.snpy\n",
        "69)"
       ]
      },
      {
       "output_type": "stream",
       "stream": "stdout",
       "text": [
        " sn2007jd_dummytext_CSP_StdFilt.snpy\n",
        "70)"
       ]
      },
      {
       "output_type": "stream",
       "stream": "stdout",
       "text": [
        " sn2007jg_dummytext_CSP_StdFilt.snpy\n",
        "71)"
       ]
      },
      {
       "output_type": "stream",
       "stream": "stdout",
       "text": [
        " sn2007jg_dummytext_CSP_StdFilt.snpy\n",
        "72) sn2007le_dummytext_CSP_StdFilt.snpy\n",
        "73)"
       ]
      },
      {
       "output_type": "stream",
       "stream": "stdout",
       "text": [
        " sn2007le_dummytext_CSP_StdFilt.snpy\n",
        "74)"
       ]
      },
      {
       "output_type": "stream",
       "stream": "stdout",
       "text": [
        " sn2007nq_dummytext_CSP_StdFilt.snpy\n",
        "75) sn2007nq_dummytext_CSP_StdFilt.snpy\n",
        "76) sn2007on_dummytext_CSP_StdFilt.snpy\n",
        "77)"
       ]
      },
      {
       "output_type": "stream",
       "stream": "stdout",
       "text": [
        " sn2007on_dummytext_CSP_StdFilt.snpy\n",
        "78)"
       ]
      },
      {
       "output_type": "stream",
       "stream": "stdout",
       "text": [
        " sn2007S_dummytext_CSP_StdFilt.snpy\n",
        "79) sn2007S_dummytext_CSP_StdFilt.snpy\n",
        "80)"
       ]
      },
      {
       "output_type": "stream",
       "stream": "stdout",
       "text": [
        " sn2007so_dummytext_CSP_StdFilt.snpy\n",
        "81) sn2007so_dummytext_CSP_StdFilt.snpy\n",
        "82) sn2007sr_dummytext_CSP_StdFilt.snpy\n",
        "83) sn2007sr_dummytext_CSP_StdFilt.snpy\n",
        "84)"
       ]
      },
      {
       "output_type": "stream",
       "stream": "stdout",
       "text": [
        " sn2007st_dummytext_CSP_StdFilt.snpy\n",
        "85) sn2007st_dummytext_CSP_StdFilt.snpy\n",
        "86)"
       ]
      },
      {
       "output_type": "stream",
       "stream": "stdout",
       "text": [
        " sn2007ux_dummytext_CSP_StdFilt.snpy\n",
        "87) sn2007ux_dummytext_CSP_StdFilt.snpy\n",
        "88) sn2008ar_dummytext_CSP_StdFilt.snpy\n",
        "89) sn2008ar_dummytext_CSP_StdFilt.snpy\n",
        "90)"
       ]
      },
      {
       "output_type": "stream",
       "stream": "stdout",
       "text": [
        " sn2008bc_dummytext_CSP_StdFilt.snpy\n",
        "91) sn2008bc_dummytext_CSP_StdFilt.snpy\n",
        "92) sn2008bf_dummytext_CSP_StdFilt.snpy\n",
        "93) sn2008bf_dummytext_CSP_StdFilt.snpy\n",
        "94)"
       ]
      },
      {
       "output_type": "stream",
       "stream": "stdout",
       "text": [
        " sn2008bq_dummytext_CSP_StdFilt.snpy\n",
        "95) sn2008bt_dummytext_CSP_StdFilt.snpy\n",
        "96)"
       ]
      },
      {
       "output_type": "stream",
       "stream": "stdout",
       "text": [
        " sn2008C_dummytext_CSP_StdFilt.snpy\n",
        "97) sn2008C_dummytext_CSP_StdFilt.snpy\n",
        "98)"
       ]
      },
      {
       "output_type": "stream",
       "stream": "stdout",
       "text": [
        " sn2008cc_dummytext_CSP_StdFilt.snpy\n",
        "99) sn2008cf_dummytext_CSP_StdFilt.snpy\n",
        "100) sn2008cf_dummytext_CSP_StdFilt.snpy\n",
        "101)"
       ]
      },
      {
       "output_type": "stream",
       "stream": "stdout",
       "text": [
        " sn2008ff_dummytext_CSP_StdFilt.snpy\n",
        "102) sn2008ff_dummytext_CSP_StdFilt.snpy\n",
        "103) sn2008fl_dummytext_CSP_StdFilt.snpy\n",
        "104)"
       ]
      },
      {
       "output_type": "stream",
       "stream": "stdout",
       "text": [
        " sn2008fl_dummytext_CSP_StdFilt.snpy\n",
        "105) sn2008fp_dummytext_CSP_StdFilt.snpy\n",
        "106) sn2008fp_dummytext_CSP_StdFilt.snpy\n",
        "107)"
       ]
      },
      {
       "output_type": "stream",
       "stream": "stdout",
       "text": [
        " sn2008fr_dummytext_CSP_StdFilt.snpy\n",
        "108) sn2008fr_dummytext_CSP_StdFilt.snpy\n",
        "109) sn2008fu_dummytext_CSP_StdFilt.snpy\n",
        "110) sn2008fu_dummytext_CSP_StdFilt.snpy\n",
        "111)"
       ]
      },
      {
       "output_type": "stream",
       "stream": "stdout",
       "text": [
        " sn2008fw_dummytext_CSP_StdFilt.snpy\n",
        "112) sn2008gg_dummytext_CSP_StdFilt.snpy\n",
        "113) sn2008gg_dummytext_CSP_StdFilt.snpy\n",
        "114) sn2008gl_dummytext_CSP_StdFilt.snpy\n",
        "115)"
       ]
      },
      {
       "output_type": "stream",
       "stream": "stdout",
       "text": [
        " sn2008go_dummytext_CSP_StdFilt.snpy\n",
        "116)"
       ]
      },
      {
       "output_type": "stream",
       "stream": "stdout",
       "text": [
        " sn2008gp_dummytext_CSP_StdFilt.snpy\n",
        "117) sn2008hj_dummytext_CSP_StdFilt.snpy\n",
        "118)"
       ]
      },
      {
       "output_type": "stream",
       "stream": "stdout",
       "text": [
        " sn2008hu_dummytext_CSP_StdFilt.snpy\n",
        "119) sn2008hv_dummytext_CSP_StdFilt.snpy\n",
        "120) sn2008hv_dummytext_CSP_StdFilt.snpy\n",
        "121)"
       ]
      },
      {
       "output_type": "stream",
       "stream": "stdout",
       "text": [
        " sn2008ia_dummytext_CSP_StdFilt.snpy\n",
        "122) sn2008ia_dummytext_CSP_StdFilt.snpy\n",
        "123) sn2008O_dummytext_CSP_StdFilt.snpy\n",
        "124) sn2008O_dummytext_CSP_StdFilt.snpy\n",
        "125)"
       ]
      },
      {
       "output_type": "stream",
       "stream": "stdout",
       "text": [
        " sn2008R_dummytext_CSP_StdFilt.snpy\n",
        "126) sn2009aa_dummytext_CSP_StdFilt.snpy\n",
        "127) sn2009aa_dummytext_CSP_StdFilt.snpy\n",
        "128)"
       ]
      },
      {
       "output_type": "stream",
       "stream": "stdout",
       "text": [
        " sn2009ab_dummytext_CSP_StdFilt.snpy\n",
        "129) sn2009ad_dummytext_CSP_StdFilt.snpy\n",
        "130) sn2009ag_dummytext_CSP_StdFilt.snpy\n",
        "131)"
       ]
      },
      {
       "output_type": "stream",
       "stream": "stdout",
       "text": [
        " sn2009ag_dummytext_CSP_StdFilt.snpy\n",
        "132) sn2009cz_dummytext_CSP_StdFilt.snpy\n",
        "133)"
       ]
      },
      {
       "output_type": "stream",
       "stream": "stdout",
       "text": [
        " sn2009D_dummytext_CSP_StdFilt.snpy\n",
        "134) sn2009D_dummytext_CSP_StdFilt.snpy\n",
        "135) sn2009dc_dummytext_CSP_StdFilt.snpy\n",
        "136) sn2009dc_dummytext_CSP_StdFilt.snpy\n",
        "137)"
       ]
      },
      {
       "output_type": "stream",
       "stream": "stdout",
       "text": [
        " sn2009ds_dummytext_CSP_StdFilt.snpy\n",
        "138) sn2009I_dummytext_CSP_StdFilt.snpy\n",
        "139) sn2009J_dummytext_CSP_StdFilt.snpy\n",
        "140) sn2009le_dummytext_CSP_StdFilt.snpy\n",
        "141)"
       ]
      },
      {
       "output_type": "stream",
       "stream": "stdout",
       "text": [
        " sn2009P_dummytext_CSP_StdFilt.snpy\n",
        "142) sn2009Y_dummytext_CSP_StdFilt.snpy\n",
        "143) sn2009Y_dummytext_CSP_StdFilt.snpy\n",
        "   \n",
        "# -- 143 SNe in subsample CSP with data in Y band: done. -- \n",
        "106 # SNe read with extension '_StdFilt.snpy.'\n"
       ]
      }
     ],
     "prompt_number": 17
    },
    {
     "cell_type": "code",
     "collapsed": false,
     "input": [
      "%run \"/Users/arturo/Dropbox/Research/Articulos/10_AndyKaisey/10Compute/\\\n",
      "github/LowzNIRFit/6_Canopy_AbsAppMag_Phase_ForEachBand_v5_15.py\" Y Others"
     ],
     "language": "python",
     "metadata": {},
     "outputs": [
      {
       "output_type": "stream",
       "stream": "stdout",
       "text": [
        "[  1.88542500e+02   2.66556000e+00   5.79067269e-03   3.33564095e-06\n",
        "   3.19220839e-03   2.00138457e-05   9.20636903e-04   5.00346143e-04\n",
        "   2.00000000e+00]\n",
        "38.2202031449\n",
        "68 SNe read with extension '_StdFilt.snpy.'\n",
        "SNe with data in band Y:\n",
        "1)"
       ]
      },
      {
       "output_type": "stream",
       "stream": "stdout",
       "text": [
        " sn2003hv__U_24_B_70_V_70_R_69_I_66_Y\n",
        "   "
       ]
      },
      {
       "output_type": "stream",
       "stream": "stdout",
       "text": [
        "\n",
        "# -- 1 SNe in subsample Others with data in Y band: done. -- \n",
        "68 # SNe read with extension '_StdFilt.snpy.'\n"
       ]
      }
     ],
     "prompt_number": 18
    },
    {
     "cell_type": "code",
     "collapsed": false,
     "input": [],
     "language": "python",
     "metadata": {},
     "outputs": [],
     "prompt_number": 18
    },
    {
     "cell_type": "code",
     "collapsed": false,
     "input": [
      "%run \"/Users/arturo/Dropbox/Research/Articulos/10_AndyKaisey/10Compute/\\\n",
      "github/LowzNIRFit/6_Canopy_AbsAppMag_Phase_ForEachBand_v5_15.py\" H CfA"
     ],
     "language": "python",
     "metadata": {},
     "outputs": [
      {
       "output_type": "stream",
       "stream": "stdout",
       "text": [
        "[  1.88542500e+02   2.66556000e+00   5.79067269e-03   3.33564095e-06\n",
        "   3.19220839e-03   2.00138457e-05   9.20636903e-04   5.00346143e-04\n",
        "   2.00000000e+00]\n",
        "38.2202031449\n",
        "68 SNe read with extension '_StdFilt.snpy.'\n",
        "SNe with data in band H:\n",
        "1) sn1998bu__U_69_B_97_V_110_R_87_I_108\n",
        "2) sn2005bo__J_15_H_16_K_13__CfAIR2_fri\n",
        "3)"
       ]
      },
      {
       "output_type": "stream",
       "stream": "stdout",
       "text": [
        " sn2005cf__U_36_B_19_V_21_r_prime_17_\n",
        "4) sn2005el__U_55_B_39_V_55_r_prime_52_\n",
        "5) sn2005eq__U_22_B_24_V_33_r_prime_32_\n",
        "6)"
       ]
      },
      {
       "output_type": "stream",
       "stream": "stdout",
       "text": [
        " sn2005eu__B_16_V_25_r_prime_28_i_pri\n",
        "7) sn2005iq__U_7_B_15_V_14_r_prime_15_i\n",
        "8) sn2005ls__U_12_B_14_V_19_r_prime_19_\n",
        "9) sn2005na__U_13_B_13_V_21_r_prime_23_\n",
        "10)"
       ]
      },
      {
       "output_type": "stream",
       "stream": "stdout",
       "text": [
        " sn2006ac__U_27_B_23_V_30_r_prime_33_\n",
        "11) sn2006ax__U_37_B_23_V_23_r_prime_24_\n",
        "12) sn2006cp__U_6_B_7_V_8_r_prime_10_i_p\n",
        "13)"
       ]
      },
      {
       "output_type": "stream",
       "stream": "stdout",
       "text": [
        " sn2006D__U_24_B_22_V_26_r_prime_29_i\n",
        "14) sn2006gr__U_17_B_18_V_30_r_prime_34_\n",
        "15)"
       ]
      },
      {
       "output_type": "stream",
       "stream": "stdout",
       "text": [
        " sn2006le__U_36_B_31_V_55_r_prime_53_\n",
        "16) sn2006lf__U_3_B_24_V_34_r_prime_33_i\n",
        "17) sn2006N__U_26_B_24_V_31_r_prime_30_i\n",
        "18)"
       ]
      },
      {
       "output_type": "stream",
       "stream": "stdout",
       "text": [
        " sn2006X__U_34_B_37_V_50_r_prime_51_i\n",
        "19) sn2007ca__B_13_V_16_r_prime_15_i_pri\n",
        "20)"
       ]
      },
      {
       "output_type": "stream",
       "stream": "stdout",
       "text": [
        " sn2007co__U_19_B_23_V_28_r_prime_27_\n",
        "21) sn2007cq__B_26_V_29_r_prime_29_i_pri\n",
        "22) sn2007le__B_19_V_26_r_prime_26_i_pri\n",
        "23)"
       ]
      },
      {
       "output_type": "stream",
       "stream": "stdout",
       "text": [
        " sn2007qe__B_43_V_24_r_prime_26_i_pri\n",
        "24) sn2007rx__B_11_V_13_r_prime_13_i_pri\n",
        "25) sn2007S__B_40_V_48_r_prime_50_i_prim\n",
        "26) sn2008af__B_11_V_10_r_prime_11_i_pri\n",
        "27)"
       ]
      },
      {
       "output_type": "stream",
       "stream": "stdout",
       "text": [
        " sn2008C__B_19_V_19_r_prime_19_i_prim\n",
        "28) sn2008fr__U_17_B_19_V_21_r_prime_19_\n",
        "29) sn2008gb__U_5_B_14_V_15_r_prime_14_i\n",
        "30) sn2008gl__B_13_V_13_r_prime_13_i_pri\n",
        "31)"
       ]
      },
      {
       "output_type": "stream",
       "stream": "stdout",
       "text": [
        " sn2008hm__U_13_B_17_V_23_r_prime_21_\n",
        "32) sn2008hs__U_2_B_15_V_20_r_prime_20_i\n",
        "33) sn2008hv__B_31_V_36_r_prime_37_i_pri\n",
        "34)"
       ]
      },
      {
       "output_type": "stream",
       "stream": "stdout",
       "text": [
        " sn2008Z__U_12_B_24_V_25_r_prime_24_i\n",
        "35) sn2009ad__u_prime_10_B_18_V_19_r_pri\n",
        "36) sn2009al__u_prime_3_B_20_V_20_r_prim\n",
        "37)"
       ]
      },
      {
       "output_type": "stream",
       "stream": "stdout",
       "text": [
        " sn2009an__u_prime_4_B_20_V_21_r_prim\n",
        "38) sn2009bv__B_18_V_18_r_prime_15_i_pri\n",
        "39) sn2009D__B_15_V_18_r_prime_17_i_prim\n",
        "40) sn2009do__u_prime_3_B_15_V_18_r_prim\n",
        "41)"
       ]
      },
      {
       "output_type": "stream",
       "stream": "stdout",
       "text": [
        " sn2009ds__B_8_V_12_r_prime_13_i_prim\n",
        "42) sn2009fv__B_7_V_6_r_prime_6_i_prime_\n",
        "43) sn2009ig__u_prime_18_B_26_V_26_r_pri\n",
        "44) sn2009jr__B_16_V_16_r_prime_15_i_pri\n",
        "45)"
       ]
      },
      {
       "output_type": "stream",
       "stream": "stdout",
       "text": [
        " sn2009kk__B_18_V_19_r_prime_19_i_pri\n",
        "46) sn2009kq__u_prime_14_B_19_V_21_r_pri\n",
        "47) sn2009le__u_prime_6_B_8_V_7_r_prime_\n",
        "48) sn2009lf__B_11_V_16_r_prime_16_i_pri\n",
        "49)"
       ]
      },
      {
       "output_type": "stream",
       "stream": "stdout",
       "text": [
        " sn2009na__u_prime_3_B_14_V_15_r_prim\n",
        "50) sn2010ag__u_prime_3_B_13_V_17_r_prim\n",
        "51) sn2010ai__B_16_V_22_r_prime_21_i_pri\n",
        "52) sn2010dw__B_7_V_8_r_prime_8_i_prime_\n",
        "53)"
       ]
      },
      {
       "output_type": "stream",
       "stream": "stdout",
       "text": [
        " sn2010gn__B_4_V_4_r_prime_5_i_prime_\n",
        "54) sn2010iw__B_23_V_23_r_prime_24_i_pri\n",
        "55) sn2010ju__B_14_V_15_r_prime_16_i_pri\n",
        "56) sn2010kg__B_23_V_23_r_prime_23_i_pri\n",
        "57)"
       ]
      },
      {
       "output_type": "stream",
       "stream": "stdout",
       "text": [
        " sn2010Y__u_prime_1_B_21_V_23_r_prime\n",
        "58) sn2011ae__B_8_V_10_r_prime_10_i_prim\n",
        "59) sn2011ao__B_16_V_36_r_prime_39_i_pri\n",
        "60)"
       ]
      },
      {
       "output_type": "stream",
       "stream": "stdout",
       "text": [
        " sn2011B__B_30_V_31_r_prime_36_i_prim\n",
        "61) sn2011by__B_38_V_23_r_prime_31_i_pri\n",
        "62) sn2011df__B_15_V_15_r_prime_15_i_pri\n",
        "63) sn2011K__B_4_V_7_r_prime_7_i_prime_8\n",
        "64)"
       ]
      },
      {
       "output_type": "stream",
       "stream": "stdout",
       "text": [
        " snf20080514-002__J_9_H_9_K_8__CfAIR2\n",
        "65) snf20080522-000__B_9_V_12_r_prime_15\n",
        "66) snf20080522-011__B_16_V_18_r_prime_1\n",
        "   \n",
        "# -- 66 SNe in subsample CfA with data in H band: done. -- \n",
        "68 # SNe read with extension '_StdFilt.snpy.'\n"
       ]
      }
     ],
     "prompt_number": 19
    },
    {
     "cell_type": "code",
     "collapsed": false,
     "input": [
      "%run \"/Users/arturo/Dropbox/Research/Articulos/10_AndyKaisey/10Compute/\\\n",
      "github/LowzNIRFit/6_Canopy_AbsAppMag_Phase_ForEachBand_v5_15.py\" H CSP"
     ],
     "language": "python",
     "metadata": {},
     "outputs": [
      {
       "output_type": "stream",
       "stream": "stdout",
       "text": [
        "[  1.88542500e+02   2.66556000e+00   5.79067269e-03   3.33564095e-06\n",
        "   3.19220839e-03   2.00138457e-05   9.20636903e-04   5.00346143e-04\n",
        "   2.00000000e+00]\n",
        "38.2202031449\n",
        "106 SNe read with extension '_StdFilt.snpy.'\n",
        "SNe with data in band H:\n",
        "1) sn1999ee__U_45_B_118_V_126_R_53_I_10\n",
        "2) sn2000bh__B_12_V_12_R_9_I_11_Y_CSP_6\n",
        "3)"
       ]
      },
      {
       "output_type": "stream",
       "stream": "stdout",
       "text": [
        " sn2000ca__U_6_B_18_V_18_R_18_I_18_J_\n",
        "4) sn2001ba__B_30_V_34_I_33_J_CSP_15_H_\n",
        "5)"
       ]
      },
      {
       "output_type": "stream",
       "stream": "stdout",
       "text": [
        " sn2004ef_dummytext_CSP_StdFilt.snpy\n",
        "6) sn2004eo_dummytext_CSP_StdFilt.snpy\n",
        "7) sn2004ey_dummytext_CSP_StdFilt.snpy\n",
        "8)"
       ]
      },
      {
       "output_type": "stream",
       "stream": "stdout",
       "text": [
        " sn2004gs_dummytext_CSP_StdFilt.snpy\n",
        "9) sn2005al_dummytext_CSP_StdFilt.snpy\n",
        "10)"
       ]
      },
      {
       "output_type": "stream",
       "stream": "stdout",
       "text": [
        " sn2005am_dummytext_CSP_StdFilt.snpy\n",
        "11)"
       ]
      },
      {
       "output_type": "stream",
       "stream": "stdout",
       "text": [
        " sn2005el_dummytext_CSP_StdFilt.snpy\n",
        "12) sn2005el_dummytext_CSP_StdFilt.snpy\n",
        "13) sn2005eq_dummytext_CSP_StdFilt.snpy\n",
        "14)"
       ]
      },
      {
       "output_type": "stream",
       "stream": "stdout",
       "text": [
        " sn2005hc_dummytext_CSP_StdFilt.snpy\n",
        "15) sn2005iq_dummytext_CSP_StdFilt.snpy\n",
        "16)"
       ]
      },
      {
       "output_type": "stream",
       "stream": "stdout",
       "text": [
        " sn2005kc_dummytext_CSP_StdFilt.snpy\n",
        "17) sn2005ke_dummytext_CSP_StdFilt.snpy\n",
        "18)"
       ]
      },
      {
       "output_type": "stream",
       "stream": "stdout",
       "text": [
        " sn2005ke_dummytext_CSP_StdFilt.snpy\n",
        "19) sn2005ki_dummytext_CSP_StdFilt.snpy\n",
        "20) sn2005ki_dummytext_CSP_StdFilt.snpy\n",
        "21)"
       ]
      },
      {
       "output_type": "stream",
       "stream": "stdout",
       "text": [
        " sn2005M_dummytext_CSP_StdFilt.snpy\n",
        "22) sn2005na_dummytext_CSP_StdFilt.snpy\n",
        "23)"
       ]
      },
      {
       "output_type": "stream",
       "stream": "stdout",
       "text": [
        " sn2006ax_dummytext_CSP_StdFilt.snpy\n",
        "24) sn2006ax_dummytext_CSP_StdFilt.snpy\n",
        "25) sn2006bh_dummytext_CSP_StdFilt.snpy\n",
        "26)"
       ]
      },
      {
       "output_type": "stream",
       "stream": "stdout",
       "text": [
        " sn2006bt_dummytext_CSP_StdFilt.snpy\n",
        "27) sn2006et_dummytext_CSP_StdFilt.snpy\n",
        "28)"
       ]
      },
      {
       "output_type": "stream",
       "stream": "stdout",
       "text": [
        " sn2006et_dummytext_CSP_StdFilt.snpy\n",
        "29) sn2006gj_dummytext_CSP_StdFilt.snpy\n",
        "30)"
       ]
      },
      {
       "output_type": "stream",
       "stream": "stdout",
       "text": [
        " sn2006hb_dummytext_CSP_StdFilt.snpy\n",
        "31) sn2006hx_dummytext_CSP_StdFilt.snpy\n",
        "32) sn2006is_dummytext_CSP_StdFilt.snpy\n",
        "33)"
       ]
      },
      {
       "output_type": "stream",
       "stream": "stdout",
       "text": [
        " sn2006is_dummytext_CSP_StdFilt.snpy\n",
        "34) sn2006kf_dummytext_CSP_StdFilt.snpy\n",
        "35)"
       ]
      },
      {
       "output_type": "stream",
       "stream": "stdout",
       "text": [
        " sn2006os_dummytext_CSP_StdFilt.snpy\n",
        "36) sn2006os_dummytext_CSP_StdFilt.snpy\n",
        "37) sn2006X_dummytext_CSP_StdFilt.snpy\n",
        "38)"
       ]
      },
      {
       "output_type": "stream",
       "stream": "stdout",
       "text": [
        " sn2006X_dummytext_CSP_StdFilt.snpy\n",
        "39) sn2007A_dummytext_CSP_StdFilt.snpy\n",
        "40) sn2007af_dummytext_CSP_StdFilt.snpy\n",
        "41)"
       ]
      },
      {
       "output_type": "stream",
       "stream": "stdout",
       "text": [
        " sn2007af_dummytext_CSP_StdFilt.snpy\n",
        "42) sn2007ai_dummytext_CSP_StdFilt.snpy\n",
        "43) sn2007as_dummytext_CSP_StdFilt.snpy\n",
        "44)"
       ]
      },
      {
       "output_type": "stream",
       "stream": "stdout",
       "text": [
        " sn2007bc_dummytext_CSP_StdFilt.snpy\n",
        "45) sn2007bd_dummytext_CSP_StdFilt.snpy\n",
        "46) sn2007bd_dummytext_CSP_StdFilt.snpy\n",
        "47)"
       ]
      },
      {
       "output_type": "stream",
       "stream": "stdout",
       "text": [
        " sn2007bm_dummytext_CSP_StdFilt.snpy\n",
        "48) sn2007bm_dummytext_CSP_StdFilt.snpy\n",
        "49) sn2007ca_dummytext_CSP_StdFilt.snpy\n",
        "50) sn2007ca_dummytext_CSP_StdFilt.snpy\n",
        "51)"
       ]
      },
      {
       "output_type": "stream",
       "stream": "stdout",
       "text": [
        " sn2007hj_dummytext_CSP_StdFilt.snpy\n",
        "52) sn2007hj_dummytext_CSP_StdFilt.snpy\n",
        "53)"
       ]
      },
      {
       "output_type": "stream",
       "stream": "stdout",
       "text": [
        " sn2007le_dummytext_CSP_StdFilt.snpy\n",
        "54) sn2007le_dummytext_CSP_StdFilt.snpy\n",
        "55)"
       ]
      },
      {
       "output_type": "stream",
       "stream": "stdout",
       "text": [
        " sn2007on_dummytext_CSP_StdFilt.snpy\n",
        "56) sn2007on_dummytext_CSP_StdFilt.snpy\n",
        "57) sn2007S_dummytext_CSP_StdFilt.snpy\n",
        "58) sn2007S_dummytext_CSP_StdFilt.snpy\n",
        "59)"
       ]
      },
      {
       "output_type": "stream",
       "stream": "stdout",
       "text": [
        " sn2007so_dummytext_CSP_StdFilt.snpy\n",
        "60) sn2007sr_dummytext_CSP_StdFilt.snpy\n",
        "61) sn2007sr_dummytext_CSP_StdFilt.snpy\n",
        "62)"
       ]
      },
      {
       "output_type": "stream",
       "stream": "stdout",
       "text": [
        " sn2007st_dummytext_CSP_StdFilt.snpy\n",
        "63) sn2007st_dummytext_CSP_StdFilt.snpy\n",
        "64) sn2007ux_dummytext_CSP_StdFilt.snpy\n",
        "65) sn2007ux_dummytext_CSP_StdFilt.snpy\n",
        "66) sn2008ar_dummytext_CSP_StdFilt.snpy\n",
        "67)"
       ]
      },
      {
       "output_type": "stream",
       "stream": "stdout",
       "text": [
        " sn2008bc_dummytext_CSP_StdFilt.snpy\n",
        "68) sn2008bc_dummytext_CSP_StdFilt.snpy\n",
        "69) sn2008bf_dummytext_CSP_StdFilt.snpy\n",
        "70)"
       ]
      },
      {
       "output_type": "stream",
       "stream": "stdout",
       "text": [
        " sn2008bq_dummytext_CSP_StdFilt.snpy\n",
        "71) sn2008C_dummytext_CSP_StdFilt.snpy\n",
        "72) sn2008C_dummytext_CSP_StdFilt.snpy\n",
        "73)"
       ]
      },
      {
       "output_type": "stream",
       "stream": "stdout",
       "text": [
        " sn2008cc_dummytext_CSP_StdFilt.snpy\n",
        "74) sn2008cf_dummytext_CSP_StdFilt.snpy\n",
        "75) sn2008cf_dummytext_CSP_StdFilt.snpy\n",
        "76)"
       ]
      },
      {
       "output_type": "stream",
       "stream": "stdout",
       "text": [
        " sn2008ff_dummytext_CSP_StdFilt.snpy\n",
        "77) sn2008ff_dummytext_CSP_StdFilt.snpy\n",
        "78) sn2008fl_dummytext_CSP_StdFilt.snpy\n",
        "79)"
       ]
      },
      {
       "output_type": "stream",
       "stream": "stdout",
       "text": [
        " sn2008fl_dummytext_CSP_StdFilt.snpy\n",
        "80) sn2008fp_dummytext_CSP_StdFilt.snpy\n",
        "81) sn2008fp_dummytext_CSP_StdFilt.snpy\n",
        "82)"
       ]
      },
      {
       "output_type": "stream",
       "stream": "stdout",
       "text": [
        " sn2008fr_dummytext_CSP_StdFilt.snpy\n",
        "83) sn2008fu_dummytext_CSP_StdFilt.snpy\n",
        "84) sn2008fw_dummytext_CSP_StdFilt.snpy\n",
        "85)"
       ]
      },
      {
       "output_type": "stream",
       "stream": "stdout",
       "text": [
        " sn2008gg_dummytext_CSP_StdFilt.snpy\n",
        "86) sn2008gg_dummytext_CSP_StdFilt.snpy\n",
        "87) sn2008gl_dummytext_CSP_StdFilt.snpy\n",
        "88)"
       ]
      },
      {
       "output_type": "stream",
       "stream": "stdout",
       "text": [
        " sn2008gp_dummytext_CSP_StdFilt.snpy\n",
        "89) sn2008hj_dummytext_CSP_StdFilt.snpy\n",
        "90)"
       ]
      },
      {
       "output_type": "stream",
       "stream": "stdout",
       "text": [
        " sn2008hu_dummytext_CSP_StdFilt.snpy\n",
        "91) sn2008hv_dummytext_CSP_StdFilt.snpy\n",
        "92) sn2008hv_dummytext_CSP_StdFilt.snpy\n",
        "93)"
       ]
      },
      {
       "output_type": "stream",
       "stream": "stdout",
       "text": [
        " sn2008ia_dummytext_CSP_StdFilt.snpy\n",
        "94) sn2008ia_dummytext_CSP_StdFilt.snpy\n",
        "95) sn2008O_dummytext_CSP_StdFilt.snpy\n",
        "96)"
       ]
      },
      {
       "output_type": "stream",
       "stream": "stdout",
       "text": [
        " sn2008R_dummytext_CSP_StdFilt.snpy\n",
        "97) sn2009aa_dummytext_CSP_StdFilt.snpy\n",
        "98) sn2009aa_dummytext_CSP_StdFilt.snpy\n",
        "99)"
       ]
      },
      {
       "output_type": "stream",
       "stream": "stdout",
       "text": [
        " sn2009ab_dummytext_CSP_StdFilt.snpy\n",
        "100) sn2009ad_dummytext_CSP_StdFilt.snpy\n",
        "101) sn2009ag_dummytext_CSP_StdFilt.snpy\n",
        "102)"
       ]
      },
      {
       "output_type": "stream",
       "stream": "stdout",
       "text": [
        " sn2009ag_dummytext_CSP_StdFilt.snpy\n",
        "103) sn2009cz_dummytext_CSP_StdFilt.snpy\n",
        "104)"
       ]
      },
      {
       "output_type": "stream",
       "stream": "stdout",
       "text": [
        " sn2009D_dummytext_CSP_StdFilt.snpy\n",
        "105) sn2009D_dummytext_CSP_StdFilt.snpy\n",
        "106) sn2009dc_dummytext_CSP_StdFilt.snpy\n",
        "107) sn2009dc_dummytext_CSP_StdFilt.snpy\n",
        "108)"
       ]
      },
      {
       "output_type": "stream",
       "stream": "stdout",
       "text": [
        " sn2009ds_dummytext_CSP_StdFilt.snpy\n",
        "109) sn2009I_dummytext_CSP_StdFilt.snpy\n",
        "110) sn2009le_dummytext_CSP_StdFilt.snpy\n",
        "111)"
       ]
      },
      {
       "output_type": "stream",
       "stream": "stdout",
       "text": [
        " sn2009Y_dummytext_CSP_StdFilt.snpy\n",
        "112) sn2009Y_dummytext_CSP_StdFilt.snpy\n",
        "   \n",
        "# -- 112 SNe in subsample CSP with data in H band: done. -- \n",
        "106 # SNe read with extension '_StdFilt.snpy.'\n"
       ]
      }
     ],
     "prompt_number": 20
    },
    {
     "cell_type": "code",
     "collapsed": false,
     "input": [
      "%run \"/Users/arturo/Dropbox/Research/Articulos/10_AndyKaisey/10Compute/\\\n",
      "github/LowzNIRFit/6_Canopy_AbsAppMag_Phase_ForEachBand_v5_15.py\" H Others"
     ],
     "language": "python",
     "metadata": {},
     "outputs": [
      {
       "output_type": "stream",
       "stream": "stdout",
       "text": [
        "[  1.88542500e+02   2.66556000e+00   5.79067269e-03   3.33564095e-06\n",
        "   3.19220839e-03   2.00138457e-05   9.20636903e-04   5.00346143e-04\n",
        "   2.00000000e+00]\n",
        "38.2202031449\n",
        "68 SNe read with extension '_StdFilt.snpy.'\n",
        "SNe with data in band H:\n",
        "1)"
       ]
      },
      {
       "output_type": "stream",
       "stream": "stdout",
       "text": [
        " sn1999cl__U_8_B_15_V_17_R_16_I_16_J_\n",
        "2) sn1999ek__U_2_B_38_V_39_R_37_I_37_J_\n",
        "3)"
       ]
      },
      {
       "output_type": "stream",
       "stream": "stdout",
       "text": [
        " sn1999gp__U_11_B_47_V_49_R_44_I_39_J\n",
        "4) sn2000bk__B_9_V_9_R_9_I_9_J_18_H_16_\n",
        "5) sn2000ce__U_6_B_13_V_13_R_13_I_13_J_\n",
        "6) sn2000E__U_5_B_27_V_26_R_27_I_9_J_16\n",
        "7)"
       ]
      },
      {
       "output_type": "stream",
       "stream": "stdout",
       "text": [
        " sn2001bt__B_22_V_23_R_20_I_22_J_21_H\n",
        "8) sn2001cn__U_3_B_25_V_25_R_25_I_25_J_\n",
        "9) sn2001cz__B_14_V_14_R_12_I_12_J_12_H\n",
        "10)"
       ]
      },
      {
       "output_type": "stream",
       "stream": "stdout",
       "text": [
        " sn2001el__U_20_B_44_V_44_R_39_I_39_J\n",
        "11) sn2002bo__U_16_B_53_V_57_R_46_I_60_J\n",
        "12)"
       ]
      },
      {
       "output_type": "stream",
       "stream": "stdout",
       "text": [
        " sn2002dj__U_13_B_18_V_20_R_20_I_19_J\n",
        "13) sn2003du__U_16_B_18_V_22_R_32_I_21_J\n",
        "14)"
       ]
      },
      {
       "output_type": "stream",
       "stream": "stdout",
       "text": [
        " sn2003hv__U_24_B_70_V_70_R_69_I_66_Y\n",
        "15)"
       ]
      },
      {
       "output_type": "stream",
       "stream": "stdout",
       "text": [
        " sn2004S__U_19_B_23_V_26_R_25_I_25_J_\n",
        "16)"
       ]
      },
      {
       "output_type": "stream",
       "stream": "stdout",
       "text": [
        " sn2008fv__B_10_V_10_R_9_I_9_J_15_H_1\n",
        "17) sn2011fe__J_31_H_35_K_31__WIYN_mathe\n",
        "18)"
       ]
      },
      {
       "output_type": "stream",
       "stream": "stdout",
       "text": [
        " sn2014J__U_17_B_18_V_20_R_20_I_19_J_\n",
        "   \n",
        "# -- 18 SNe in subsample Others with data in H band: done. -- \n",
        "68 # SNe read with extension '_StdFilt.snpy.'\n"
       ]
      }
     ],
     "prompt_number": 21
    },
    {
     "cell_type": "code",
     "collapsed": false,
     "input": [],
     "language": "python",
     "metadata": {},
     "outputs": [],
     "prompt_number": 21
    },
    {
     "cell_type": "code",
     "collapsed": false,
     "input": [
      "%run \"/Users/arturo/Dropbox/Research/Articulos/10_AndyKaisey/10Compute/\\\n",
      "github/LowzNIRFit/6_Canopy_AbsAppMag_Phase_ForEachBand_v5_15.py\" K CfA"
     ],
     "language": "python",
     "metadata": {},
     "outputs": [
      {
       "output_type": "stream",
       "stream": "stdout",
       "text": [
        "[  1.88542500e+02   2.66556000e+00   5.79067269e-03   3.33564095e-06\n",
        "   3.19220839e-03   2.00138457e-05   9.20636903e-04   5.00346143e-04\n",
        "   2.00000000e+00]\n",
        "38.2202031449\n",
        "68 SNe read with extension '_StdFilt.snpy.'\n",
        "SNe with data in band K:\n",
        "1) sn1998bu__U_69_B_97_V_110_R_87_I_108\n",
        "2) sn2005bo__J_15_H_16_K_13__CfAIR2_fri\n",
        "3)"
       ]
      },
      {
       "output_type": "stream",
       "stream": "stdout",
       "text": [
        " sn2005cf__U_36_B_19_V_21_r_prime_17_\n",
        "4) sn2005el__U_55_B_39_V_55_r_prime_52_\n",
        "5) sn2005eq__U_22_B_24_V_33_r_prime_32_\n",
        "6)"
       ]
      },
      {
       "output_type": "stream",
       "stream": "stdout",
       "text": [
        " sn2005eu__B_16_V_25_r_prime_28_i_pri\n",
        "7) sn2005ls__U_12_B_14_V_19_r_prime_19_\n",
        "8) sn2005na__U_13_B_13_V_21_r_prime_23_\n",
        "9)"
       ]
      },
      {
       "output_type": "stream",
       "stream": "stdout",
       "text": [
        " sn2006ac__U_27_B_23_V_30_r_prime_33_\n",
        "10) sn2006ax__U_37_B_23_V_23_r_prime_24_\n",
        "11) sn2006cp__U_6_B_7_V_8_r_prime_10_i_p\n",
        "12)"
       ]
      },
      {
       "output_type": "stream",
       "stream": "stdout",
       "text": [
        " sn2006D__U_24_B_22_V_26_r_prime_29_i\n",
        "13) sn2006le__U_36_B_31_V_55_r_prime_53_\n",
        "14)"
       ]
      },
      {
       "output_type": "stream",
       "stream": "stdout",
       "text": [
        " sn2006lf__U_3_B_24_V_34_r_prime_33_i\n",
        "15) sn2006N__U_26_B_24_V_31_r_prime_30_i\n",
        "16) sn2006X__U_34_B_37_V_50_r_prime_51_i\n",
        "17)"
       ]
      },
      {
       "output_type": "stream",
       "stream": "stdout",
       "text": [
        " sn2007ca__B_13_V_16_r_prime_15_i_pri\n",
        "18) sn2007co__U_19_B_23_V_28_r_prime_27_\n",
        "19) sn2007cq__B_26_V_29_r_prime_29_i_pri\n",
        "20)"
       ]
      },
      {
       "output_type": "stream",
       "stream": "stdout",
       "text": [
        " sn2007le__B_19_V_26_r_prime_26_i_pri\n",
        "21) sn2007nq__B_14_V_17_r_prime_17_i_pri\n",
        "22) sn2007qe__B_43_V_24_r_prime_26_i_pri\n",
        "23) sn2007rx__B_11_V_13_r_prime_13_i_pri\n",
        "24)"
       ]
      },
      {
       "output_type": "stream",
       "stream": "stdout",
       "text": [
        " sn2007S__B_40_V_48_r_prime_50_i_prim\n",
        "25) sn2008af__B_11_V_10_r_prime_11_i_pri\n",
        "26) sn2008C__B_19_V_19_r_prime_19_i_prim\n",
        "27)"
       ]
      },
      {
       "output_type": "stream",
       "stream": "stdout",
       "text": [
        " sn2008fr__U_17_B_19_V_21_r_prime_19_\n",
        "28) sn2008gb__U_5_B_14_V_15_r_prime_14_i\n",
        "29) sn2008gl__B_13_V_13_r_prime_13_i_pri\n",
        "30)"
       ]
      },
      {
       "output_type": "stream",
       "stream": "stdout",
       "text": [
        " sn2008hm__U_13_B_17_V_23_r_prime_21_\n",
        "31) sn2008hs__U_2_B_15_V_20_r_prime_20_i\n",
        "32) sn2008hv__B_31_V_36_r_prime_37_i_pri\n",
        "33)"
       ]
      },
      {
       "output_type": "stream",
       "stream": "stdout",
       "text": [
        " sn2008Z__U_12_B_24_V_25_r_prime_24_i\n",
        "34) sn2009ad__u_prime_10_B_18_V_19_r_pri\n",
        "35) sn2009al__u_prime_3_B_20_V_20_r_prim\n",
        "36)"
       ]
      },
      {
       "output_type": "stream",
       "stream": "stdout",
       "text": [
        " sn2009an__u_prime_4_B_20_V_21_r_prim\n",
        "37) sn2009bv__B_18_V_18_r_prime_15_i_pri\n",
        "38) sn2009D__B_15_V_18_r_prime_17_i_prim\n",
        "39) sn2009do__u_prime_3_B_15_V_18_r_prim\n",
        "40)"
       ]
      },
      {
       "output_type": "stream",
       "stream": "stdout",
       "text": [
        " sn2009ds__B_8_V_12_r_prime_13_i_prim\n",
        "41) sn2009fv__B_7_V_6_r_prime_6_i_prime_\n",
        "42) sn2009ig__u_prime_18_B_26_V_26_r_pri\n",
        "43) sn2009jr__B_16_V_16_r_prime_15_i_pri\n",
        "44)"
       ]
      },
      {
       "output_type": "stream",
       "stream": "stdout",
       "text": [
        " sn2009kk__B_18_V_19_r_prime_19_i_pri\n",
        "45) sn2009kq__u_prime_14_B_19_V_21_r_pri\n",
        "46) sn2009le__u_prime_6_B_8_V_7_r_prime_\n",
        "47) sn2009lf__B_11_V_16_r_prime_16_i_pri\n",
        "48)"
       ]
      },
      {
       "output_type": "stream",
       "stream": "stdout",
       "text": [
        " sn2009na__u_prime_3_B_14_V_15_r_prim\n",
        "49) sn2010ag__u_prime_3_B_13_V_17_r_prim\n",
        "50) sn2010ai__B_16_V_22_r_prime_21_i_pri\n",
        "51) sn2010dw__B_7_V_8_r_prime_8_i_prime_\n",
        "52)"
       ]
      },
      {
       "output_type": "stream",
       "stream": "stdout",
       "text": [
        " sn2010iw__B_23_V_23_r_prime_24_i_pri\n",
        "53) sn2010ju__B_14_V_15_r_prime_16_i_pri\n",
        "54) sn2010kg__B_23_V_23_r_prime_23_i_pri\n",
        "55) sn2010Y__u_prime_1_B_21_V_23_r_prime\n",
        "56)"
       ]
      },
      {
       "output_type": "stream",
       "stream": "stdout",
       "text": [
        " sn2011ae__B_8_V_10_r_prime_10_i_prim\n",
        "57) sn2011ao__B_16_V_36_r_prime_39_i_pri\n",
        "58) sn2011B__B_30_V_31_r_prime_36_i_prim\n",
        "59)"
       ]
      },
      {
       "output_type": "stream",
       "stream": "stdout",
       "text": [
        " sn2011by__B_38_V_23_r_prime_31_i_pri\n",
        "60) sn2011df__B_15_V_15_r_prime_15_i_pri\n",
        "61) sn2011K__B_4_V_7_r_prime_7_i_prime_8\n",
        "62) snf20080514-002__J_9_H_9_K_8__CfAIR2\n",
        "   "
       ]
      },
      {
       "output_type": "stream",
       "stream": "stdout",
       "text": [
        "\n",
        "# -- 62 SNe in subsample CfA with data in K band: done. -- \n",
        "68 # SNe read with extension '_StdFilt.snpy.'\n"
       ]
      }
     ],
     "prompt_number": 22
    },
    {
     "cell_type": "code",
     "collapsed": false,
     "input": [
      "%run \"/Users/arturo/Dropbox/Research/Articulos/10_AndyKaisey/10Compute/\\\n",
      "github/LowzNIRFit/6_Canopy_AbsAppMag_Phase_ForEachBand_v5_15.py\" K CSP"
     ],
     "language": "python",
     "metadata": {},
     "outputs": [
      {
       "output_type": "stream",
       "stream": "stdout",
       "text": [
        "[  1.88542500e+02   2.66556000e+00   5.79067269e-03   3.33564095e-06\n",
        "   3.19220839e-03   2.00138457e-05   9.20636903e-04   5.00346143e-04\n",
        "   2.00000000e+00]\n",
        "38.2202031449\n",
        "106 SNe read with extension '_StdFilt.snpy.'\n",
        "SNe with data in band K:\n",
        "1) sn2000bh__B_12_V_12_R_9_I_11_Y_CSP_6\n",
        "2)"
       ]
      },
      {
       "output_type": "stream",
       "stream": "stdout",
       "text": [
        " sn2001ba__B_30_V_34_I_33_J_CSP_15_H_\n",
        "   "
       ]
      },
      {
       "output_type": "stream",
       "stream": "stdout",
       "text": [
        "\n",
        "# -- 2 SNe in subsample CSP with data in K band: done. -- \n",
        "106 # SNe read with extension '_StdFilt.snpy.'\n"
       ]
      }
     ],
     "prompt_number": 23
    },
    {
     "cell_type": "code",
     "collapsed": false,
     "input": [
      "%run \"/Users/arturo/Dropbox/Research/Articulos/10_AndyKaisey/10Compute/\\\n",
      "github/LowzNIRFit/6_Canopy_AbsAppMag_Phase_ForEachBand_v5_15.py\" K Others"
     ],
     "language": "python",
     "metadata": {},
     "outputs": [
      {
       "output_type": "stream",
       "stream": "stdout",
       "text": [
        "[  1.88542500e+02   2.66556000e+00   5.79067269e-03   3.33564095e-06\n",
        "   3.19220839e-03   2.00138457e-05   9.20636903e-04   5.00346143e-04\n",
        "   2.00000000e+00]\n",
        "38.2202031449\n",
        "68 SNe read with extension '_StdFilt.snpy.'\n",
        "SNe with data in band K:\n",
        "1) sn1999aa__U_24_B_58_V_57_R_53_I_53_J\n",
        "2)"
       ]
      },
      {
       "output_type": "stream",
       "stream": "stdout",
       "text": [
        " sn1999cl__U_8_B_15_V_17_R_16_I_16_J_\n",
        "3)"
       ]
      },
      {
       "output_type": "stream",
       "stream": "stdout",
       "text": [
        " sn1999gp__U_11_B_47_V_49_R_44_I_39_J\n",
        "4)"
       ]
      },
      {
       "output_type": "stream",
       "stream": "stdout",
       "text": [
        " sn2000ce__U_6_B_13_V_13_R_13_I_13_J_\n",
        "5) sn2000E__U_5_B_27_V_26_R_27_I_9_J_16\n",
        "6) sn2001bt__B_22_V_23_R_20_I_22_J_21_H\n",
        "7)"
       ]
      },
      {
       "output_type": "stream",
       "stream": "stdout",
       "text": [
        " sn2001cn__U_3_B_25_V_25_R_25_I_25_J_\n",
        "8) sn2001cz__B_14_V_14_R_12_I_12_J_12_H\n",
        "9) sn2001el__U_20_B_44_V_44_R_39_I_39_J\n",
        "10)"
       ]
      },
      {
       "output_type": "stream",
       "stream": "stdout",
       "text": [
        " sn2002bo__U_16_B_53_V_57_R_46_I_60_J\n",
        "11) sn2002dj__U_13_B_18_V_20_R_20_I_19_J\n",
        "12)"
       ]
      },
      {
       "output_type": "stream",
       "stream": "stdout",
       "text": [
        " sn2003du__U_16_B_18_V_22_R_32_I_21_J\n",
        "13) sn2003hv__U_24_B_70_V_70_R_69_I_66_Y\n",
        "14)"
       ]
      },
      {
       "output_type": "stream",
       "stream": "stdout",
       "text": [
        " sn2004S__U_19_B_23_V_26_R_25_I_25_J_\n",
        "15)"
       ]
      },
      {
       "output_type": "stream",
       "stream": "stdout",
       "text": [
        " sn2008fv__B_10_V_10_R_9_I_9_J_15_H_1\n",
        "16) sn2011fe__J_31_H_35_K_31__WIYN_mathe\n",
        "17)"
       ]
      },
      {
       "output_type": "stream",
       "stream": "stdout",
       "text": [
        " sn2014J__U_17_B_18_V_20_R_20_I_19_J_\n",
        "   \n",
        "# -- 17 SNe in subsample Others with data in K band: done. -- \n",
        "68 # SNe read with extension '_StdFilt.snpy.'\n"
       ]
      }
     ],
     "prompt_number": 24
    },
    {
     "cell_type": "code",
     "collapsed": false,
     "input": [
      "test1"
     ],
     "language": "python",
     "metadata": {},
     "outputs": []
    },
    {
     "cell_type": "code",
     "collapsed": false,
     "input": [],
     "language": "python",
     "metadata": {},
     "outputs": []
    },
    {
     "cell_type": "code",
     "collapsed": false,
     "input": [],
     "language": "python",
     "metadata": {},
     "outputs": []
    },
    {
     "cell_type": "code",
     "collapsed": false,
     "input": [],
     "language": "python",
     "metadata": {},
     "outputs": []
    },
    {
     "cell_type": "code",
     "collapsed": false,
     "input": [],
     "language": "python",
     "metadata": {},
     "outputs": []
    },
    {
     "cell_type": "code",
     "collapsed": false,
     "input": [],
     "language": "python",
     "metadata": {},
     "outputs": []
    }
   ],
   "metadata": {}
  }
 ]
}
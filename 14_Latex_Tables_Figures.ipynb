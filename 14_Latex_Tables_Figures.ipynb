{
 "cells": [
  {
   "cell_type": "markdown",
   "metadata": {},
   "source": [
    "## Create the final figures and latex table for the paper"
   ]
  },
  {
   "cell_type": "markdown",
   "metadata": {},
   "source": [
    "# User"
   ]
  },
  {
   "cell_type": "code",
   "execution_count": 1,
   "metadata": {
    "collapsed": false
   },
   "outputs": [],
   "source": [
    "Method =  'Template_M'   # template method\n",
    "# Method =  'GP_M'       # Gaussian-Process method\n",
    "\n",
    "# Peculiar velocity uncertainty to use in the plots. \n",
    "# This is just to -select- \n",
    "# the appropiate folder containing\n",
    "# the Hubble diagram that was previously computed using \n",
    "# this value of vpecFix. \n",
    "vpecFix = 150 # km/s. Options (150, 200, 300, 400)\n",
    "\n",
    "MainDir = '/Users/arturo/Dropbox/Research/Articulos/10_AndyKaisey/\\\n",
    "10Compute/TheTemplates/'\n",
    "\n",
    "DirSaveOutput = '/Users/arturo/Dropbox/Research/Articulos/10_AndyKaisey/\\\n",
    "10Latex/Plots_LatexTables_ForThePaper/'\n",
    "\n",
    "NotebookName = '14_Latex_Tables_Figures.ipynb'\n",
    "\n",
    "###################################################################\n",
    "\n",
    "#--- Fixed values ---\n",
    "c = 299792.458  # Speed of light (km/s)\n",
    "cc = 299792.458  # Speed of light (km/s)\n",
    "HoFix = 73.24 # Hubble constant (km/(s Mpc))\n",
    "\n",
    "OmMFix = 0.28 # Omega_Matter\n",
    "OmLFix = 0.72 # Omega_Lambda\n",
    "wFix = -1 # Dark energy EoS\n",
    "\n",
    "#--- Uncertainty in z_CMB:---\n",
    "\n",
    "# Dan Scolnic gave me the value of err_cz_CMB = 150 km/s about the collection \n",
    "# of z_CMB values he provided me.\n",
    "err_cz_CMB = 150 # km/s. \n",
    "\n",
    "# err_zCMB_fix =  0.0005003461427972281 when err_cz_CMB = 150 km/s\n",
    "err_zCMB_fix = err_cz_CMB/cc\n"
   ]
  },
  {
   "cell_type": "markdown",
   "metadata": {},
   "source": [
    "------"
   ]
  },
  {
   "cell_type": "markdown",
   "metadata": {},
   "source": [
    "# AUTOMATIC"
   ]
  },
  {
   "cell_type": "code",
   "execution_count": 2,
   "metadata": {
    "collapsed": true
   },
   "outputs": [
    {
     "data": {
      "text/plain": [
       "9"
      ]
     },
     "execution_count": 2,
     "metadata": {},
     "output_type": "execute_result"
    }
   ],
   "source": [
    "import numpy as np\n",
    "from matplotlib import pyplot as plt\n",
    "from scipy.integrate import quad as intquad\n",
    "\n",
    "# Anderson-Darling & Kolmogorov-Smirnov tests\n",
    "import scipy.stats as stats\n",
    "\n",
    "5+4"
   ]
  },
  {
   "cell_type": "code",
   "execution_count": null,
   "metadata": {
    "collapsed": true
   },
   "outputs": [],
   "source": []
  },
  {
   "cell_type": "markdown",
   "metadata": {},
   "source": [
    "### Read Individual YJHK bands"
   ]
  },
  {
   "cell_type": "code",
   "execution_count": 3,
   "metadata": {
    "collapsed": false
   },
   "outputs": [],
   "source": [
    "# import os\n",
    "# import glob # To read the name of the files in a given directory\n",
    "\n",
    "###################################################################\n",
    "# Directory and datatable file of distance modulus for a given band.\n",
    "\n",
    "#-------------\n",
    "\n",
    "#    Y band\n",
    "\n",
    "# Hubble diagram \n",
    "if Method == 'Template_M':\n",
    "    Y_HubbleDir = MainDir+'Y_band/Std_filters/4_HubbleDiagram_FlatPrior/AllSamples/\\\n",
    "Templ_AllSamples_z_gr_0/\\\n",
    "Phase-8_30_resid20_chi3_EBVh0.4_Method7_MinData3_vpec%s_ok/plots_HD/'%vpecFix\n",
    "    Y_HubbleDataFile = 'DistanceMu_Good_AfterCutoffs_Main_.txt'\n",
    "    Y_RMS = 'Summary_HDScatter_RMS_.txt'\n",
    "\n",
    "elif Method == 'GP_M':\n",
    "    Y_HubbleDir = MainDir+'Y_band/Std_filters/4_HubbleDiagram_FlatPrior_GP/AllSamples/\\\n",
    "vpec%s_NIRmax/plots_HD/'%vpecFix\n",
    "    Y_HubbleDataFile = 'DistanceMu_Good_AfterCutoffs_Main_.txt'\n",
    "    Y_RMS = 'Summary_HDScatter_RMS_.txt'\n",
    "\n",
    "# Template\n",
    "Y_TempDir = MainDir+'Y_band/Std_filters/3_Template_FlatPrior/AllSamples_vpec_0/z_gr_0/'\n",
    "Y_TempErrorFile  = 'Template_phase_mu_stdError_FromR_Norma.dat'\n",
    "Y_TempStdDevFile = 'Template_phase_mu_tau_FromR_Norma.dat'\n",
    "\n",
    "#-------------\n",
    "\n",
    "#    J band\n",
    "\n",
    "# Hubble diagram \n",
    "if Method == 'Template_M':\n",
    "    J_HubbleDir = MainDir+'J_band/Std_filters/4_HubbleDiagram_FlatPrior/AllSamples/\\\n",
    "Templ_AllSamples_z_gr_0/\\\n",
    "Phase-8_30_resid20_chi_1e6_EBVh0.4_Method7_MinData3_vpec%s_ok/plots_HD/'%vpecFix\n",
    "    J_HubbleDataFile = 'DistanceMu_Good_AfterCutoffs_Main_.txt'\n",
    "    J_RMS = 'Summary_HDScatter_RMS_.txt'\n",
    "    \n",
    "elif Method == 'GP_M':\n",
    "    J_HubbleDir = MainDir+'J_band/Std_filters/4_HubbleDiagram_FlatPrior_GP/AllSamples/\\\n",
    "vpec%s_NIRmax/plots_HD/'%vpecFix\n",
    "    J_HubbleDataFile = 'DistanceMu_Good_AfterCutoffs_Main_.txt'\n",
    "    J_RMS = 'Summary_HDScatter_RMS_.txt'\n",
    "\n",
    "# Template\n",
    "J_TempDir = MainDir+'J_band/Std_filters/3_Template_FlatPrior/AllSamples_vpec_0/z_gr_0/'\n",
    "J_TempErrorFile  = 'Template_phase_mu_stdError_FromR_Norma.dat'\n",
    "J_TempStdDevFile = 'Template_phase_mu_tau_FromR_Norma.dat'\n",
    "\n",
    "#-------------\n",
    "\n",
    "#    H band\n",
    "\n",
    "# Hubble diagram \n",
    "if Method == 'Template_M':\n",
    "    H_HubbleDir = MainDir+'H_band/Std_filters/4_HubbleDiagram_FlatPrior/AllSamples/\\\n",
    "Templ_AllSamples_z_gr_0/\\\n",
    "Phase-8_30_resid20_chi_1e6_EBVh0.4_Method7_MinData3_vpec%s_ok/plots_HD/'%vpecFix\n",
    "    H_HubbleDataFile = 'DistanceMu_Good_AfterCutoffs_Main_.txt'\n",
    "    H_RMS = 'Summary_HDScatter_RMS_.txt'\n",
    "    \n",
    "elif Method == 'GP_M':\n",
    "    H_HubbleDir = MainDir+'H_band/Std_filters/4_HubbleDiagram_FlatPrior_GP/AllSamples/\\\n",
    "vpec%s_NIRmax/plots_HD/'%vpecFix\n",
    "    H_HubbleDataFile = 'DistanceMu_Good_AfterCutoffs_Main_.txt'\n",
    "    H_RMS = 'Summary_HDScatter_RMS_.txt'\n",
    "\n",
    "# Template\n",
    "H_TempDir = MainDir+'H_band/Std_filters/3_Template_FlatPrior/AllSamples_vpec_0/z_gr_0/'\n",
    "H_TempErrorFile  = 'Template_phase_mu_stdError_FromR_Norma.dat'\n",
    "H_TempStdDevFile = 'Template_phase_mu_tau_FromR_Norma.dat'\n",
    "\n",
    "#-------------\n",
    "\n",
    "#    K band\n",
    "\n",
    "# Hubble diagram \n",
    "if Method == 'Template_M':\n",
    "    K_HubbleDir = MainDir+'K_band/Std_filters/4_HubbleDiagram_FlatPrior/AllSamples/\\\n",
    "Templ_AllSamples_z_gr_0/\\\n",
    "Phase-8_30_resid20_chi4_EBVh0.4_Method7_MinData3_vpec%s_ok/plots_HD/'%vpecFix\n",
    "    K_HubbleDataFile = 'DistanceMu_Good_AfterCutoffs_Main_.txt'\n",
    "    K_RMS = 'Summary_HDScatter_RMS_.txt'\n",
    "    \n",
    "elif Method == 'GP_M':\n",
    "    K_HubbleDir = MainDir+'K_band/Std_filters/4_HubbleDiagram_FlatPrior_GP/AllSamples/\\\n",
    "vpec%s_NIRmax/plots_HD/'%vpecFix\n",
    "    K_HubbleDataFile = 'DistanceMu_Good_AfterCutoffs_Main_.txt'\n",
    "    K_RMS = 'Summary_HDScatter_RMS_.txt'\n",
    "\n",
    "# Template\n",
    "K_TempDir = MainDir+'K_band/Std_filters/3_Template_FlatPrior/AllSamples_vpec_0/z_gr_0/'\n",
    "K_TempErrorFile  = 'Template_phase_mu_stdError_FromR_Norma.dat'\n",
    "K_TempStdDevFile = 'Template_phase_mu_tau_FromR_Norma.dat'\n",
    "\n",
    "###################################################################\n"
   ]
  },
  {
   "cell_type": "code",
   "execution_count": null,
   "metadata": {
    "collapsed": true
   },
   "outputs": [],
   "source": []
  },
  {
   "cell_type": "code",
   "execution_count": 4,
   "metadata": {
    "collapsed": false
   },
   "outputs": [
    {
     "name": "stdout",
     "output_type": "stream",
     "text": [
      "#        Template_M method:\n",
      "# len(Y_HubbleData) = 37 SNe, len(Y_RMSData) = 9\n",
      "# len(J_HubbleData) = 87 SNe, len(J_RMSData) = 13\n",
      "# len(H_HubbleData) = 80 SNe, len(H_RMSData) = 13\n",
      "# len(K_HubbleData) = 30 SNe, len(K_RMSData) = 13\n"
     ]
    }
   ],
   "source": [
    "# Reading the 'DistanceMu_Good_AfterCutoffs_Main_.txt' and \n",
    "# 'Summary_HDScatter_RMS_.txt' datatable files for each band\n",
    "\n",
    "Y_HubbleData = np.genfromtxt(Y_HubbleDir+Y_HubbleDataFile, \n",
    "                 dtype=['S30',\n",
    "                       float,float,float,float,float,float,float,float,float,float,\n",
    "                       float,float,float,float,float,float,float,float,float,float,\n",
    "                       float,float,float,float,float,float,float,float,float,float,\n",
    "                       float,float,float])\n",
    "Y_RMSData = np.genfromtxt(Y_HubbleDir+Y_RMS)\n",
    "\n",
    "J_HubbleData = np.genfromtxt(J_HubbleDir+J_HubbleDataFile, \n",
    "                 dtype=['S30',\n",
    "                       float,float,float,float,float,float,float,float,float,float,\n",
    "                       float,float,float,float,float,float,float,float,float,float,\n",
    "                       float,float,float,float,float,float,float,float,float,float,\n",
    "                       float,float,float])\n",
    "J_RMSData = np.genfromtxt(J_HubbleDir+J_RMS)\n",
    "\n",
    "H_HubbleData = np.genfromtxt(H_HubbleDir+H_HubbleDataFile, \n",
    "                 dtype=['S30',\n",
    "                       float,float,float,float,float,float,float,float,float,float,\n",
    "                       float,float,float,float,float,float,float,float,float,float,\n",
    "                       float,float,float,float,float,float,float,float,float,float,\n",
    "                       float,float,float])\n",
    "H_RMSData = np.genfromtxt(H_HubbleDir+H_RMS)\n",
    "\n",
    "K_HubbleData = np.genfromtxt(K_HubbleDir+K_HubbleDataFile, \n",
    "                 dtype=['S30',\n",
    "                       float,float,float,float,float,float,float,float,float,float,\n",
    "                       float,float,float,float,float,float,float,float,float,float,\n",
    "                       float,float,float,float,float,float,float,float,float,float,\n",
    "                       float,float,float])\n",
    "K_RMSData = np.genfromtxt(K_HubbleDir+K_RMS)\n",
    "\n",
    "print '#        %s method:'%Method\n",
    "print \"# len(Y_HubbleData) = %s SNe, len(Y_RMSData) = %s\"%(\n",
    "    len(Y_HubbleData), len(Y_RMSData))\n",
    "print \"# len(J_HubbleData) = %s SNe, len(J_RMSData) = %s\"%(\n",
    "    len(J_HubbleData), len(J_RMSData))\n",
    "print \"# len(H_HubbleData) = %s SNe, len(H_RMSData) = %s\"%(\n",
    "    len(H_HubbleData), len(H_RMSData))\n",
    "print \"# len(K_HubbleData) = %s SNe, len(K_RMSData) = %s\"%(\n",
    "    len(K_HubbleData), len(K_RMSData))"
   ]
  },
  {
   "cell_type": "code",
   "execution_count": 5,
   "metadata": {
    "collapsed": true
   },
   "outputs": [],
   "source": [
    "#        GP_M method:\n",
    "# len(Y_HubbleData) = 29 SNe, len(Y_RMSData) = 9\n",
    "# len(J_HubbleData) = 51 SNe, len(J_RMSData) = 13\n",
    "# len(H_HubbleData) = 45 SNe, len(H_RMSData) = 13\n",
    "# len(K_HubbleData) = 13 SNe, len(K_RMSData) = 13\n",
    "#--------------\n",
    "#        GP_M method:\n",
    "# len(Y_HubbleData) = 30 SNe, len(Y_RMSData) = 9\n",
    "# len(J_HubbleData) = 56 SNe, len(J_RMSData) = 13\n",
    "# len(H_HubbleData) = 48 SNe, len(H_RMSData) = 13\n",
    "# len(K_HubbleData) = 15 SNe, len(K_RMSData) = 13"
   ]
  },
  {
   "cell_type": "code",
   "execution_count": 6,
   "metadata": {
    "collapsed": true
   },
   "outputs": [],
   "source": [
    "#        Template_M method:\n",
    "# len(Y_HubbleData) = 39 SNe, len(Y_RMSData) = 10\n",
    "# len(J_HubbleData) = 85 SNe, len(J_RMSData) = 13\n",
    "# len(H_HubbleData) = 79 SNe, len(H_RMSData) = 13\n",
    "# len(K_HubbleData) = 34 SNe, len(K_RMSData) = 13\n",
    "#--------------\n",
    "# OLD\n",
    "#        Template_M method:\n",
    "# len(Y_HubbleData) = 29 SNe, len(Y_RMSData) = 11\n",
    "# len(J_HubbleData) = 92 SNe, len(J_RMSData) = 13\n",
    "# len(H_HubbleData) = 84 SNe, len(H_RMSData) = 13\n",
    "# len(K_HubbleData) = 43 SNe, len(K_RMSData) = 13"
   ]
  },
  {
   "cell_type": "code",
   "execution_count": null,
   "metadata": {
    "collapsed": true
   },
   "outputs": [],
   "source": []
  },
  {
   "cell_type": "markdown",
   "metadata": {},
   "source": [
    "### Read Combined NIR bands"
   ]
  },
  {
   "cell_type": "code",
   "execution_count": 7,
   "metadata": {
    "collapsed": false
   },
   "outputs": [
    {
     "name": "stdout",
     "output_type": "stream",
     "text": [
      "#        Template_M method:\n",
      "# len(AnyYJHK_HubbleData) = 89 SN, len(AllBands_RMSData) = 13\n",
      "# len(YJH_HubbleData) = 33 SN, len(YJH_RMSData) = 9\n",
      "# len(JHK_HubbleData) = 28 SN, len(JHK_RMSData) = 13\n"
     ]
    }
   ],
   "source": [
    "# Total distance modulus from combined several NIR bands\n",
    "\n",
    "if Method ==  'Template_M':\n",
    "    DirTotalMu = MainDir+'AllBands/Plots/HubbleDiagram/Template/'  \n",
    "elif Method ==  'GP_M':\n",
    "    DirTotalMu = MainDir+'AllBands/Plots/HubbleDiagram/GaussianProcess/'\n",
    "    \n",
    "try:\n",
    "    AllBands_HubbleData = np.genfromtxt(DirTotalMu+'Table_TotalMu_AllBands_Notes_.txt', \n",
    "                         dtype=['S30',\n",
    "                               float,float,float,float,float,float,float,float,float,float,\n",
    "                               float,float,float,float,float,float,float,float,float,float,\n",
    "                               float,float,float,float,float,float,float,float,float,float,\n",
    "                               float,float,float])\n",
    "except:\n",
    "    AllBands_HubbleData = np.genfromtxt(DirTotalMu+'Table_TotalMu_AllBands_.txt', \n",
    "                     dtype=['S30',\n",
    "                           float,float,float,float,float,float,float,float,float,float,\n",
    "                           float,float,float,float,float,float,float,float,float,float,\n",
    "                           float,float,float,float,float,float,float,float,float,float,\n",
    "                           float,float,float])\n",
    "AllBands_RMSData = np.genfromtxt(DirTotalMu+'AllBands/Summary_HDScatter_RMS_.txt')\n",
    "\n",
    "#-------------------------------------\n",
    "\n",
    "YJH_HubbleData = np.genfromtxt(DirTotalMu+'Table_TotalMu_YJH_.txt', \n",
    "                     dtype=['S30',\n",
    "                           float,float,float,float,float,float,float,float,float,float,\n",
    "                           float,float,float,float,float,float,float,float,float,float,\n",
    "                           float,float,float,float,float,float,float,float,float,float,\n",
    "                           float,float,float])\n",
    "YJH_RMSData = np.genfromtxt(DirTotalMu+'YJH/Summary_HDScatter_RMS_.txt')\n",
    "\n",
    "#-------------------------------------\n",
    "\n",
    "JHK_HubbleData = np.genfromtxt(DirTotalMu+'Table_TotalMu_JHK_.txt', \n",
    "                     dtype=['S30',\n",
    "                           float,float,float,float,float,float,float,float,float,float,\n",
    "                           float,float,float,float,float,float,float,float,float,float,\n",
    "                           float,float,float,float,float,float,float,float,float,float,\n",
    "                           float,float,float])\n",
    "JHK_RMSData = np.genfromtxt(DirTotalMu+'JHK/Summary_HDScatter_RMS_.txt')\n",
    "\n",
    "#-------------------------------------\n",
    "\n",
    "print '#        %s method:'%Method\n",
    "print \"# len(AnyYJHK_HubbleData) = %s SN, len(AllBands_RMSData) = %s\"%(\n",
    "    len(AllBands_HubbleData), len(AllBands_RMSData))\n",
    "print \"# len(YJH_HubbleData) = %s SN, len(YJH_RMSData) = %s\"%(\n",
    "    len(YJH_HubbleData), len(YJH_RMSData))\n",
    "print \"# len(JHK_HubbleData) = %s SN, len(JHK_RMSData) = %s\"%(\n",
    "    len(JHK_HubbleData), len(JHK_RMSData))"
   ]
  },
  {
   "cell_type": "code",
   "execution_count": 8,
   "metadata": {
    "collapsed": true
   },
   "outputs": [],
   "source": [
    "#        GP_M method:\n",
    "# len(AnyYJHK_HubbleData) = 56 SN, len(AllBands_RMSData) = 13\n",
    "# len(YJH_HubbleData) = 22 SN, len(YJH_RMSData) = 9\n",
    "# len(JHK_HubbleData) = 10 SN, len(JHK_RMSData) = 11"
   ]
  },
  {
   "cell_type": "code",
   "execution_count": 9,
   "metadata": {
    "collapsed": true
   },
   "outputs": [],
   "source": [
    "#      Template_M method:\n",
    "# len(AnyYJHK_HubbleData) = 92 SN, len(AllBands_RMSData) = 13\n",
    "# len(YJH_HubbleData) = 27 SN, len(YJH_RMSData) = 11\n",
    "# len(JHK_HubbleData) = 40 SN, len(JHK_RMSData) = 13"
   ]
  },
  {
   "cell_type": "code",
   "execution_count": null,
   "metadata": {
    "collapsed": true
   },
   "outputs": [],
   "source": []
  },
  {
   "cell_type": "markdown",
   "metadata": {},
   "source": [
    "### Read Optical-bands fits\n",
    "\n",
    "NOTES: If I don't have the optical SALT2 and SNOOPy Hubble diagrams (or one of them)"
   ]
  },
  {
   "cell_type": "code",
   "execution_count": 10,
   "metadata": {
    "collapsed": true
   },
   "outputs": [],
   "source": [
    "# Distance modulus from Snoopy and SALT2 fitting.\n",
    "\n",
    "#------------ Snoopy -------------------------\n",
    "\n",
    "DirSnoopyMu = MainDir+'AllBands/Plots/HubbleDiagram/Snoopy_opt/plots_HD/'\n",
    "\n",
    "try: \n",
    "    Snoopy_HubbleData = np.genfromtxt(DirSnoopyMu+'DistanceMu_Good_AfterCutoffs_Main_Notes_.txt', \n",
    "                                 dtype=['S30',\n",
    "                                       float,float,float,float,float,float,float,float,float,float,\n",
    "                                       float,float,float,float,float,float,float,float,float,float,\n",
    "                                       float,float,float,float,float,float,float,float,float,float,\n",
    "                                       float,float,float])\n",
    "except: \n",
    "    Snoopy_HubbleData = np.genfromtxt(DirSnoopyMu+'DistanceMu_Good_AfterCutoffs_Main_.txt', \n",
    "                                 dtype=['S30',\n",
    "                                       float,float,float,float,float,float,float,float,float,float,\n",
    "                                       float,float,float,float,float,float,float,float,float,float,\n",
    "                                       float,float,float,float,float,float,float,float,float,float,\n",
    "                                       float,float,float])\n",
    "    \n",
    "Snoopy_RMSData = np.genfromtxt(DirSnoopyMu+\"Summary_HDScatter_RMS_.txt\")\n",
    "Ho_snoopy = 72    # 72 km/s is Snoopy default value\n",
    "\n",
    "#------------ SALT2 -------------------------\n",
    "\n",
    "DirSalt2Mu = MainDir+'AllBands/Plots/HubbleDiagram/SALT2/plots_HD/'\n",
    "\n",
    "try:\n",
    "    SALT2_HubbleData = np.genfromtxt(DirSalt2Mu+'DistanceMu_Good_AfterCutoffs_Main_Notes_.txt', \n",
    "                                 dtype=['S30',\n",
    "                                       float,float,float,float,float,float,float,float,float,float,\n",
    "                                       float,float,float,float,float,float,float,float,float,float,\n",
    "                                       float,float,float,float,float,float,float,float,float,float,\n",
    "                                       float,float,float])\n",
    "except:\n",
    "    SALT2_HubbleData = np.genfromtxt(DirSalt2Mu+'DistanceMu_Good_AfterCutoffs_Main_.txt', \n",
    "                                 dtype=['S30',\n",
    "                                       float,float,float,float,float,float,float,float,float,float,\n",
    "                                       float,float,float,float,float,float,float,float,float,float,\n",
    "                                       float,float,float,float,float,float,float,float,float,float,\n",
    "                                       float,float,float])\n",
    "    \n",
    "SALT2_RMSData = np.genfromtxt(DirSalt2Mu+\"Summary_HDScatter_RMS_.txt\")\n",
    "Ho_salt2 = 73.24    # 70 km/s is SALT2 default value"
   ]
  },
  {
   "cell_type": "code",
   "execution_count": null,
   "metadata": {
    "collapsed": true
   },
   "outputs": [],
   "source": []
  },
  {
   "cell_type": "markdown",
   "metadata": {},
   "source": [
    "#### Some latex lines needed for all the output latex files."
   ]
  },
  {
   "cell_type": "code",
   "execution_count": 11,
   "metadata": {
    "collapsed": true
   },
   "outputs": [],
   "source": [
    "# Some latex lines needed for all the output latex files.\n",
    "line_0 = '\\\\renewcommand{\\\\arraystretch}{0.001} \\n'\n",
    "line_1 = '\\\\begin{table*} % The asterisk helps to center the table in the page \\n'\n",
    "line_2 = '\\\\begin{center} \\n'\n",
    "line_3 = '\\\\caption[]{Caption} \\n'\n",
    "line_4 = '\\\\scriptsize \\n'\n",
    "line_6 = '\\\\hline \\n'\n",
    "\n",
    "line_12 = '\\\\hline \\n'\n",
    "line_13 = '\\\\end{tabular} \\n'\n",
    "line_14 = '\\\\vspace{-0.5cm} \\n'\n",
    "line_15 = '\\\\label{Table_} \\n'\n",
    "line_16 = '\\\\end{center} \\n'\n",
    "line_17 = '\\\\end{table*} % The asterisk helps to center the table in the page \\n'\n",
    "line_18 = '\\\\renewcommand{\\\\arraystretch}{1} \\n'"
   ]
  },
  {
   "cell_type": "code",
   "execution_count": null,
   "metadata": {
    "collapsed": true
   },
   "outputs": [],
   "source": []
  },
  {
   "cell_type": "markdown",
   "metadata": {},
   "source": [
    "### z CMB"
   ]
  },
  {
   "cell_type": "code",
   "execution_count": 12,
   "metadata": {
    "collapsed": true
   },
   "outputs": [],
   "source": [
    "# MainDirMetadata = '/Users/arturo/Dropbox/Research/SoftwareResearch/Snoopy/AndyLCComp/\\\n",
    "# MyNotesAbout/'"
   ]
  },
  {
   "cell_type": "code",
   "execution_count": 13,
   "metadata": {
    "collapsed": false
   },
   "outputs": [
    {
     "data": {
      "text/plain": [
       "0"
      ]
     },
     "execution_count": 13,
     "metadata": {},
     "output_type": "execute_result"
    }
   ],
   "source": [
    "# (z_helio, error_z_helio)\n",
    "# From WoodVasey & Andy Friedman metadata file.\n",
    "\n",
    "\"\"\"\n",
    "InfoSN_czHelio = np.genfromtxt(MainDirMetadata+\n",
    "                    'WoodVasey_Andy/WoodVasey_AndyFriedman_zCMB_2017_08_11_Converted_.txt',\n",
    "                            usecols=(0,1,2, 16), dtype=['S24', float, float, 'S6'])\n",
    "\n",
    "# Create a dictionary: \n",
    "InfoSN_czHelio_dict ={}\n",
    "\n",
    "for i in range(len(InfoSN_czHelio)):\n",
    "    snname_int1 = InfoSN_czHelio[i][0]\n",
    "    czHelio_int1 = InfoSN_czHelio[i][1]\n",
    "    err_czHelio_int1 = InfoSN_czHelio[i][2]\n",
    "    Ref_int = InfoSN_czHelio[i][3]\n",
    "    \n",
    "    InfoSN_czHelio_dict[snname_int1] = [ czHelio_int1, err_czHelio_int1, Ref_int  ]\n",
    "    \n",
    "InfoSN_czHelio_dict['sn2006D']\n",
    "# [2556.0, 5.0, 'NED']\n",
    "\"\"\"\n",
    "0"
   ]
  },
  {
   "cell_type": "code",
   "execution_count": null,
   "metadata": {
    "collapsed": true
   },
   "outputs": [],
   "source": []
  },
  {
   "cell_type": "code",
   "execution_count": 14,
   "metadata": {
    "collapsed": false
   },
   "outputs": [
    {
     "data": {
      "text/plain": [
       "0"
      ]
     },
     "execution_count": 14,
     "metadata": {},
     "output_type": "execute_result"
    }
   ],
   "source": [
    "# (z_helio, error_z_helio, z_CMB, error_z_CMB) \n",
    "# From WoodVasey & Andy Friedman metadata file for the SPECIAL CASES\n",
    "\n",
    "\"\"\"\n",
    "InfoSN_czCMB_Special = np.genfromtxt(MainDirMetadata+\n",
    "'WoodVasey_Andy/WoodVasey_AndyFriedman_zCMB_2017_08_11_SpecialCases_Converted_Ho73_24.txt',\n",
    "                            usecols=(0,1,2, 14, 15, 16), \n",
    "                            dtype=['S10', float, float, float, float, 'S6'])\n",
    "\n",
    "# Create a dictionary: \n",
    "InfoSN_czCMB_Special_dict ={}\n",
    "\n",
    "for i in range(len(InfoSN_czCMB_Special)):\n",
    "    snname_int2 = InfoSN_czCMB_Special[i][0]\n",
    "    czHelio_int2 = InfoSN_czCMB_Special[i][1]\n",
    "    err_czHelio_int2 = InfoSN_czCMB_Special[i][2]\n",
    "    czCMB_int2 = InfoSN_czCMB_Special[i][3]\n",
    "    err_czCMB_int2 = InfoSN_czCMB_Special[i][4]\n",
    "    Ref_int = InfoSN_czHelio[i][3]\n",
    "    \n",
    "    InfoSN_czCMB_Special_dict[snname_int2] = [ czHelio_int2, err_czHelio_int2, \n",
    "                                              czCMB_int2, err_czCMB_int2, Ref_int  ]\n",
    "    \n",
    "InfoSN_czCMB_Special_dict['sn1999cl']\n",
    "# [2281.0, 3.0, 957.0, 6.0, 'NED']\n",
    "\"\"\"\n",
    "0"
   ]
  },
  {
   "cell_type": "code",
   "execution_count": null,
   "metadata": {
    "collapsed": true
   },
   "outputs": [],
   "source": []
  },
  {
   "cell_type": "code",
   "execution_count": 15,
   "metadata": {
    "collapsed": false
   },
   "outputs": [
    {
     "data": {
      "text/plain": [
       "0"
      ]
     },
     "execution_count": 15,
     "metadata": {},
     "output_type": "execute_result"
    }
   ],
   "source": [
    "# Using Michael Foley flow-corrected z_CMB + Cepheid distances + special cases\n",
    "# compiled by Andy Friedman\n",
    "\"\"\" \n",
    "InfoSN_czCMB_MFoley = np.genfromtxt(MainDirMetadata+'zCMB_FlowCorrected_MichaelFoley_original.txt',\n",
    "                            usecols=(0, 5), dtype=['S18', float])\n",
    "\n",
    "# Create a dictionary: \n",
    "InfoSN_dict ={}\n",
    "\n",
    "for i in range(len(InfoSN_czCMB_MFoley)):\n",
    "    snname_int3      = InfoSN_czCMB_MFoley[i][0]\n",
    "    czHelio_int3     = InfoSN_czHelio_dict[snname_int3][0]\n",
    "    err_czHelio_int3 = InfoSN_czHelio_dict[snname_int3][1]\n",
    "    Ref_int          = InfoSN_czHelio_dict[snname_int3][2]\n",
    "    \n",
    "    #---- Define z_CMB and err_z_CMB ------\n",
    "    \n",
    "    if snname_int3 in list(InfoSN_czCMB_Special['f0']): # Special cases\n",
    "        czCMB_int3     = InfoSN_czCMB_Special_dict[snname_int3][2]\n",
    "        err_czCMB_int3 = InfoSN_czCMB_Special_dict[snname_int3][3]\n",
    "    else: # Michael Foley's zcmb values\n",
    "        czCMB_int3     = InfoSN_czCMB_MFoley[i][1]\n",
    "        err_czCMB_int3 = 150\n",
    "    \n",
    "    InfoSN_dict[snname_int3] = [ czHelio_int3, err_czHelio_int3, \n",
    "                                              czCMB_int3, err_czCMB_int3, Ref_int  ]\n",
    "    \n",
    "InfoSN_dict['sn1998bu']\n",
    "# [897.0, 4.0, 0.0021141927350000001, 150, 'K04a']\n",
    "\"\"\"\n",
    "0"
   ]
  },
  {
   "cell_type": "code",
   "execution_count": null,
   "metadata": {
    "collapsed": true
   },
   "outputs": [],
   "source": []
  },
  {
   "cell_type": "code",
   "execution_count": 16,
   "metadata": {},
   "outputs": [
    {
     "data": {
      "text/plain": [
       "(array([  2.96204917e-03,   3.33564095e-06,   2.52508020e-03,\n",
       "          2.33494867e-04,   8.07225110e-04,   5.00346143e-04,\n",
       "          1.00000000e+00]), '\"NED;F01\"')"
      ]
     },
     "execution_count": 16,
     "metadata": {},
     "output_type": "execute_result"
    }
   ],
   "source": [
    "#       Metadata: (zhel, zcmb)\n",
    "\n",
    "DirMetadata = '/Users/arturo/Dropbox/Research/SoftwareResearch/Snoopy/\\\n",
    "AndyLCComp_2018_02/'\n",
    "\n",
    "# Reading the metadata file\n",
    "infoSNe_data = np.genfromtxt(DirMetadata+'carrick_Flow_corrections_snnames_v1.txt',\n",
    "                            dtype=['S16', float, float,'S40',float,float,\n",
    "                                   float,float,float,float,'S16', int ])\n",
    "\n",
    "# Create a dictionary:\n",
    "# {snname: zhelio, e_zhel, zcmb, e_zcmb, zcmbFlow, e_zcmbFlow, code, ref}\n",
    "\n",
    "InfoSN_dict = {infoSNe_data['f0'][i]: (np.array([\n",
    "                infoSNe_data['f4'][i]/cc, infoSNe_data['f5'][i]/cc,\n",
    "                infoSNe_data['f6'][i]/cc, infoSNe_data['f7'][i]/cc,\n",
    "                infoSNe_data['f8'][i]/cc, infoSNe_data['f9'][i]/cc,\n",
    "                infoSNe_data['f11'][i] ]), infoSNe_data['f10'][i] )\n",
    "                for i in range(len(infoSNe_data)) }\n",
    "\n",
    "InfoSN_dict['sn1998bu']\n",
    "# (array([  2.96204917e-03,   3.33564095e-06,   2.36830508e-03,\n",
    "#           8.67266648e-05,   3.13883814e-03,   5.00346143e-04,\n",
    "#           1.00000000e+00]), '\"NED;K04a;F01\"')"
   ]
  },
  {
   "cell_type": "code",
   "execution_count": 17,
   "metadata": {},
   "outputs": [
    {
     "data": {
      "text/plain": [
       "array([  2.96204917e-03,   3.33564095e-06,   2.52508020e-03,\n",
       "         2.33494867e-04,   8.07225110e-04,   5.00346143e-04,\n",
       "         1.00000000e+00])"
      ]
     },
     "execution_count": 17,
     "metadata": {},
     "output_type": "execute_result"
    }
   ],
   "source": [
    "InfoSN_dict['sn1998bu'][0]\n",
    "# array([  2.96204917e-03,   3.33564095e-06,   2.36830508e-03,\n",
    "#          8.67266648e-05,   3.13883814e-03,   5.00346143e-04,\n",
    "#          1.00000000e+00])"
   ]
  },
  {
   "cell_type": "code",
   "execution_count": 18,
   "metadata": {},
   "outputs": [
    {
     "data": {
      "text/plain": [
       "0.0029620491653595902"
      ]
     },
     "execution_count": 18,
     "metadata": {},
     "output_type": "execute_result"
    }
   ],
   "source": [
    "InfoSN_dict['sn1998bu'][0][0]\n",
    "# 0.0029620491653595902"
   ]
  },
  {
   "cell_type": "code",
   "execution_count": 19,
   "metadata": {},
   "outputs": [
    {
     "data": {
      "text/plain": [
       "'\"NED;F01\"'"
      ]
     },
     "execution_count": 19,
     "metadata": {},
     "output_type": "execute_result"
    }
   ],
   "source": [
    "InfoSN_dict['sn1998bu'][1]\n",
    "# '\"NED;K04a;F01\"'"
   ]
  },
  {
   "cell_type": "code",
   "execution_count": 20,
   "metadata": {},
   "outputs": [
    {
     "data": {
      "text/plain": [
       "'NED;F01'"
      ]
     },
     "execution_count": 20,
     "metadata": {},
     "output_type": "execute_result"
    }
   ],
   "source": [
    "InfoSN_dict['sn1998bu'][1][1:-1]\n",
    "# 'NED;K04a;F01'"
   ]
  },
  {
   "cell_type": "markdown",
   "metadata": {},
   "source": [
    "### Cepheid distances"
   ]
  },
  {
   "cell_type": "code",
   "execution_count": 21,
   "metadata": {
    "collapsed": false
   },
   "outputs": [
    {
     "name": "stdout",
     "output_type": "stream",
     "text": [
      "['sn1981B' 'sn1998aq' 'sn2001el' 'sn2002fk' 'sn2003du' 'sn2005cf'\n",
      " 'sn2007af' 'sn2007sr' 'sn2009ig' 'sn2011by' 'sn2011fe' 'sn2012cg'\n",
      " 'sn2012fr']\n"
     ]
    },
    {
     "data": {
      "text/plain": [
       "0"
      ]
     },
     "execution_count": 21,
     "metadata": {},
     "output_type": "execute_result"
    }
   ],
   "source": [
    "DirSNeWithCepheid = '/Users/arturo/Dropbox/Research/SoftwareResearch/Snoopy/AndyLCComp_2018_02/MyNotes/'\n",
    "\n",
    "ListSNeCepheid = np.genfromtxt(DirSNeWithCepheid+'SNeWithCepheidDistances.txt', \n",
    "                               dtype=['S10',float,float,float,float,float,float])\n",
    "\n",
    "# ListSNeCepheid = np.genfromtxt(DirSNeWithCepheid+'SNeWithCepheidDistances_hack.txt', \n",
    "#                                dtype=['S10', float,float,float,float,float,float]) \n",
    "\n",
    "print ListSNeCepheid['f0']\n",
    "\n",
    "\"\"\"\n",
    "['sn2001el' 'sn2003du' 'sn2005cf' 'sn2007af' 'sn2007sr' 'sn2010ai'\n",
    " 'sn2011by']\n",
    "\"\"\"\n",
    "0"
   ]
  },
  {
   "cell_type": "markdown",
   "metadata": {},
   "source": [
    "### Weighted mean and variance functions\n",
    "\n",
    "\\begin{align}\n",
    "s^2 = \\frac{\\sum^N_{i=1} w_i (x_i - \\mu_w)^2}{V_1 - (V_2/V_1)}, \\quad \\text{where} \\quad V_1 \\equiv \\sum^N_{i=1} w_i  \\;\\; \\text{and} \\;\\; V_2 = \\sum^N_{i=1} w^2_i\n",
    "\\end{align}"
   ]
  },
  {
   "cell_type": "code",
   "execution_count": 22,
   "metadata": {
    "collapsed": false
   },
   "outputs": [
    {
     "data": {
      "text/plain": [
       "0"
      ]
     },
     "execution_count": 22,
     "metadata": {},
     "output_type": "execute_result"
    }
   ],
   "source": [
    "# Weighted meand and variance functions\n",
    "\"\"\"\n",
    "\n",
    "def WeightedMean():\n",
    "    return\n",
    "\n",
    "def WeightedStdDev():\n",
    "    return\n",
    "\"\"\"\n",
    "0"
   ]
  },
  {
   "cell_type": "code",
   "execution_count": 23,
   "metadata": {
    "collapsed": false
   },
   "outputs": [
    {
     "data": {
      "text/plain": [
       "0"
      ]
     },
     "execution_count": 23,
     "metadata": {},
     "output_type": "execute_result"
    }
   ],
   "source": [
    "# OK BUT NOT USED\n",
    "\"\"\" \n",
    "# Weighted arithmetic mean function\n",
    "# https://en.wikipedia.org/wiki/Inverse-variance_weighting\n",
    "# https://en.wikipedia.org/wiki/Weighted_arithmetic_mean\n",
    "\n",
    "def weightMean(x1, sigma1, x2, sigma2, x3, sigma3):\n",
    "    weightMeanInt = ( (x1/sigma1**2)+(x2/sigma2**2)+(x3/sigma3**2) )/ ((1/sigma1**2)+(1/sigma2**2)+(1/sigma3**2))\n",
    "    return weightMeanInt\n",
    "\n",
    "def weightError(sigma1, sigma2, sigma3):\n",
    "    weightErrorInt = np.sqrt( 1 / ((1/sigma1**2)+(1/sigma2**2)+(1/sigma3**2)) )\n",
    "    return weightErrorInt\n",
    "\"\"\"\n",
    "0 "
   ]
  },
  {
   "cell_type": "code",
   "execution_count": 24,
   "metadata": {
    "collapsed": false
   },
   "outputs": [
    {
     "name": "stdout",
     "output_type": "stream",
     "text": [
      "Checking that the functions work well: 33.0773926577\n"
     ]
    }
   ],
   "source": [
    "# Inverse of the dimensionless Hubble parameter\n",
    "def InvEHubblePar(z, OmM, wde):\n",
    "    \"Dimensionless Hubble parameter\"\n",
    "    InvEHubbleParInt = 1.0/(np.sqrt(OmM*(1.0+z)**3.0 + (1.0-OmM)*(1.+z)**(3.*(1.+wde))))\n",
    "    return InvEHubbleParInt\n",
    "\n",
    "# ---- The luminosity distance ----\n",
    "def LumDistanceVec(z, OmM, wde, Ho):\n",
    "    \"Luminosity distance\"\n",
    "    LumDistanceVecInt = 0.\n",
    "    LumDistanceVecInt = cc*(1.+z)*intquad(InvEHubblePar, 0., z, args=(OmM, wde))[0]/Ho \n",
    "    return LumDistanceVecInt\n",
    "\n",
    "# ---- Distance modulus scalar ----\n",
    "def DistanceMu(z, OmM, wde, Ho):\n",
    "    \"Distance modulus\"     \n",
    "    DistanceMuInt = 5.0*np.log10(LumDistanceVec(z, OmM, wde, Ho)) + 25.0\n",
    "    return DistanceMuInt\n",
    "\n",
    "# ---- Distance modulus Vector ----\n",
    "def DistanceMuVector(z, OmM, wde, Ho):\n",
    "    \"Distance modulus\"     \n",
    "    DistanceMuInt= []\n",
    "    for i in range(len(z)):\n",
    "        DistanceMuInt += [5.0*np.log10(LumDistanceVec(z[i], OmM, wde, Ho)) + 25.0] \n",
    "    return DistanceMuInt\n",
    "\n",
    "#--------------------------------------------------\n",
    "\n",
    "ztest1 = 0.01\n",
    "\n",
    "print 'Checking that the functions work well:', DistanceMu(ztest1, OmMFix, wFix, HoFix)\n",
    "# Checking that the functions work well: 33.1141460988\n"
   ]
  },
  {
   "cell_type": "code",
   "execution_count": 25,
   "metadata": {
    "collapsed": false
   },
   "outputs": [
    {
     "data": {
      "text/plain": [
       "0.052125037354329877"
      ]
     },
     "execution_count": 25,
     "metadata": {},
     "output_type": "execute_result"
    }
   ],
   "source": [
    "# sigma^2_mu from the peculiar velocity uncertainty\n",
    "# This function is used to determine in the sections \"Intrinsic dispersion\" and \"Optical RMS\", to\n",
    "# determine the intrinsic dispersion.\n",
    "\n",
    "def sigma2_pec(zcmb, err_zcmb, vpec):\n",
    "    sigma2_pecInt = ((5/(zcmb*np.log(10)))*np.sqrt((vpec/cc)**2 + err_zcmb**2))**2\n",
    "    return sigma2_pecInt\n",
    "\n",
    "# Test\n",
    "sigma2_pec(0.0109942726, 0.0010420420, 150)\n",
    "# 0.052125037354329877"
   ]
  },
  {
   "cell_type": "code",
   "execution_count": 26,
   "metadata": {
    "collapsed": false
   },
   "outputs": [
    {
     "name": "stdout",
     "output_type": "stream",
     "text": [
      "True False\n"
     ]
    }
   ],
   "source": [
    "# Function to identify if a string is an integer number or a letter.\n",
    "# This will be used in the dictionary construction to properly read some SN names.\n",
    "\n",
    "def is_number(s):\n",
    "    try:\n",
    "        int(s)\n",
    "        return True\n",
    "    except ValueError:\n",
    "        return False\n",
    "\n",
    "# Tests\n",
    "print is_number('5'), is_number('e')\n",
    "# True False"
   ]
  },
  {
   "cell_type": "markdown",
   "metadata": {},
   "source": [
    "### Get the name of this ipython notebook\n",
    "To print it in the output text files as reference"
   ]
  },
  {
   "cell_type": "code",
   "execution_count": 27,
   "metadata": {
    "collapsed": false
   },
   "outputs": [
    {
     "data": {
      "application/javascript": [
       "var kernel = IPython.notebook.kernel;\n",
       "var thename = window.document.getElementById(\"notebook_name\").innerHTML;\n",
       "var command = \"NotebookName = \" + \"'\"+thename+\".ipynb\"+\"'\";\n",
       "kernel.execute(command);"
      ],
      "text/plain": [
       "<IPython.core.display.Javascript object>"
      ]
     },
     "metadata": {},
     "output_type": "display_data"
    }
   ],
   "source": [
    "%%javascript\n",
    "var kernel = IPython.notebook.kernel;\n",
    "var thename = window.document.getElementById(\"notebook_name\").innerHTML;\n",
    "var command = \"NotebookName = \" + \"'\"+thename+\".ipynb\"+\"'\";\n",
    "kernel.execute(command);"
   ]
  },
  {
   "cell_type": "code",
   "execution_count": 28,
   "metadata": {
    "collapsed": false
   },
   "outputs": [
    {
     "name": "stdout",
     "output_type": "stream",
     "text": [
      "# 14_Latex_Tables_Figures.ipynb\n"
     ]
    }
   ],
   "source": [
    "print '#', (NotebookName)\n",
    "# Update_zcmb_in_SNANA_datafiles_v1_0.ipynb"
   ]
  },
  {
   "cell_type": "code",
   "execution_count": 29,
   "metadata": {
    "collapsed": true
   },
   "outputs": [],
   "source": [
    "# Get the current date and time\n",
    "import datetime \n",
    "\n",
    "# Read the time and date now\n",
    "now = datetime.datetime.now()"
   ]
  },
  {
   "cell_type": "code",
   "execution_count": null,
   "metadata": {
    "collapsed": true
   },
   "outputs": [],
   "source": []
  },
  {
   "cell_type": "code",
   "execution_count": null,
   "metadata": {
    "collapsed": true
   },
   "outputs": [],
   "source": []
  },
  {
   "cell_type": "code",
   "execution_count": null,
   "metadata": {
    "collapsed": true
   },
   "outputs": [],
   "source": []
  },
  {
   "cell_type": "code",
   "execution_count": null,
   "metadata": {},
   "outputs": [],
   "source": []
  },
  {
   "cell_type": "code",
   "execution_count": null,
   "metadata": {},
   "outputs": [],
   "source": []
  },
  {
   "cell_type": "code",
   "execution_count": null,
   "metadata": {},
   "outputs": [],
   "source": []
  },
  {
   "cell_type": "code",
   "execution_count": null,
   "metadata": {},
   "outputs": [],
   "source": []
  },
  {
   "cell_type": "code",
   "execution_count": null,
   "metadata": {},
   "outputs": [],
   "source": []
  },
  {
   "cell_type": "code",
   "execution_count": null,
   "metadata": {},
   "outputs": [],
   "source": []
  },
  {
   "cell_type": "code",
   "execution_count": null,
   "metadata": {
    "collapsed": true
   },
   "outputs": [],
   "source": []
  },
  {
   "cell_type": "code",
   "execution_count": null,
   "metadata": {},
   "outputs": [],
   "source": []
  },
  {
   "cell_type": "code",
   "execution_count": null,
   "metadata": {},
   "outputs": [],
   "source": []
  },
  {
   "cell_type": "code",
   "execution_count": null,
   "metadata": {},
   "outputs": [],
   "source": []
  },
  {
   "cell_type": "code",
   "execution_count": null,
   "metadata": {},
   "outputs": [],
   "source": []
  },
  {
   "cell_type": "code",
   "execution_count": null,
   "metadata": {},
   "outputs": [],
   "source": []
  },
  {
   "cell_type": "code",
   "execution_count": null,
   "metadata": {},
   "outputs": [],
   "source": []
  },
  {
   "cell_type": "code",
   "execution_count": null,
   "metadata": {},
   "outputs": [],
   "source": []
  },
  {
   "cell_type": "code",
   "execution_count": null,
   "metadata": {},
   "outputs": [],
   "source": []
  },
  {
   "cell_type": "markdown",
   "metadata": {},
   "source": [
    "------"
   ]
  },
  {
   "cell_type": "markdown",
   "metadata": {},
   "source": [
    "# Latex Table: Light curve parameters:\n",
    "# (SN, cz_helio, z_cmb, dm15, EBVhost, EBV_MW)\n",
    "\n",
    "#### WATCH OUT! :  \n",
    "#### J-band \"template\" Hubble diagram has -almost- but NOT ALL the SN, so I have I have to check that I'm missing one. In principle, the \"Any YJHK HD Template Method\" has all the SNe, but double check anyways.\n",
    "\n",
    "Also, use the option \"Method = 'Template_M'\" to build this table  (i.e., to run this section). "
   ]
  },
  {
   "cell_type": "code",
   "execution_count": null,
   "metadata": {},
   "outputs": [],
   "source": [
    "# USER\n",
    "\n",
    "# What band from the individual template-method HD to use it\n",
    "# \"DistanceMu_Good_AfterCutoffs_Main_.txt\" file.\n",
    "# Highly preferred: J band\n",
    "\n",
    "bandToUse = 'J'   # (Y, J, H, K)"
   ]
  },
  {
   "cell_type": "markdown",
   "metadata": {},
   "source": [
    "Automatic"
   ]
  },
  {
   "cell_type": "code",
   "execution_count": null,
   "metadata": {
    "collapsed": true
   },
   "outputs": [],
   "source": [
    "# Some specific lines for this table\n",
    "\n",
    "line_NumCols_1 = '\\\\begin{tabular}{l cccc cccc} \\n'\n",
    "\n",
    "# OLD 1. line_Cols_1a = ' & $z_{\\\\rm helio}$ & $cz_{\\\\rm CMB+Virgo}$ & $\\\\sigma{{\\\\rm pec},s}$ &   & $\\\\Delta {\\\\rm m}_{15}$ & \\\n",
    "# $E(B-V)_{\\\\rm host}$  & $E(B-V)_{\\\\rm MW}$ \\\\\\\\ \\n' # &  $\\\\hat{\\\\mu}^{\\\\rm J}$ & $\\\\sigma_{\\\\mu}^{\\\\rm J}$ \\\\\\\\ \\n'\n",
    "\n",
    "# old 2. line_Cols_1a = ' & $cz_{\\\\rm (helio)}$ &  $cz_{\\\\rm (CMB+Virgo)}$  & $\\\\sigma_{\\\\rm pec}$ &  & $T_{\\\\rm Bmax}$ \\\n",
    "# & $\\\\dm$ & $E(B-V)_{\\\\rm host}$  & $E(B-V)_{\\\\rm MW}$ \\\\\\\\ \\n '\n",
    "# old 2. line_Cols_1b = 'SN name & (km s$^{-1}$) & (km s$^{-1}$) & (mag)  & Sample & (MJD days) & (mag) & (mag)  & (mag) \\\\\\\\ \\n'\n",
    "\n",
    "line_Cols_1a = ' &  \\\\multicolumn{1}{c}{$cz_{\\\\rm (helio)}^a$} &   &   \\\n",
    "& \\\\multicolumn{1}{c}{$\\\\sigma_{\\\\rm pec}^b$} &  & \\\\multicolumn{1}{c}{$t_{\\\\rm Bmax}$} \\\n",
    "& \\\\multicolumn{1}{c}{$\\\\dm^d$} & \\\\multicolumn{1}{c}{$E(B-V)_{\\\\rm host}^e$}  \\\n",
    "& \\\\multicolumn{1}{c}{$E(B-V)_{\\\\rm MW}^f$} \\\\\\\\ \\n' \n",
    "\n",
    "line_Cols_1b = '\\\\multicolumn{1}{c}{SN name} & \\\\multicolumn{1}{c}{(km s$^{-1}$)} \\\n",
    "& \\\\multicolumn{1}{c}{Ref.} & \\\\multicolumn{1}{c}{$z_{\\\\rm (CMB+Virgo)}^a$} \\\n",
    "& \\\\multicolumn{1}{c}{(mag)}  & \\\\multicolumn{1}{c}{Source$^c$} \\\n",
    "& \\\\multicolumn{1}{c}{(MJD days)} & \\\\multicolumn{1}{c}{(mag)} & \\\\multicolumn{1}{c}{(mag)}  \\\n",
    "& \\\\multicolumn{1}{c}{(mag)} \\\\\\\\ \\n'  \n"
   ]
  },
  {
   "cell_type": "code",
   "execution_count": null,
   "metadata": {
    "collapsed": true
   },
   "outputs": [],
   "source": [
    "# Writting the table\n",
    "\n",
    "# WATCH OUT!:  J-band \"template\" Hubble diagram has all the SNe, so I have \n",
    "# to use the option \"Method = 'Template_M'\" to build this table \n",
    "# (i.e., to run this cell).\n",
    "\n",
    "if Method == 'Template_M':\n",
    "\n",
    "    label_main = '' # Reset\n",
    "    # If I use J band, then save the file as \"main\"\n",
    "    if  bandToUse== 'J': label_main = 'Main_'\n",
    "    else: label_main = ''\n",
    "        \n",
    "    LatexTable_1 = open(DirSaveOutput+'Table_Latex_SN_Params_%s_%s.txt'%(\n",
    "                        bandToUse,label_main), 'w')\n",
    "\n",
    "    LatexTable_1.write(line_0);\n",
    "    LatexTable_1.write(line_1); LatexTable_1.write(line_2); LatexTable_1.write(line_3);  \n",
    "    LatexTable_1.write(line_4); \n",
    "    LatexTable_1.write(line_NumCols_1); LatexTable_1.write(line_6);  \n",
    "    LatexTable_1.write(line_6); \n",
    "    LatexTable_1.write(line_Cols_1a); LatexTable_1.write(line_Cols_1b);\n",
    "    LatexTable_1.write(line_6);\n",
    "\n",
    "    # Reset:\n",
    "    zzcmb = 0; error_zzcmb=0\n",
    "    muInt = 0; error_muInt=0\n",
    "    count_SNe = 0\n",
    "    X_HubbleData = np.array([])\n",
    "    \n",
    "    # Define the band to use its \"DistanceMu_Good_AfterCutoffs_Main_.txt\":\n",
    "    if   bandToUse == 'J':  X_HubbleData = J_HubbleData\n",
    "    elif bandToUse == 'Y':  X_HubbleData = Y_HubbleData\n",
    "    elif bandToUse == 'H':  X_HubbleData = H_HubbleData\n",
    "    elif bandToUse == 'K':  X_HubbleData = K_HubbleData\n",
    "\n",
    "    for i in range(len(X_HubbleData)):\n",
    "\n",
    "        SNname =    X_HubbleData[i][0]\n",
    "        zzcmb =     X_HubbleData[i][1] # z_CMB\n",
    "        error_zzcmb=X_HubbleData[i][2] # error_zcmb\n",
    "        zHelio =    X_HubbleData[i][17]\n",
    "        err_zHelio =X_HubbleData[i][18]\n",
    "\n",
    "        sampleFlag = X_HubbleData[i][7] \n",
    "        TBmax = X_HubbleData[i][14]\n",
    "        err_TBmax = X_HubbleData[i][15]\n",
    "        dm15Int = X_HubbleData[i][19] # delta_m_15 light-curve shapte parameter\n",
    "        dm15ErrorInt = X_HubbleData[i][20]\n",
    "        EBVhost = X_HubbleData[i][21]\n",
    "        ErrorEBVhost = X_HubbleData[i][22]\n",
    "        EBVMW = X_HubbleData[i][23]\n",
    "        ErrorEBVMW = X_HubbleData[i][24]\n",
    "\n",
    "        muInt = X_HubbleData[i][3] # distance modulus\n",
    "        error_muInt = X_HubbleData[i][4] # distance modulus\n",
    "        # residInt = abs(X_HubbleData[i][5]) # absolute value of the residual value\n",
    "        # chi2dofInt = X_HubbleData[i][6] # chi2 by d.o.f.\n",
    "\n",
    "        #----------\n",
    "        # Creating a string with the exact name of the SN\n",
    "\n",
    "        if SNname[7]=='_': name = SNname[0:7] # To read correctly \"sn2011B\"\n",
    "        elif SNname[7]!='_': \n",
    "            if is_number(SNname[7]): name = SNname[0:15] # To read correctly \"snf20080514-002\"\n",
    "            else: name = SNname[0:8]   # To read correctly \"sn1998bu\"\n",
    "\n",
    "        # old. ref_int = str(InfoSN_dict[name][1][1:-1]) # Reference of z_helio\n",
    "\n",
    "        #----------\n",
    "        # Check if the SN has Cepheid distance:\n",
    "\n",
    "        if name in list(ListSNeCepheid['f0']): # with Cepheid distance\n",
    "            sigmaPec = 0\n",
    "        else: sigmaPec = X_HubbleData[i][11] # sigma_muLCDM_vPec\n",
    "\n",
    "        #----------\n",
    "\n",
    "        if   sampleFlag == 1: FlagText = 'CfA'  \n",
    "        elif sampleFlag == 2: FlagText = 'CSP'\n",
    "        elif sampleFlag == 3: FlagText = 'Others'\n",
    "\n",
    "        # In the CSP-DR3 LCs, the MJD has been substracted 53000 days,\n",
    "        # so I need to compensate here, but only for SNe older than year 2001\n",
    "        MJD_plus = 0.; name_int = 0 # Reset\n",
    "\n",
    "        if sampleFlag == 2: \n",
    "            # Read/convert the year to an integer:\n",
    "            name_int = int(name[2:6])\n",
    "            if name_int > 2001: MJD_plus = 53000.\n",
    "            else: MJD_plus = 0.\n",
    "        #----------\n",
    "\n",
    "        LatexTable_1.write('SN%s & %.4f $\\pm$ %.6f & %.4f $\\pm$ %.5f & %.3f & %s \\\n",
    "& %.2f $\\pm$ %.2f & %.3f $\\pm$ %.3f & %6.3f $\\pm$ %.3f & %6.3f $\\pm$ %.4f \\\\\\\\ \\n'%(\n",
    "            name[2:], zHelio, err_zHelio, zzcmb, error_zzcmb, sigmaPec, FlagText, \n",
    "            (TBmax+MJD_plus), err_TBmax, dm15Int, dm15ErrorInt, EBVhost, ErrorEBVhost, EBVMW, ErrorEBVMW))\n",
    "\n",
    "        count_SNe += 1\n",
    "\n",
    "    LatexTable_1.write(\"%% %s SNe in this table. \\n\"%count_SNe);\n",
    "    LatexTable_1.write(line_12); LatexTable_1.write(line_13); \n",
    "    LatexTable_1.write(line_14); LatexTable_1.write(line_15);\n",
    "    LatexTable_1.write(line_16); LatexTable_1.write(line_17); \n",
    "    LatexTable_1.write(line_18); # LatexTable_1.write(line_19); \n",
    "\n",
    "    LatexTable_1.close(); \n"
   ]
  },
  {
   "cell_type": "code",
   "execution_count": null,
   "metadata": {},
   "outputs": [],
   "source": []
  },
  {
   "cell_type": "code",
   "execution_count": null,
   "metadata": {},
   "outputs": [],
   "source": []
  },
  {
   "cell_type": "code",
   "execution_count": null,
   "metadata": {},
   "outputs": [],
   "source": []
  },
  {
   "cell_type": "markdown",
   "metadata": {},
   "source": [
    "-----"
   ]
  },
  {
   "cell_type": "markdown",
   "metadata": {},
   "source": [
    "# Latex Tables: Templates"
   ]
  },
  {
   "cell_type": "code",
   "execution_count": null,
   "metadata": {
    "collapsed": true
   },
   "outputs": [],
   "source": [
    "# Reading the text files\n",
    "\n",
    "Y_TempError  = np.genfromtxt(Y_TempDir+Y_TempErrorFile)\n",
    "Y_TempStdDev = np.genfromtxt(Y_TempDir+Y_TempStdDevFile)\n",
    "\n",
    "J_TempError  = np.genfromtxt(J_TempDir+J_TempErrorFile)\n",
    "J_TempStdDev = np.genfromtxt(J_TempDir+J_TempStdDevFile)\n",
    "\n",
    "H_TempError  = np.genfromtxt(H_TempDir+H_TempErrorFile)\n",
    "H_TempStdDev = np.genfromtxt(H_TempDir+H_TempStdDevFile)\n",
    "\n",
    "K_TempError  = np.genfromtxt(K_TempDir+K_TempErrorFile)\n",
    "K_TempStdDev = np.genfromtxt(K_TempDir+K_TempStdDevFile)"
   ]
  },
  {
   "cell_type": "code",
   "execution_count": null,
   "metadata": {
    "collapsed": true
   },
   "outputs": [],
   "source": [
    "# Some specific lines for this table\n",
    "\n",
    "# Latex table column labels\n",
    "line_NumCols_3 = '\\\\begin{tabular}{c cc cc cc} \\n'\n",
    "line_Cols_3a = ' $t^*$ & $\\\\mathcal{M}^Y$  & $\\\\sigma_{\\\\mathcal{M}}^Y$ \\\n",
    "& $\\\\mathcal{M}^J$  & $\\\\sigma_{\\\\mathcal{M}}^J$ \\\n",
    "& $\\\\mathcal{M}^H$  & $\\\\sigma_{\\\\mathcal{M}}^H$  \\\\\\\\ \\n' \n",
    "line_Cols_3b = '(days) &  (mag)  & (mag) &  (mag)  & (mag) &  (mag)  & (mag) \\\\\\\\ \\n' \n"
   ]
  },
  {
   "cell_type": "code",
   "execution_count": null,
   "metadata": {
    "collapsed": true
   },
   "outputs": [],
   "source": []
  },
  {
   "cell_type": "code",
   "execution_count": null,
   "metadata": {
    "collapsed": true
   },
   "outputs": [],
   "source": [
    "# Writting the table\n",
    "\n",
    "Table_Temp = open(DirSaveOutput+'Table_Latex_Template_.txt', 'w')\n",
    "\n",
    "# Write some latex headers for the table\n",
    "Table_Temp.write(line_0);\n",
    "Table_Temp.write(line_1); Table_Temp.write(line_2); Table_Temp.write(line_3);  Table_Temp.write(line_4); \n",
    "Table_Temp.write(line_NumCols_3); Table_Temp.write(line_6); Table_Temp.write(line_6); \n",
    "Table_Temp.write(line_Cols_3a); Table_Temp.write(line_Cols_3b);\n",
    "Table_Temp.write(line_6);\n",
    "\n",
    "#----- Writting the table ---------\n",
    "\n",
    "# Row that corresponds to phase_B = (-10, 45) days.\n",
    "PhaseB_minus10_row = 50;\n",
    "PhaseB_plus45_row = 162;\n",
    "\n",
    "for i in range(PhaseB_minus10_row, PhaseB_plus45_row,2):\n",
    "    Table_Temp.write('%0.f  & %0.3f $\\pm$ %0.3f & %0.3f & %0.3f $\\pm$ %0.3f & %0.3f & \\\n",
    "%0.3f $\\pm$ %0.3f & %0.3f & %0.3f $\\pm$ %0.3f & %0.3f \\\\\\\\ \\n'%(J_TempError[i][0],\n",
    "                    Y_TempError[i][1],Y_TempError[i][2], Y_TempStdDev[i][2],\n",
    "                    J_TempError[i][1],J_TempError[i][2], J_TempStdDev[i][2],\n",
    "                    H_TempError[i][1],H_TempError[i][2], H_TempStdDev[i][2],\n",
    "                    K_TempError[i][1],K_TempError[i][2], K_TempStdDev[i][2]\n",
    "                    ))\n",
    "    \n",
    "#----- Some latex commands at the end of the file ----------\n",
    "\n",
    "Table_Temp.write(line_12); Table_Temp.write(line_13); Table_Temp.write(line_14); Table_Temp.write(line_15);\n",
    "Table_Temp.write(line_16); Table_Temp.write(line_17); Table_Temp.write(line_18); # LatexTable_1.write(line_19); \n",
    "\n",
    "Table_Temp.close()"
   ]
  },
  {
   "cell_type": "code",
   "execution_count": null,
   "metadata": {
    "collapsed": true
   },
   "outputs": [],
   "source": [
    "Table_Temp.close()"
   ]
  },
  {
   "cell_type": "code",
   "execution_count": null,
   "metadata": {},
   "outputs": [],
   "source": []
  },
  {
   "cell_type": "markdown",
   "metadata": {},
   "source": [
    "------"
   ]
  },
  {
   "cell_type": "markdown",
   "metadata": {},
   "source": [
    "# Latex Table: individual and combined YJHK distance modulus $\\mu$\n",
    "\n",
    "#### This table is created in \"13_TotalDistanceMu_vXX.ipynb\""
   ]
  },
  {
   "cell_type": "code",
   "execution_count": null,
   "metadata": {},
   "outputs": [],
   "source": []
  },
  {
   "cell_type": "markdown",
   "metadata": {},
   "source": [
    "-------------"
   ]
  },
  {
   "cell_type": "markdown",
   "metadata": {},
   "source": [
    "# Latex Table: SALT2 & SNooPy distance modulus $\\mu$\n",
    "\n",
    "Input files: the SALT2 and Snoopy \"DistanceMu_Good_AfterCutoffs_Main_Notes_.txt\""
   ]
  },
  {
   "cell_type": "code",
   "execution_count": null,
   "metadata": {
    "collapsed": false
   },
   "outputs": [],
   "source": [
    "# First check that there are the same amount of SNe in Snoopy \n",
    "# and SALT2 files. If the number of SNe in each table is different\n",
    "# then I'll get an error while trying to run this section.\n",
    "\n",
    "print \"# Number of SNe in SNooPy: %s, SALT2: %s.\"%(len(Snoopy_HubbleData), \n",
    "                                            len(SALT2_HubbleData))\n",
    "\n",
    "# Number of SNe in SNooPy: 55, SALT2: 47."
   ]
  },
  {
   "cell_type": "code",
   "execution_count": null,
   "metadata": {
    "collapsed": true
   },
   "outputs": [],
   "source": [
    "# Create dictionary with the SN names and the values I want to write down. \n",
    "# for the SALT2 file given that the SN names in this file are already\n",
    "# with the correct size.\n",
    "\n",
    "mu_salt_dict = {SALT2_HubbleData['f0'][i]: [ SALT2_HubbleData['f3'][i], \n",
    "                                         SALT2_HubbleData['f4'][i]  ]\n",
    "                                         for i in range(len(SALT2_HubbleData))}"
   ]
  },
  {
   "cell_type": "code",
   "execution_count": null,
   "metadata": {
    "collapsed": true
   },
   "outputs": [],
   "source": []
  },
  {
   "cell_type": "code",
   "execution_count": null,
   "metadata": {
    "collapsed": false
   },
   "outputs": [],
   "source": [
    "textfile_1 = open(DirSaveOutput+'Table_Latex_mu_salt2_snoopy_.txt', 'w')\n",
    "\n",
    "textfile_1.write(\"%   Distance moduli from SALT2 and SNooPy.\\n\")\n",
    "\n",
    "now = datetime.datetime.now() # Read the time and date right now\n",
    "text_timenow = now.strftime(\"%Y-%m-%d (yyyy-mm-dd); %H:%M hrs.\")\n",
    "text_Date   = '%% On date: %s \\n'%text_timenow\n",
    "text_Author = '%% Data table created by: Arturo Avelino \\n'\n",
    "text_script = '%% Script used: %s \\n'%NotebookName\n",
    "text_line = '%'+'-'*60 + '\\n'\n",
    "\n",
    "textfile_1.write(text_line)\n",
    "textfile_1.write(text_Author); textfile_1.write(text_Date); textfile_1.write(text_script); \n",
    "textfile_1.write(text_line)\n",
    "\n",
    "textfile_1.write(\"% SN name          sample            mu_salt2\\\n",
    "            mu_snoopy \\n\")\n",
    "\n",
    "#----------------\n",
    "\n",
    "countSN = 0;\n",
    "\n",
    "for i in range(len(Snoopy_HubbleData)):\n",
    "\n",
    "    #--- Reading the SN name in the SNoopy file ----\n",
    "    # Create the variable \"snName\" containing the first 8 (or 7) letters of the SNe file name\n",
    "    # I use \"snName\" to compare with the SNe names.\n",
    "    \n",
    "    \n",
    "    name        = Snoopy_HubbleData['f0'][i]\n",
    "    mu_snoopy   = Snoopy_HubbleData['f3'][i]\n",
    "    e_mu_snoopy = Snoopy_HubbleData['f4'][i]\n",
    "    sampleflag  = Snoopy_HubbleData['f7'][i]\n",
    "    \n",
    "    try:\n",
    "        # To read correctly, e.g., \"sn2011B_\"\n",
    "        if   name[7] == '_': snName = name[:7]\n",
    "        elif name[7] != '_':\n",
    "            # To read correctly, e.g., \"snf20080514-002\"\n",
    "            if is_number(name[7]): snName = name[:15] \n",
    "            else: snName = name[:8]  # To read correctly, e.g., \"sn1998bu\" \n",
    "    except: snName = name[:6]  # To read correctly, e.g., \"sn2011B\"\n",
    "    \n",
    "    #----- Write names and distance moduli -----\n",
    "    \n",
    "    if   sampleflag == 1: sampletext = 'CfA'\n",
    "    elif sampleflag == 2: sampletext = 'CSP'\n",
    "    elif sampleflag == 3: sampletext = 'Others'\n",
    "    \n",
    "    mu_salt2, e_mu_salt2 = mu_salt_dict[snName]\n",
    "    \n",
    "    textfile_1.write(\"SN%-16s & %-6s  &  $%.2f \\\\pm %.2f$  &  $%.2f \\\\pm %.2f$ \\\n",
    "\\\\\\\\ \\n\"%\n",
    "                     (snName[2:], sampletext, mu_salt2, e_mu_salt2, \n",
    "                      mu_snoopy, e_mu_snoopy))\n",
    "    \n",
    "    # print snName\n",
    "    countSN = countSN + 1\n",
    "\n",
    "textfile_1.write(\"%% %s SNe in this table.\"%countSN)\n",
    "textfile_1.close()"
   ]
  },
  {
   "cell_type": "code",
   "execution_count": null,
   "metadata": {
    "collapsed": true
   },
   "outputs": [],
   "source": [
    "textfile_1.close()"
   ]
  },
  {
   "cell_type": "code",
   "execution_count": null,
   "metadata": {},
   "outputs": [],
   "source": []
  },
  {
   "cell_type": "markdown",
   "metadata": {},
   "source": [
    "-------------"
   ]
  },
  {
   "cell_type": "markdown",
   "metadata": {},
   "source": [
    "# Latex table: Intrinsic dispersion $\\sigma_{\\rm int}$ and wRMS"
   ]
  },
  {
   "cell_type": "code",
   "execution_count": null,
   "metadata": {
    "collapsed": true
   },
   "outputs": [],
   "source": [
    "# USER\n",
    "\n",
    "# Print the chi2_dof values:\n",
    "chi2dof_print = False"
   ]
  },
  {
   "cell_type": "markdown",
   "metadata": {},
   "source": [
    "#### Automatic"
   ]
  },
  {
   "cell_type": "code",
   "execution_count": null,
   "metadata": {
    "collapsed": false
   },
   "outputs": [],
   "source": [
    "#-----------------------------------\n",
    "\n",
    "# Y band\n",
    "\n",
    "Y_HubbleDir_Tp =  MainDir+'Y_band/Std_filters/4_HubbleDiagram_FlatPrior/AllSamples/\\\n",
    "Templ_AllSamples_z_gr_0/\\\n",
    "Phase-8_30_resid20_chi3_EBVh0.4_Method7_MinData3_vpec%s_ok/plots_HD/'%vpecFix\n",
    "\n",
    "Y_HubbleDir_GP =  MainDir+'Y_band/Std_filters/4_HubbleDiagram_FlatPrior_GP/AllSamples/\\\n",
    "vpec%s_NIRmax/plots_HD/'%vpecFix\n",
    "\n",
    "Y_RMS_Tp = np.genfromtxt(Y_HubbleDir_Tp+'Summary_HDScatter_RMS_.txt')\n",
    "Y_RMS_GP = np.genfromtxt(Y_HubbleDir_GP+'Summary_HDScatter_RMS_.txt')\n",
    "\n",
    "#-----------------------------------\n",
    "\n",
    "# J band\n",
    "\n",
    "J_HubbleDir_Tp = MainDir+'J_band/Std_filters/4_HubbleDiagram_FlatPrior/AllSamples/\\\n",
    "Templ_AllSamples_z_gr_0/\\\n",
    "Phase-8_30_resid20_chi_1e6_EBVh0.4_Method7_MinData3_vpec%s_ok/plots_HD/'%vpecFix\n",
    "\n",
    "J_HubbleDir_GP =  MainDir+'J_band/Std_filters/4_HubbleDiagram_FlatPrior_GP/AllSamples/\\\n",
    "vpec%s_NIRmax/plots_HD/'%vpecFix\n",
    "\n",
    "J_RMS_Tp = np.genfromtxt(J_HubbleDir_Tp+'Summary_HDScatter_RMS_.txt')\n",
    "J_RMS_GP = np.genfromtxt(J_HubbleDir_GP+'Summary_HDScatter_RMS_.txt')\n",
    "\n",
    "#-----------------------------------\n",
    "\n",
    "# H band\n",
    "\n",
    "H_HubbleDir_Tp = MainDir+'H_band/Std_filters/4_HubbleDiagram_FlatPrior/AllSamples/\\\n",
    "Templ_AllSamples_z_gr_0/\\\n",
    "Phase-8_30_resid20_chi_1e6_EBVh0.4_Method7_MinData3_vpec%s_ok/plots_HD/'%vpecFix\n",
    "\n",
    "H_HubbleDir_GP =  MainDir+'H_band/Std_filters/4_HubbleDiagram_FlatPrior_GP/AllSamples/\\\n",
    "vpec%s_NIRmax/plots_HD/'%vpecFix\n",
    "\n",
    "H_RMS_Tp = np.genfromtxt(H_HubbleDir_Tp+'Summary_HDScatter_RMS_.txt')\n",
    "H_RMS_GP = np.genfromtxt(H_HubbleDir_GP+'Summary_HDScatter_RMS_.txt')\n",
    "\n",
    "#-----------------------------------\n",
    "\n",
    "# K band\n",
    "\n",
    "K_HubbleDir_Tp = MainDir+'K_band/Std_filters/4_HubbleDiagram_FlatPrior/AllSamples/\\\n",
    "Templ_AllSamples_z_gr_0/\\\n",
    "Phase-8_30_resid20_chi4_EBVh0.4_Method7_MinData3_vpec%s_ok/plots_HD/'%vpecFix\n",
    "\n",
    "K_HubbleDir_GP =  MainDir+'K_band/Std_filters/4_HubbleDiagram_FlatPrior_GP/AllSamples/\\\n",
    "vpec%s_NIRmax/plots_HD/'%vpecFix\n",
    "\n",
    "K_RMS_Tp = np.genfromtxt(K_HubbleDir_Tp+'Summary_HDScatter_RMS_.txt')\n",
    "K_RMS_GP = np.genfromtxt(K_HubbleDir_GP+'Summary_HDScatter_RMS_.txt')\n",
    "\n",
    "#-----------------------------------\n",
    "\n",
    "# Any bands\n",
    "\n",
    "AnyNIR_HubbleDir_Tp = MainDir+'AllBands/Plots/HubbleDiagram/Template/AllBands/'\n",
    "AnyNIR_HubbleDir_GP = MainDir+'AllBands/Plots/HubbleDiagram/GaussianProcess/AllBands/'\n",
    "\n",
    "AnyNIR_RMS_Tp = np.genfromtxt(AnyNIR_HubbleDir_Tp+'Summary_HDScatter_RMS_.txt')\n",
    "AnyNIR_RMS_GP = np.genfromtxt(AnyNIR_HubbleDir_GP+'Summary_HDScatter_RMS_.txt')\n",
    "\n",
    "#-----------------------------------\n",
    "\n",
    "# YJH bands\n",
    "\n",
    "YJH_HubbleDir_Tp = MainDir+'AllBands/Plots/HubbleDiagram/Template/YJH/'\n",
    "YJH_HubbleDir_GP = MainDir+'AllBands/Plots/HubbleDiagram/GaussianProcess/YJH/'\n",
    "\n",
    "YJH_RMS_Tp = np.genfromtxt(YJH_HubbleDir_Tp+'Summary_HDScatter_RMS_.txt')\n",
    "YJH_RMS_GP = np.genfromtxt(YJH_HubbleDir_GP+'Summary_HDScatter_RMS_.txt')\n",
    "\n",
    "#-----------------------------------\n",
    "\n",
    "# JHK bands\n",
    "\n",
    "JHK_HubbleDir_Tp = MainDir+'AllBands/Plots/HubbleDiagram/Template/JHK/'\n",
    "JHK_HubbleDir_GP = MainDir+'AllBands/Plots/HubbleDiagram/GaussianProcess/JHK/'\n",
    "\n",
    "JHK_RMS_Tp = np.genfromtxt(JHK_HubbleDir_Tp+'Summary_HDScatter_RMS_.txt')\n",
    "JHK_RMS_GP = np.genfromtxt(JHK_HubbleDir_GP+'Summary_HDScatter_RMS_.txt')\n",
    "\n",
    "#-----------------------------------\n",
    "\n",
    "# SALT2\n",
    "\n",
    "DirSalt2Mu = '/Users/arturo/Dropbox/Research/Articulos/10_AndyKaisey/\\\n",
    "10Compute/TheTemplates/AllBands/Plots/HubbleDiagram/SALT2/plots_HD/'\n",
    "SALT2_RMSData = np.genfromtxt(DirSalt2Mu+\"Summary_HDScatter_RMS_.txt\")\n",
    "\n",
    "#-----------------------------------\n",
    "\n",
    "# Snoopy\n",
    "\n",
    "DirSnoopyMu = MainDir+'AllBands/Plots/HubbleDiagram/Snoopy_opt/plots_HD/'\n",
    "Snoopy_RMSData = np.genfromtxt(DirSnoopyMu+\"Summary_HDScatter_RMS_.txt\")\n"
   ]
  },
  {
   "cell_type": "markdown",
   "metadata": {},
   "source": [
    "####  Write the latex table on the intrinsic scatter."
   ]
  },
  {
   "cell_type": "code",
   "execution_count": null,
   "metadata": {
    "collapsed": false
   },
   "outputs": [],
   "source": [
    "# Write the latex table on the intrinsic scatter.\n",
    "\n",
    "textfile_1 = open(DirSaveOutput+'Table_Latex_IntrinsicDisp_wRMS_.txt', 'w')\n",
    "\n",
    "text_line = '%'+'-'*60 + '\\n'\n",
    "\n",
    "if chi2dof_print == True: \n",
    "    \n",
    "    Y_chi2dof_Tp_1 = \"(%.2f)\"%Y_RMS_Tp[4][0]\n",
    "    Y_chi2dof_GP_1 = \"(%.2f)\"%Y_RMS_GP[4][0]\n",
    "    Y_chi2dof_Tp_2 = \" \"\n",
    "    Y_chi2dof_GP_2 = \" \"\n",
    "    \n",
    "    J_chi2dof_Tp_1 = \"(%.2f)\"%J_RMS_Tp[4][0]\n",
    "    J_chi2dof_GP_1 = \"(%.2f)\"%J_RMS_GP[4][0]\n",
    "    J_chi2dof_Tp_2 = \" \"\n",
    "    J_chi2dof_GP_2 = \" \"\n",
    "    \n",
    "    H_chi2dof_Tp_1 = \"(%.2f)\"%H_RMS_Tp[4][0]\n",
    "    H_chi2dof_GP_1 = \"(%.2f)\"%H_RMS_GP[4][0]\n",
    "    H_chi2dof_Tp_2 = \" \"\n",
    "    H_chi2dof_GP_2 = \" \"\n",
    "    \n",
    "    K_chi2dof_Tp_1 = \"(%.2f)\"%K_RMS_Tp[4][0]\n",
    "    K_chi2dof_GP_1 = \"(%.2f)\"%K_RMS_GP[4][0]\n",
    "    K_chi2dof_Tp_2 = \" \"\n",
    "    K_chi2dof_GP_2 = \" \"\n",
    "    \n",
    "    AnyNIR_chi2dof_Tp_1 = \"(%.2f)\"%AnyNIR_RMS_Tp[4][0]\n",
    "    AnyNIR_chi2dof_GP_1 = \"(%.2f)\"%AnyNIR_RMS_GP[4][0]\n",
    "    AnyNIR_chi2dof_Tp_2 = \" \"\n",
    "    AnyNIR_chi2dof_GP_2 = \" \"\n",
    "    \n",
    "    YJH_chi2dof_Tp_1 = \"(%.2f)\"%YJH_RMS_Tp[4][0]\n",
    "    YJH_chi2dof_GP_1 = \"(%.2f)\"%YJH_RMS_GP[4][0]\n",
    "    YJH_chi2dof_Tp_2 = \" \"\n",
    "    YJH_chi2dof_GP_2 = \" \"\n",
    "    \n",
    "    JHK_chi2dof_Tp_1 = \"(%.2f)\"%JHK_RMS_Tp[4][0]\n",
    "    JHK_chi2dof_GP_1 = \"(%.2f)\"%JHK_RMS_GP[4][0]\n",
    "    JHK_chi2dof_Tp_2 = \" \"\n",
    "    JHK_chi2dof_GP_2 = \" \"\n",
    "    \n",
    "    SALT2_chi2dof_1  = \"(%.2f)\"%SALT2_RMSData[4][0]\n",
    "    Snoopy_chi2dof_1 = \"(%.2f)\"%Snoopy_RMSData[4][0]\n",
    "    SALT2_chi2dof_2  = \" \"\n",
    "    Snoopy_chi2dof_2 = \" \" \n",
    "    \n",
    "else: \n",
    "    \n",
    "    Y_chi2dof_Tp_1 = \" \"; Y_chi2dof_GP_1 = \" \"\n",
    "    Y_chi2dof_Tp_2 = \" \"; Y_chi2dof_GP_2 = \" \"\n",
    "    \n",
    "    J_chi2dof_Tp_1 = \" \"; J_chi2dof_GP_1 = \" \"\n",
    "    J_chi2dof_Tp_2 = \" \"; J_chi2dof_GP_2 = \" \"\n",
    "    \n",
    "    H_chi2dof_Tp_1 = \" \"; H_chi2dof_GP_1 = \" \"\n",
    "    H_chi2dof_Tp_2 = \" \"; H_chi2dof_GP_2 = \" \"\n",
    "    \n",
    "    K_chi2dof_Tp_1 = \" \"; K_chi2dof_GP_1 = \" \"\n",
    "    K_chi2dof_Tp_2 = \" \"; K_chi2dof_GP_2 = \" \"\n",
    "    \n",
    "    AnyNIR_chi2dof_Tp_1 = \" \"; AnyNIR_chi2dof_GP_1 = \" \";\n",
    "    AnyNIR_chi2dof_Tp_2 = \" \"; AnyNIR_chi2dof_GP_2 = \" \";\n",
    "    \n",
    "    YJH_chi2dof_Tp_1 = \" \"; YJH_chi2dof_GP_1 = \" \";\n",
    "    YJH_chi2dof_Tp_2 = \" \"; YJH_chi2dof_GP_2 = \" \";\n",
    "    \n",
    "    JHK_chi2dof_Tp_1 = \" \"; JHK_chi2dof_GP_1 = \" \";\n",
    "    JHK_chi2dof_Tp_2 = \" \"; JHK_chi2dof_GP_2 = \" \";\n",
    "    \n",
    "    SALT2_chi2dof_1 = \" \"; SALT2_chi2dof_2 = \" \"\n",
    "    Snoopy_chi2dof_1 = \" \"; Snoopy_chi2dof_2 = \" \"\n",
    "    \n",
    "#---------------------------------------------------------------\n",
    "\n",
    "textfile_1.write(\"% Intrinsic dispersion as a function of the uncertainty in the \\\n",
    "peculiar velocity, and the wRMS \\n\")\n",
    "textfile_1.write(text_line)\n",
    "\n",
    "textfile_1.write(\"$Y$ & Template & $%.3f \\\\pm %.3f$ %s & \\\n",
    "$0.000 \\\\pm 0.000$ %s & %.3f \\\\\\\\ \\n\"%(\n",
    "    Y_RMS_Tp[0][0], Y_RMS_Tp[0][1], Y_chi2dof_Tp_1, \n",
    "    Y_chi2dof_Tp_2, Y_RMS_Tp[5][0]))\n",
    "\n",
    "textfile_1.write(\"$Y$ & GP & $%.3f \\\\pm %.3f$ %s & \\\n",
    "$0.000 \\\\pm 0.000$ %s & %.3f \\\\\\\\ \\n\"%(\n",
    "    Y_RMS_GP[0][0], Y_RMS_GP[0][1], Y_chi2dof_GP_1, \n",
    "    Y_chi2dof_GP_2, Y_RMS_GP[5][0]))\n",
    "\n",
    "textfile_1.write(\"%------------ \\n\")\n",
    "\n",
    "textfile_1.write(\"$J$ & Template & $%.3f \\\\pm %.3f$ %s & \\\n",
    "$0.000 \\\\pm 0.000$ %s & %.3f \\\\\\\\ \\n\"%(\n",
    "    J_RMS_Tp[0][0], J_RMS_Tp[0][1], J_chi2dof_Tp_1, \n",
    "    J_chi2dof_Tp_2, J_RMS_Tp[5][0]))\n",
    "\n",
    "textfile_1.write(\"$J$ & GP & $%.3f \\\\pm %.3f$ %s & \\\n",
    "$0.000 \\\\pm 0.000$ %s & %.3f \\\\\\\\ \\n\"%(\n",
    "    J_RMS_GP[0][0], J_RMS_GP[0][1], J_chi2dof_GP_1, \n",
    "    J_chi2dof_GP_2, J_RMS_GP[5][0]))\n",
    "\n",
    "textfile_1.write(\"%------------ \\n\")\n",
    "\n",
    "textfile_1.write(\"$H$ & Template & $%.3f \\\\pm %.3f$ %s & \\\n",
    "$0.000 \\\\pm 0.000$ %s & %.3f \\\\\\\\ \\n\"%(\n",
    "    H_RMS_Tp[0][0], H_RMS_Tp[0][1], H_chi2dof_Tp_1, \n",
    "    H_chi2dof_Tp_2, H_RMS_Tp[5][0]))\n",
    "\n",
    "textfile_1.write(\"$H$ & GP & $%.3f \\\\pm %.3f$ %s & \\\n",
    "$0.000 \\\\pm 0.000$ %s & %.3f \\\\\\\\ \\n\"%(\n",
    "    H_RMS_GP[0][0], H_RMS_GP[0][1], H_chi2dof_GP_1, \n",
    "    H_chi2dof_GP_2, H_RMS_GP[5][0]))\n",
    "\n",
    "textfile_1.write(\"%------------ \\n\")\n",
    "\n",
    "textfile_1.write(\"$K_s$ & Template & $%.3f \\\\pm %.3f$ %s & \\\n",
    "$0.000 \\\\pm 0.000$ %s & %.3f \\\\\\\\ \\n\"%(\n",
    "    K_RMS_Tp[0][0], K_RMS_Tp[0][1], K_chi2dof_Tp_1, \n",
    "    K_chi2dof_Tp_2, K_RMS_Tp[5][0]))\n",
    "\n",
    "textfile_1.write(\"$K_s$ & GP & $%.3f \\\\pm %.3f$ %s & \\\n",
    "$0.000 \\\\pm 0.000$ %s & %.3f \\\\\\\\ \\n\"%(\n",
    "    K_RMS_GP[0][0], K_RMS_GP[0][1], K_chi2dof_GP_1, \n",
    "    K_chi2dof_GP_2, K_RMS_GP[5][0]))\n",
    "\n",
    "textfile_1.write(\"%------------ \\n\")\n",
    "\n",
    "\n",
    "textfile_1.write(\"any $YJHK_s$ & Template & $%.3f \\\\pm %.3f$ %s & \\\n",
    "$0.000 \\\\pm 0.000$ %s & %.3f \\\\\\\\ \\n\"%(\n",
    "    AnyNIR_RMS_Tp[0][0], AnyNIR_RMS_Tp[0][1], AnyNIR_chi2dof_Tp_1, \n",
    "    AnyNIR_chi2dof_Tp_2, AnyNIR_RMS_Tp[5][0]))\n",
    "\n",
    "textfile_1.write(\"any $YJHK_s$ & GP & $%.3f \\\\pm %.3f$ %s & \\\n",
    "$0.000 \\\\pm 0.000$ %s & %.3f \\\\\\\\ \\n\"%(\n",
    "    AnyNIR_RMS_GP[0][0], AnyNIR_RMS_GP[0][1], AnyNIR_chi2dof_GP_1, \n",
    "    AnyNIR_chi2dof_GP_2, AnyNIR_RMS_GP[5][0]))\n",
    "\n",
    "textfile_1.write(\"%------------ \\n\")\n",
    "\n",
    "textfile_1.write(\"$YJH$ & Template & $%.3f \\\\pm %.3f$ %s & \\\n",
    "$0.000 \\\\pm 0.000$ %s & %.3f \\\\\\\\ \\n\"%(\n",
    "    YJH_RMS_Tp[0][0], YJH_RMS_Tp[0][1], YJH_chi2dof_Tp_1, \n",
    "    YJH_chi2dof_Tp_2, YJH_RMS_Tp[5][0]))\n",
    "\n",
    "textfile_1.write(\"$YJH$ & GP & $%.3f \\\\pm %.3f$ %s & \\\n",
    "$0.000 \\\\pm 0.000$ %s & %.3f \\\\\\\\ \\n\"%(\n",
    "    YJH_RMS_GP[0][0], YJH_RMS_GP[0][1], YJH_chi2dof_GP_1, \n",
    "    YJH_chi2dof_GP_2, YJH_RMS_GP[5][0]))\n",
    "\n",
    "textfile_1.write(\"%------------ \\n\")\n",
    "\n",
    "textfile_1.write(\"$JHK_s$ & Template & $%.3f \\\\pm %.3f$ %s & \\\n",
    "$0.000 \\\\pm 0.000$ %s & %.3f \\\\\\\\ \\n\"%(\n",
    "    JHK_RMS_Tp[0][0], JHK_RMS_Tp[0][1], JHK_chi2dof_Tp_1, \n",
    "    JHK_chi2dof_Tp_2, JHK_RMS_Tp[5][0]))\n",
    "\n",
    "textfile_1.write(\"$JHK_s$ & GP & $%.3f \\\\pm %.3f$ %s & \\\n",
    "$0.000 \\\\pm 0.000$ %s & %.3f \\\\\\\\ \\n\"%(\n",
    "    JHK_RMS_GP[0][0], JHK_RMS_GP[0][1], JHK_chi2dof_GP_1, \n",
    "    JHK_chi2dof_GP_2, JHK_RMS_GP[5][0]))\n",
    "\n",
    "textfile_1.write(\"%------------ \\n\")\n",
    "\n",
    "textfile_1.write(\"\\\\hline \\n\")\n",
    "\n",
    "textfile_1.write(\"Optical & SALT2  & $%.3f \\\\pm %.3f$ %s & $0.000 \\\\pm 0.000$ %s \\\n",
    "& %.3f \\\\\\\\ \\n\"%(\n",
    "    SALT2_RMSData[0][0], SALT2_RMSData[0][1], SALT2_chi2dof_1, \n",
    "    SALT2_chi2dof_2, SALT2_RMSData[5][0]))\n",
    "\n",
    "textfile_1.write(\"Optical & SNooPy & $%.3f \\\\pm %.3f$ %s & $0.000 \\\\pm 0.000$ %s \\\n",
    "& %.3f \\\\\\\\[0.2cm] \\n\"%(\n",
    "    Snoopy_RMSData[0][0], Snoopy_RMSData[0][1], Snoopy_chi2dof_1, \n",
    "    Snoopy_chi2dof_2, Snoopy_RMSData[5][0]))\n",
    "\n",
    "#---------------------\n",
    "\n",
    "textfile_1.close()"
   ]
  },
  {
   "cell_type": "code",
   "execution_count": null,
   "metadata": {
    "collapsed": true
   },
   "outputs": [],
   "source": [
    "textfile_1.close();"
   ]
  },
  {
   "cell_type": "code",
   "execution_count": null,
   "metadata": {
    "collapsed": true
   },
   "outputs": [],
   "source": []
  },
  {
   "cell_type": "code",
   "execution_count": null,
   "metadata": {
    "collapsed": true
   },
   "outputs": [],
   "source": []
  },
  {
   "cell_type": "markdown",
   "metadata": {},
   "source": [
    "-------------"
   ]
  },
  {
   "cell_type": "markdown",
   "metadata": {},
   "source": [
    "-----"
   ]
  },
  {
   "cell_type": "markdown",
   "metadata": {},
   "source": [
    "# Figure: Plotting templates together"
   ]
  },
  {
   "cell_type": "code",
   "execution_count": null,
   "metadata": {
    "collapsed": true
   },
   "outputs": [],
   "source": [
    "# Reading the template files\n",
    "\n",
    "Y_TempError  = np.genfromtxt(Y_TempDir+Y_TempErrorFile)\n",
    "Y_TempStdDev = np.genfromtxt(Y_TempDir+Y_TempStdDevFile)\n",
    "\n",
    "J_TempError  = np.genfromtxt(J_TempDir+J_TempErrorFile)\n",
    "J_TempStdDev = np.genfromtxt(J_TempDir+J_TempStdDevFile)\n",
    "\n",
    "H_TempError  = np.genfromtxt(H_TempDir+H_TempErrorFile)\n",
    "H_TempStdDev = np.genfromtxt(H_TempDir+H_TempStdDevFile)\n",
    "\n",
    "K_TempError  = np.genfromtxt(K_TempDir+K_TempErrorFile)\n",
    "K_TempStdDev = np.genfromtxt(K_TempDir+K_TempStdDevFile)\n",
    "\n",
    "#-----------------------------------------------------\n",
    "\n",
    "# Creating arrays from the template data\n",
    "\n",
    "#--------\n",
    "\n",
    "#     Y band\n",
    "x_Y = np.atleast_2d(Y_TempError[:,0]).T\n",
    "y_pred_Y = Y_TempError[:,1]\n",
    "sigma_Y = Y_TempError[:,2]\n",
    "\n",
    "x_2_Y = np.atleast_2d(Y_TempStdDev[:,0]).T\n",
    "y_pred_2_Y = Y_TempStdDev[:,1]\n",
    "sigma_2_Y = Y_TempStdDev[:,2]\n",
    "\n",
    "#--------\n",
    "#     J band\n",
    "x_J = np.atleast_2d(J_TempError[:,0]).T\n",
    "y_pred_J = J_TempError[:,1]\n",
    "sigma_J = J_TempError[:,2]\n",
    "\n",
    "x_2_J = np.atleast_2d(J_TempStdDev[:,0]).T\n",
    "y_pred_2_J = J_TempStdDev[:,1]\n",
    "sigma_2_J = J_TempStdDev[:,2]\n",
    "\n",
    "#--------\n",
    "\n",
    "#     H band\n",
    "x_H = np.atleast_2d(H_TempError[:,0]).T\n",
    "y_pred_H = H_TempError[:,1]\n",
    "sigma_H = H_TempError[:,2]\n",
    "\n",
    "x_2_H = np.atleast_2d(H_TempStdDev[:,0]).T\n",
    "y_pred_2_H = H_TempStdDev[:,1]\n",
    "sigma_2_H = H_TempStdDev[:,2]\n",
    "\n",
    "#--------\n",
    "\n",
    "#     K band\n",
    "x_K = np.atleast_2d(K_TempError[:,0]).T\n",
    "y_pred_K = K_TempError[:,1]\n",
    "sigma_K = K_TempError[:,2]\n",
    "\n",
    "x_2_K = np.atleast_2d(K_TempStdDev[:,0]).T\n",
    "y_pred_2_K = K_TempStdDev[:,1]\n",
    "sigma_2_K = K_TempStdDev[:,2]\n",
    "\n"
   ]
  },
  {
   "cell_type": "code",
   "execution_count": null,
   "metadata": {
    "collapsed": true
   },
   "outputs": [],
   "source": []
  },
  {
   "cell_type": "code",
   "execution_count": null,
   "metadata": {
    "collapsed": true
   },
   "outputs": [],
   "source": [
    "# Some parameters for plotting\n",
    "\n",
    "# (FIX) For the confidence-interval plots\n",
    "CL_size = 1 # For the confidence-interval plots (1.=68.3% CL or 1.9600=95% CL )\n",
    "CL_label = 68.3\n",
    "\n",
    "x_IntervalPlots = -10, 48\n",
    "\n",
    "# yIntervalPlots = -15.8, -19 # Un-normalized template\n",
    "yIntervalPlots = 3, -1 # Normalized template\n",
    "\n",
    "y_Interval_Residual = -0.58, 0.58\n",
    "\n",
    "# locLabelBand = -5, -16.3  # Un-normalized template\n",
    "locLabelBand = -5, 2  # Normalized template\n",
    "\n",
    "colorLabelBand = 'blue'\n",
    "\n",
    "FontSize = 12\n",
    "SubtractAxisNumSize = 0"
   ]
  },
  {
   "cell_type": "code",
   "execution_count": null,
   "metadata": {
    "collapsed": true
   },
   "outputs": [],
   "source": [
    "# Plot\n",
    "\n",
    "TitleForPlots2 =' band template'\n",
    "\n",
    "# Array to create the central line:\n",
    "phaseInt = np.linspace(-10, 60, 10)\n",
    "zeroInt = np.zeros(len(phaseInt))\n",
    "\n",
    "plt.clf()\n",
    "# old. fig, ((ax1, ax2, ax3), (ax4, ax5, ax6)) = plt.subplots(2, 3, sharex=True, \n",
    "#                                                       gridspec_kw = {'height_ratios':[3, 1]},\n",
    "#                                                       figsize=(10.5, 5))\n",
    "        \n",
    "fig, ((ax1, ax2, ax3, ax4), (ax5, ax6, ax7, ax8)) = plt.subplots(2, 4, sharex=True, \n",
    "                                                       gridspec_kw = {'height_ratios':[3, 1]},\n",
    "                                                       figsize=(10.5, 5))\n",
    "\n",
    "#----  add a big axes, hide frame ---\n",
    "# Useful to put a global title and labels to the axes\n",
    "fig.add_subplot(111, frameon=False)\n",
    "# hide tick and tick label of the big axes\n",
    "plt.tick_params(labelcolor='none', top='off', bottom='off', left='off', right='off')\n",
    "\n",
    "#---------------\n",
    "\n",
    "# Close the space between the subplots\n",
    "plt.subplots_adjust(wspace=0.004, hspace = 0.005)\n",
    "\n",
    "#-----------------------------------------------------\n",
    "#     TEMPLATE Y\n",
    "\n",
    "#- Standard deviation\n",
    "ax1.plot(x_2_Y, y_pred_2_Y, 'k-', lw=2, label='Gaussian Process mean (GP)')\n",
    "ax1.fill(np.concatenate([x_2_Y, x_2_Y[::-1]]),\n",
    "        np.concatenate([y_pred_2_Y - 1. * sigma_2_Y,\n",
    "                       (y_pred_2_Y + 1. * sigma_2_Y)[::-1]]),\n",
    "        alpha=0.5, fc='g', ec='None', label='Standard deviation')\n",
    "\n",
    "#- Confidence interval\n",
    "ax1.plot(x_Y, y_pred_Y, 'k-', lw=2)\n",
    "ax1.fill(np.concatenate([x_Y, x_Y[::-1]]),\n",
    "        np.concatenate([y_pred_Y - CL_size * sigma_Y,\n",
    "                       (y_pred_Y + CL_size * sigma_Y)[::-1]]),\n",
    "        alpha=0.5, fc='b', ec='None', label='{0}% confidence interval GP'.format(CL_label))\n",
    "\n",
    "ax1.text(locLabelBand[0], locLabelBand[1], 'Y band', fontsize=FontSize+2, color=colorLabelBand)\n",
    "ax1.grid(linestyle='dashed')\n",
    "ax1.set_xlim(x_IntervalPlots)\n",
    "ax1.set_ylim(yIntervalPlots)\n",
    "ax1.set_ylabel('magnitude', fontsize=FontSize)\n",
    "ax1.tick_params(labelsize=FontSize-SubtractAxisNumSize)\n",
    "\n",
    "#-----------------------------------------------------\n",
    "\n",
    "#     TEMPLATE J\n",
    "\n",
    "#- Standard deviation\n",
    "ax2.plot(x_2_J, y_pred_2_J, 'k-', lw=2, label='Gaussian Process mean (GP)')\n",
    "ax2.fill(np.concatenate([x_2_J, x_2_J[::-1]]),\n",
    "        np.concatenate([y_pred_2_J - 1. * sigma_2_J,\n",
    "                       (y_pred_2_J + 1. * sigma_2_J)[::-1]]),\n",
    "        alpha=0.5, fc='g', ec='None', label='Standard deviation')\n",
    "\n",
    "#- Confidence interval\n",
    "ax2.plot(x_J, y_pred_J, 'k-', lw=2)\n",
    "ax2.fill(np.concatenate([x_J, x_J[::-1]]),\n",
    "        np.concatenate([y_pred_J - CL_size * sigma_J,\n",
    "                       (y_pred_J + CL_size * sigma_J)[::-1]]),\n",
    "        alpha=0.5, fc='b', ec='None', label='{0}% confidence interval GP'.format(CL_label))\n",
    "\n",
    "ax2.text(locLabelBand[0], locLabelBand[1], 'J band', fontsize=FontSize+2, color=colorLabelBand)\n",
    "ax2.grid(linestyle='dashed')\n",
    "ax2.set_xlim(x_IntervalPlots)\n",
    "ax2.set_ylim(yIntervalPlots)\n",
    "\n",
    "# Hack to remove the y-axis numbers: make the axis numbers very small and with white color.\n",
    "ax2.tick_params(axis='y', labelsize=1)\n",
    "for tl in ax2.get_yticklabels():\n",
    "    tl.set_color('white')\n",
    "    \n",
    "#-----------------------------------------------------\n",
    "\n",
    "#     TEMPLATE H\n",
    "\n",
    "#- Standard deviation\n",
    "ax3.plot(x_2_H, y_pred_2_H, 'k-', lw=2, label='Gaussian Process mean (GP)')\n",
    "ax3.fill(np.concatenate([x_2_H, x_2_H[::-1]]),\n",
    "        np.concatenate([y_pred_2_H - 1. * sigma_2_H,\n",
    "                       (y_pred_2_H + 1. * sigma_2_H)[::-1]]),\n",
    "        alpha=0.5, fc='g', ec='None', label='Standard deviation')\n",
    "\n",
    "#- Confidence interval\n",
    "ax3.plot(x_H, y_pred_H, 'k-', lw=2)\n",
    "ax3.fill(np.concatenate([x_H, x_H[::-1]]),\n",
    "        np.concatenate([y_pred_H - CL_size * sigma_H,\n",
    "                       (y_pred_H + CL_size * sigma_H)[::-1]]),\n",
    "        alpha=0.5, fc='b', ec='None', label='{0}% confidence interval GP'.format(CL_label))\n",
    "\n",
    "ax3.text(locLabelBand[0], locLabelBand[1], 'H band', fontsize=FontSize+2, color=colorLabelBand)\n",
    "ax3.grid(linestyle='dashed')\n",
    "ax3.set_xlim(x_IntervalPlots)\n",
    "ax3.set_ylim(yIntervalPlots)\n",
    "\n",
    "# Hack to remove the y-axis numbers: make the axis numbers very small and with white color.\n",
    "ax3.tick_params(axis='y', labelsize=1)\n",
    "for tl in ax3.get_yticklabels():\n",
    "    tl.set_color('white')\n",
    "    \n",
    "#-----------------------------------------------------\n",
    "\n",
    "#     TEMPLATE K\n",
    "\n",
    "#- Standard deviation\n",
    "ax4.plot(x_2_K, y_pred_2_K, 'k-', lw=2, label='Gaussian Process mean (GP)')\n",
    "ax4.fill(np.concatenate([x_2_K, x_2_K[::-1]]),\n",
    "        np.concatenate([y_pred_2_K - 1. * sigma_2_K,\n",
    "                       (y_pred_2_K + 1. * sigma_2_K)[::-1]]),\n",
    "        alpha=0.5, fc='g', ec='None', label='Standard deviation')\n",
    "\n",
    "#- Confidence interval\n",
    "ax4.plot(x_K, y_pred_K, 'k-', lw=2)\n",
    "ax4.fill(np.concatenate([x_K, x_K[::-1]]),\n",
    "        np.concatenate([y_pred_K - CL_size * sigma_K,\n",
    "                       (y_pred_K + CL_size * sigma_K)[::-1]]),\n",
    "        alpha=0.5, fc='b', ec='None', label='{0}% confidence interval GP'.format(CL_label))\n",
    "\n",
    "ax4.text(locLabelBand[0], locLabelBand[1], 'K band', fontsize=FontSize+2, color=colorLabelBand)\n",
    "ax4.grid(linestyle='dashed')\n",
    "ax4.set_xlim(x_IntervalPlots)\n",
    "ax4.set_ylim(yIntervalPlots)\n",
    "\n",
    "# Hack to remove the y-axis numbers: make the axis numbers very small and with white color.\n",
    "ax4.tick_params(axis='y', labelsize=1)\n",
    "for tl in ax4.get_yticklabels():\n",
    "    tl.set_color('white')\n",
    "\n",
    "###########################################################\n",
    "\n",
    "#     RESIDUAL Y\n",
    "\n",
    "# The central black line:\n",
    "ax5.plot(phaseInt, zeroInt, color='black', lw=2)\n",
    "\n",
    "#- Standard deviation\n",
    "ax5.fill(np.concatenate([x_2_Y, x_2_Y[::-1]]),\n",
    "        np.concatenate([0 - 1. * sigma_2_Y,\n",
    "                       (0 + 1. * sigma_2_Y)[::-1]]),\n",
    "        alpha=0.5, fc='g', ec='None', label='Standard deviation')\n",
    "\n",
    "#- Confidence interval\n",
    "ax5.fill(np.concatenate([x_Y, x_Y[::-1]]),\n",
    "        np.concatenate([0 - CL_size * sigma_Y,\n",
    "                       (0 + CL_size * sigma_Y)[::-1]]),\n",
    "        alpha=0.5, fc='b', ec='None', label='{0}% confidence interval GP'.format(CL_label))\n",
    "\n",
    "ax5.grid(linestyle='dashed')\n",
    "ax5.set_xlim(x_IntervalPlots)\n",
    "ax5.set_ylim(y_Interval_Residual)\n",
    "ax5.set_ylabel('Residuals (mag)', fontsize=FontSize)\n",
    "ax5.tick_params(labelsize=FontSize-SubtractAxisNumSize)\n",
    "\n",
    "#-----------------------------------------------------\n",
    "\n",
    "#     RESIDUAL J\n",
    "\n",
    "# The central black line:\n",
    "ax6.plot(phaseInt, zeroInt, color='black', lw=2)\n",
    "\n",
    "#- Standard deviation\n",
    "ax6.fill(np.concatenate([x_2_J, x_2_J[::-1]]),\n",
    "        np.concatenate([0 - 1. * sigma_2_J,\n",
    "                       (0 + 1. * sigma_2_J)[::-1]]),\n",
    "        alpha=0.5, fc='g', ec='None', label='Standard deviation')\n",
    "\n",
    "#- Confidence interval\n",
    "ax6.fill(np.concatenate([x_J, x_J[::-1]]),\n",
    "        np.concatenate([0 - CL_size * sigma_J,\n",
    "                       (0 + CL_size * sigma_J)[::-1]]),\n",
    "        alpha=0.5, fc='b', ec='None', label='{0}% confidence interval GP'.format(CL_label))\n",
    "\n",
    "ax6.grid(linestyle='dashed')\n",
    "ax6.set_xlim(x_IntervalPlots)\n",
    "ax6.set_ylim(y_Interval_Residual)\n",
    "ax6.tick_params(labelsize=FontSize-SubtractAxisNumSize)\n",
    "\n",
    "# Hack to remove the y-axis numbers: make the axis numbers very small and with white color.\n",
    "ax6.tick_params(axis='y', labelsize=1)\n",
    "for tl in ax6.get_yticklabels():\n",
    "    tl.set_color('white')\n",
    "\n",
    "#-----------------------------------------------------\n",
    "\n",
    "#     RESIDUAL H\n",
    "\n",
    "# The central black line:\n",
    "ax7.plot(phaseInt, zeroInt, color='black', lw=2)\n",
    "\n",
    "#- Standard deviation\n",
    "ax7.fill(np.concatenate([x_2_H, x_2_H[::-1]]),\n",
    "        np.concatenate([0 - 1. * sigma_2_H,\n",
    "                       (0 + 1. * sigma_2_H)[::-1]]),\n",
    "        alpha=0.5, fc='g', ec='None', label='Standard deviation')\n",
    "\n",
    "#- Confidence interval\n",
    "ax7.fill(np.concatenate([x_H, x_H[::-1]]),\n",
    "        np.concatenate([0 - CL_size * sigma_H,\n",
    "                       (0 + CL_size * sigma_H)[::-1]]),\n",
    "        alpha=0.5, fc='b', ec='None', label='{0}% confidence interval GP'.format(CL_label))\n",
    "\n",
    "ax7.grid(linestyle='dashed')\n",
    "ax7.set_xlim(x_IntervalPlots)\n",
    "ax7.set_ylim(y_Interval_Residual)\n",
    "ax7.tick_params(labelsize=FontSize-SubtractAxisNumSize)\n",
    "\n",
    "# Hack to remove the y-axis numbers: make the axis numbers very small and with white color.\n",
    "ax7.tick_params(axis='y', labelsize=1)\n",
    "for tl in ax7.get_yticklabels():\n",
    "    tl.set_color('white')\n",
    "    \n",
    "\n",
    "#-----------------------------------------------------\n",
    "#     RESIDUAL K\n",
    "\n",
    "# The central black line:\n",
    "ax8.plot(phaseInt, zeroInt, color='black', lw=2)\n",
    "\n",
    "#- Standard deviation\n",
    "ax8.fill(np.concatenate([x_2_K, x_2_K[::-1]]),\n",
    "        np.concatenate([0 - 1. * sigma_2_K,\n",
    "                       (0 + 1. * sigma_2_K)[::-1]]),\n",
    "        alpha=0.5, fc='g', ec='None', label='Standard deviation')\n",
    "\n",
    "#- Confidence interval\n",
    "ax8.fill(np.concatenate([x_K, x_K[::-1]]),\n",
    "        np.concatenate([0 - CL_size * sigma_K,\n",
    "                       (0 + CL_size * sigma_K)[::-1]]),\n",
    "        alpha=0.5, fc='b', ec='None', label='{0}% confidence interval GP'.format(CL_label))\n",
    "\n",
    "ax8.grid(linestyle='dashed')\n",
    "ax8.set_xlim(x_IntervalPlots)\n",
    "ax8.set_ylim(y_Interval_Residual)\n",
    "ax8.tick_params(labelsize=FontSize-SubtractAxisNumSize)\n",
    "\n",
    "# Hack to remove the y-axis numbers: make the axis numbers very small and with white color.\n",
    "ax8.tick_params(axis='y', labelsize=1)\n",
    "for tl in ax8.get_yticklabels():\n",
    "    tl.set_color('white')\n",
    "\n",
    "    \n",
    "###########################################################\n",
    "\n",
    "plt.title('NIR templates', fontsize=FontSize)\n",
    "# ax6.set_xlabel(r'Phase = (MJD - $T_{\\rm Bmax}$)/(1+$z_{\\rm hel}$)', fontsize=FontSize-2)\n",
    "plt.xlabel(r'$t^*$ (days)', fontsize=FontSize)\n",
    "\n",
    "# plt.tight_layout()\n",
    "plt.savefig(DirSaveOutput+'Plot_Templates_.png')\n",
    "plt.savefig(DirSaveOutput+'Plot_Templates_high_.png', dpi=250)\n",
    "plt.close()"
   ]
  },
  {
   "cell_type": "code",
   "execution_count": null,
   "metadata": {
    "collapsed": true
   },
   "outputs": [],
   "source": [
    "plt.close();"
   ]
  },
  {
   "cell_type": "markdown",
   "metadata": {},
   "source": [
    "----"
   ]
  },
  {
   "cell_type": "markdown",
   "metadata": {},
   "source": [
    "# Figure: Plotting Hubble & residual diagrams for -individual- YJHK bands\n"
   ]
  },
  {
   "cell_type": "code",
   "execution_count": null,
   "metadata": {
    "collapsed": true
   },
   "outputs": [],
   "source": [
    "# Values of the HD scatter\n",
    "\n",
    "Y_intrinsicDisp =   Y_RMSData[0][0]  \n",
    "Y_e_intrinsicDisp = Y_RMSData[0][1] \n",
    "Y_wrms = Y_RMSData[5][0] \n",
    "\n",
    "J_intrinsicDisp =   J_RMSData[0][0]  \n",
    "J_e_intrinsicDisp = J_RMSData[0][1] \n",
    "J_wrms = J_RMSData[5][0] \n",
    "\n",
    "H_intrinsicDisp =   H_RMSData[0][0] \n",
    "H_e_intrinsicDisp = H_RMSData[0][1] \n",
    "H_wrms = H_RMSData[5][0]\n",
    "\n",
    "K_intrinsicDisp =   K_RMSData[0][0]\n",
    "K_e_intrinsicDisp = K_RMSData[0][1] \n",
    "K_wrms = K_RMSData[5][0] "
   ]
  },
  {
   "cell_type": "code",
   "execution_count": null,
   "metadata": {
    "collapsed": true
   },
   "outputs": [],
   "source": [
    "# Some settings for plotting\n",
    "\n",
    "zCMB_Min = 0\n",
    "\n",
    "FontSize = 12\n",
    "\n",
    "#--- Plot range:\n",
    "xlimPlots = 0.00, 0.042 # old 0.065 # To show the z<0.01 data in the Hubble diagram\n",
    "ylimPlots = 31.1, 36.5  # old. 38 # To show the z<0.01 data in the Hubble diagram\n",
    "ylimPlots_residual = -1, 1\n",
    "\n",
    "#--- Properites of the axis numbers\n",
    "SubtractAxisNumSize = 2 # 2\n",
    "Separation_x = 0.01\n",
    "\n",
    "loc_x_axis = np.arange(xlimPlots[0], xlimPlots[1], Separation_x)\n",
    "\n",
    "#--- Location of band labels\n",
    "locLabelBand = 0.025, 33 \n",
    "locLabelBandResidual  = 0.005, 0.8 \n",
    "locLabelNoSNeResidual = 0.03, -0.8\n",
    "colorLabelBand = 'black'\n",
    "\n",
    "#--- Title\n",
    "\n",
    "if Method== 'Template_M': TitleText = 'Hubble diagrams from Template method'\n",
    "elif Method== 'GP_M':     TitleText = 'Hubble diagrams from Gaussian-Process method'\n",
    "\n",
    "#--- Data dots:\n",
    "MarkerSize = 6\n",
    "BarWidth = 1\n",
    "MyCapeSize = 2\n",
    "fmt_int = '.'"
   ]
  },
  {
   "cell_type": "code",
   "execution_count": null,
   "metadata": {
    "collapsed": true
   },
   "outputs": [],
   "source": [
    "# Some initial arrays\n",
    "\n",
    "# To plot the theoretical (spectroscopic) distance modulus\n",
    "nbins1= 51\n",
    "z1 = np.linspace(0.0001, 0.08, nbins1)\n",
    "mu1 = DistanceMuVector(z1, OmMFix, wFix, HoFix) # LCDM\n",
    "mu0 = np.zeros(len(z1)) # Array plot the residual line\n",
    "\n",
    "# Array plot the peculiar velocity uncertanty\n",
    "error_z1 = err_zCMB_fix * np.ones(len(z1)) # \n",
    "sigma_pec_np = np.sqrt(sigma2_pec(z1, error_z1, vpecFix))"
   ]
  },
  {
   "cell_type": "code",
   "execution_count": null,
   "metadata": {
    "collapsed": true
   },
   "outputs": [],
   "source": []
  },
  {
   "cell_type": "code",
   "execution_count": null,
   "metadata": {
    "collapsed": true
   },
   "outputs": [],
   "source": [
    "plt.clf()\n",
    "fig, ((ax1, ax2, ax3, ax4), (ax5, ax6, ax7, ax8)) = plt.subplots(2, 4, sharex=True, \n",
    "                                                       gridspec_kw = {'height_ratios':[1, 1]},\n",
    "                                                       # gridspec_kw = {'height_ratios':[3, 1]},\n",
    "                                                       # figsize=(10, 7))\n",
    "                                                       figsize=(10, 5))\n",
    "#----  add a big axes, hide frame ---\n",
    "# Useful to put a global title and labels to the axes\n",
    "fig.add_subplot(111, frameon=False)\n",
    "# hide tick and tick label of the big axes\n",
    "plt.tick_params(labelcolor='none', top='off', bottom='off', left='off', right='off')\n",
    "\n",
    "#------------------\n",
    "\n",
    "# Close the space between the subplots\n",
    "plt.subplots_adjust(wspace=0.004, hspace = 0.005)\n",
    "\n",
    "#-----------------------------------------------------\n",
    "#     Hubble diagram Y\n",
    "\n",
    "for i in range(len(Y_HubbleData)): # loop over 'DistanceModuli_.txt'\n",
    "    zzInt = Y_HubbleData[i][1] # z_CMB for a given SNe\n",
    "    sampleFlag = Y_HubbleData[i][7]  \n",
    "\n",
    "    # CSP data\n",
    "    if sampleFlag == 2 and zzInt > zCMB_Min:   \n",
    "        ax1.errorbar(zzInt, Y_HubbleData[i][3], yerr=Y_HubbleData[i][4], \n",
    "                     fmt='.', color='blue',  ms=MarkerSize, elinewidth=BarWidth, capsize=MyCapeSize)\n",
    "    # CfA data\n",
    "    elif sampleFlag == 1 and zzInt > zCMB_Min: \n",
    "        ax1.errorbar(zzInt, Y_HubbleData[i][3], yerr=Y_HubbleData[i][4], \n",
    "                     fmt='.', color='red',  ms=MarkerSize, elinewidth=BarWidth, capsize=MyCapeSize)\n",
    "    # Others data\n",
    "    elif sampleFlag == 3 and zzInt > zCMB_Min: \n",
    "        ax1.errorbar(zzInt, Y_HubbleData[i][3], yerr=Y_HubbleData[i][4], \n",
    "                     fmt='.', color='green',  ms=MarkerSize, elinewidth=BarWidth, capsize=MyCapeSize)\n",
    "        \n",
    "        \n",
    "# Plotting the LCDM theory line\n",
    "ax1.plot(z1, mu1, color='black')\n",
    "\n",
    "ax1.set_ylabel(r'Distance modulus $\\mu$', fontsize=FontSize)\n",
    "ax1.text(locLabelBand[0], locLabelBand[1], 'Y band', fontsize=FontSize+2, color=colorLabelBand)\n",
    "\n",
    "ax1.grid(linestyle='dashed')\n",
    "ax1.set_xlim(xlimPlots[0],xlimPlots[1])\n",
    "ax1.set_ylim(ylimPlots[0],ylimPlots[1])\n",
    "\n",
    "ax1.tick_params(labelsize=FontSize-SubtractAxisNumSize)\n",
    "\n",
    "        \n",
    "#-----------------------------------------------------\n",
    "#     Hubble diagram J\n",
    "\n",
    "for i in range(len(J_HubbleData)): # loop over 'DistanceModuli_.txt'\n",
    "    zzInt = J_HubbleData[i][1] # z_CMB for a given SNe\n",
    "    sampleFlag = J_HubbleData[i][7]  \n",
    "\n",
    "    # CSP data\n",
    "    if sampleFlag == 2 and zzInt > zCMB_Min:   \n",
    "        ax2.errorbar(zzInt, J_HubbleData[i][3], yerr=J_HubbleData[i][4], \n",
    "                     fmt='.', color='blue',  ms=MarkerSize, elinewidth=BarWidth, capsize=MyCapeSize)\n",
    "    # CfA data\n",
    "    elif sampleFlag == 1 and zzInt > zCMB_Min: \n",
    "        ax2.errorbar(zzInt, J_HubbleData[i][3], yerr=J_HubbleData[i][4], \n",
    "                     fmt='.', color='red',  ms=MarkerSize, elinewidth=BarWidth, capsize=MyCapeSize)\n",
    "    # Others data\n",
    "    elif sampleFlag == 3 and zzInt > zCMB_Min: \n",
    "        ax2.errorbar(zzInt, J_HubbleData[i][3], yerr=J_HubbleData[i][4], \n",
    "                     fmt='.', color='green',  ms=MarkerSize, elinewidth=BarWidth, capsize=MyCapeSize)\n",
    "        \n",
    "        \n",
    "# Plotting the LCDM theory line\n",
    "ax2.plot(z1, mu1, color='black')\n",
    "\n",
    "ax2.text(locLabelBand[0], locLabelBand[1], 'J band', fontsize=FontSize+2, color=colorLabelBand)\n",
    "\n",
    "ax2.grid(linestyle='dashed')\n",
    "ax2.set_xlim(xlimPlots[0],xlimPlots[1])\n",
    "ax2.set_ylim(ylimPlots[0],ylimPlots[1])\n",
    "\n",
    "# Hack to remove the y-axis numbers: make the axis numbers very small and with white color.\n",
    "ax2.tick_params(axis='y', labelsize=1)\n",
    "for tl in ax2.get_yticklabels():\n",
    "    tl.set_color('white')\n",
    "\n",
    "#-----------------------------------------------------\n",
    "#     Hubble diagram H\n",
    "\n",
    "for i in range(len(H_HubbleData)): # loop over 'DistanceModuli_.txt'\n",
    "    zzInt = H_HubbleData[i][1] # z_CMB for a given SNe\n",
    "    sampleFlag = H_HubbleData[i][7]  \n",
    "\n",
    "    # CSP data\n",
    "    if sampleFlag == 2 and zzInt > zCMB_Min:   \n",
    "        ax3.errorbar(zzInt, H_HubbleData[i][3], yerr=H_HubbleData[i][4], \n",
    "                     fmt='.', color='blue',  ms=MarkerSize, elinewidth=BarWidth, capsize=MyCapeSize)\n",
    "    # CfA data\n",
    "    elif sampleFlag == 1 and zzInt > zCMB_Min: \n",
    "        ax3.errorbar(zzInt, H_HubbleData[i][3], yerr=H_HubbleData[i][4], \n",
    "                     fmt='.', color='red',  ms=MarkerSize, elinewidth=BarWidth, capsize=MyCapeSize)\n",
    "    # Others data\n",
    "    elif sampleFlag == 3 and zzInt > zCMB_Min: \n",
    "        ax3.errorbar(zzInt, H_HubbleData[i][3], yerr=H_HubbleData[i][4], \n",
    "                     fmt='.', color='green',  ms=MarkerSize, elinewidth=BarWidth, capsize=MyCapeSize)\n",
    "        \n",
    "        \n",
    "# Plotting the LCDM theory line\n",
    "ax3.plot(z1, mu1, color='black')\n",
    "\n",
    "ax3.text(locLabelBand[0], locLabelBand[1], 'H band', fontsize=FontSize+2, color=colorLabelBand)\n",
    "\n",
    "ax3.grid(linestyle='dashed')\n",
    "ax3.set_xlim(xlimPlots[0],xlimPlots[1])\n",
    "ax3.set_ylim(ylimPlots[0],ylimPlots[1])\n",
    "\n",
    "# Hack to remove the y-axis numbers: make the axis numbers very small and with white color.\n",
    "ax3.tick_params(axis='y', labelsize=1)\n",
    "for tl in ax3.get_yticklabels():\n",
    "    tl.set_color('white')\n",
    "    \n",
    "#-----------------------------------------------------\n",
    "#     Hubble diagram K\n",
    "\n",
    "for i in range(len(K_HubbleData)): # loop over 'DistanceModuli_.txt'\n",
    "    zzInt = K_HubbleData[i][1] # z_CMB for a given SNe\n",
    "    sampleFlag = K_HubbleData[i][7]  \n",
    "\n",
    "    # CSP data\n",
    "    if sampleFlag == 2 and zzInt > zCMB_Min:   \n",
    "        ax4.errorbar(zzInt, K_HubbleData[i][3], yerr=K_HubbleData[i][4], \n",
    "                     fmt='.', color='blue',  ms=MarkerSize, elinewidth=BarWidth, capsize=MyCapeSize)\n",
    "    # CfA data\n",
    "    elif sampleFlag == 1 and zzInt > zCMB_Min: \n",
    "        ax4.errorbar(zzInt, K_HubbleData[i][3], yerr=K_HubbleData[i][4], \n",
    "                     fmt='.', color='red',  ms=MarkerSize, elinewidth=BarWidth, capsize=MyCapeSize)\n",
    "    # Others data\n",
    "    elif sampleFlag == 3 and zzInt > zCMB_Min: \n",
    "        ax4.errorbar(zzInt, K_HubbleData[i][3], yerr=K_HubbleData[i][4], \n",
    "                     fmt='.', color='green',  ms=MarkerSize, elinewidth=BarWidth, capsize=MyCapeSize)\n",
    "        \n",
    "        \n",
    "# Plotting the LCDM theory line\n",
    "ax4.plot(z1, mu1, color='black')\n",
    "\n",
    "ax4.text(locLabelBand[0], locLabelBand[1], 'K band', fontsize=FontSize+2, color=colorLabelBand)\n",
    "\n",
    "ax4.grid(linestyle='dashed')\n",
    "ax4.set_xlim(xlimPlots[0],xlimPlots[1])\n",
    "ax4.set_ylim(ylimPlots[0],ylimPlots[1])\n",
    "\n",
    "# Hack to remove the y-axis numbers: make the axis numbers very small and with white color.\n",
    "ax4.tick_params(axis='y', labelsize=1)\n",
    "for tl in ax4.get_yticklabels():\n",
    "    tl.set_color('white')\n",
    "    \n",
    "    \n",
    "#########################################################\n",
    "\n",
    "#     HD Residual Y\n",
    "\n",
    "# Plotting theory: Flat Universe\n",
    "ax5.plot(z1, mu0, color='black', lw=1, alpha=1)\n",
    "\n",
    "# Plot the peculiar velocity uncertainty\n",
    "ax5.plot(z1, sigma_pec_np, ls='--', color='black')\n",
    "ax5.plot(z1, -sigma_pec_np, ls='--', color='black')\n",
    "\n",
    "for i in range(len(Y_HubbleData)): # loop over 'DistanceMu_.txt'\n",
    "\n",
    "    zzInt = Y_HubbleData[i][1] # z_CMB for a given SNe\n",
    "    sampleFlag = Y_HubbleData[i][7] # Distinguish between CfA or CSP\n",
    "\n",
    "    #--- CSP data:\n",
    "    if sampleFlag == 2 and zzInt > zCMB_Min: \n",
    "        ax5.errorbar(zzInt, Y_HubbleData[i][5], yerr=Y_HubbleData[i][4], \n",
    "                     fmt='.', color='blue',  ms=MarkerSize, elinewidth=BarWidth, capsize=MyCapeSize)\n",
    "        \n",
    "    #--- CfA data\n",
    "    elif sampleFlag == 1 and zzInt > zCMB_Min: \n",
    "        ax5.errorbar(zzInt, Y_HubbleData[i][5], yerr=Y_HubbleData[i][4], \n",
    "                     fmt='.', color='red',  ms=MarkerSize, elinewidth=BarWidth, capsize=MyCapeSize)\n",
    "\n",
    "    #--- Others data\n",
    "    elif sampleFlag == 3 and zzInt > zCMB_Min: \n",
    "        ax5.errorbar(zzInt, Y_HubbleData[i][5], yerr=Y_HubbleData[i][4], \n",
    "                     fmt='.', color='green',  ms=MarkerSize, elinewidth=BarWidth, capsize=MyCapeSize)\n",
    "        \n",
    "\n",
    "ax5.set_ylabel(r'$\\mu - \\mu_{\\rm \\Lambda CDM}$', fontsize=FontSize)\n",
    "ax5.text(locLabelBandResidual[0], locLabelBandResidual[1], \n",
    "         r'$\\sigma_{\\rm int} = %.3f \\pm %.3f$'%(Y_intrinsicDisp, Y_e_intrinsicDisp),\n",
    "         fontsize=FontSize-3, color=colorLabelBand)\n",
    "ax5.text(locLabelNoSNeResidual[0], locLabelNoSNeResidual[1],\n",
    "         r'%s SN'%len(Y_HubbleData), fontsize=FontSize-2, color=colorLabelBand)\n",
    "\n",
    "ax5.set_ylim(ylimPlots_residual[0],ylimPlots_residual[1])\n",
    "\n",
    "ax5.grid(linestyle='dashed')\n",
    "ax5.tick_params(labelsize=FontSize-SubtractAxisNumSize)\n",
    "\n",
    "ax5.set_xticks(loc_x_axis[1:])\n",
    "\n",
    "#-----------------------------------------------------\n",
    "#     HD Residual J\n",
    "\n",
    "# Plotting theory: Flat Universe\n",
    "ax6.plot(z1, mu0, color='black', lw=1, alpha=1)\n",
    "\n",
    "# Plot the peculiar velocity uncertainty\n",
    "ax6.plot(z1, sigma_pec_np, ls='--', color='black')\n",
    "ax6.plot(z1, -sigma_pec_np, ls='--', color='black')\n",
    "\n",
    "for i in range(len(J_HubbleData)): # loop over 'DistanceMu_.txt'\n",
    "\n",
    "    zzInt = J_HubbleData[i][1] # z_CMB for a given SNe\n",
    "    sampleFlag = J_HubbleData[i][7] # Distinguish between CfA or CSP\n",
    "\n",
    "    #--- CSP data:\n",
    "    if sampleFlag == 2 and zzInt > zCMB_Min: \n",
    "        ax6.errorbar(zzInt, J_HubbleData[i][5], yerr=J_HubbleData[i][4], \n",
    "                     fmt='.', color='blue',  ms=MarkerSize, elinewidth=BarWidth, capsize=MyCapeSize)\n",
    "        \n",
    "    #--- CfA data\n",
    "    elif sampleFlag == 1 and zzInt > zCMB_Min: \n",
    "        ax6.errorbar(zzInt, J_HubbleData[i][5], yerr=J_HubbleData[i][4], \n",
    "                     fmt='.', color='red',  ms=MarkerSize, elinewidth=BarWidth, capsize=MyCapeSize)\n",
    "\n",
    "    #--- Others data\n",
    "    elif sampleFlag == 3 and zzInt > zCMB_Min: \n",
    "        ax6.errorbar(zzInt, J_HubbleData[i][5], yerr=J_HubbleData[i][4], \n",
    "                     fmt='.', color='green',  ms=MarkerSize, elinewidth=BarWidth, capsize=MyCapeSize)\n",
    "        \n",
    "ax6.grid(linestyle='dashed')\n",
    "ax6.text(locLabelBandResidual[0], locLabelBandResidual[1], \n",
    "         r'$\\sigma_{\\rm int} = %.3f \\pm %.3f$'%(J_intrinsicDisp, J_e_intrinsicDisp),\n",
    "         fontsize=FontSize-3, color=colorLabelBand)\n",
    "ax6.text(locLabelNoSNeResidual[0], locLabelNoSNeResidual[1],\n",
    "         r'%s SN'%len(J_HubbleData), fontsize=FontSize-2, color=colorLabelBand)\n",
    "\n",
    "ax6.set_ylim(ylimPlots_residual[0],ylimPlots_residual[1])\n",
    "ax6.tick_params(labelsize=FontSize-SubtractAxisNumSize)\n",
    "\n",
    "# Hack to remove the y-axis numbers: make the axis numbers very small and with white color.\n",
    "ax6.tick_params(axis='y', labelsize=1)\n",
    "for tl in ax6.get_yticklabels():\n",
    "    tl.set_color('white')\n",
    "\n",
    "\n",
    "#-----------------------------------------------------\n",
    "#     HD Residual H\n",
    "\n",
    "# Plotting theory: Flat Universe\n",
    "ax7.plot(z1, mu0, color='black', lw=1, alpha=1)\n",
    "\n",
    "# Plot the peculiar velocity uncertainty\n",
    "ax7.plot(z1, sigma_pec_np, ls='--', color='black')\n",
    "ax7.plot(z1, -sigma_pec_np, ls='--', color='black')\n",
    "\n",
    "for i in range(len(H_HubbleData)): # loop over 'DistanceMu_.txt'\n",
    "\n",
    "    zzInt = H_HubbleData[i][1] # z_CMB for a given SNe\n",
    "    sampleFlag = H_HubbleData[i][7] # Distinguish between CfA or CSP\n",
    "\n",
    "    #--- CSP data:\n",
    "    if sampleFlag == 2 and zzInt > zCMB_Min: \n",
    "        ax7.errorbar(zzInt, H_HubbleData[i][5], yerr=H_HubbleData[i][4], \n",
    "                     fmt='.', color='blue',  ms=MarkerSize, elinewidth=BarWidth, capsize=MyCapeSize)\n",
    "        \n",
    "    #--- CfA data\n",
    "    elif sampleFlag == 1 and zzInt > zCMB_Min: \n",
    "        ax7.errorbar(zzInt, H_HubbleData[i][5], yerr=H_HubbleData[i][4], \n",
    "                     fmt='.', color='red',  ms=MarkerSize, elinewidth=BarWidth, capsize=MyCapeSize)\n",
    "\n",
    "    #--- Others data\n",
    "    elif sampleFlag == 3 and zzInt > zCMB_Min: \n",
    "        ax7.errorbar(zzInt, H_HubbleData[i][5], yerr=H_HubbleData[i][4], \n",
    "                     fmt='.', color='green',  ms=MarkerSize, elinewidth=BarWidth, capsize=MyCapeSize)\n",
    "        \n",
    "ax7.grid(linestyle='dashed')\n",
    "ax7.text(locLabelBandResidual[0], locLabelBandResidual[1], \n",
    "         r'$\\sigma_{\\rm int} = %.3f \\pm %.3f$'%(H_intrinsicDisp, H_e_intrinsicDisp),\n",
    "         fontsize=FontSize-3, color=colorLabelBand)\n",
    "ax7.text(locLabelNoSNeResidual[0], locLabelNoSNeResidual[1],\n",
    "         r'%s SN'%len(H_HubbleData), fontsize=FontSize-2, color=colorLabelBand)\n",
    "\n",
    "ax7.set_ylim(ylimPlots_residual[0],ylimPlots_residual[1])\n",
    "ax7.tick_params(labelsize=FontSize-SubtractAxisNumSize)\n",
    "\n",
    "# Hack to remove the y-axis numbers: make the axis numbers very small and with white color.\n",
    "ax7.tick_params(axis='y', labelsize=1)\n",
    "for tl in ax7.get_yticklabels():\n",
    "    tl.set_color('white')\n",
    "    \n",
    "#-----------------------------------------------------\n",
    "#     HD Residual K\n",
    "\n",
    "# Plotting theory: Flat Universe\n",
    "ax8.plot(z1, mu0, color='black', lw=1, alpha=1)\n",
    "\n",
    "# Plot the peculiar velocity uncertainty\n",
    "ax8.plot(z1, sigma_pec_np, ls='--', color='black')\n",
    "ax8.plot(z1, -sigma_pec_np, ls='--', color='black')\n",
    "\n",
    "for i in range(len(K_HubbleData)): # loop over 'DistanceMu_.txt'\n",
    "\n",
    "    zzInt = K_HubbleData[i][1] # z_CMB for a given SNe\n",
    "    sampleFlag = K_HubbleData[i][7] # Distinguish between CfA or CSP\n",
    "\n",
    "    #--- CSP data:\n",
    "    if sampleFlag == 2 and zzInt > zCMB_Min: \n",
    "        ax8.errorbar(zzInt, K_HubbleData[i][5], yerr=K_HubbleData[i][4], \n",
    "                     fmt='.', color='blue',  ms=MarkerSize, elinewidth=BarWidth, capsize=MyCapeSize)\n",
    "        \n",
    "    #--- CfA data\n",
    "    elif sampleFlag == 1 and zzInt > zCMB_Min: \n",
    "        ax8.errorbar(zzInt, K_HubbleData[i][5], yerr=K_HubbleData[i][4], \n",
    "                     fmt='.', color='red',  ms=MarkerSize, elinewidth=BarWidth, capsize=MyCapeSize)\n",
    "\n",
    "    #--- Others data\n",
    "    elif sampleFlag == 3 and zzInt > zCMB_Min: \n",
    "        ax8.errorbar(zzInt, K_HubbleData[i][5], yerr=K_HubbleData[i][4], \n",
    "                     fmt='.', color='green',  ms=MarkerSize, elinewidth=BarWidth, capsize=MyCapeSize)\n",
    "        \n",
    "ax8.grid(linestyle='dashed')\n",
    "ax8.text(locLabelBandResidual[0], locLabelBandResidual[1], \n",
    "         r'$\\sigma_{\\rm int} = %.3f \\pm %.3f$'%(K_intrinsicDisp, K_e_intrinsicDisp),\n",
    "         fontsize=FontSize-3, color=colorLabelBand)\n",
    "ax8.text(locLabelNoSNeResidual[0], locLabelNoSNeResidual[1],\n",
    "         r'%s SN'%len(K_HubbleData), fontsize=FontSize-2, color=colorLabelBand)\n",
    "\n",
    "ax8.set_ylim(ylimPlots_residual[0],ylimPlots_residual[1])\n",
    "ax8.tick_params(labelsize=FontSize-SubtractAxisNumSize)\n",
    "\n",
    "# Hack to remove the y-axis numbers: make the axis numbers very small and with white color.\n",
    "ax8.tick_params(axis='y', labelsize=1)\n",
    "for tl in ax8.get_yticklabels():\n",
    "    tl.set_color('white')\n",
    "\n",
    "#########################################################\n",
    "\n",
    "# Title of the whole figure\n",
    "plt.title(TitleText, fontsize=FontSize)\n",
    "\n",
    "plt.xlabel('Redshift', fontsize=FontSize)\n",
    "\n",
    "# plt.tight_layout()\n",
    "\n",
    "if Method == 'Template_M':\n",
    "    plt.savefig(DirSaveOutput+'Plot_HD_Template_Individual_high_.png', format='png', dpi=300)\n",
    "    plt.savefig(DirSaveOutput+'Plot_HD_Template_Individual_.png')\n",
    "elif Method == 'GP_M':\n",
    "    plt.savefig(DirSaveOutput+'Plot_HD_GP_Individual_high_.png', format='png', dpi=300)\n",
    "    plt.savefig(DirSaveOutput+'Plot_HD_GP_Individual_.png')\n",
    "plt.close()"
   ]
  },
  {
   "cell_type": "code",
   "execution_count": null,
   "metadata": {
    "collapsed": true
   },
   "outputs": [],
   "source": [
    "plt.close();"
   ]
  },
  {
   "cell_type": "code",
   "execution_count": null,
   "metadata": {
    "collapsed": true
   },
   "outputs": [],
   "source": []
  },
  {
   "cell_type": "code",
   "execution_count": null,
   "metadata": {
    "collapsed": true
   },
   "outputs": [],
   "source": []
  },
  {
   "cell_type": "markdown",
   "metadata": {},
   "source": [
    "--------"
   ]
  },
  {
   "cell_type": "markdown",
   "metadata": {},
   "source": [
    "# Figure: Plotting Hubble and residual diagrams together from -combined- YJHK bands"
   ]
  },
  {
   "cell_type": "code",
   "execution_count": null,
   "metadata": {
    "collapsed": true
   },
   "outputs": [],
   "source": [
    "# Values of the HD scatter\n",
    "\n",
    "AllBands_intrinsicDisp = AllBands_RMSData[0][0] # old. 0.080\n",
    "AllBands_e_intrinsicDisp = AllBands_RMSData[0][1] # old. 0.015\n",
    "AllBands_wrms = AllBands_RMSData[5][0] # old. 0.\n",
    "\n",
    "YJH_intrinsicDisp = YJH_RMSData[0][0] # old. 0.068\n",
    "YJH_e_intrinsicDisp = YJH_RMSData[0][1] # old. 0.027\n",
    "YJH_wrms = YJH_RMSData[5][0] # old. 0.\n",
    "\n",
    "JHK_intrinsicDisp = JHK_RMSData[0][0] # old. 0.092\n",
    "JHK_e_intrinsicDisp = JHK_RMSData[0][1] # old. 0.030\n",
    "JHK_wrms = JHK_RMSData[5][0] # old. 0."
   ]
  },
  {
   "cell_type": "code",
   "execution_count": null,
   "metadata": {
    "collapsed": true
   },
   "outputs": [],
   "source": [
    "# Some parameters for plotting\n",
    "\n",
    "zCMB_Min = 0\n",
    "\n",
    "FontSize = 12\n",
    "\n",
    "#--- Plot range:\n",
    "xlimPlots = 0.00, 0.042 # old 0.065 # To show the z<0.01 data in the Hubble diagram\n",
    "ylimPlots = 31.1, 36.5  # old. 38 # To show the z<0.01 data in the Hubble diagram\n",
    "ylimPlots_residual = -1, 1\n",
    "\n",
    "#--- Properites of the axis numbers\n",
    "SubtractAxisNumSize = 2 # 2\n",
    "Separation_x = 0.01\n",
    "\n",
    "loc_x_axis = np.arange(xlimPlots[0], xlimPlots[1], Separation_x)\n",
    "\n",
    "#--- Band labels\n",
    "locLabelBand = 0.021, 33 \n",
    "locLabelBandResidual  = 0.005, 0.8 \n",
    "locLabelNoSNeResidual = 0.03, -0.8\n",
    "colorLabelBand = 'black'\n",
    "\n",
    "#--- Title\n",
    "\n",
    "if Method== 'Template_M': TitleText = 'Hubble diagrams from Template method'\n",
    "elif Method== 'GP_M':     TitleText = 'Hubble diagrams from Gaussian-Process method'\n",
    "\n",
    "#--- Data dots:\n",
    "MarkerSize = 6\n",
    "BarWidth = 1\n",
    "MyCapeSize = 2\n",
    "fmt_int = '.'"
   ]
  },
  {
   "cell_type": "code",
   "execution_count": null,
   "metadata": {
    "collapsed": true
   },
   "outputs": [],
   "source": [
    "# Some initial arrays\n",
    "\n",
    "# To plot the theoretical (spectroscopic) distance modulus\n",
    "nbins1= 51\n",
    "z1 = np.linspace(0.0001, 0.08, nbins1)\n",
    "mu1 = DistanceMuVector(z1, OmMFix, wFix, HoFix) # LCDM\n",
    "mu0 = np.zeros(len(z1)) # Array plot the residual line\n",
    "\n",
    "# Array plot the peculiar velocity uncertanty\n",
    "error_z1 = err_zCMB_fix * np.ones(len(z1)) # \n",
    "sigma_pec_np = np.sqrt(sigma2_pec(z1, error_z1, vpecFix))"
   ]
  },
  {
   "cell_type": "code",
   "execution_count": null,
   "metadata": {
    "collapsed": true
   },
   "outputs": [],
   "source": []
  },
  {
   "cell_type": "code",
   "execution_count": null,
   "metadata": {
    "collapsed": true
   },
   "outputs": [],
   "source": [
    "plt.clf()\n",
    "fig, ((ax1, ax2, ax3), (ax4, ax5, ax6)) = plt.subplots(2, 3, sharex=True, \n",
    "                                                       gridspec_kw = {'height_ratios':[1, 1]},\n",
    "                                                       # gridspec_kw = {'height_ratios':[3, 1]},\n",
    "                                                       # figsize=(10, 7))\n",
    "                                                       figsize=(10, 5))\n",
    "#----  add a big axes, hide frame ---\n",
    "# Useful to put a global title and labels to the axes\n",
    "fig.add_subplot(111, frameon=False)\n",
    "# hide tick and tick label of the big axes\n",
    "plt.tick_params(labelcolor='none', top='off', bottom='off', left='off', right='off')\n",
    "\n",
    "#------------------\n",
    "\n",
    "# Close the space between the subplots\n",
    "plt.subplots_adjust(wspace=0.004, hspace = 0.005)\n",
    "\n",
    "#-----------------------------------------------------\n",
    "#     Hubble diagram: AllBands\n",
    "\n",
    "for i in range(len(AllBands_HubbleData)): # loop over 'DistanceModuli_.txt'\n",
    "    zzInt = AllBands_HubbleData[i][1] # z_CMB for a given SNe\n",
    "    sampleFlag = AllBands_HubbleData[i][7]  \n",
    "\n",
    "    # CSP data\n",
    "    if sampleFlag == 2 and zzInt > zCMB_Min:   \n",
    "        ax1.errorbar(zzInt, AllBands_HubbleData[i][3], yerr=AllBands_HubbleData[i][4], \n",
    "                     fmt='.', color='blue',  ms=MarkerSize, elinewidth=BarWidth, capsize=MyCapeSize)\n",
    "    # CfA data\n",
    "    elif sampleFlag == 1 and zzInt > zCMB_Min: \n",
    "        ax1.errorbar(zzInt, AllBands_HubbleData[i][3], yerr=AllBands_HubbleData[i][4], \n",
    "                     fmt='.', color='red',  ms=MarkerSize, elinewidth=BarWidth, capsize=MyCapeSize)\n",
    "    # Others data\n",
    "    elif sampleFlag == 3 and zzInt > zCMB_Min: \n",
    "        ax1.errorbar(zzInt, AllBands_HubbleData[i][3], yerr=AllBands_HubbleData[i][4], \n",
    "                     fmt='.', color='green',  ms=MarkerSize, elinewidth=BarWidth, capsize=MyCapeSize)\n",
    "        \n",
    "        \n",
    "# Plotting the LCDM theory line\n",
    "ax1.plot(z1, mu1, color='black')\n",
    "\n",
    "ax1.set_ylabel(r'Distance modulus $\\mu$', fontsize=FontSize)\n",
    "ax1.text(locLabelBand[0], locLabelBand[1], 'any $YJHK_s$', fontsize=FontSize+2, color=colorLabelBand)\n",
    "\n",
    "ax1.grid(linestyle='dashed')\n",
    "ax1.set_xlim(xlimPlots[0],xlimPlots[1])\n",
    "ax1.set_ylim(ylimPlots[0],ylimPlots[1])\n",
    "\n",
    "ax1.tick_params(labelsize=FontSize-SubtractAxisNumSize)\n",
    "\n",
    "        \n",
    "#-----------------------------------------------------\n",
    "#     Hubble diagram: YJH\n",
    "\n",
    "for i in range(len(YJH_HubbleData)): # loop over 'DistanceModuli_.txt'\n",
    "    zzInt = YJH_HubbleData[i][1] # z_CMB for a given SNe\n",
    "    sampleFlag = YJH_HubbleData[i][7]  \n",
    "\n",
    "    # CSP data\n",
    "    if sampleFlag == 2 and zzInt > zCMB_Min:   \n",
    "        ax2.errorbar(zzInt, YJH_HubbleData[i][3], yerr=YJH_HubbleData[i][4], \n",
    "                     fmt='.', color='blue',  ms=MarkerSize, elinewidth=BarWidth, capsize=MyCapeSize)\n",
    "    # CfA data\n",
    "    elif sampleFlag == 1 and zzInt > zCMB_Min: \n",
    "        ax2.errorbar(zzInt, YJH_HubbleData[i][3], yerr=YJH_HubbleData[i][4], \n",
    "                     fmt='.', color='red',  ms=MarkerSize, elinewidth=BarWidth, capsize=MyCapeSize)\n",
    "    # Others data\n",
    "    elif sampleFlag == 3 and zzInt > zCMB_Min: \n",
    "        ax2.errorbar(zzInt, YJH_HubbleData[i][3], yerr=YJH_HubbleData[i][4], \n",
    "                     fmt='.', color='green',  ms=MarkerSize, elinewidth=BarWidth, capsize=MyCapeSize)\n",
    "        \n",
    "        \n",
    "# Plotting the LCDM theory line\n",
    "ax2.plot(z1, mu1, color='black')\n",
    "\n",
    "ax2.text(locLabelBand[0], locLabelBand[1], '$YJH$', fontsize=FontSize+2, color=colorLabelBand)\n",
    "\n",
    "ax2.grid(linestyle='dashed')\n",
    "ax2.set_xlim(xlimPlots[0],xlimPlots[1])\n",
    "ax2.set_ylim(ylimPlots[0],ylimPlots[1])\n",
    "\n",
    "# Hack to remove the y-axis numbers: make the axis numbers very small and with white color.\n",
    "ax2.tick_params(axis='y', labelsize=1)\n",
    "for tl in ax2.get_yticklabels():\n",
    "    tl.set_color('white')\n",
    "\n",
    "\n",
    "#-----------------------------------------------------\n",
    "#     Hubble diagram: JHK\n",
    "\n",
    "for i in range(len(JHK_HubbleData)): # loop over 'DistanceModuli_.txt'\n",
    "    zzInt = JHK_HubbleData[i][1] # z_CMB for a given SNe\n",
    "    sampleFlag = JHK_HubbleData[i][7]  \n",
    "\n",
    "    # CSP data\n",
    "    if sampleFlag == 2 and zzInt > zCMB_Min:   \n",
    "        ax3.errorbar(zzInt, JHK_HubbleData[i][3], yerr=JHK_HubbleData[i][4], \n",
    "                     fmt='.', color='blue',  ms=MarkerSize, elinewidth=BarWidth, capsize=MyCapeSize)\n",
    "    # CfA data\n",
    "    elif sampleFlag == 1 and zzInt > zCMB_Min: \n",
    "        ax3.errorbar(zzInt, JHK_HubbleData[i][3], yerr=JHK_HubbleData[i][4], \n",
    "                     fmt='.', color='red',  ms=MarkerSize, elinewidth=BarWidth, capsize=MyCapeSize)\n",
    "    # Others data\n",
    "    elif sampleFlag == 3 and zzInt > zCMB_Min: \n",
    "        ax3.errorbar(zzInt, JHK_HubbleData[i][3], yerr=JHK_HubbleData[i][4], \n",
    "                     fmt='.', color='green',  ms=MarkerSize, elinewidth=BarWidth, capsize=MyCapeSize)\n",
    "        \n",
    "        \n",
    "# Plotting the LCDM theory line\n",
    "ax3.plot(z1, mu1, color='black')\n",
    "\n",
    "ax3.text(locLabelBand[0], locLabelBand[1], '$JHK_s$', fontsize=FontSize+2, color=colorLabelBand)\n",
    "\n",
    "ax3.grid(linestyle='dashed')\n",
    "ax3.set_xlim(xlimPlots[0],xlimPlots[1])\n",
    "ax3.set_ylim(ylimPlots[0],ylimPlots[1])\n",
    "\n",
    "# Hack to remove the y-axis numbers: make the axis numbers very small and with white color.\n",
    "ax3.tick_params(axis='y', labelsize=1)\n",
    "for tl in ax3.get_yticklabels():\n",
    "    tl.set_color('white')\n",
    "\n",
    "    \n",
    "    \n",
    "#########################################################\n",
    "\n",
    "#     HD Residual: AllBands\n",
    "\n",
    "# Plotting theory: Flat Universe\n",
    "ax4.plot(z1, mu0, color='black', lw=1, alpha=1)\n",
    "\n",
    "# Plot the peculiar velocity uncertainty\n",
    "ax4.plot(z1, sigma_pec_np, ls='--', color='black')\n",
    "ax4.plot(z1, -sigma_pec_np, ls='--', color='black')\n",
    "\n",
    "for i in range(len(AllBands_HubbleData)): # loop over 'DistanceMu_.txt'\n",
    "\n",
    "    zzInt = AllBands_HubbleData[i][1] # z_CMB for a given SNe\n",
    "    sampleFlag = AllBands_HubbleData[i][7] # Distinguish between CfA or CSP\n",
    "\n",
    "    #--- CSP data:\n",
    "    if sampleFlag == 2 and zzInt > zCMB_Min: \n",
    "        ax4.errorbar(zzInt, AllBands_HubbleData[i][5], yerr=AllBands_HubbleData[i][4], \n",
    "                     fmt='.', color='blue',  ms=MarkerSize, elinewidth=BarWidth, capsize=MyCapeSize)\n",
    "        \n",
    "    #--- CfA data\n",
    "    elif sampleFlag == 1 and zzInt > zCMB_Min: \n",
    "        ax4.errorbar(zzInt, AllBands_HubbleData[i][5], yerr=AllBands_HubbleData[i][4], \n",
    "                     fmt='.', color='red',  ms=MarkerSize, elinewidth=BarWidth, capsize=MyCapeSize)\n",
    "\n",
    "    #--- Others data\n",
    "    elif sampleFlag == 3 and zzInt > zCMB_Min: \n",
    "        ax4.errorbar(zzInt, AllBands_HubbleData[i][5], yerr=AllBands_HubbleData[i][4], \n",
    "                     fmt='.', color='green',  ms=MarkerSize, elinewidth=BarWidth, capsize=MyCapeSize)\n",
    "        \n",
    "\n",
    "ax4.set_ylabel(r'$\\mu - \\mu_{\\rm \\Lambda CDM}$', fontsize=FontSize)\n",
    "ax4.text(locLabelBandResidual[0], locLabelBandResidual[1], \n",
    "         r'$\\sigma_{\\rm int} = %.3f \\pm %.3f$'%(AllBands_intrinsicDisp, AllBands_e_intrinsicDisp),\n",
    "         fontsize=FontSize-1, color=colorLabelBand)\n",
    "ax4.text(locLabelNoSNeResidual[0], locLabelNoSNeResidual[1],\n",
    "         r'%s SN'%len(AllBands_HubbleData), fontsize=FontSize, color=colorLabelBand)\n",
    "\n",
    "ax4.set_ylim(ylimPlots_residual[0],ylimPlots_residual[1])\n",
    "\n",
    "ax4.grid(linestyle='dashed')\n",
    "ax4.tick_params(labelsize=FontSize-SubtractAxisNumSize)\n",
    "\n",
    "ax4.set_xticks(loc_x_axis[1:])\n",
    "\n",
    "#-----------------------------------------------------\n",
    "#     HD Residual: YJH\n",
    "\n",
    "# Plotting theory: Flat Universe\n",
    "ax5.plot(z1, mu0, color='black', lw=1, alpha=1)\n",
    "\n",
    "# Plot the peculiar velocity uncertainty\n",
    "ax5.plot(z1, sigma_pec_np, ls='--', color='black')\n",
    "ax5.plot(z1, -sigma_pec_np, ls='--', color='black')\n",
    "\n",
    "for i in range(len(YJH_HubbleData)): # loop over 'DistanceMu_.txt'\n",
    "\n",
    "    zzInt = YJH_HubbleData[i][1] # z_CMB for a given SNe\n",
    "    sampleFlag = YJH_HubbleData[i][7] # Distinguish between CfA or CSP\n",
    "\n",
    "    #--- CSP data:\n",
    "    if sampleFlag == 2 and zzInt > zCMB_Min: \n",
    "        ax5.errorbar(zzInt, YJH_HubbleData[i][5], yerr=YJH_HubbleData[i][4], \n",
    "                     fmt='.', color='blue',  ms=MarkerSize, elinewidth=BarWidth, capsize=MyCapeSize)\n",
    "        \n",
    "    #--- CfA data\n",
    "    elif sampleFlag == 1 and zzInt > zCMB_Min: \n",
    "        ax5.errorbar(zzInt, YJH_HubbleData[i][5], yerr=YJH_HubbleData[i][4], \n",
    "                     fmt='.', color='red',  ms=MarkerSize, elinewidth=BarWidth, capsize=MyCapeSize)\n",
    "\n",
    "    #--- Others data\n",
    "    elif sampleFlag == 3 and zzInt > zCMB_Min: \n",
    "        ax5.errorbar(zzInt, YJH_HubbleData[i][5], yerr=YJH_HubbleData[i][4], \n",
    "                     fmt='.', color='green',  ms=MarkerSize, elinewidth=BarWidth, capsize=MyCapeSize)\n",
    "        \n",
    "ax5.grid(linestyle='dashed')\n",
    "ax5.text(locLabelBandResidual[0], locLabelBandResidual[1], \n",
    "         r'$\\sigma_{\\rm int} = %.3f \\pm %.3f$'%(YJH_intrinsicDisp, YJH_e_intrinsicDisp),\n",
    "         fontsize=FontSize-1, color=colorLabelBand)\n",
    "ax5.text(locLabelNoSNeResidual[0], locLabelNoSNeResidual[1],\n",
    "         r'%s SN'%len(YJH_HubbleData), fontsize=FontSize, color=colorLabelBand)\n",
    "\n",
    "ax5.set_ylim(ylimPlots_residual[0],ylimPlots_residual[1])\n",
    "ax5.tick_params(labelsize=FontSize-SubtractAxisNumSize)\n",
    "\n",
    "# Hack to remove the y-axis numbers: make the axis numbers very small and with white color.\n",
    "ax5.tick_params(axis='y', labelsize=1)\n",
    "for tl in ax5.get_yticklabels():\n",
    "    tl.set_color('white')\n",
    "\n",
    "\n",
    "#-----------------------------------------------------\n",
    "#     HD Residual: JHK\n",
    "\n",
    "# Plotting theory: Flat Universe\n",
    "ax6.plot(z1, mu0, color='black', lw=1, alpha=1)\n",
    "\n",
    "# Plot the peculiar velocity uncertainty\n",
    "ax6.plot(z1, sigma_pec_np, ls='--', color='black')\n",
    "ax6.plot(z1, -sigma_pec_np, ls='--', color='black')\n",
    "\n",
    "for i in range(len(JHK_HubbleData)): # loop over 'DistanceMu_.txt'\n",
    "\n",
    "    zzInt = JHK_HubbleData[i][1] # z_CMB for a given SNe\n",
    "    sampleFlag = JHK_HubbleData[i][7] # Distinguish between CfA or CSP\n",
    "\n",
    "    #--- CSP data:\n",
    "    if sampleFlag == 2 and zzInt > zCMB_Min: \n",
    "        ax6.errorbar(zzInt, JHK_HubbleData[i][5], yerr=JHK_HubbleData[i][4], \n",
    "                     fmt='.', color='blue',  ms=MarkerSize, elinewidth=BarWidth, capsize=MyCapeSize)\n",
    "        \n",
    "    #--- CfA data\n",
    "    elif sampleFlag == 1 and zzInt > zCMB_Min: \n",
    "        ax6.errorbar(zzInt, JHK_HubbleData[i][5], yerr=JHK_HubbleData[i][4], \n",
    "                     fmt='.', color='red',  ms=MarkerSize, elinewidth=BarWidth, capsize=MyCapeSize)\n",
    "\n",
    "    #--- Others data\n",
    "    elif sampleFlag == 3 and zzInt > zCMB_Min: \n",
    "        ax6.errorbar(zzInt, JHK_HubbleData[i][5], yerr=JHK_HubbleData[i][4], \n",
    "                     fmt='.', color='green',  ms=MarkerSize, elinewidth=BarWidth, capsize=MyCapeSize)\n",
    "        \n",
    "ax6.grid(linestyle='dashed')\n",
    "ax6.text(locLabelBandResidual[0], locLabelBandResidual[1], \n",
    "         r'$\\sigma_{\\rm int} = %.3f \\pm %.3f$'%(JHK_intrinsicDisp, JHK_e_intrinsicDisp),\n",
    "         fontsize=FontSize-1, color=colorLabelBand)\n",
    "ax6.text(locLabelNoSNeResidual[0], locLabelNoSNeResidual[1],\n",
    "         r'%s SN'%len(JHK_HubbleData), fontsize=FontSize, color=colorLabelBand)\n",
    "\n",
    "ax6.set_ylim(ylimPlots_residual[0],ylimPlots_residual[1])\n",
    "ax6.tick_params(labelsize=FontSize-SubtractAxisNumSize)\n",
    "\n",
    "# Hack to remove the y-axis numbers: make the axis numbers very small and with white color.\n",
    "ax6.tick_params(axis='y', labelsize=1)\n",
    "for tl in ax6.get_yticklabels():\n",
    "    tl.set_color('white')\n",
    "      \n",
    "\n",
    "#########################################################\n",
    "\n",
    "# Title of the whole figure\n",
    "plt.title(TitleText, fontsize=FontSize)\n",
    "\n",
    "plt.xlabel('Redshift', fontsize=FontSize)\n",
    "\n",
    "# plt.tight_layout()\n",
    "\n",
    "if Method == 'Template_M':\n",
    "    plt.savefig(DirSaveOutput+'Plot_HD_Template_AnyYJHK_high_.png', dpi=300)\n",
    "    plt.savefig(DirSaveOutput+'Plot_HD_Template_AnyYJHK_.png')\n",
    "elif Method == 'GP_M':\n",
    "    plt.savefig(DirSaveOutput+'Plot_HD_GP_AnyYJHK_high_.png', dpi=300)\n",
    "    plt.savefig(DirSaveOutput+'Plot_HD_GP_AnyYJHK_.png')\n",
    "plt.close()"
   ]
  },
  {
   "cell_type": "code",
   "execution_count": null,
   "metadata": {
    "collapsed": true
   },
   "outputs": [],
   "source": [
    "plt.close();"
   ]
  },
  {
   "cell_type": "code",
   "execution_count": null,
   "metadata": {
    "collapsed": true
   },
   "outputs": [],
   "source": []
  },
  {
   "cell_type": "code",
   "execution_count": null,
   "metadata": {
    "collapsed": true
   },
   "outputs": [],
   "source": []
  },
  {
   "cell_type": "markdown",
   "metadata": {},
   "source": [
    "--------"
   ]
  },
  {
   "cell_type": "markdown",
   "metadata": {},
   "source": [
    "# Figure: Hubble diagram from Snoopy (opt &/or nir bands) only\n",
    "\n",
    "### I don't use this section for the paper. It was used only to prototype the creation of the combined Snoopy & SALT2 HD.\n"
   ]
  },
  {
   "cell_type": "code",
   "execution_count": null,
   "metadata": {
    "collapsed": true
   },
   "outputs": [],
   "source": [
    "# Distance modulus from Snoopy fitting.\n",
    "\"\"\" \n",
    "DirSnoopyMu = MainDir+'AllBands/Plots/HubbleDiagram/Snoopy_opt/'\n",
    "\n",
    "Snoopy_HubbleData = np.genfromtxt(DirSnoopyMu+'DistanceMu_Good_AfterCutoffs_Main_Notes_.txt', \n",
    "                             dtype=['S30',\n",
    "                                   float,float,float,float,float,float,float,float,float,float,\n",
    "                                   float,float,float,float,float,float,float,float,float,float,\n",
    "                                   float,float,float,float,float,float,float,float,float,float,\n",
    "                                   float,float,float])\n",
    "\n",
    "HoFix = 72    # 72 km/s is Snoopy default value\n",
    "\"\"\"\n",
    "0"
   ]
  },
  {
   "cell_type": "code",
   "execution_count": null,
   "metadata": {
    "collapsed": true
   },
   "outputs": [],
   "source": [
    "# Values of the HD scatter:\n",
    "\"\"\"\n",
    "Snoopy_intrinsicDisp = 0.152\n",
    "Snoopy_e_intrinsicDisp = 0.020\n",
    "Snoopy_wrms = 0.17\n",
    "\"\"\"\n",
    "0"
   ]
  },
  {
   "cell_type": "code",
   "execution_count": null,
   "metadata": {
    "collapsed": true
   },
   "outputs": [],
   "source": [
    "# Some parameters for plotting\n",
    "\"\"\"\n",
    "zCMB_Min = 0\n",
    "\n",
    "FontSize = 12\n",
    "\n",
    "#--- Plot range:\n",
    "xlimPlots = 0.00, 0.042 # old 0.065 # To show the z<0.01 data in the Hubble diagram\n",
    "ylimPlots = 31.1, 36.5  # old. 38 # To show the z<0.01 data in the Hubble diagram\n",
    "ylimPlots_residual = -1, 1\n",
    "\n",
    "#--- Properites of the axis numbers\n",
    "SubtractAxisNumSize = 2 # 2\n",
    "Separation_x = 0.01\n",
    "\n",
    "loc_x_axis = np.arange(xlimPlots[0], xlimPlots[1], Separation_x)\n",
    "\n",
    "#--- Band labels\n",
    "locLabelBand = 0.025, 33 \n",
    "locLabelBandResidual  = 0.005, 0.8 \n",
    "locLabelNoSNeResidual = 0.03, -0.8\n",
    "colorLabelBand = 'black'\n",
    "\n",
    "#--- Title\n",
    "\n",
    "TitleText = 'BVR Hubble diagram from Snoopy'\n",
    "\n",
    "#--- Data dots:\n",
    "MarkerSize = 6\n",
    "BarWidth = 1\n",
    "\"\"\"\n",
    "0"
   ]
  },
  {
   "cell_type": "code",
   "execution_count": null,
   "metadata": {
    "collapsed": true
   },
   "outputs": [],
   "source": [
    "# Some initial arrays\n",
    "\"\"\"\n",
    "# To plot the theoretical (spectroscopic) distance modulus\n",
    "nbins1= 51\n",
    "z1 = np.linspace(0.0001, 0.08, nbins1)\n",
    "mu1 = DistanceMuVector(z1, OmMFix, wFix, HoFix) # LCDM\n",
    "mu0 = np.zeros(len(z1)) # Array plot the residual line\n",
    "\n",
    "# Array plot the peculiar velocity uncertanty\n",
    "error_z1 = err_zCMB_fix * np.ones(len(z1)) # \n",
    "sigma_pec_np = np.sqrt(sigma2_pec(z1, error_z1, vpecFix)) \"\"\"\n",
    "0"
   ]
  },
  {
   "cell_type": "markdown",
   "metadata": {},
   "source": [
    "#### Main plotting cell"
   ]
  },
  {
   "cell_type": "code",
   "execution_count": null,
   "metadata": {
    "collapsed": true
   },
   "outputs": [],
   "source": [
    "\"\"\"\n",
    "\n",
    "plt.clf()\n",
    "fig, ((ax1), (ax2)) = plt.subplots(2, 1, sharex=True, \n",
    "                                   gridspec_kw = {'height_ratios':[1, 1]},\n",
    "                                    # gridspec_kw = {'height_ratios':[3, 1]},\n",
    "                                    # figsize=(10, 7))\n",
    "                                    figsize=(7, 5))\n",
    "#----  add a big axes, hide frame ---\n",
    "# Useful to put a global title and labels to the axes\n",
    "fig.add_subplot(111, frameon=False)\n",
    "# hide tick and tick label of the big axes\n",
    "plt.tick_params(labelcolor='none', top='off', bottom='off', left='off', right='off')\n",
    "\n",
    "#------------------\n",
    "\n",
    "# Close the space between the subplots\n",
    "plt.subplots_adjust(wspace=0.004, hspace = 0.005)\n",
    "\n",
    "#-----------------------------------------------------\n",
    "#     Hubble diagram \n",
    "\n",
    "for i in range(len(Snoopy_HubbleData)): # loop over 'DistanceModuli_.txt'\n",
    "    zzInt = Snoopy_HubbleData[i][1] # z_CMB for a given SNe\n",
    "    sampleFlag = Snoopy_HubbleData[i][7]  \n",
    "\n",
    "    # CSP data\n",
    "    if sampleFlag == 2 and zzInt > zCMB_Min:   \n",
    "        ax1.errorbar(zzInt, Snoopy_HubbleData[i][3], yerr=Snoopy_HubbleData[i][4], \n",
    "                     fmt='.', color='blue',  ms=MarkerSize, \n",
    "                     elinewidth=BarWidth, capthick=BarWidth)\n",
    "    # CfA data\n",
    "    elif sampleFlag == 1 and zzInt > zCMB_Min: \n",
    "        ax1.errorbar(zzInt, Snoopy_HubbleData[i][3], yerr=Snoopy_HubbleData[i][4], \n",
    "                     fmt='.', color='red',  ms=MarkerSize, \n",
    "                     elinewidth=BarWidth, capthick=BarWidth)\n",
    "    # Others data\n",
    "    elif sampleFlag == 3 and zzInt > zCMB_Min: \n",
    "        ax1.errorbar(zzInt, Snoopy_HubbleData[i][3], yerr=Snoopy_HubbleData[i][4], \n",
    "                     fmt='.', color='green',  ms=MarkerSize, \n",
    "                     elinewidth=BarWidth, capthick=BarWidth)\n",
    "        \n",
    "        \n",
    "# Plotting the LCDM theory line\n",
    "ax1.plot(z1, mu1, color='black')\n",
    "\n",
    "ax1.set_ylabel(r'Distance modulus $\\mu$', fontsize=FontSize)\n",
    "ax1.text(locLabelBand[0], locLabelBand[1], 'all $YJHK_s$', \n",
    "         fontsize=FontSize+2, color=colorLabelBand)\n",
    "\n",
    "ax1.grid(True)\n",
    "ax1.set_xlim(xlimPlots[0],xlimPlots[1])\n",
    "ax1.set_ylim(ylimPlots[0],ylimPlots[1])\n",
    "\n",
    "ax1.tick_params(labelsize=FontSize-SubtractAxisNumSize)\n",
    "\n",
    "    \n",
    "#########################################################\n",
    "\n",
    "#     HD Residual \n",
    "\n",
    "# Plotting theory: Flat Universe\n",
    "ax2.plot(z1, mu0, color='black', lw=1, alpha=1)\n",
    "\n",
    "# Plot the peculiar velocity uncertainty\n",
    "ax2.plot(z1, sigma_pec_np, ls='--', color='black')\n",
    "ax2.plot(z1, -sigma_pec_np, ls='--', color='black')\n",
    "\n",
    "for i in range(len(Snoopy_HubbleData)): # loop over 'DistanceMu_.txt'\n",
    "\n",
    "    zzInt = Snoopy_HubbleData[i][1] # z_CMB for a given SNe\n",
    "    sampleFlag = Snoopy_HubbleData[i][7] # Distinguish between CfA or CSP\n",
    "\n",
    "    #--- CSP data:\n",
    "    if sampleFlag == 2 and zzInt > zCMB_Min: \n",
    "        ax2.errorbar(zzInt, Snoopy_HubbleData[i][5], yerr=Snoopy_HubbleData[i][4], \n",
    "                     fmt='.', color='blue',  ms=MarkerSize, \n",
    "                     elinewidth=BarWidth, capthick=BarWidth)\n",
    "        \n",
    "    #--- CfA data\n",
    "    elif sampleFlag == 1 and zzInt > zCMB_Min: \n",
    "        ax2.errorbar(zzInt, Snoopy_HubbleData[i][5], yerr=Snoopy_HubbleData[i][4], \n",
    "                     fmt='.', color='red',  ms=MarkerSize, \n",
    "                     elinewidth=BarWidth, capthick=BarWidth)\n",
    "\n",
    "    #--- Others data\n",
    "    elif sampleFlag == 3 and zzInt > zCMB_Min: \n",
    "        ax2.errorbar(zzInt, Snoopy_HubbleData[i][5], yerr=Snoopy_HubbleData[i][4], \n",
    "                     fmt='.', color='green',  ms=MarkerSize, \n",
    "                     elinewidth=BarWidth, capthick=BarWidth)\n",
    "        \n",
    "\n",
    "ax2.set_ylabel(r'$\\mu - \\mu_{\\rm \\Lambda CDM}$', fontsize=FontSize)\n",
    "ax2.text(locLabelBandResidual[0], locLabelBandResidual[1], \n",
    "         r'$\\sigma_{\\rm int} = %s \\pm %s$'%(Snoopy_intrinsicDisp, Snoopy_e_intrinsicDisp),\n",
    "         fontsize=FontSize, color=colorLabelBand)\n",
    "ax2.text(locLabelNoSNeResidual[0], locLabelNoSNeResidual[1],\n",
    "         r'%s SN'%len(Snoopy_HubbleData), fontsize=FontSize, color=colorLabelBand)\n",
    "\n",
    "ax2.set_ylim(ylimPlots_residual[0],ylimPlots_residual[1])\n",
    "\n",
    "ax2.grid(True)\n",
    "ax2.tick_params(labelsize=FontSize-SubtractAxisNumSize)\n",
    "\n",
    "ax2.set_xticks(loc_x_axis[1:])\n",
    "\n",
    "\n",
    "\n",
    "#########################################################\n",
    "\n",
    "# Title of the whole figure\n",
    "plt.title(TitleText, fontsize=FontSize)\n",
    "\n",
    "plt.xlabel('Redshift', fontsize=FontSize)\n",
    "\n",
    "# plt.tight_layout()\n",
    "\n",
    "plt.savefig(DirSaveOutput+'Plot_HD_Snoopy_AnyYJHK_high_.png', dpi=300)\n",
    "plt.savefig(DirSaveOutput+'Plot_HD_Snoopy_AnyYJHK_.png')\n",
    "\n",
    "plt.close()\n",
    "\"\"\"\n",
    "0"
   ]
  },
  {
   "cell_type": "markdown",
   "metadata": {},
   "source": [
    "----------"
   ]
  },
  {
   "cell_type": "markdown",
   "metadata": {},
   "source": [
    "# Figure: Hubble diagram of Snoopy & SALT2 together"
   ]
  },
  {
   "cell_type": "code",
   "execution_count": null,
   "metadata": {
    "collapsed": true
   },
   "outputs": [],
   "source": [
    "# USER\n",
    "\n",
    "# Print wRMS in the plot:\n",
    "wRMSInPlot = False"
   ]
  },
  {
   "cell_type": "code",
   "execution_count": null,
   "metadata": {},
   "outputs": [],
   "source": []
  },
  {
   "cell_type": "markdown",
   "metadata": {},
   "source": [
    "Automatic"
   ]
  },
  {
   "cell_type": "code",
   "execution_count": null,
   "metadata": {
    "collapsed": true
   },
   "outputs": [],
   "source": [
    "# Values of the HD scatter:\n",
    "\n",
    "Snoopy_intrinsicDisp   = Snoopy_RMSData[0][0]\n",
    "Snoopy_e_intrinsicDisp = Snoopy_RMSData[0][1]\n",
    "Snoopy_wrms = Snoopy_RMSData[5][0]\n",
    "\n",
    "#------------\n",
    "\n",
    "salt2_intrinsicDisp   = SALT2_RMSData[0][0]\n",
    "salt2_e_intrinsicDisp = SALT2_RMSData[0][1]\n",
    "salt2_wrms = SALT2_RMSData[5][0]"
   ]
  },
  {
   "cell_type": "code",
   "execution_count": null,
   "metadata": {
    "collapsed": true
   },
   "outputs": [],
   "source": [
    "# Some settings for plotting\n",
    "\n",
    "zCMB_Min = 0\n",
    "\n",
    "FontSize = 12\n",
    "\n",
    "#--- Plot range:\n",
    "xlimPlots = 0.00, 0.042 # old 0.065 # To show the z<0.01 data in the Hubble diagram\n",
    "ylimPlots = 31.1, 36.5  # old. 38 # To show the z<0.01 data in the Hubble diagram\n",
    "ylimPlots_residual = -1, 1\n",
    "\n",
    "#--- Properites of the axis numbers\n",
    "SubtractAxisNumSize = 2 # 2\n",
    "Separation_x = 0.01\n",
    "\n",
    "loc_x_axis = np.arange(xlimPlots[0], xlimPlots[1], Separation_x)\n",
    "\n",
    "#--- Band labels\n",
    "locLabelBand = 0.025, 33 \n",
    "locLabelBandResidual  = 0.005, 0.8 \n",
    "locLabelNoSNeResidual = 0.03, -0.8\n",
    "colorLabelBand = 'black'\n",
    "\n",
    "#--- Title\n",
    "\n",
    "TitleText = 'Optical-only Hubble diagrams'\n",
    "\n",
    "#--- Data dots:\n",
    "MarkerSize = 6\n",
    "BarWidth = 1\n",
    "MyCapeSize = 2\n",
    "fmt_int = '.'"
   ]
  },
  {
   "cell_type": "code",
   "execution_count": null,
   "metadata": {
    "collapsed": true
   },
   "outputs": [],
   "source": [
    "# Some initial arrays\n",
    "\n",
    "# To plot the theoretical (spectroscopic) distance modulus line\n",
    "nbins1= 51\n",
    "z1 = np.linspace(0.0001, 0.08, nbins1)\n",
    "mu1_snoopy = DistanceMuVector(z1, OmMFix, wFix, Ho_snoopy) # LCDM\n",
    "mu1_salt2 = DistanceMuVector(z1, OmMFix, wFix, Ho_salt2) # LCDM\n",
    "mu0 = np.zeros(len(z1)) # Array plot the residual line\n",
    "\n",
    "# Array plot the peculiar velocity uncertanty\n",
    "error_z1 = err_zCMB_fix * np.ones(len(z1)) # \n",
    "sigma_pec_np = np.sqrt(sigma2_pec(z1, error_z1, vpecFix))"
   ]
  },
  {
   "cell_type": "markdown",
   "metadata": {},
   "source": [
    "#### Main plotting cell"
   ]
  },
  {
   "cell_type": "code",
   "execution_count": null,
   "metadata": {},
   "outputs": [],
   "source": [
    "plt.clf()\n",
    "fig, ((ax1, ax2), (ax3, ax4)) = plt.subplots(2, 2, sharex=True, \n",
    "                                   gridspec_kw = {'height_ratios':[1, 1]},\n",
    "                                    # gridspec_kw = {'height_ratios':[3, 1]},\n",
    "                                    # figsize=(10, 7))\n",
    "                                    figsize=(10, 5))\n",
    "\n",
    "#----  add a big axes, hide frame ---\n",
    "# Useful to put a global title and labels to the axes\n",
    "fig.add_subplot(111, frameon=False)\n",
    "# hide tick and tick label of the big axes\n",
    "plt.tick_params(labelcolor='none', top='off', bottom='off', left='off', right='off')\n",
    "\n",
    "#------------------\n",
    "\n",
    "# Close the space between the subplots\n",
    "plt.subplots_adjust(wspace=0.002, hspace = 0.002)\n",
    "\n",
    "#-----------------------------------------------------\n",
    "#     Hubble diagram: SALT2 \n",
    "\n",
    "for i in range(len(SALT2_HubbleData)): # loop over 'DistanceModuli_.txt'\n",
    "    zzInt = SALT2_HubbleData[i][1] # z_CMB for a given SNe\n",
    "    sampleFlag = SALT2_HubbleData[i][7]  \n",
    "\n",
    "    # CSP data\n",
    "    if sampleFlag == 2 and zzInt > zCMB_Min:   \n",
    "        ax1.errorbar(zzInt, SALT2_HubbleData[i][3], yerr=SALT2_HubbleData[i][4], \n",
    "                     fmt=fmt_int, color='blue',  ms=MarkerSize, \n",
    "                     elinewidth=BarWidth, capsize=MyCapeSize)\n",
    "    # CfA data\n",
    "    elif sampleFlag == 1 and zzInt > zCMB_Min: \n",
    "        ax1.errorbar(zzInt, SALT2_HubbleData[i][3], yerr=SALT2_HubbleData[i][4], \n",
    "                     fmt=fmt_int, color='red',  ms=MarkerSize, \n",
    "                     elinewidth=BarWidth, capsize=MyCapeSize)\n",
    "    # Others data\n",
    "    elif sampleFlag == 3 and zzInt > zCMB_Min: \n",
    "        ax1.errorbar(zzInt, SALT2_HubbleData[i][3], yerr=SALT2_HubbleData[i][4], \n",
    "                     fmt=fmt_int, color='green',  ms=MarkerSize, \n",
    "                     elinewidth=BarWidth, capsize=MyCapeSize)\n",
    "        \n",
    "        \n",
    "# Plotting the LCDM theory line\n",
    "ax1.plot(z1, mu1_salt2, color='black')\n",
    "\n",
    "ax1.set_ylabel(r'Distance modulus $\\mu$', fontsize=FontSize)\n",
    "ax1.text(locLabelBand[0], locLabelBand[1], 'SALT2', \n",
    "         fontsize=FontSize+2, color=colorLabelBand)\n",
    "\n",
    "ax1.grid(linestyle='dashed')\n",
    "ax1.set_xlim(xlimPlots[0],xlimPlots[1])\n",
    "ax1.set_ylim(ylimPlots[0],ylimPlots[1])\n",
    "\n",
    "ax1.tick_params(labelsize=FontSize-SubtractAxisNumSize)\n",
    "\n",
    "#-----------------------------------------------------\n",
    "\n",
    "#     Hubble diagram: Snoopy \n",
    "\n",
    "for i in range(len(Snoopy_HubbleData)): # loop over 'DistanceModuli_.txt'\n",
    "    zzInt = Snoopy_HubbleData[i][1] # z_CMB for a given SNe\n",
    "    sampleFlag = Snoopy_HubbleData[i][7]  \n",
    "\n",
    "    # CSP data\n",
    "    if sampleFlag == 2 and zzInt > zCMB_Min:   \n",
    "        ax2.errorbar(zzInt, Snoopy_HubbleData[i][3], yerr=Snoopy_HubbleData[i][4], \n",
    "                     fmt=fmt_int, color='blue',  ms=MarkerSize, \n",
    "                     elinewidth=BarWidth, capsize=MyCapeSize)\n",
    "    # CfA data\n",
    "    elif sampleFlag == 1 and zzInt > zCMB_Min: \n",
    "        ax2.errorbar(zzInt, Snoopy_HubbleData[i][3], yerr=Snoopy_HubbleData[i][4], \n",
    "                     fmt=fmt_int, color='red',  ms=MarkerSize, \n",
    "                     elinewidth=BarWidth, capsize=MyCapeSize)\n",
    "    # Others data\n",
    "    elif sampleFlag == 3 and zzInt > zCMB_Min: \n",
    "        ax2.errorbar(zzInt, Snoopy_HubbleData[i][3], yerr=Snoopy_HubbleData[i][4], \n",
    "                     fmt=fmt_int, color='green',  ms=MarkerSize, \n",
    "                     elinewidth=BarWidth, capsize=MyCapeSize)        \n",
    "        \n",
    "# Plotting the LCDM theory line\n",
    "ax2.plot(z1, mu1_salt2, color='black')\n",
    "\n",
    "ax2.text(locLabelBand[0], locLabelBand[1], 'SNooPy', \n",
    "         fontsize=FontSize+2, color=colorLabelBand)\n",
    "\n",
    "ax2.grid(linestyle='dashed')\n",
    "ax2.set_xlim(xlimPlots[0],xlimPlots[1])\n",
    "ax2.set_ylim(ylimPlots[0],ylimPlots[1])\n",
    "\n",
    "# Hack to remove the y-axis numbers: make the axis numbers very \n",
    "# small and with white color.\n",
    "ax2.tick_params(axis='y', labelsize=1)\n",
    "for tl in ax2.get_yticklabels():\n",
    "    tl.set_color('white')\n",
    "\n",
    "#########################################################\n",
    "\n",
    "#     HD Residual: SALT2 \n",
    "\n",
    "# Plotting theory: Flat Universe\n",
    "ax3.plot(z1, mu0, color='black', lw=1, alpha=1)\n",
    "\n",
    "# Plot the peculiar velocity uncertainty\n",
    "ax3.plot(z1, sigma_pec_np, ls='--', color='black')\n",
    "ax3.plot(z1, -sigma_pec_np, ls='--', color='black')\n",
    "\n",
    "for i in range(len(SALT2_HubbleData)): # loop over 'DistanceMu_.txt'\n",
    "\n",
    "    zzInt = SALT2_HubbleData[i][1] # z_CMB for a given SNe\n",
    "    sampleFlag = SALT2_HubbleData[i][7] # Distinguish between CfA or CSP\n",
    "\n",
    "    #--- CSP data:\n",
    "    if sampleFlag == 2 and zzInt > zCMB_Min: \n",
    "        ax3.errorbar(zzInt, SALT2_HubbleData[i][5], yerr=SALT2_HubbleData[i][4], \n",
    "                     fmt=fmt_int, color='blue',  ms=MarkerSize, \n",
    "                     elinewidth=BarWidth, capsize=MyCapeSize)\n",
    "        \n",
    "    #--- CfA data\n",
    "    elif sampleFlag == 1 and zzInt > zCMB_Min: \n",
    "        ax3.errorbar(zzInt, SALT2_HubbleData[i][5], yerr=SALT2_HubbleData[i][4], \n",
    "                     fmt=fmt_int, color='red',  ms=MarkerSize, \n",
    "                     elinewidth=BarWidth, capsize=MyCapeSize)\n",
    "\n",
    "    #--- Others data\n",
    "    elif sampleFlag == 3 and zzInt > zCMB_Min: \n",
    "        ax3.errorbar(zzInt, SALT2_HubbleData[i][5], yerr=SALT2_HubbleData[i][4], \n",
    "                     fmt=fmt_int, color='green',  ms=MarkerSize, \n",
    "                     elinewidth=BarWidth, capsize=MyCapeSize)\n",
    "\n",
    "ax3.set_ylabel(r'$\\mu - \\mu_{\\rm \\Lambda CDM}$', fontsize=FontSize)\n",
    "if wRMSInPlot == True:\n",
    "    ax3.text(locLabelBandResidual[0], locLabelBandResidual[1], \n",
    "             r'$\\sigma_{\\rm int} = %.3f \\pm %.3f$,  wRMS = %.3f'%(salt2_intrinsicDisp, \n",
    "            salt2_e_intrinsicDisp, salt2_wrms),\n",
    "             fontsize=FontSize-1, color=colorLabelBand)\n",
    "elif wRMSInPlot == False:\n",
    "    ax3.text(locLabelBandResidual[0], locLabelBandResidual[1], \n",
    "             r'$\\sigma_{\\rm int} = %.3f \\pm %.3f$'%(salt2_intrinsicDisp, \n",
    "            salt2_e_intrinsicDisp),\n",
    "             fontsize=FontSize-1, color=colorLabelBand)    \n",
    "\n",
    "ax3.text(locLabelNoSNeResidual[0], locLabelNoSNeResidual[1],\n",
    "         r'%s SN'%len(SALT2_HubbleData), fontsize=FontSize, color=colorLabelBand)\n",
    "\n",
    "ax3.set_ylim(ylimPlots_residual[0],ylimPlots_residual[1])\n",
    "\n",
    "ax3.grid(linestyle='dashed')\n",
    "ax3.tick_params(labelsize=FontSize-SubtractAxisNumSize)\n",
    "\n",
    "ax3.set_xticks(loc_x_axis[1:])\n",
    "\n",
    "#-----------------------------------------------------\n",
    "\n",
    "#     HD Residual: Snoopy \n",
    "\n",
    "# Plotting theory: Flat Universe\n",
    "ax4.plot(z1, mu0, color='black', lw=1, alpha=1)\n",
    "\n",
    "# Plot the peculiar velocity uncertainty\n",
    "ax4.plot(z1, sigma_pec_np, ls='--', color='black')\n",
    "ax4.plot(z1, -sigma_pec_np, ls='--', color='black')\n",
    "\n",
    "for i in range(len(Snoopy_HubbleData)): # loop over 'DistanceMu_.txt'\n",
    "\n",
    "    zzInt = Snoopy_HubbleData[i][1] # z_CMB for a given SNe\n",
    "    sampleFlag = Snoopy_HubbleData[i][7] # Distinguish between CfA or CSP\n",
    "\n",
    "    #--- CSP data:\n",
    "    if sampleFlag == 2 and zzInt > zCMB_Min: \n",
    "        ax4.errorbar(zzInt, Snoopy_HubbleData[i][5], yerr=Snoopy_HubbleData[i][4], \n",
    "                     fmt=fmt_int, color='blue',  ms=MarkerSize, \n",
    "                     elinewidth=BarWidth, capsize=MyCapeSize)\n",
    "        \n",
    "    #--- CfA data\n",
    "    elif sampleFlag == 1 and zzInt > zCMB_Min: \n",
    "        ax4.errorbar(zzInt, Snoopy_HubbleData[i][5], yerr=Snoopy_HubbleData[i][4], \n",
    "                     fmt=fmt_int, color='red',  ms=MarkerSize, \n",
    "                     elinewidth=BarWidth, capsize=MyCapeSize)\n",
    "\n",
    "    #--- Others data\n",
    "    elif sampleFlag == 3 and zzInt > zCMB_Min: \n",
    "        ax4.errorbar(zzInt, Snoopy_HubbleData[i][5], yerr=Snoopy_HubbleData[i][4], \n",
    "                     fmt=fmt_int, color='green',  ms=MarkerSize, \n",
    "                     elinewidth=BarWidth, capsize=MyCapeSize)\n",
    "\n",
    "if wRMSInPlot == True:\n",
    "    ax4.text(locLabelBandResidual[0], locLabelBandResidual[1], \n",
    "             r'$\\sigma_{\\rm int} = %.3f \\pm %.3f$,  wRMS = %.3f'%(Snoopy_intrinsicDisp, \n",
    "                Snoopy_e_intrinsicDisp, Snoopy_wrms),\n",
    "             fontsize=FontSize-1, color=colorLabelBand)\n",
    "if wRMSInPlot == False:\n",
    "    ax4.text(locLabelBandResidual[0], locLabelBandResidual[1], \n",
    "             r'$\\sigma_{\\rm int} = %.3f \\pm %.3f$'%(Snoopy_intrinsicDisp, \n",
    "                Snoopy_e_intrinsicDisp),\n",
    "             fontsize=FontSize-1, color=colorLabelBand)\n",
    "\n",
    "ax4.text(locLabelNoSNeResidual[0], locLabelNoSNeResidual[1],\n",
    "         r'%s SN'%len(Snoopy_HubbleData), fontsize=FontSize, color=colorLabelBand)\n",
    "\n",
    "ax4.set_ylim(ylimPlots_residual[0],ylimPlots_residual[1])\n",
    "\n",
    "ax4.grid(linestyle='dashed')\n",
    "ax4.tick_params(labelsize=FontSize-SubtractAxisNumSize)\n",
    "\n",
    "# ax4.set_xticks(loc_x_axis[1:])\n",
    "# Hack to remove the y-axis numbers: make the axis numbers very \n",
    "# small and with white color.\n",
    "ax4.tick_params(axis='y', labelsize=1)\n",
    "for tl in ax4.get_yticklabels():\n",
    "    tl.set_color('white')\n",
    "\n",
    "#########################################################\n",
    "\n",
    "# Title of the whole figure\n",
    "plt.title(TitleText, fontsize=FontSize)\n",
    "plt.xlabel('Redshift', fontsize=FontSize)\n",
    "\n",
    "# plt.tight_layout()\n",
    "\n",
    "plt.savefig(DirSaveOutput+'Plot_OpticalHD_Snoopy_SALT2_high_.png', dpi=300)\n",
    "plt.savefig(DirSaveOutput+'Plot_OpticalHD_Snoopy_SALT2_.png')\n",
    "\n",
    "plt.close()"
   ]
  },
  {
   "cell_type": "code",
   "execution_count": null,
   "metadata": {
    "collapsed": true
   },
   "outputs": [],
   "source": [
    "plt.close(); plt.close(); plt.close()"
   ]
  },
  {
   "cell_type": "code",
   "execution_count": null,
   "metadata": {},
   "outputs": [],
   "source": []
  },
  {
   "cell_type": "markdown",
   "metadata": {},
   "source": [
    "--------"
   ]
  },
  {
   "cell_type": "markdown",
   "metadata": {},
   "source": [
    "# Figure: Abs mag histograms"
   ]
  },
  {
   "cell_type": "code",
   "execution_count": 30,
   "metadata": {
    "collapsed": true
   },
   "outputs": [],
   "source": [
    "# Parameters of the plot\n",
    "\n",
    "# Global font size in the plot:\n",
    "MyFontSize = 14\n",
    "\n",
    "#--- Location of band label ---\n",
    "if Method == 'Template_M': locLabelBand = -17.85 \n",
    "elif Method == 'GP_M': locLabelBand = -18.1 \n",
    "\n",
    "#--- Title\n",
    "\n",
    "if Method== 'Template_M': \n",
    "    TitleText = r'Abs mag histograms at $t_{B}$ max (template method)'\n",
    "elif Method== 'GP_M':     \n",
    "    TitleText = r'Abs mag histograms at $t_{\\rm NIR}$ max (Gaussian-Process method)'\n"
   ]
  },
  {
   "cell_type": "code",
   "execution_count": null,
   "metadata": {},
   "outputs": [],
   "source": []
  },
  {
   "cell_type": "code",
   "execution_count": 31,
   "metadata": {
    "collapsed": true
   },
   "outputs": [
    {
     "name": "stdout",
     "output_type": "stream",
     "text": [
      "# Bin width: 0.190536752328 0.144234931229 0.14210095203 0.241435937234\n",
      "# Number of bins from Scott's rule: 4.0 7.0 7.0 4.0\n"
     ]
    }
   ],
   "source": [
    "# Computing first some values to plot the Gaussian line\n",
    "\n",
    "from scipy.stats import norm\n",
    "import matplotlib.mlab as mlab\n",
    "\n",
    "#----------------------------\n",
    "# Define the bin width based on the Scott's normal reference rule\n",
    "# https://en.wikipedia.org/wiki/Histogram#Scott's_normal_reference_rule\n",
    "\n",
    "# \"x_hh\" = width of the bins using the Scott's normal reference rule.\n",
    "    \n",
    "(Y_Average_NIRAbsMag_TBmax, Y_error_Average_NIRAbsMag_TBmax) = norm.fit(Y_HubbleData['f12'])\n",
    "Y_hh = (3.5*Y_error_Average_NIRAbsMag_TBmax)/((len(Y_HubbleData['f12']))**(1./3.))\n",
    "Y_NumberOfBins = np.ceil(abs(min(Y_HubbleData['f12']) - max(Y_HubbleData['f12']))/Y_hh)\n",
    "\n",
    "(J_Average_NIRAbsMag_TBmax, J_error_Average_NIRAbsMag_TBmax) = norm.fit(J_HubbleData['f12'])\n",
    "J_hh = 3.5*J_error_Average_NIRAbsMag_TBmax/(len(J_HubbleData['f12'])**(1./3.))\n",
    "J_NumberOfBins = np.ceil(abs(min(J_HubbleData['f12']) - max(J_HubbleData['f12']))/J_hh)\n",
    "\n",
    "(H_Average_NIRAbsMag_TBmax, H_error_Average_NIRAbsMag_TBmax) = norm.fit(H_HubbleData['f12'])\n",
    "H_hh = 3.5*H_error_Average_NIRAbsMag_TBmax/(len(H_HubbleData['f12'])**(1./3.))\n",
    "H_NumberOfBins = np.ceil(abs(min(H_HubbleData['f12']) - max(H_HubbleData['f12']))/H_hh)\n",
    "\n",
    "(K_Average_NIRAbsMag_TBmax, K_error_Average_NIRAbsMag_TBmax) = norm.fit(K_HubbleData['f12'])\n",
    "K_hh = 3.5*K_error_Average_NIRAbsMag_TBmax/(len(K_HubbleData['f12'])**(1./3.))\n",
    "K_NumberOfBins = np.ceil(abs(min(K_HubbleData['f12']) - max(K_HubbleData['f12']))/K_hh)\n",
    "\n",
    "print \"# Bin width:\", Y_hh, J_hh, H_hh, K_hh\n",
    "print \"# Number of bins from Scott's rule:\", Y_NumberOfBins, J_NumberOfBins, H_NumberOfBins, K_NumberOfBins\n",
    "\n",
    "# OLD.\n",
    "# Use the number of bins determined from Scott rule to define the bins limits in x-axis.\n",
    "# Y_n, Y_bins, Y_patches = plt.hist(Y_HubbleData['f12'], int(Y_NumberOfBins), normed=True)\n",
    "# J_n, J_bins, J_patches = plt.hist(J_HubbleData['f12'], int(J_NumberOfBins), normed=True)\n",
    "# H_n, H_bins, H_patches = plt.hist(H_HubbleData['f12'], int(H_NumberOfBins), normed=True)\n",
    "# K_n, K_bins, K_patches = plt.hist(K_HubbleData['f12'], int(K_NumberOfBins), normed=True)\n",
    "\n",
    "#----------------------------\n",
    "\n",
    "# Compute the Gaussian curve that I overplot over the histogram\n",
    "\n",
    "# Use the number of bins set by hand to define the bins limits in x-axis for the \n",
    "# continuous Gaussian distribution to overlap\n",
    "NumberBins = 14\n",
    "Y_n_2, Y_bins_2, Y_patches_2 = plt.hist(Y_HubbleData['f12'], NumberBins, normed=True)\n",
    "J_n_2, J_bins_2, J_patches_2 = plt.hist(J_HubbleData['f12'], NumberBins, normed=True)\n",
    "H_n_2, H_bins_2, H_patches_2 = plt.hist(H_HubbleData['f12'], NumberBins, normed=True)\n",
    "K_n_2, K_bins_2, K_patches_2 = plt.hist(K_HubbleData['f12'], NumberBins, normed=True)\n",
    "\n",
    "# Compute the Gaussian curve that I overplot over the histogram\n",
    "Y_yy = mlab.normpdf(Y_bins_2, Y_Average_NIRAbsMag_TBmax, Y_error_Average_NIRAbsMag_TBmax )\n",
    "J_yy = mlab.normpdf(J_bins_2, J_Average_NIRAbsMag_TBmax, J_error_Average_NIRAbsMag_TBmax )\n",
    "H_yy = mlab.normpdf(H_bins_2, H_Average_NIRAbsMag_TBmax, H_error_Average_NIRAbsMag_TBmax )\n",
    "K_yy = mlab.normpdf(K_bins_2, K_Average_NIRAbsMag_TBmax, K_error_Average_NIRAbsMag_TBmax )\n",
    "\n",
    "#----------------------------\n",
    "# Bin width: 0.156576308001 0.142406874808 0.113747582433 0.254067760853\n",
    "# Number of bins: 4.0 6.0 6.0 3.0"
   ]
  },
  {
   "cell_type": "code",
   "execution_count": null,
   "metadata": {},
   "outputs": [],
   "source": []
  },
  {
   "cell_type": "code",
   "execution_count": 32,
   "metadata": {
    "collapsed": true
   },
   "outputs": [],
   "source": [
    "# Comment the following line if I want to use the number\n",
    "# of bins determined above.\n",
    "# NumberBins = 10 \n",
    "\n",
    "plt.clf()\n",
    "fig, axes = plt.subplots(4, 1, sharex=True, figsize=(7, 10))\n",
    "\n",
    "# add a big axes, hide frame\n",
    "fig.add_subplot(111, frameon=False)\n",
    "# hide tick and tick label of the big axes\n",
    "plt.tick_params(labelcolor='none', top='off', bottom='off', left='off', right='off')\n",
    "\n",
    "# Close the space between the subplots\n",
    "plt.subplots_adjust(hspace = .001)\n",
    "\n",
    "axes[0].hist(Y_HubbleData['f12'], int(Y_NumberOfBins), normed=True, facecolor='green', alpha=0.5)\n",
    "axes[0].plot(Y_bins_2, Y_yy, 'r--', linewidth=2)\n",
    "# old. axes[0].text(locLabelBand, (max(Y_n_2)/3.)*2., 'Y band', fontsize=MyFontSize)\n",
    "axes[0].text(locLabelBand, (max(Y_yy)-(max(Y_yy)/4.)), 'Y band', fontsize=MyFontSize)\n",
    "axes[0].tick_params(labelsize=MyFontSize)\n",
    "\n",
    "axes[1].hist(J_HubbleData['f12'], int(J_NumberOfBins), normed=True, facecolor='green', alpha=0.5)\n",
    "axes[1].plot(J_bins_2, J_yy, 'r--', linewidth=2)\n",
    "# old axes[1].text(locLabelBand, (max(J_n_2)/3)*2, 'J band', fontsize=MyFontSize)\n",
    "axes[1].text(locLabelBand, (max(J_yy)-(max(J_yy)/4.)), 'J band', fontsize=MyFontSize)\n",
    "axes[1].tick_params(labelsize=MyFontSize)\n",
    "\n",
    "axes[2].hist(H_HubbleData['f12'], int(H_NumberOfBins), normed=True, facecolor='green', alpha=0.5)\n",
    "axes[2].plot(H_bins_2, H_yy, 'r--', linewidth=2)\n",
    "axes[2].text(locLabelBand, (max(H_yy)-(max(H_yy)/4.)), 'H band', fontsize=MyFontSize)\n",
    "axes[2].tick_params(labelsize=MyFontSize)\n",
    "\n",
    "axes[3].hist(K_HubbleData['f12'], int(K_NumberOfBins), normed=True, facecolor='green', alpha=0.5)\n",
    "axes[3].plot(K_bins_2, K_yy, 'r--', linewidth=2)\n",
    "axes[3].text(locLabelBand, (max(K_yy)-(max(K_yy)/4.)), 'K band', fontsize=MyFontSize)\n",
    "axes[3].tick_params(labelsize=MyFontSize)\n",
    "\n",
    "#----------------------------------\n",
    "\n",
    "plt.grid(linestyle='dashed')\n",
    "plt.title(TitleText, fontsize=MyFontSize)\n",
    "\n",
    "if Method== 'Template_M': BandOfMax_text = 'Bmax'\n",
    "elif Method== 'GP_M': BandOfMax_text = 'NIR'\n",
    "    \n",
    "plt.xlabel(r\"$\\hat{m}_{\\rm %s} - \\mu_{\\Lambda{\\rm CDM}}$\"%BandOfMax_text, \n",
    "           fontsize=(MyFontSize+2))\n",
    "plt.ylabel(\"Probability Density\", fontsize=MyFontSize)\n",
    "\n",
    "plt.savefig(DirSaveOutput+'Plot_histo_AbsMag_%s_high_.png'%Method, dpi=300)\n",
    "plt.savefig(DirSaveOutput+'Plot_histo_AbsMag_%s_.png'%Method)\n",
    "plt.close()"
   ]
  },
  {
   "cell_type": "code",
   "execution_count": 33,
   "metadata": {},
   "outputs": [],
   "source": [
    "plt.close();"
   ]
  },
  {
   "cell_type": "code",
   "execution_count": null,
   "metadata": {},
   "outputs": [],
   "source": []
  },
  {
   "cell_type": "code",
   "execution_count": null,
   "metadata": {
    "collapsed": true
   },
   "outputs": [],
   "source": [
    "# Computing the -uncertainty- in the mean absolute magnitude.\n",
    "\n",
    "print '#','-'*40\n",
    "print '#   ', Method\n",
    "print '#', '<M_Y> = %s +/ %s (Number of data = %s)'%(Y_Average_NIRAbsMag_TBmax, \n",
    "                               Y_error_Average_NIRAbsMag_TBmax/np.sqrt(len(Y_HubbleData['f12'])),\n",
    "                              len(Y_HubbleData['f12']))\n",
    "\n",
    "print '#', '<M_J> = %s +/ %s (Number of data = %s)'%(J_Average_NIRAbsMag_TBmax, \n",
    "                               J_error_Average_NIRAbsMag_TBmax/np.sqrt(len(J_HubbleData['f12'])),\n",
    "                              len(J_HubbleData['f12']))\n",
    "\n",
    "print '#', '<M_H> = %s +/ %s (Number of data = %s)'%(H_Average_NIRAbsMag_TBmax, \n",
    "                               H_error_Average_NIRAbsMag_TBmax/np.sqrt(len(H_HubbleData['f12'])),\n",
    "                              len(H_HubbleData['f12']))\n",
    "\n",
    "print '#', '<M_K> = %s +/ %s (Number of data = %s)'%(K_Average_NIRAbsMag_TBmax, \n",
    "                               K_error_Average_NIRAbsMag_TBmax/np.sqrt(len(K_HubbleData['f12'])),\n",
    "                              len(K_HubbleData['f12']))\n",
    "\n",
    "#----------------------------------------------------------\n",
    "\n",
    "# Create the table in latex format\n",
    "\n",
    "LatexTable_1 = open(DirSaveOutput+'Table_Latex_AbsMag_%s_.txt'%(Method), 'w')\n",
    "\n",
    "if Method == 'Template_M':\n",
    "    LatexTable_1.write(\"\\\\multicolumn{3}{c}{Template method} \\\\\\\\ \\n\")\n",
    "elif Method == 'GP_M':\n",
    "    LatexTable_1.write(\"\\\\multicolumn{3}{c}{Gaussian-Process method} \\\\\\\\ \\n\")\n",
    "\n",
    "LatexTable_1.write(\"\\\\hline \\\\\\\\[-0.3cm] \\n\")\n",
    "\n",
    "LatexTable_1.write(\"$Y$ & $%.2f$ & $%.2f$ \\\\\\\\ \\n\"%(Y_Average_NIRAbsMag_TBmax, \n",
    "                Y_error_Average_NIRAbsMag_TBmax/np.sqrt(len(Y_HubbleData['f12']))  ))\n",
    "\n",
    "LatexTable_1.write(\"$J$ & $%.2f$ & $%.2f$ \\\\\\\\ \\n\"%(J_Average_NIRAbsMag_TBmax, \n",
    "                J_error_Average_NIRAbsMag_TBmax/np.sqrt(len(J_HubbleData['f12']))  ))\n",
    "\n",
    "LatexTable_1.write(\"$H$ & $%.2f$ & $%.2f$ \\\\\\\\ \\n\"%(H_Average_NIRAbsMag_TBmax, \n",
    "                H_error_Average_NIRAbsMag_TBmax/np.sqrt(len(H_HubbleData['f12']))  ))\n",
    "\n",
    "LatexTable_1.write(\"$K_s$ & $%.2f$ & $%.2f$ \\\\\\\\ \\n\"%(K_Average_NIRAbsMag_TBmax, \n",
    "                K_error_Average_NIRAbsMag_TBmax/np.sqrt(len(K_HubbleData['f12']))  ))\n",
    "\n",
    "LatexTable_1.write(\"\\\\hline \\\\\\\\ \\n\")\n",
    "# LatexTable_1.write(\"\")\n",
    "LatexTable_1.close()"
   ]
  },
  {
   "cell_type": "code",
   "execution_count": null,
   "metadata": {},
   "outputs": [],
   "source": []
  },
  {
   "cell_type": "markdown",
   "metadata": {},
   "source": [
    "---------"
   ]
  },
  {
   "cell_type": "markdown",
   "metadata": {},
   "source": [
    "# Comparing NIR vs optical Hubble residuals\n",
    "\n",
    "- Histograms\n",
    "- CDF\n",
    "- Anderson-Darling & Kolmogorov-Smirnov tests"
   ]
  },
  {
   "cell_type": "code",
   "execution_count": 64,
   "metadata": {},
   "outputs": [],
   "source": [
    "# Parameters of the plot\n",
    "\n",
    "# Global font size in the plot:\n",
    "MyFontSize = 14\n",
    "\n",
    "NumberBins = 6\n",
    "\n",
    "#----------------------\n",
    "# Bins edges\n",
    "\n",
    "# bin_edges = [-0.8, -0.6, -0.4, -0.2, 0, 0.2, 0.4, 0.6, 0.8]\n",
    "bin_edges = [-0.6, -0.4, -0.2, 0, 0.2, 0.4, 0.6]\n",
    "\n",
    "\n",
    "\n",
    "#--- Title ------------\n",
    "\n",
    "if Method== 'Template_M': \n",
    "    TitleText = r'Abs mag histograms at $t_{B}$ max (template method)'\n",
    "elif Method== 'GP_M':     \n",
    "    TitleText = r'Abs mag histograms at $t_{\\rm NIR}$ max (Gaussian-Process method)'\n"
   ]
  },
  {
   "cell_type": "code",
   "execution_count": 65,
   "metadata": {},
   "outputs": [],
   "source": [
    "# Upload the \"Any YJHK GP HD\" data\\\n",
    "\n",
    "Dir_AnyYJHK_GP_HD = '/Users/arturo/Dropbox/Research/Articulos/10_AndyKaisey/\\\n",
    "10Compute/TheTemplates/AllBands/Plots/HubbleDiagram/GaussianProcess/'\n",
    "\n",
    "AnyYJHK_GP_HD_file = 'Table_TotalMu_AllBands_Notes_.txt'\n",
    "\n",
    "AnyYJHK_GP_HD_data = np.genfromtxt(Dir_AnyYJHK_GP_HD+AnyYJHK_GP_HD_file, usecols=[5])\n"
   ]
  },
  {
   "cell_type": "code",
   "execution_count": 66,
   "metadata": {},
   "outputs": [],
   "source": [
    "# AnyYJHK_GP_HD_data"
   ]
  },
  {
   "cell_type": "code",
   "execution_count": null,
   "metadata": {},
   "outputs": [],
   "source": []
  },
  {
   "cell_type": "code",
   "execution_count": 184,
   "metadata": {},
   "outputs": [],
   "source": [
    "colors = ['blue', 'limegreen', 'red']\n",
    "\n",
    "plt.clf()\n",
    "fig, axes = plt.subplots(1, 2, sharex=True, figsize=(10, 7))\n",
    "\n",
    "# add a big axes, hide frame\n",
    "fig.add_subplot(111, frameon=False)\n",
    "# hide tick and tick label of the big axes\n",
    "plt.tick_params(labelcolor='none', top='off', bottom='off', left='off', right='off')\n",
    "\n",
    "# Close the space between the subplots\n",
    "plt.subplots_adjust(wspace = .3)\n",
    "\n",
    "#----------------------------------\n",
    "\n",
    "# axes[0].hist(SALT2_HubbleData['f5'], bins=bin_edges, normed=True, facecolor='green', alpha=1, \n",
    "#              histtype='step', fill=False, lw=3)\n",
    "# axes[0].hist(Snoopy_HubbleData['f5'], bins=bin_edges, normed=True, facecolor='red', alpha=1, \n",
    "#              histtype='step', fill=False, lw=3)\n",
    "# axes[0].hist(AnyYJHK_GP_HD_data, bins=bin_edges, normed=True, facecolor='pink', alpha=1, \n",
    "#              histtype='step', fill=False, lw=3)\n",
    "\n",
    "axes[0].hist([AnyYJHK_GP_HD_data, Snoopy_HubbleData['f5'], SALT2_HubbleData['f5']], NumberBins, \n",
    "             normed=True, label=['x', 'y', 'z'], histtype='step', stacked=True, fill=True, lw=3\n",
    "            , color=colors)\n",
    "\n",
    "axes[0].set_xlabel('Hubble residuals (mag)', fontsize=MyFontSize)\n",
    "axes[0].set_ylabel('Probability density', fontsize=MyFontSize)\n",
    "axes[0].tick_params(labelsize=MyFontSize)\n",
    "\n",
    "#----------------------------------\n",
    "\n",
    "binsize_2 = 60\n",
    "\n",
    "axes[1].hist(AnyYJHK_GP_HD_data, normed=1, histtype='step',\n",
    "                cumulative=True, bins=binsize_2, lw=3, color='blue')\n",
    "\n",
    "axes[1].hist(Snoopy_HubbleData['f5'], normed=1, histtype='step',\n",
    "                cumulative=True, bins=binsize_2, lw=3, color='limegreen')\n",
    "\n",
    "axes[1].hist(SALT2_HubbleData['f5'], normed=1, histtype='step',\n",
    "                cumulative=True, bins=binsize_2, lw=3, color='red')\n",
    "\n",
    "axes[1].set_xlabel('Hubble residuals (mag)', fontsize=MyFontSize)\n",
    "axes[1].set_ylabel('Cumulative distribution function', fontsize=MyFontSize)\n",
    "# axes[1].set_xlim(-0.4, 0.3)\n",
    "\n",
    "axes[1].tick_params(labelsize=MyFontSize)\n",
    "\n",
    "#----------------------------------\n",
    "plt.title('Hubble residuals scatter: NIR vs Optical', fontsize=MyFontSize)\n",
    "\n",
    "plt.savefig(DirSaveOutput+'Plot_histo_HubbleResiduals_NIR_vs_Optical_high_.png', dpi=300)\n",
    "plt.savefig(DirSaveOutput+'Plot_histo_HubbleResiduals_NIR_vs_Optical_.png')\n",
    "plt.close()"
   ]
  },
  {
   "cell_type": "code",
   "execution_count": 185,
   "metadata": {},
   "outputs": [],
   "source": [
    "plt.close(); plt.close(); plt.close();plt.close(); plt.close(); plt.close();"
   ]
  },
  {
   "cell_type": "code",
   "execution_count": null,
   "metadata": {},
   "outputs": [],
   "source": []
  },
  {
   "cell_type": "code",
   "execution_count": null,
   "metadata": {},
   "outputs": [],
   "source": []
  },
  {
   "cell_type": "code",
   "execution_count": null,
   "metadata": {},
   "outputs": [],
   "source": []
  },
  {
   "cell_type": "code",
   "execution_count": null,
   "metadata": {},
   "outputs": [],
   "source": []
  },
  {
   "cell_type": "code",
   "execution_count": 127,
   "metadata": {},
   "outputs": [
    {
     "data": {
      "image/png": "[encoded data removed]",
      "text/plain": [
       "<matplotlib.figure.Figure at 0x1195cb690>"
      ]
     },
     "metadata": {},
     "output_type": "display_data"
    }
   ],
   "source": [
    "import numpy as np\n",
    "import matplotlib.pyplot as plt\n",
    "from matplotlib import mlab\n",
    "\n",
    "np.random.seed(0)\n",
    "\n",
    "mu = 200\n",
    "sigma = 25\n",
    "n_bins = 50\n",
    "x = np.random.normal(mu, sigma, size=100)\n",
    "\n",
    "fig, ax = plt.subplots(figsize=(8, 4))\n",
    "\n",
    "# plot the cumulative histogram\n",
    "ax.hist(x, n_bins, normed=1, histtype='step',\n",
    "                           cumulative=True, label='Empirical')\n",
    "\n",
    "# tidy up the figure\n",
    "ax.grid(True)\n",
    "ax.legend(loc='right')\n",
    "ax.set_title('Cumulative step histograms')\n",
    "ax.set_xlabel('Annual rainfall (mm)')\n",
    "ax.set_ylabel('Likelihood of occurrence')\n",
    "\n",
    "plt.show()"
   ]
  },
  {
   "cell_type": "code",
   "execution_count": null,
   "metadata": {},
   "outputs": [],
   "source": []
  },
  {
   "cell_type": "code",
   "execution_count": 123,
   "metadata": {},
   "outputs": [
    {
     "data": {
      "image/png": "[encoded data removed]",
      "text/plain": [
       "<matplotlib.figure.Figure at 0x11960e610>"
      ]
     },
     "metadata": {},
     "output_type": "display_data"
    }
   ],
   "source": [
    "import numpy as np\n",
    "import matplotlib.pyplot as plt\n",
    "\n",
    "# some fake data\n",
    "data = np.random.randn(1000)\n",
    "# evaluate the histogram\n",
    "values, base = np.histogram(data, bins=40)\n",
    "#evaluate the cumulative\n",
    "cumulative = np.cumsum(values)\n",
    "# plot the cumulative function\n",
    "plt.plot(base[:-1], cumulative, c='blue')\n",
    "#plot the survival function\n",
    "plt.plot(base[:-1], len(data)-cumulative, c='green')\n",
    "\n",
    "plt.show()"
   ]
  },
  {
   "cell_type": "code",
   "execution_count": null,
   "metadata": {},
   "outputs": [],
   "source": []
  },
  {
   "cell_type": "code",
   "execution_count": 84,
   "metadata": {},
   "outputs": [
    {
     "data": {
      "image/png": "[encoded data removed]",
      "text/plain": [
       "<matplotlib.figure.Figure at 0x1142f1b50>"
      ]
     },
     "metadata": {},
     "output_type": "display_data"
    }
   ],
   "source": [
    "import numpy as np\n",
    "import matplotlib.pyplot as plt\n",
    "plt.style.use('seaborn-deep')\n",
    "\n",
    "x = np.random.normal(1, 2, 5000)\n",
    "y = np.random.normal(-1, 3, 2000)\n",
    "bins = np.linspace(-10, 10, 30)\n",
    "\n",
    "plt.hist([x, y], bins, label=['x', 'y'])\n",
    "plt.legend(loc='upper right')\n",
    "plt.show()"
   ]
  },
  {
   "cell_type": "code",
   "execution_count": null,
   "metadata": {},
   "outputs": [],
   "source": []
  },
  {
   "cell_type": "code",
   "execution_count": null,
   "metadata": {},
   "outputs": [],
   "source": [
    "SALT2_HubbleData['f5']"
   ]
  },
  {
   "cell_type": "code",
   "execution_count": 73,
   "metadata": {},
   "outputs": [],
   "source": [
    "x = np.random.randn(10, 3)\n",
    "x"
   ]
  },
  {
   "cell_type": "code",
   "execution_count": 75,
   "metadata": {},
   "outputs": [
    {
     "data": {
      "text/plain": [
       "array([-0.192405, -0.056047, -0.133173, -0.047625, -0.035289, -0.071068,\n",
       "       -0.084431,  0.056185,  0.013845, -0.059712, -0.264996, -0.436535,\n",
       "       -0.339081, -0.209945,  0.308704, -0.054189,  0.333731,  0.098613,\n",
       "        0.055281,  0.085584, -0.467379,  0.256004, -0.027039,  0.015245,\n",
       "        0.041295,  0.245225, -0.152427,  0.018821,  0.030442,  0.149729,\n",
       "        0.001852, -0.036204, -0.026917,  0.050159,  0.120191,  0.190286,\n",
       "        0.180301,  0.200292, -0.136192, -0.019472,  0.449286,  0.160132,\n",
       "        0.014559, -0.135624, -0.135018, -0.082841,  0.020074,  0.531848,\n",
       "       -0.172151, -0.306319,  0.13503 , -0.157043, -0.324181,  0.13938 ,\n",
       "        0.152034,  0.062411])"
      ]
     },
     "execution_count": 75,
     "metadata": {},
     "output_type": "execute_result"
    }
   ],
   "source": [
    "SALT2_HubbleData['f5']"
   ]
  },
  {
   "cell_type": "code",
   "execution_count": 76,
   "metadata": {},
   "outputs": [
    {
     "data": {
      "text/plain": [
       "array([ -5.37129271e-02,   2.67013160e-03,  -6.39605727e-02,\n",
       "         1.44860042e-01,   8.97057656e-02,   8.91712173e-02,\n",
       "        -2.48567923e-01,   1.62812701e-02,   3.51712162e-01,\n",
       "        -3.41869167e-02,   1.31458447e-02,  -8.68387267e-02,\n",
       "         4.64320990e-03,  -2.47262200e-04,   1.37572340e-03,\n",
       "        -1.02539336e-01,  -1.12438268e-01,   5.72451282e-02,\n",
       "        -5.99374263e-02,   6.78340373e-02,   2.02955378e-01,\n",
       "        -7.75272330e-02,  -7.75050475e-02,   1.26093066e-01,\n",
       "         1.26966026e-01,  -3.31035214e-02,   2.71207437e-02,\n",
       "         2.53889271e-02,   9.34232021e-02,  -1.65450889e-01,\n",
       "        -5.42495946e-02,  -2.54440887e-01,   4.07073899e-02,\n",
       "         7.17730197e-02,   2.49799457e-01,  -1.35570058e-01,\n",
       "        -1.49102655e-01,  -3.59659990e-03,  -4.05714966e-02,\n",
       "        -1.10189817e-01,   1.98720215e-01,  -3.99998513e-02,\n",
       "        -1.15669534e-01,  -1.47319073e-02,  -2.35939691e-02,\n",
       "        -1.12067405e-01,  -2.71939973e-01,  -1.62441939e-01,\n",
       "         8.33442402e-02,  -9.04939245e-02,   9.61024906e-02,\n",
       "        -4.12964536e-02,  -1.65041760e-02,   2.01854512e-01,\n",
       "         1.49692949e-02,  -6.36592514e-02])"
      ]
     },
     "execution_count": 76,
     "metadata": {},
     "output_type": "execute_result"
    }
   ],
   "source": [
    "AnyYJHK_GP_HD_data"
   ]
  },
  {
   "cell_type": "code",
   "execution_count": 83,
   "metadata": {},
   "outputs": [
    {
     "data": {
      "text/plain": [
       "array([[ -1.92405000e-01,  -5.37129271e-02],\n",
       "       [ -5.60470000e-02,   2.67013160e-03],\n",
       "       [ -1.33173000e-01,  -6.39605727e-02],\n",
       "       [ -4.76250000e-02,   1.44860042e-01],\n",
       "       [ -3.52890000e-02,   8.97057656e-02],\n",
       "       [ -7.10680000e-02,   8.91712173e-02],\n",
       "       [ -8.44310000e-02,  -2.48567923e-01],\n",
       "       [  5.61850000e-02,   1.62812701e-02],\n",
       "       [  1.38450000e-02,   3.51712162e-01],\n",
       "       [ -5.97120000e-02,  -3.41869167e-02],\n",
       "       [ -2.64996000e-01,   1.31458447e-02],\n",
       "       [ -4.36535000e-01,  -8.68387267e-02],\n",
       "       [ -3.39081000e-01,   4.64320990e-03],\n",
       "       [ -2.09945000e-01,  -2.47262200e-04],\n",
       "       [  3.08704000e-01,   1.37572340e-03],\n",
       "       [ -5.41890000e-02,  -1.02539336e-01],\n",
       "       [  3.33731000e-01,  -1.12438268e-01],\n",
       "       [  9.86130000e-02,   5.72451282e-02],\n",
       "       [  5.52810000e-02,  -5.99374263e-02],\n",
       "       [  8.55840000e-02,   6.78340373e-02],\n",
       "       [ -4.67379000e-01,   2.02955378e-01],\n",
       "       [  2.56004000e-01,  -7.75272330e-02],\n",
       "       [ -2.70390000e-02,  -7.75050475e-02],\n",
       "       [  1.52450000e-02,   1.26093066e-01],\n",
       "       [  4.12950000e-02,   1.26966026e-01],\n",
       "       [  2.45225000e-01,  -3.31035214e-02],\n",
       "       [ -1.52427000e-01,   2.71207437e-02],\n",
       "       [  1.88210000e-02,   2.53889271e-02],\n",
       "       [  3.04420000e-02,   9.34232021e-02],\n",
       "       [  1.49729000e-01,  -1.65450889e-01],\n",
       "       [  1.85200000e-03,  -5.42495946e-02],\n",
       "       [ -3.62040000e-02,  -2.54440887e-01],\n",
       "       [ -2.69170000e-02,   4.07073899e-02],\n",
       "       [  5.01590000e-02,   7.17730197e-02],\n",
       "       [  1.20191000e-01,   2.49799457e-01],\n",
       "       [  1.90286000e-01,  -1.35570058e-01],\n",
       "       [  1.80301000e-01,  -1.49102655e-01],\n",
       "       [  2.00292000e-01,  -3.59659990e-03],\n",
       "       [ -1.36192000e-01,  -4.05714966e-02],\n",
       "       [ -1.94720000e-02,  -1.10189817e-01],\n",
       "       [  4.49286000e-01,   1.98720215e-01],\n",
       "       [  1.60132000e-01,  -3.99998513e-02],\n",
       "       [  1.45590000e-02,  -1.15669534e-01],\n",
       "       [ -1.35624000e-01,  -1.47319073e-02],\n",
       "       [ -1.35018000e-01,  -2.35939691e-02],\n",
       "       [ -8.28410000e-02,  -1.12067405e-01],\n",
       "       [  2.00740000e-02,  -2.71939973e-01],\n",
       "       [  5.31848000e-01,  -1.62441939e-01],\n",
       "       [ -1.72151000e-01,   8.33442402e-02],\n",
       "       [ -3.06319000e-01,  -9.04939245e-02],\n",
       "       [  1.35030000e-01,   9.61024906e-02],\n",
       "       [ -1.57043000e-01,  -4.12964536e-02],\n",
       "       [ -3.24181000e-01,  -1.65041760e-02],\n",
       "       [  1.39380000e-01,   2.01854512e-01],\n",
       "       [  1.52034000e-01,   1.49692949e-02],\n",
       "       [  6.24110000e-02,  -6.36592514e-02]])"
      ]
     },
     "execution_count": 83,
     "metadata": {},
     "output_type": "execute_result"
    }
   ],
   "source": [
    "np.column_stack((SALT2_HubbleData['f5'], AnyYJHK_GP_HD_data))"
   ]
  },
  {
   "cell_type": "code",
   "execution_count": null,
   "metadata": {},
   "outputs": [],
   "source": []
  },
  {
   "cell_type": "code",
   "execution_count": null,
   "metadata": {},
   "outputs": [],
   "source": []
  },
  {
   "cell_type": "code",
   "execution_count": null,
   "metadata": {},
   "outputs": [],
   "source": []
  },
  {
   "cell_type": "code",
   "execution_count": 80,
   "metadata": {},
   "outputs": [],
   "source": [
    "test1 = np.hstack([SALT2_HubbleData['f5'], AnyYJHK_GP_HD_data])"
   ]
  },
  {
   "cell_type": "code",
   "execution_count": 81,
   "metadata": {},
   "outputs": [
    {
     "data": {
      "text/plain": [
       "array([ -1.92405000e-01,  -5.60470000e-02,  -1.33173000e-01,\n",
       "        -4.76250000e-02,  -3.52890000e-02,  -7.10680000e-02,\n",
       "        -8.44310000e-02,   5.61850000e-02,   1.38450000e-02,\n",
       "        -5.97120000e-02,  -2.64996000e-01,  -4.36535000e-01,\n",
       "        -3.39081000e-01,  -2.09945000e-01,   3.08704000e-01,\n",
       "        -5.41890000e-02,   3.33731000e-01,   9.86130000e-02,\n",
       "         5.52810000e-02,   8.55840000e-02,  -4.67379000e-01,\n",
       "         2.56004000e-01,  -2.70390000e-02,   1.52450000e-02,\n",
       "         4.12950000e-02,   2.45225000e-01,  -1.52427000e-01,\n",
       "         1.88210000e-02,   3.04420000e-02,   1.49729000e-01,\n",
       "         1.85200000e-03,  -3.62040000e-02,  -2.69170000e-02,\n",
       "         5.01590000e-02,   1.20191000e-01,   1.90286000e-01,\n",
       "         1.80301000e-01,   2.00292000e-01,  -1.36192000e-01,\n",
       "        -1.94720000e-02,   4.49286000e-01,   1.60132000e-01,\n",
       "         1.45590000e-02,  -1.35624000e-01,  -1.35018000e-01,\n",
       "        -8.28410000e-02,   2.00740000e-02,   5.31848000e-01,\n",
       "        -1.72151000e-01,  -3.06319000e-01,   1.35030000e-01,\n",
       "        -1.57043000e-01,  -3.24181000e-01,   1.39380000e-01,\n",
       "         1.52034000e-01,   6.24110000e-02,  -5.37129271e-02,\n",
       "         2.67013160e-03,  -6.39605727e-02,   1.44860042e-01,\n",
       "         8.97057656e-02,   8.91712173e-02,  -2.48567923e-01,\n",
       "         1.62812701e-02,   3.51712162e-01,  -3.41869167e-02,\n",
       "         1.31458447e-02,  -8.68387267e-02,   4.64320990e-03,\n",
       "        -2.47262200e-04,   1.37572340e-03,  -1.02539336e-01,\n",
       "        -1.12438268e-01,   5.72451282e-02,  -5.99374263e-02,\n",
       "         6.78340373e-02,   2.02955378e-01,  -7.75272330e-02,\n",
       "        -7.75050475e-02,   1.26093066e-01,   1.26966026e-01,\n",
       "        -3.31035214e-02,   2.71207437e-02,   2.53889271e-02,\n",
       "         9.34232021e-02,  -1.65450889e-01,  -5.42495946e-02,\n",
       "        -2.54440887e-01,   4.07073899e-02,   7.17730197e-02,\n",
       "         2.49799457e-01,  -1.35570058e-01,  -1.49102655e-01,\n",
       "        -3.59659990e-03,  -4.05714966e-02,  -1.10189817e-01,\n",
       "         1.98720215e-01,  -3.99998513e-02,  -1.15669534e-01,\n",
       "        -1.47319073e-02,  -2.35939691e-02,  -1.12067405e-01,\n",
       "        -2.71939973e-01,  -1.62441939e-01,   8.33442402e-02,\n",
       "        -9.04939245e-02,   9.61024906e-02,  -4.12964536e-02,\n",
       "        -1.65041760e-02,   2.01854512e-01,   1.49692949e-02,\n",
       "        -6.36592514e-02])"
      ]
     },
     "execution_count": 81,
     "metadata": {},
     "output_type": "execute_result"
    }
   ],
   "source": [
    "test1"
   ]
  },
  {
   "cell_type": "code",
   "execution_count": null,
   "metadata": {},
   "outputs": [],
   "source": []
  }
 ],
 "metadata": {
  "anaconda-cloud": {},
  "kernelspec": {
   "display_name": "Python [default]",
   "language": "python",
   "name": "python2"
  },
  "language_info": {
   "codemirror_mode": {
    "name": "ipython",
    "version": 2
   },
   "file_extension": ".py",
   "mimetype": "text/x-python",
   "name": "python",
   "nbconvert_exporter": "python",
   "pygments_lexer": "ipython2",
   "version": "2.7.13"
  }
 },
 "nbformat": 4,
 "nbformat_minor": 2
}

{
 "metadata": {
  "name": "",
  "signature": "sha256:d858e2238dc2aa8e30f9e8c2213ef585314279999a83bd559806cd6c22ea852f"
 },
 "nbformat": 3,
 "nbformat_minor": 0,
 "worksheets": [
  {
   "cells": [
    {
     "cell_type": "markdown",
     "metadata": {},
     "source": [
      "# Create text files of: \n",
      "# - (phase, absolute mag, error mag) and\n",
      "# - (phase, apparent mag, error mag)"
     ]
    },
    {
     "cell_type": "markdown",
     "metadata": {},
     "source": [
      "# User interface"
     ]
    },
    {
     "cell_type": "code",
     "collapsed": false,
     "input": [
      "# USER\n",
      "\n",
      "# To read arguments in command line\n",
      "# Used in the \".py\" version of this notebook.\n",
      "import sys \n",
      "\n",
      "#----- For command line --------\n",
      "# bandName = '%s'%sys.argv[1]\n",
      "# Sample = '%s'%sys.argv[2]\n",
      " \n",
      "#-------- For notebook----------\n",
      "bandName = 'Y'  # (Y, J, H, K)\n",
      "\n",
      "# Sample = 'CfA'\n",
      "Sample = 'CSP' \n",
      "# Sample = 'Others' \n",
      "# Sample = 'CfA_CSP' \n",
      "\n",
      "#-------------------------------\n",
      "\n",
      "HoFix = 73.24 # Hubble constant (km/(s Mpc))\n",
      "# HoFix = 72.78  # TEMPORAL: value reported by Dhawan et al 2017.\n",
      "\n",
      "OmMFix = 0.28\n",
      "OmLFix = 0.72\n",
      "wFix = -1\n",
      "\n",
      "# Print some marks to debug the code?\n",
      "debug = False"
     ],
     "language": "python",
     "metadata": {},
     "outputs": [],
     "prompt_number": 2
    },
    {
     "cell_type": "markdown",
     "metadata": {},
     "source": [
      "---------------------------------------"
     ]
    },
    {
     "cell_type": "markdown",
     "metadata": {},
     "source": [
      "# Automatic"
     ]
    },
    {
     "cell_type": "code",
     "collapsed": false,
     "input": [
      "from snpy import *\n",
      "# from numpy import * \n",
      "import numpy as np\n",
      "from matplotlib import pyplot as plt\n",
      "import json\n",
      "import glob # To read the name of the files in a given directory\n",
      "\n",
      "# %pylab qt \n",
      "# For CANOPY python: to show the plots in a separated Windows instead of inline.\n",
      "# If used, then I don't have to put the instruction \"plt.close()\" at\n",
      "# the end of the plot because it will show the figure and instantaneously \n",
      "# close the windows too.\n",
      "\n",
      "5+6"
     ],
     "language": "python",
     "metadata": {},
     "outputs": [
      {
       "metadata": {},
       "output_type": "pyout",
       "prompt_number": 3,
       "text": [
        "11"
       ]
      }
     ],
     "prompt_number": 3
    },
    {
     "cell_type": "code",
     "collapsed": false,
     "input": [],
     "language": "python",
     "metadata": {},
     "outputs": [],
     "prompt_number": 3
    },
    {
     "cell_type": "code",
     "collapsed": false,
     "input": [
      "\n",
      "#-------- BAND --------------------\n",
      "\n",
      "if bandName == 'J':\n",
      "    filterNames = ['J2m', 'JANDI', 'J', 'Jrc1', 'Jrc2', 'Jdw']\n",
      "\n",
      "if bandName == 'Y':\n",
      "    filterNames = ['Y', 'Ydw']\n",
      "\n",
      "if bandName == 'H':\n",
      "    filterNames = ['H2m', 'HANDI', 'H', 'Hdw']\n",
      "\n",
      "if bandName == 'K':\n",
      "    filterNames = ['Ks2m', 'KANDI', 'K', 'Kd']\n",
      "\n",
      "#-------------------- \n",
      "\n",
      "DataType = 'OpticalNIR' # OpticalNIR, Optical\n",
      "\n",
      "# The kcorr uncertainties were computed during the snoopy fitting\n",
      "# of the light curves?\n",
      "error_kcorr = False\n",
      "\n",
      "# Comment the CfA photometric observations flagged by Andrew Friedmann?\n",
      "CommentFlaggedCfAData = True\n",
      "\n",
      "\n",
      "######## (usually fixed) ########\n",
      "#   Filter system\n",
      "FilterSyst = 'Std_filters/'\n",
      "# FilterSyst = 'CSP_filters/'"
     ],
     "language": "python",
     "metadata": {},
     "outputs": [],
     "prompt_number": 4
    },
    {
     "cell_type": "code",
     "collapsed": false,
     "input": [
      "\n",
      "# Range of redshift data to be considered\n",
      "zMinCuttoff = 0.\n",
      "zMaxCuttoff = 0.1\n",
      "\n",
      "#-----------------------------------------\n",
      "\n",
      "# In CfA sample, remove the photometric data with the following error bars.\n",
      "flag1 = 0.175; flag2 = 0.25 # OK\n",
      "\n",
      "#-----------------------------------------\n",
      "\n",
      "#-- Consider the light curves with -at least- the following number of data:\n",
      "MinNumberOfDataInLCs=1\n",
      "\n",
      "#-- Consider the LC that contains data in the following range -at least- only:\n",
      "# phase_min = 3\n",
      "# phase_max = 10\n",
      "\n",
      "phase_min = 50\n",
      "phase_max = -15\n",
      "\n",
      "#-----------------------------------------\n",
      "\n",
      "#   Some fixed constants\n",
      "\n",
      "cc = 299792.458  # Speed of light (km/s)\n",
      "\n",
      "# Peculiar velocity\n",
      "# old. vpecFix = 150 # km/s. # Not used anymore\n",
      "\n",
      "##################################3\n",
      "\n",
      "# MainDir = '/Users/arturo/Dropbox/Research/SoftwareResearch/Snoopy/AndyLCComp_2018_02/'"
     ],
     "language": "python",
     "metadata": {},
     "outputs": [],
     "prompt_number": 5
    },
    {
     "cell_type": "code",
     "collapsed": false,
     "input": [],
     "language": "python",
     "metadata": {},
     "outputs": [],
     "prompt_number": 5
    },
    {
     "cell_type": "markdown",
     "metadata": {},
     "source": [
      "## Metadata: (zhel, zcmb)"
     ]
    },
    {
     "cell_type": "code",
     "collapsed": false,
     "input": [
      "DirMetadata = '/Users/arturo/Dropbox/Research/SoftwareResearch/\\\n",
      "Snoopy/AndyLCComp_2018_02/'\n",
      "\n",
      "# Reading the metadata file\n",
      "infoSNe_data = np.genfromtxt(DirMetadata+\n",
      "                             'carrick_Flow_corrections_snnames_v1.txt',\n",
      "                            dtype=['S17', float,float, 'S40',float,float,\n",
      "                                   float,float,float,float,'S16', int ])\n",
      "\n",
      "# Create a dictionary: \n",
      "# {snname: ra, dec, zhelio, e_zhel, zcmb, e_zcmb, zcmbFlow, e_zcmbFlow, code}\n",
      "\n",
      "infoSNe_dict = {infoSNe_data['f0'][i]: np.array( [ infoSNe_data['f1'][i],\n",
      "                infoSNe_data['f2'][i], \n",
      "                infoSNe_data['f4'][i]/cc, infoSNe_data['f5'][i]/cc,\n",
      "                infoSNe_data['f6'][i]/cc, infoSNe_data['f7'][i]/cc,\n",
      "                infoSNe_data['f8'][i]/cc, infoSNe_data['f9'][i]/cc,\n",
      "                infoSNe_data['f11'][i]] )\n",
      "                for i in range(len(infoSNe_data)) } \n",
      "\n",
      "print infoSNe_dict['sn1991T']\n",
      "# [  1.88542500e+02   2.66556000e+00   5.79067269e-03   3.33564095e-06\n",
      "#    3.19220839e-03   2.00138457e-05   6.60456908e-03   5.00346143e-04\n",
      "#    2.00000000e+00]"
     ],
     "language": "python",
     "metadata": {},
     "outputs": [
      {
       "output_type": "stream",
       "stream": "stdout",
       "text": [
        "[  1.88542500e+02   2.66556000e+00   5.79067269e-03   3.33564095e-06\n",
        "   3.19220839e-03   2.00138457e-05   9.20636903e-04   5.00346143e-04\n",
        "   2.00000000e+00]\n"
       ]
      }
     ],
     "prompt_number": 6
    },
    {
     "cell_type": "code",
     "collapsed": false,
     "input": [],
     "language": "python",
     "metadata": {},
     "outputs": [],
     "prompt_number": 6
    },
    {
     "cell_type": "markdown",
     "metadata": {},
     "source": [
      "### Uploading the SED of Hsiao to compute the extinction"
     ]
    },
    {
     "cell_type": "code",
     "collapsed": false,
     "input": [
      "Ia_w, Ia_f = kcorr.get_SED(0,'H3')"
     ],
     "language": "python",
     "metadata": {},
     "outputs": [],
     "prompt_number": 7
    },
    {
     "cell_type": "markdown",
     "metadata": {},
     "source": [
      "### Cosmology theory for $\\mu(z)$"
     ]
    },
    {
     "cell_type": "code",
     "collapsed": false,
     "input": [
      "from scipy.integrate import quad as intquad\n",
      "\n",
      "# Inverse of the dimensionless Hubble parameter\n",
      "def InvEHubblePar(z, OmM, wde):\n",
      "    \"Dimensionless Hubble parameter\"\n",
      "    InvEHubbleParInt = 1.0/(np.sqrt(OmM*(1.0+z)**3.0 + (1.0-OmM)*(1.+z)**(3.*(1.+wde))))\n",
      "    return InvEHubbleParInt\n",
      "\n",
      "# ---- The luminosity distance ----\n",
      "def LumDistance(z, OmM, wde, Ho):\n",
      "    \"Luminosity distance\"\n",
      "    LumDistanceVecInt = 0.\n",
      "    LumDistanceVecInt = cc*(1.+z)*intquad(InvEHubblePar, 0., z, args=(OmM, wde))[0]/Ho \n",
      "    return LumDistanceVecInt\n",
      "\n",
      "\n",
      "# ---- Distance modulus ----\n",
      "def DistanceMu(z, OmM, wde, Ho):\n",
      "    \"Distance modulus\"     \n",
      "    DistanceMuInt = 5.0*np.log10(LumDistance(z, OmM, wde, Ho)) + 25.0\n",
      "    return DistanceMuInt\n",
      "\n",
      "#--------------------------------------------------\n",
      "\n",
      "ztest1 = 0.1\n",
      "print DistanceMu(ztest1, OmMFix, wFix, HoFix)\n",
      "# 38.2572823409\n",
      "# 38.2202031449"
     ],
     "language": "python",
     "metadata": {},
     "outputs": [
      {
       "output_type": "stream",
       "stream": "stdout",
       "text": [
        "38.2202031449\n"
       ]
      }
     ],
     "prompt_number": 8
    },
    {
     "cell_type": "code",
     "collapsed": false,
     "input": [],
     "language": "python",
     "metadata": {},
     "outputs": [],
     "prompt_number": 8
    },
    {
     "cell_type": "markdown",
     "metadata": {},
     "source": [
      "### Generating a table of data (phase[TBmax], M, error_M) including the info of the SNe, from the \"snpy\" files\n",
      "\n",
      "The output data is already corrected by\n",
      "- k-correction\n",
      "- extinction by Milky Way dust\n",
      "- time dilation using the z_helio\n"
     ]
    },
    {
     "cell_type": "code",
     "collapsed": false,
     "input": [
      "#- Directory to save the data\n",
      "\n",
      "DirSaveFiles = '/Users/arturo/Dropbox/Research/Articulos/10_AndyKaisey/\\\n",
      "10Compute/TheTemplates/'+bandName+'_band/'+FilterSyst+'1_AllData_InitialFit/\\\n",
      "AbsMag/'+Sample+'/'    \n",
      "\n",
      "#- Force the creation of the directory to save the outputs.\n",
      "#- \"If the subdirectory does not exist then create it\"\n",
      "if not os.path.exists(DirSaveFiles): os.makedirs(DirSaveFiles)\n",
      "# if not os.path.exists(DirSavAppMag): os.makedirs(DirSavAppMag)\n",
      "\n",
      "#- Directory where the \".snpy\" files are located:\n",
      "DirLocationData = '/Users/arturo/Dropbox/Research/SoftwareResearch/\\\n",
      "Snoopy/AndyLCComp_2018_02/all/\\\n",
      "snoopy/2_Combine_Fit/'+Sample+'/'+DataType+'/Fit/'\n",
      "\n",
      "os.chdir(DirLocationData)\n",
      "\n",
      "# Create a list of the the \".snpy\" file names: \n",
      "list_SN = glob.glob('*_StdFilt.snpy')\n",
      "# tmp. list_SN = glob.glob('*_1stFit.snpy') # tmp\n",
      "\n",
      "print len(list_SN),\"SNe read with extension '_StdFilt.snpy.'\""
     ],
     "language": "python",
     "metadata": {},
     "outputs": [
      {
       "output_type": "stream",
       "stream": "stdout",
       "text": [
        "106 SNe read with extension '_StdFilt.snpy.'\n"
       ]
      }
     ],
     "prompt_number": 9
    },
    {
     "cell_type": "markdown",
     "metadata": {},
     "source": [
      "### Main Loop"
     ]
    },
    {
     "cell_type": "code",
     "collapsed": false,
     "input": [
      "# AUTOMATIC: THIS DOES NOT NEED USER INTERACTION\n",
      "\n",
      "# Create a list of the the \"kcorr_Mean_Std.json\" file names:\n",
      "# old. list_JSON = glob.glob('*_kcorr_Mean_Std.json')\n",
      "\n",
      "log_text = open(DirSaveFiles+'Log_ListSNeWithData_in_'+bandName+'_band_'+Sample+'.log', 'w')\n",
      "# log_tex2 = open(DirSavAppMag+'Log_ListSNeWithData_in_'+bandName+'_band_'+Sample+'.log', 'w')\n",
      "\n",
      "text_line = '#'+'-'*50 + '\\n'\n",
      "\n",
      "log_text.write(\"# %s SNe read with extension '_StdFilt.snpy' \\\n",
      "in folder: \\n\"%len(list_SN))\n",
      "log_text.write(\"# %s \\n\"%DirLocationData)\n",
      "log_text.write(\"%s \\n\"%('-'*40))\n",
      "log_text.write('# '+bandName+'_band in the following SNe: \\n')\n",
      "# log_tex2.write(bandName+'_band in the following SNe: \\n')\n",
      "\n",
      "print 'SNe with data in band '+bandName+':'\n",
      "\n",
      "countSN_nir = 0 # Count SNe with data in a given NIR band\n",
      "# count_nodata = 0 # Count SNe with no data in a given NIR band.\n",
      "# SNe_nodata = [] # list of SNe with no data in a given NIR band.\n",
      "\n",
      "for sn in list_SN: # Loop over the SNe.\n",
      "\n",
      "    s=get_sn(sn) # upload .snpy info\n",
      "    \n",
      "    if debug: print \"Step 1: %s SN to work out.\"%s.name\n",
      "        \n",
      "    # Reset arrays and variables\n",
      "    data_all_np  = np.array([0.,0.,0.,0.,0.,0.,0.])\n",
      "    Flag_LC_passed_cutoffs = 0  \n",
      "    CountNumSimilarBands = 0\n",
      "    count_AllNumDataInLC = 0\n",
      "    \n",
      "    # The kcorr uncertainties were computed during the snoopy fitting\n",
      "    # of the light curves?\n",
      "    if error_kcorr == True:    \n",
      "        # upload the .json dictionary containing the k-corr uncertainties\n",
      "        with open(sn[:-12]+'kcorr_Mean_Std.json','r') \\\n",
      "as outfile: s_errorKcorr = json.load(outfile)  \n",
      "            \n",
      "    zhelio     = infoSNe_dict[s.name][2]\n",
      "    err_zhelio = infoSNe_dict[s.name][3]\n",
      "    \n",
      "    # Flag to determine the appropiate z_cmb:\n",
      "    flag_zcmb  = infoSNe_dict[s.name][8]\n",
      "    if flag_zcmb > 0.1:\n",
      "        zcmb       = infoSNe_dict[s.name][4]\n",
      "        err_zcmb   = infoSNe_dict[s.name][5]\n",
      "    else:\n",
      "        zcmb       = infoSNe_dict[s.name][6]\n",
      "        err_zcmb   = infoSNe_dict[s.name][7]\n",
      "        \n",
      "    if debug: print 'Step 3: z_CMB defined; done.'\n",
      "\n",
      "    if zhelio > zMinCuttoff and zhelio < zMaxCuttoff:\n",
      "\n",
      "        if debug: print 'Step 4: (First cutoff) SNe within the z_helio cutoff; done'\n",
      "        if debug: print \"Step 5: Loop over filters:\"\n",
      "            \n",
      "        # Loop over all the variants of filters names in a given band.\n",
      "        for band in filterNames: \n",
      "            \n",
      "            if debug: print band\n",
      "                \n",
      "            # Reset arrays\n",
      "            data_np = np.array([0.,0.,0.,0.,0.,0.,0.])\n",
      "            data_band_np = np.array([0.,0.,0.,0.,0.,0.,0.])\n",
      "            \n",
      "            # Check if the LC has data inside my cutoffs.\n",
      "            if (band in s.data.keys() and\n",
      "                (s.data[band].MJD[0] -s.Tmax)/(1+zhelio) <= phase_min and\n",
      "                (s.data[band].MJD[-1]-s.Tmax)/(1+zhelio) >= phase_max and\n",
      "                len(s.data[band].MJD) >= MinNumberOfDataInLCs):\n",
      "                \n",
      "                # If the LC has data inside my cutoffs, flag it\n",
      "                # This flag will be used when writting the data to a\n",
      "                # text file.\n",
      "                Flag_LC_passed_cutoffs = 1\n",
      "\n",
      "                if debug: print 'Step 6: LC with data in %s band \\\n",
      "and inside my cutoffs.'%band\n",
      "\n",
      "                #------- The extinction A_lambda --------\n",
      "                R_F = fset[band].R(wave=Ia_w, flux=Ia_f, Rv=3.1)\n",
      "                Alamb = R_F * s.EBVgal\n",
      "                e_Alamb = R_F * s.e_EBVgal\n",
      "\n",
      "                #------- distance modulus (LCDM)\n",
      "                mu_LCDM = DistanceMu(zcmb, OmMFix, wFix, HoFix)\n",
      "                \n",
      "                if debug: print 'HERE 7'\n",
      "\n",
      "                #------------------------------------------------------------------------\n",
      "                #   WRITTING THE HEADERS IN THE TEXT FILE\n",
      "                \n",
      "                # Count the number of similar bands in the same SNe (e.g., J, J2m)\n",
      "                CountNumSimilarBands += 1\n",
      "                    \n",
      "                # Create the text file to write the metadata info only.\n",
      "                if CountNumSimilarBands == 1: \n",
      "                    SN_txtfile = open(DirSaveFiles+sn[0:18]+'_'+Sample+'_'+\n",
      "                                      bandName+'.txt', 'w')\n",
      "\n",
      "                if CountNumSimilarBands == 1:\n",
      "                    SN_txtfile.write(\"# {0} \\n\".format(s.name))\n",
      "                    # SN_txtfil2.write(\"# {0}    # SN name \\n\".format(s.name))\n",
      "\n",
      "                    # SN_txtfile.write(\"# \\n\")\n",
      "                    SN_txtfile.write(\"%-13.6f  %.6f  %.6f  %.6f  -1       -1  -1 # \\\n",
      "(zcmb, err_zcmb, zhelio, err_zhelio) \\n\"%(\n",
      "                            zcmb, err_zcmb, zhelio, err_zhelio))\n",
      "                    # SN_txtfil2.write(\"{0}  {1}  {2}  {3}  00.000  00.000 00.000 # \\\n",
      "    # (zcmb, err_zcmb, zhelio, err_zhelio) metadata file \\n\".format(zcmb, err_zcmb,\n",
      "    #                                                              zhelio, err_zhelio ))\n",
      "                    # SN_txtfile.write(\"# \\n\")\n",
      "                    SN_txtfile.write(\"%-13.6f  %.6f  %.6f   -1       -1       -1  -1 # \\\n",
      "(dm15, err_dm15, stretch) \\n\"%(\n",
      "                            s.dm15, s.e_dm15, s.ks_s))\n",
      "    #                SN_txtfil2.write(\"{0}  {1}  {2}   00.000  00.000 00.000 00.000 # \\\n",
      "    # (dm15, err_dm15, stretch) \\n\".format(s.dm15, s.e_dm15, s.ks_s))\n",
      "\n",
      "                    # SN_txtfile.write(\" \\n\")\n",
      "                    SN_txtfile.write(\"%-13.6f  %.6f  %.6f  -1       -1       -1  -1 # \\\n",
      "(mu_Snoopy, err_mu_Snoopy, mu_LCDM) \\n\"%(\n",
      "                            s.DM, s.e_DM, mu_LCDM))\n",
      "    #                 SN_txtfil2.write(\"{0}  {1}  {2}  00.000  00.000  00.000 00.000 # \\\n",
      "    # (mu_Snoopy, err_mu_Snoopy, mu_LCDM) \\n\".format(s.DM, s.e_DM, mu_LCDM))\n",
      "\n",
      "                    # SN_txtfile.write(\" \\n\")\n",
      "                    SN_txtfile.write(\"%-13.6f  %.6f  %.6f  %.6f  %.6f -1  -1 # \\\n",
      "(E(B-V)_MW, err_E(B-V)_MW, Alamb, err_Alamb, R_F) \\n\"%(\n",
      "                            s.EBVgal, s.e_EBVgal, Alamb, e_Alamb, R_F))\n",
      "    #                SN_txtfil2.write(\"{0}  {1}  {2}  {3}  {4} 00.000  00.000 # \\\n",
      "    # (E(B-V)_MW, err_E(B-V)_MW, Alamb, err_Alamb, R_F) \\n\".format(s.EBVgal, s.e_EBVgal,\n",
      "    #                                                              Alamb, e_Alamb, R_F))\n",
      "\n",
      "                    # SN_txtfile.write(\" \\n\")\n",
      "                    SN_txtfile.write(\"%-13.6f  %.6f  -1        -1        -1       -1  -1 # \\\n",
      "(E(B-V)_host, err_E(B-V)_host) \\n\"%(\n",
      "                            s.EBVhost, s.e_EBVhost))\n",
      "    #                 SN_txtfil2.write(\"{0}  {1}  00.000  00.000 00.000 00.000 00.000 # \\\n",
      "    # (E(B-V)_host, err_E(B-V)_host) \\n\".format(s.EBVhost, s.e_EBVhost))\n",
      "\n",
      "                    # SN_txtfile.write(\" \\n\")\n",
      "                    SN_txtfile.write(\"%-13.6f  %.6f  -1        -1        -1       -1  -1 # \\\n",
      "(T_Bmax, err_T_Bmax) \\n\"%(s.Tmax, s.e_Tmax))\n",
      "    #                 SN_txtfil2.write(\"{0}  {1}  00.000  00.000 00.000 00.000 00.000 # \\\n",
      "    # (T_Bmax, err_T_Bmax) \\n\".format(s.Tmax, s.e_Tmax))\n",
      "\n",
      "                    SN_txtfile.write(\"-1  -1  -1  -1  -1  -1  -1 # Free slot \\n\")\n",
      "\n",
      "\n",
      "                    SN_txtfile.write(\"-1  -1  -1  -1  -1  -1  -1 # Free slot \\n\")\n",
      "\n",
      "\n",
      "                    SN_txtfile.write(\"# Assuming flat LCDM with (Om={0}, OL={1}, w={2}, \\\n",
      "Ho={3}) \\n\".format(OmMFix, OmLFix, wFix, HoFix))\n",
      "\n",
      "                    SN_txtfile.write('#------------------------------------------------- \\n')\n",
      "                    SN_txtfile.write(\"#  %s \\n\"%band)\n",
      "                    SN_txtfile.write('#Phase(TBmax) Abs mag  Err_Absmag  App mag  \\\n",
      "Err_appmag   kcorr    err_kcorr  \\n')\n",
      "                    \n",
      "                    SN_txtfile.close()\n",
      "\n",
      "                #------------------------------------------------------------------------\n",
      "                #   SAVING TO AN ARRAY THE PHOTOMETRY\n",
      "\n",
      "                # Retriving the error in EBVgal\n",
      "                # e_EBVgal = dust_getval.get_dust_sigma_RADEC(s.ra, s.decl, calibration='SF11')\n",
      "\n",
      "                if debug: print 'Step 9: Metadata info written in the text file; done.'\n",
      "                \n",
      "                # Count the number data points in the LC, in a given band and SN.\n",
      "                count_NumDataInLC = 0\n",
      "                \n",
      "                for i in range(len(s.data[band].MJD)): # Loop over MJD in a given band\n",
      "\n",
      "                    #---------------------------------------------\n",
      "                    # Remove bad photometric data points in CfA sample based on the flag\n",
      "                    # in the error value:\n",
      "\n",
      "                    # Reset variable:\n",
      "                    CommentFlag = 0 # = \"Don't comment this line\"\n",
      "                    CommentText = ''\n",
      "                    \n",
      "                    if CommentFlaggedCfAData == False: \n",
      "                        CommentText = ''\n",
      "\n",
      "                    elif CommentFlaggedCfAData == True:\n",
      "                        if (Sample == 'CfA' and (s.data[band].e_mag[i] == flag1 or\n",
      "                              s.data[band].e_mag[i] == flag2)):\n",
      "                            CommentFlag = 1\n",
      "                        else: CommentFlag = 0\n",
      "                            \n",
      "                    # Define the err_kcorr value:\n",
      "                    if error_kcorr == True:\n",
      "                            err_kcorr = s_errorKcorr[band]['%s'%s.data[band].MJD[i]][1]\n",
      "                    else: err_kcorr = 0.\n",
      "\n",
      "                    #-------------\n",
      "                    # Save the good photometry to an array:\n",
      "                    \n",
      "                    data_np = np.array([ \n",
      "\n",
      "                        CommentFlag,\n",
      "\n",
      "                        # phase:\n",
      "                        (s.data[band].MJD[i]-s.Tmax)/((1+zhelio)*s.ks_s),\n",
      "                        \n",
      "                        # Abs mag: kcorrected, MWdust corrected, and distance\n",
      "                        # modulus subtracted:\n",
      "                        s.data[band].mag[i] - s.ks[band][i] - Alamb - mu_LCDM,\n",
      "\n",
      "                       # Total uncertainty for abs mag =\n",
      "                       # = (e_mag^2 + e_Alamb^2 + e_kcorr^2)^(-1/2)\n",
      "                       np.sqrt((s.data[band].e_mag[i])**2 + e_Alamb**2 +\n",
      "                       err_kcorr**2 ),\n",
      "\n",
      "                       # Apparent magnitude: MWdust corrected\n",
      "                       s.data[band].mag[i] - s.ks[band][i] - Alamb,\n",
      "\n",
      "                       # Apparent magnitude error\n",
      "                       np.sqrt((s.data[band].e_mag[i])**2 + e_Alamb**2),\n",
      "\n",
      "                       # k-corr\n",
      "                       s.ks[band][i],\n",
      "\n",
      "                       # k-corr error\n",
      "                       err_kcorr       ])\n",
      "                    \n",
      "                    # print \"%s index\"%i\n",
      "                    if i==0:\n",
      "                        data_band_np = data_np\n",
      "                        # print data_band_np\n",
      "                    elif i>0:\n",
      "                        data_band_np = np.vstack((data_band_np, data_np))\n",
      "                        # print data_band_np\n",
      "                        \n",
      "                    count_AllNumDataInLC += 1\n",
      "                    count_NumDataInLC += 1 \n",
      "                    # print \"%s datum; done.\"%count_NumDataInLC\n",
      "                        \n",
      "                    # <<----- end loop over MJD, for a given type of band.\n",
      "                    \n",
      "                if debug: \n",
      "                    print \"Step 11. %s data in band %s; done.\"%(\n",
      "                                count_NumDataInLC, band)\n",
      "                if debug: print 'Step 12. Loop over MJD for band %s; done'%band\n",
      "                    \n",
      "                log_text.write('%s \\n'%sn)\n",
      "\n",
      "                # --- Save to an array all the good photometry in a given band\n",
      "                # if band in s.data.keys():\n",
      "                if CountNumSimilarBands == 1:\n",
      "                    data_all_np = data_band_np\n",
      "                else:\n",
      "                    data_all_np =  np.vstack((data_all_np, data_band_np))\n",
      "                    \n",
      "            # <<----- end loop over bands.\n",
      "            \n",
      "        if debug: print \"Step 13. %s total number of data in all \\\n",
      "the bands of the same type\"%count_AllNumDataInLC\n",
      "            \n",
      "        #---------------------------------------\n",
      "        \n",
      "        #------ Reorganize the data based dates -----\n",
      "        \n",
      "        \n",
      "        # -------- Write the array to a text file --------\n",
      "        # Open the already created text file that for now contains the \n",
      "        # SNe metadata info only.\n",
      "        \n",
      "        if Flag_LC_passed_cutoffs == 1:\n",
      "            \n",
      "            SN_txtfile = open(DirSaveFiles+sn[0:18]+'_'+Sample+'_'+\n",
      "                                  bandName+'.txt', 'a')\n",
      "            \n",
      "            try:\n",
      "                # Make a copy to order it\n",
      "                # data_all_2_np = np.array([]) # Reset\n",
      "                # data_all_2_np = data_all_np\n",
      "                # Sort the array in increasing order.\n",
      "                # data_all_2_np[data_all_2_np[:,1].argsort()]\n",
      "                # test6[test6[:,1].argsort()]\n",
      "                \n",
      "                # Sort the array in increasing order.\n",
      "                data_all_2_np = np.sort(data_all_np.view('f8,f8,f8,f8,f8,f8,f8,f8'), \n",
      "                                        order=['f1'], axis=0).view(np.float)\n",
      "            \n",
      "                for i1 in range(len(data_all_2_np)):\n",
      "                    if data_all_2_np[i1][0] == 0: CommentText = ''\n",
      "                    else: CommentText = '##'\n",
      "                    SN_txtfile.write(\"%s%-9.5f   %.6f  %.6f  %.6f  %.6f  %10.6f  %.6f\\n\"%(\n",
      "                            CommentText,\n",
      "                            data_all_2_np[i1][1], data_all_2_np[i1][2], data_all_2_np[i1][3],\n",
      "                            data_all_2_np[i1][4], data_all_2_np[i1][5], data_all_2_np[i1][6],\n",
      "                            data_all_2_np[i1][7]) )\n",
      "                    \n",
      "                if debug: print \"Step 15. All %s data  written to the text file; done.\"%len(data_all_2_np)\n",
      "                    \n",
      "            # When there is just one datum in the LC:\n",
      "            except:\n",
      "                if data_all_np[0] == 0: CommentText = ''\n",
      "                else: CommentText = '##'\n",
      "                SN_txtfile.write(\"%s%-9.5f   %.6f  %.6f  %.6f  %.6f  %10.6f  %.6f\\n\"%(\n",
      "                            CommentText,\n",
      "                            data_all_np[1], data_all_np[2], data_all_np[3],\n",
      "                            data_all_np[4], data_all_np[5], data_all_np[6],\n",
      "                            data_all_np[7]))\n",
      "                if debug: print \"Step 15. Only one datum written to the text file; done.\"\n",
      "                \n",
      "                \n",
      "            SN_txtfile.close()\n",
      "            # Count number SNe with NIR data.\n",
      "            countSN_nir += 1\n",
      "            print '%r) %s, done.'%(countSN_nir, sn[0:36])\n",
      "        \n",
      "        #--------------------------------------- \n",
      "        \n",
      "    else: print \"SN with z <\", zMinCuttoff,\":\", s.name\n",
      "        \n",
      "    if debug: print text_line\n",
      "        \n",
      "    # <<---- End loop over SNe.\n",
      "\n",
      "log_text.write(\"# %s SNe in this list. \\n\"%countSN_nir)\n",
      "log_text.close()\n",
      "# log_tex2.close()\n",
      "\n",
      "print \"   \"\n",
      "print \"# %r SNe in subsample %s with data in generic %s band: done. \"%(\n",
      "        countSN_nir, Sample, bandName)\n",
      "print \"# %s SNe read with extension '_StdFilt.snpy.'\"%len(list_SN)\n",
      "# print \"# %s SNe with no data in %s band or less than %s observations.\"%(\n",
      "#         count_nodata, bandName, MinNumberOfDataInLCs)\n",
      "# print \"# The SNe are:\"\n",
      "\n"
     ],
     "language": "python",
     "metadata": {},
     "outputs": [
      {
       "output_type": "stream",
       "stream": "stdout",
       "text": [
        "SNe with data in band Y:\n",
        "1) sn2000bh__B_12_V_12_R_9_I_11_Y_CSP_6, done.\n",
        "2) sn2004ef_dummytext_CSP_StdFilt.snpy, done."
       ]
      },
      {
       "output_type": "stream",
       "stream": "stdout",
       "text": [
        "\n",
        "3) sn2004eo_dummytext_CSP_StdFilt.snpy, done.\n",
        "4) sn2004ey_dummytext_CSP_StdFilt.snpy, done.\n",
        "5) sn2004gs_dummytext_CSP_StdFilt.snpy, done."
       ]
      },
      {
       "output_type": "stream",
       "stream": "stdout",
       "text": [
        "\n",
        "6) sn2004gu_dummytext_CSP_StdFilt.snpy, done.\n",
        "7) sn2005al_dummytext_CSP_StdFilt.snpy, done.\n",
        "8) sn2005am_dummytext_CSP_StdFilt.snpy, done."
       ]
      },
      {
       "output_type": "stream",
       "stream": "stdout",
       "text": [
        "\n",
        "9) sn2005el_dummytext_CSP_StdFilt.snpy, done."
       ]
      },
      {
       "output_type": "stream",
       "stream": "stdout",
       "text": [
        "\n",
        "10) sn2005eq_dummytext_CSP_StdFilt.snpy, done.\n",
        "11) sn2005hc_dummytext_CSP_StdFilt.snpy, done."
       ]
      },
      {
       "output_type": "stream",
       "stream": "stdout",
       "text": [
        "\n",
        "12) sn2005iq_dummytext_CSP_StdFilt.snpy, done.\n",
        "13) sn2005kc_dummytext_CSP_StdFilt.snpy, done."
       ]
      },
      {
       "output_type": "stream",
       "stream": "stdout",
       "text": [
        "\n",
        "14) sn2005ke_dummytext_CSP_StdFilt.snpy, done.\n",
        "15) sn2005ki_dummytext_CSP_StdFilt.snpy, done."
       ]
      },
      {
       "output_type": "stream",
       "stream": "stdout",
       "text": [
        "\n",
        "16) sn2005ku_dummytext_CSP_StdFilt.snpy, done.\n",
        "17) sn2005lu_dummytext_CSP_StdFilt.snpy, done.\n",
        "18) sn2005M_dummytext_CSP_StdFilt.snpy, done."
       ]
      },
      {
       "output_type": "stream",
       "stream": "stdout",
       "text": [
        "\n",
        "19) sn2005na_dummytext_CSP_StdFilt.snpy, done.\n",
        "20) sn2006ax_dummytext_CSP_StdFilt.snpy, done."
       ]
      },
      {
       "output_type": "stream",
       "stream": "stdout",
       "text": [
        "\n",
        "21) sn2006bh_dummytext_CSP_StdFilt.snpy, done.\n",
        "22) sn2006bt_dummytext_CSP_StdFilt.snpy, done.\n",
        "23) sn2006ej_dummytext_CSP_StdFilt.snpy, done."
       ]
      },
      {
       "output_type": "stream",
       "stream": "stdout",
       "text": [
        "\n",
        "24) sn2006et_dummytext_CSP_StdFilt.snpy, done.\n",
        "25) sn2006gj_dummytext_CSP_StdFilt.snpy, done."
       ]
      },
      {
       "output_type": "stream",
       "stream": "stdout",
       "text": [
        "\n",
        "26) sn2006gt_dummytext_CSP_StdFilt.snpy, done.\n",
        "27) sn2006hb_dummytext_CSP_StdFilt.snpy, done."
       ]
      },
      {
       "output_type": "stream",
       "stream": "stdout",
       "text": [
        "\n",
        "28) sn2006hx_dummytext_CSP_StdFilt.snpy, done.\n",
        "29) sn2006is_dummytext_CSP_StdFilt.snpy, done.\n",
        "30) sn2006kf_dummytext_CSP_StdFilt.snpy, done."
       ]
      },
      {
       "output_type": "stream",
       "stream": "stdout",
       "text": [
        "\n",
        "31) sn2006lu_dummytext_CSP_StdFilt.snpy, done.\n",
        "32) sn2006ob_dummytext_CSP_StdFilt.snpy, done.\n",
        "33) sn2006os_dummytext_CSP_StdFilt.snpy, done."
       ]
      },
      {
       "output_type": "stream",
       "stream": "stdout",
       "text": [
        "\n",
        "34) sn2006X_dummytext_CSP_StdFilt.snpy, done.\n",
        "35) sn2007A_dummytext_CSP_StdFilt.snpy, done."
       ]
      },
      {
       "output_type": "stream",
       "stream": "stdout",
       "text": [
        "\n",
        "36) sn2007af_dummytext_CSP_StdFilt.snpy, done.\n",
        "37) sn2007ai_dummytext_CSP_StdFilt.snpy, done."
       ]
      },
      {
       "output_type": "stream",
       "stream": "stdout",
       "text": [
        "\n",
        "38) sn2007as_dummytext_CSP_StdFilt.snpy, done."
       ]
      },
      {
       "output_type": "stream",
       "stream": "stdout",
       "text": [
        "\n",
        "39) sn2007bc_dummytext_CSP_StdFilt.snpy, done.\n",
        "40) sn2007bd_dummytext_CSP_StdFilt.snpy, done."
       ]
      },
      {
       "output_type": "stream",
       "stream": "stdout",
       "text": [
        "\n",
        "41) sn2007bm_dummytext_CSP_StdFilt.snpy, done.\n",
        "42) sn2007ca_dummytext_CSP_StdFilt.snpy, done."
       ]
      },
      {
       "output_type": "stream",
       "stream": "stdout",
       "text": [
        "\n",
        "43) sn2007cg_dummytext_CSP_StdFilt.snpy, done.\n",
        "44) sn2007hj_dummytext_CSP_StdFilt.snpy, done."
       ]
      },
      {
       "output_type": "stream",
       "stream": "stdout",
       "text": [
        "\n",
        "45) sn2007hx_dummytext_CSP_StdFilt.snpy, done.\n",
        "46) sn2007jd_dummytext_CSP_StdFilt.snpy, done."
       ]
      },
      {
       "output_type": "stream",
       "stream": "stdout",
       "text": [
        "\n",
        "47) sn2007jg_dummytext_CSP_StdFilt.snpy, done.\n",
        "48) sn2007le_dummytext_CSP_StdFilt.snpy, done."
       ]
      },
      {
       "output_type": "stream",
       "stream": "stdout",
       "text": [
        "\n",
        "49) sn2007nq_dummytext_CSP_StdFilt.snpy, done.\n",
        "50) sn2007on_dummytext_CSP_StdFilt.snpy, done."
       ]
      },
      {
       "output_type": "stream",
       "stream": "stdout",
       "text": [
        "\n",
        "51) sn2007S_dummytext_CSP_StdFilt.snpy, done.\n",
        "52) sn2007so_dummytext_CSP_StdFilt.snpy, done."
       ]
      },
      {
       "output_type": "stream",
       "stream": "stdout",
       "text": [
        "\n",
        "53) sn2007sr_dummytext_CSP_StdFilt.snpy, done.\n",
        "54) sn2007st_dummytext_CSP_StdFilt.snpy, done."
       ]
      },
      {
       "output_type": "stream",
       "stream": "stdout",
       "text": [
        "\n",
        "55) sn2007ux_dummytext_CSP_StdFilt.snpy, done.\n",
        "56) sn2008ar_dummytext_CSP_StdFilt.snpy, done."
       ]
      },
      {
       "output_type": "stream",
       "stream": "stdout",
       "text": [
        "\n",
        "57) sn2008bc_dummytext_CSP_StdFilt.snpy, done.\n",
        "58) sn2008bf_dummytext_CSP_StdFilt.snpy, done."
       ]
      },
      {
       "output_type": "stream",
       "stream": "stdout",
       "text": [
        "\n",
        "59) sn2008bq_dummytext_CSP_StdFilt.snpy, done.\n",
        "60) sn2008bt_dummytext_CSP_StdFilt.snpy, done.\n",
        "61) sn2008C_dummytext_CSP_StdFilt.snpy, done."
       ]
      },
      {
       "output_type": "stream",
       "stream": "stdout",
       "text": [
        "\n",
        "62) sn2008cc_dummytext_CSP_StdFilt.snpy, done.\n",
        "63) sn2008cf_dummytext_CSP_StdFilt.snpy, done."
       ]
      },
      {
       "output_type": "stream",
       "stream": "stdout",
       "text": [
        "\n",
        "64) sn2008ff_dummytext_CSP_StdFilt.snpy, done.\n",
        "65) sn2008fl_dummytext_CSP_StdFilt.snpy, done."
       ]
      },
      {
       "output_type": "stream",
       "stream": "stdout",
       "text": [
        "\n",
        "66) sn2008fp_dummytext_CSP_StdFilt.snpy, done.\n",
        "67) sn2008fr_dummytext_CSP_StdFilt.snpy, done."
       ]
      },
      {
       "output_type": "stream",
       "stream": "stdout",
       "text": [
        "\n",
        "68) sn2008fu_dummytext_CSP_StdFilt.snpy, done.\n",
        "69) sn2008fw_dummytext_CSP_StdFilt.snpy, done."
       ]
      },
      {
       "output_type": "stream",
       "stream": "stdout",
       "text": [
        "\n",
        "70) sn2008gg_dummytext_CSP_StdFilt.snpy, done.\n",
        "71) sn2008gl_dummytext_CSP_StdFilt.snpy, done."
       ]
      },
      {
       "output_type": "stream",
       "stream": "stdout",
       "text": [
        "\n",
        "72) sn2008go_dummytext_CSP_StdFilt.snpy, done.\n",
        "73) sn2008gp_dummytext_CSP_StdFilt.snpy, done."
       ]
      },
      {
       "output_type": "stream",
       "stream": "stdout",
       "text": [
        "\n",
        "74) sn2008hj_dummytext_CSP_StdFilt.snpy, done.\n",
        "75) sn2008hu_dummytext_CSP_StdFilt.snpy, done."
       ]
      },
      {
       "output_type": "stream",
       "stream": "stdout",
       "text": [
        "\n",
        "76) sn2008hv_dummytext_CSP_StdFilt.snpy, done.\n",
        "77) sn2008ia_dummytext_CSP_StdFilt.snpy, done."
       ]
      },
      {
       "output_type": "stream",
       "stream": "stdout",
       "text": [
        "\n",
        "78) sn2008O_dummytext_CSP_StdFilt.snpy, done.\n",
        "79) sn2008R_dummytext_CSP_StdFilt.snpy, done."
       ]
      },
      {
       "output_type": "stream",
       "stream": "stdout",
       "text": [
        "\n",
        "80) sn2009aa_dummytext_CSP_StdFilt.snpy, done.\n",
        "81) sn2009ab_dummytext_CSP_StdFilt.snpy, done."
       ]
      },
      {
       "output_type": "stream",
       "stream": "stdout",
       "text": [
        "\n",
        "82) sn2009ad_dummytext_CSP_StdFilt.snpy, done.\n",
        "83) sn2009ag_dummytext_CSP_StdFilt.snpy, done."
       ]
      },
      {
       "output_type": "stream",
       "stream": "stdout",
       "text": [
        "\n",
        "84) sn2009cz_dummytext_CSP_StdFilt.snpy, done."
       ]
      },
      {
       "output_type": "stream",
       "stream": "stdout",
       "text": [
        "\n",
        "85) sn2009D_dummytext_CSP_StdFilt.snpy, done.\n",
        "86) sn2009dc_dummytext_CSP_StdFilt.snpy, done."
       ]
      },
      {
       "output_type": "stream",
       "stream": "stdout",
       "text": [
        "\n",
        "87) sn2009ds_dummytext_CSP_StdFilt.snpy, done.\n",
        "88) sn2009I_dummytext_CSP_StdFilt.snpy, done."
       ]
      },
      {
       "output_type": "stream",
       "stream": "stdout",
       "text": [
        "\n",
        "89) sn2009J_dummytext_CSP_StdFilt.snpy, done.\n",
        "90) sn2009le_dummytext_CSP_StdFilt.snpy, done."
       ]
      },
      {
       "output_type": "stream",
       "stream": "stdout",
       "text": [
        "\n",
        "91) sn2009P_dummytext_CSP_StdFilt.snpy, done.\n",
        "92) sn2009Y_dummytext_CSP_StdFilt.snpy, done."
       ]
      },
      {
       "output_type": "stream",
       "stream": "stdout",
       "text": [
        "\n",
        "   \n",
        "# 92 SNe in subsample CSP with data in generic Y band: done. \n",
        "# 106 SNe read with extension '_StdFilt.snpy.'\n"
       ]
      }
     ],
     "prompt_number": 10
    },
    {
     "cell_type": "code",
     "collapsed": false,
     "input": [],
     "language": "python",
     "metadata": {},
     "outputs": []
    }
   ],
   "metadata": {}
  }
 ]
}
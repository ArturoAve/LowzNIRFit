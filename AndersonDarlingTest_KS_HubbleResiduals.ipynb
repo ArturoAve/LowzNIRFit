{
 "cells": [
  {
   "cell_type": "markdown",
   "metadata": {},
   "source": [
    "# Test if the PDF of the Hubble residuals are really different between NIR vs Optical data\n",
    "\n",
    "- Anderson-Darling test for 2 samples\n",
    "- Kolmogorov-Smirnov test for 2 samples"
   ]
  },
  {
   "cell_type": "markdown",
   "metadata": {},
   "source": [
    "#### User"
   ]
  },
  {
   "cell_type": "code",
   "execution_count": 64,
   "metadata": {},
   "outputs": [
    {
     "name": "stdout",
     "output_type": "stream",
     "text": [
      "# Number or Hubble-residual values in each file:\n",
      "# 56 56 56\n"
     ]
    }
   ],
   "source": [
    "import numpy as np\n",
    "#  Any YJHK GP Hubble residuals\n",
    "\n",
    "Dir_GP_data = '/Users/arturo/Dropbox/Research/Articulos/10_AndyKaisey/\\\n",
    "10Compute/TheTemplates/AllBands/Plots/HubbleDiagram/GaussianProcess/'\n",
    "\n",
    "GP_file = 'Table_TotalMu_AllBands_Notes_.txt'\n",
    "\n",
    "GP_residuals = np.genfromtxt(Dir_GP_data+GP_file, usecols=[5])\n",
    "\n",
    "#-------------------------------\n",
    "\n",
    "#  SALT2 Hubble residuals\n",
    "\n",
    "Dir_salt_data = '/Users/arturo/Dropbox/Research/Articulos/10_AndyKaisey/\\\n",
    "10Compute/TheTemplates/AllBands/Plots/HubbleDiagram/SALT2/plots_HD/'\n",
    "\n",
    "salt_file = 'DistanceMu_Good_AfterCutoffs_Main_.txt'\n",
    "\n",
    "salt_residuals = np.genfromtxt(Dir_salt_data+salt_file, usecols=[5])\n",
    "\n",
    "#-------------------------------\n",
    "#  SNooPy Hubble residuals\n",
    "\n",
    "Dir_snoopy_data = '/Users/arturo/Dropbox/Research/Articulos/10_AndyKaisey/\\\n",
    "10Compute/TheTemplates/AllBands/Plots/HubbleDiagram/Snoopy_opt/plots_HD/'\n",
    "\n",
    "snoopy_file = 'DistanceMu_Good_AfterCutoffs_Main_.txt'\n",
    "\n",
    "snoopy_residuals = np.genfromtxt(Dir_snoopy_data+snoopy_file, usecols=[5])\n",
    "\n",
    "#-------------------------------\n",
    "\n",
    "print \"# Number or Hubble-residual values in each file:\"\n",
    "print '#', len(GP_residuals), len(salt_residuals), len(snoopy_residuals), "
   ]
  },
  {
   "cell_type": "code",
   "execution_count": null,
   "metadata": {},
   "outputs": [],
   "source": []
  },
  {
   "cell_type": "markdown",
   "metadata": {},
   "source": [
    "###  Anderson-Darling test for 2 samples\n",
    "\n",
    "https://docs.scipy.org/doc/scipy/reference/generated/scipy.stats.anderson_ksamp.html\n",
    "\n",
    "https://en.wikipedia.org/wiki/Anderson–Darling_test\n",
    "\n",
    "https://stackoverflow.com/questions/24783951/how-do-we-pass-two-datasets-in-scipy-stats-anderson-ksampcan-anyone-explain-wit"
   ]
  },
  {
   "cell_type": "code",
   "execution_count": 65,
   "metadata": {},
   "outputs": [
    {
     "data": {
      "text/plain": [
       "Anderson_ksampResult(statistic=0.3780480335739284, critical_values=array([0.325, 1.226, 1.961, 2.718, 3.752]), significance_level=0.23578722855306447)"
      ]
     },
     "execution_count": 65,
     "metadata": {},
     "output_type": "execute_result"
    }
   ],
   "source": [
    "# Compare the samples\n",
    "import scipy.stats as stats\n",
    "\n",
    "stats.anderson_ksamp([GP_residuals, salt_residuals])"
   ]
  },
  {
   "cell_type": "code",
   "execution_count": null,
   "metadata": {},
   "outputs": [],
   "source": []
  },
  {
   "cell_type": "code",
   "execution_count": 66,
   "metadata": {},
   "outputs": [
    {
     "data": {
      "text/plain": [
       "Anderson_ksampResult(statistic=0.5086040369499633, critical_values=array([0.325, 1.226, 1.961, 2.718, 3.752]), significance_level=0.20644789966153212)"
      ]
     },
     "execution_count": 66,
     "metadata": {},
     "output_type": "execute_result"
    }
   ],
   "source": [
    "stats.anderson_ksamp([GP_residuals, snoopy_residuals])"
   ]
  },
  {
   "cell_type": "code",
   "execution_count": null,
   "metadata": {},
   "outputs": [],
   "source": []
  },
  {
   "cell_type": "code",
   "execution_count": 67,
   "metadata": {},
   "outputs": [
    {
     "data": {
      "text/plain": [
       "Anderson_ksampResult(statistic=-0.3305007955650681, critical_values=array([0.325, 1.226, 1.961, 2.718, 3.752]), significance_level=0.49232552842286526)"
      ]
     },
     "execution_count": 67,
     "metadata": {},
     "output_type": "execute_result"
    }
   ],
   "source": [
    "stats.anderson_ksamp([snoopy_residuals, salt_residuals])"
   ]
  },
  {
   "cell_type": "code",
   "execution_count": null,
   "metadata": {},
   "outputs": [],
   "source": []
  },
  {
   "cell_type": "markdown",
   "metadata": {},
   "source": [
    "###  Kolmogorov-Smirnov test for 2 samples\n",
    "\n",
    "https://docs.scipy.org/doc/scipy/reference/generated/scipy.stats.ks_2samp.html#scipy.stats.ks_2samp"
   ]
  },
  {
   "cell_type": "code",
   "execution_count": 68,
   "metadata": {},
   "outputs": [
    {
     "data": {
      "text/plain": [
       "Ks_2sampResult(statistic=0.1428571428571429, pvalue=0.5835672922593433)"
      ]
     },
     "execution_count": 68,
     "metadata": {},
     "output_type": "execute_result"
    }
   ],
   "source": [
    "stats.ks_2samp(GP_residuals, salt_residuals)"
   ]
  },
  {
   "cell_type": "code",
   "execution_count": null,
   "metadata": {},
   "outputs": [],
   "source": []
  },
  {
   "cell_type": "code",
   "execution_count": 69,
   "metadata": {},
   "outputs": [
    {
     "data": {
      "text/plain": [
       "Ks_2sampResult(statistic=0.16071428571428575, pvalue=0.4310002013994321)"
      ]
     },
     "execution_count": 69,
     "metadata": {},
     "output_type": "execute_result"
    }
   ],
   "source": [
    "stats.ks_2samp(GP_residuals, snoopy_residuals)"
   ]
  },
  {
   "cell_type": "code",
   "execution_count": null,
   "metadata": {},
   "outputs": [],
   "source": []
  },
  {
   "cell_type": "code",
   "execution_count": 70,
   "metadata": {},
   "outputs": [
    {
     "data": {
      "text/plain": [
       "Ks_2sampResult(statistic=0.1607142857142857, pvalue=0.43100020139943246)"
      ]
     },
     "execution_count": 70,
     "metadata": {},
     "output_type": "execute_result"
    }
   ],
   "source": [
    "stats.ks_2samp(snoopy_residuals, salt_residuals)"
   ]
  },
  {
   "cell_type": "code",
   "execution_count": null,
   "metadata": {},
   "outputs": [],
   "source": []
  },
  {
   "cell_type": "code",
   "execution_count": null,
   "metadata": {},
   "outputs": [],
   "source": []
  }
 ],
 "metadata": {
  "kernelspec": {
   "display_name": "Python 2",
   "language": "python",
   "name": "python2"
  },
  "language_info": {
   "codemirror_mode": {
    "name": "ipython",
    "version": 2
   },
   "file_extension": ".py",
   "mimetype": "text/x-python",
   "name": "python",
   "nbconvert_exporter": "python",
   "pygments_lexer": "ipython2",
   "version": "2.7.14"
  }
 },
 "nbformat": 4,
 "nbformat_minor": 2
}

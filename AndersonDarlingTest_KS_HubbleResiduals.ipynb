{
 "cells": [
  {
   "cell_type": "markdown",
   "metadata": {},
   "source": [
    "# Test if the PDF of the Hubble residuals are really different between NIR vs Optical data"
   ]
  },
  {
   "cell_type": "markdown",
   "metadata": {},
   "source": [
    "# Anderson–Darling test\n",
    "\n",
    "https://en.wikipedia.org/wiki/Anderson–Darling_test\n",
    "\n",
    "https://docs.scipy.org/doc/scipy/reference/generated/scipy.stats.anderson_ksamp.html\n",
    "\n",
    "https://stackoverflow.com/questions/24783951/how-do-we-pass-two-datasets-in-scipy-stats-anderson-ksampcan-anyone-explain-wit\n"
   ]
  },
  {
   "cell_type": "code",
   "execution_count": 4,
   "metadata": {},
   "outputs": [
    {
     "data": {
      "text/plain": [
       "9"
      ]
     },
     "execution_count": 4,
     "metadata": {},
     "output_type": "execute_result"
    }
   ],
   "source": [
    "import scipy.stats as ss\n",
    "import numpy as np\n",
    "\n",
    "5+4"
   ]
  },
  {
   "cell_type": "code",
   "execution_count": 1,
   "metadata": {},
   "outputs": [
    {
     "name": "stderr",
     "output_type": "stream",
     "text": [
      "/Users/arturo/anaconda/lib/python2.7/site-packages/scipy/stats/morestats.py:1694: UserWarning: approximate p-value will be computed by extrapolation\n",
      "  warnings.warn(\"approximate p-value will be computed by extrapolation\")\n"
     ]
    },
    {
     "data": {
      "text/plain": [
       "Anderson_ksampResult(statistic=4.4797806271353346, critical_values=array([ 0.49854918,  1.3236709 ,  1.91577682,  2.49304213,  3.24593219]), significance_level=0.002049105707435123)"
      ]
     },
     "execution_count": 1,
     "metadata": {},
     "output_type": "execute_result"
    }
   ],
   "source": [
    "import scipy.stats as ss\n",
    "\n",
    "#data from From the example given by Scholz and Stephens (1987, p.922)\n",
    "x1=[38.7,  41.5,  43.8,  44.5,  45.5,  46.0,  47.7,  58.0]\n",
    "x2=[39.2,  39.3,  39.7,  41.4,  41.8,  42.9,  43.3,  45.8]\n",
    "x3=[34.0,  35.0,  39.0,  40.0,  43.0,  43.0,  44.0,  45.0]\n",
    "x4=[34.0,  34.8,  34.8,  35.4,  37.2,  37.8,  41.2,  42.8]\n",
    "\n",
    "ss.anderson_ksamp([x1,x2,x3,x4])"
   ]
  },
  {
   "cell_type": "code",
   "execution_count": null,
   "metadata": {},
   "outputs": [],
   "source": []
  },
  {
   "cell_type": "code",
   "execution_count": 13,
   "metadata": {},
   "outputs": [
    {
     "name": "stdout",
     "output_type": "stream",
     "text": [
      "# Number or Hubble-residual values in each file:\n",
      "# 56 56 56\n"
     ]
    }
   ],
   "source": [
    "\n",
    "#  Any YJHK GP Hubble residuals\n",
    "\n",
    "Dir_GP_data = '/Users/arturo/Dropbox/Research/Articulos/10_AndyKaisey/\\\n",
    "10Compute/TheTemplates/AllBands/Plots/HubbleDiagram/GaussianProcess/'\n",
    "\n",
    "GP_file = 'Table_TotalMu_AllBands_Notes_.txt'\n",
    "\n",
    "GP_residuals = np.genfromtxt(Dir_GP_data+GP_file, usecols=[5])\n",
    "\n",
    "#-------------------------------\n",
    "\n",
    "#  SALT2 Hubble residuals\n",
    "\n",
    "Dir_salt_data = '/Users/arturo/Dropbox/Research/Articulos/10_AndyKaisey/\\\n",
    "10Compute/TheTemplates/AllBands/Plots/HubbleDiagram/SALT2/plots_HD/'\n",
    "\n",
    "salt_file = 'DistanceMu_Good_AfterCutoffs_Main_.txt'\n",
    "\n",
    "salt_residuals = np.genfromtxt(Dir_salt_data+salt_file, usecols=[5])\n",
    "\n",
    "#-------------------------------\n",
    "#  SNooPy Hubble residuals\n",
    "\n",
    "Dir_snoopy_data = '/Users/arturo/Dropbox/Research/Articulos/10_AndyKaisey/\\\n",
    "10Compute/TheTemplates/AllBands/Plots/HubbleDiagram/Snoopy_opt/plots_HD/'\n",
    "\n",
    "snoopy_file = 'DistanceMu_Good_AfterCutoffs_Main_.txt'\n",
    "\n",
    "snoopy_residuals = np.genfromtxt(Dir_snoopy_data+snoopy_file, usecols=[5])\n",
    "\n",
    "#-------------------------------\n",
    "\n",
    "print \"# Number or Hubble-residual values in each file:\"\n",
    "print '#', len(GP_residuals), len(salt_residuals), len(snoopy_residuals), "
   ]
  },
  {
   "cell_type": "code",
   "execution_count": null,
   "metadata": {},
   "outputs": [],
   "source": []
  },
  {
   "cell_type": "code",
   "execution_count": 19,
   "metadata": {},
   "outputs": [
    {
     "data": {
      "text/plain": [
       "Anderson_ksampResult(statistic=0.37804803357392841, critical_values=array([ 0.325,  1.226,  1.961,  2.718,  3.752]), significance_level=0.23578722855306417)"
      ]
     },
     "execution_count": 19,
     "metadata": {},
     "output_type": "execute_result"
    }
   ],
   "source": [
    "# Compare the samples\n",
    "\n",
    "ss.anderson_ksamp([GP_residuals, salt_residuals])"
   ]
  },
  {
   "cell_type": "code",
   "execution_count": 20,
   "metadata": {},
   "outputs": [
    {
     "data": {
      "text/plain": [
       "Anderson_ksampResult(statistic=-0.33050079556506812, critical_values=array([ 0.325,  1.226,  1.961,  2.718,  3.752]), significance_level=0.4923255284228649)"
      ]
     },
     "execution_count": 20,
     "metadata": {},
     "output_type": "execute_result"
    }
   ],
   "source": [
    "ss.anderson_ksamp([snoopy_residuals, salt_residuals])"
   ]
  },
  {
   "cell_type": "code",
   "execution_count": null,
   "metadata": {},
   "outputs": [],
   "source": []
  },
  {
   "cell_type": "code",
   "execution_count": null,
   "metadata": {},
   "outputs": [],
   "source": []
  },
  {
   "cell_type": "code",
   "execution_count": null,
   "metadata": {},
   "outputs": [],
   "source": []
  },
  {
   "cell_type": "code",
   "execution_count": null,
   "metadata": {},
   "outputs": [],
   "source": []
  },
  {
   "cell_type": "code",
   "execution_count": 16,
   "metadata": {},
   "outputs": [
    {
     "data": {
      "text/plain": [
       "[-0.053712927100000002,\n",
       " 0.0026701315999999998,\n",
       " -0.063960572699999996,\n",
       " 0.14486004199999999,\n",
       " 0.089705765600000001,\n",
       " 0.089171217299999994,\n",
       " -0.24856792280000001,\n",
       " 0.016281270099999998,\n",
       " 0.35171216239999997,\n",
       " -0.0341869167,\n",
       " 0.013145844699999999,\n",
       " -0.086838726699999993,\n",
       " 0.0046432098999999996,\n",
       " -0.00024726220000000001,\n",
       " 0.0013757234000000001,\n",
       " -0.1025393359,\n",
       " -0.1124382679,\n",
       " 0.057245128200000002,\n",
       " -0.059937426299999999,\n",
       " 0.067834037299999997,\n",
       " 0.20295537790000001,\n",
       " -0.077527233000000001,\n",
       " -0.077505047499999993,\n",
       " 0.12609306610000001,\n",
       " 0.1269660265,\n",
       " -0.033103521400000002,\n",
       " 0.027120743700000002,\n",
       " 0.0253889271,\n",
       " 0.093423202100000005,\n",
       " -0.1654508891,\n",
       " -0.054249594599999999,\n",
       " -0.25444088739999998,\n",
       " 0.040707389900000002,\n",
       " 0.071773019699999996,\n",
       " 0.24979945749999999,\n",
       " -0.13557005799999999,\n",
       " -0.14910265480000001,\n",
       " -0.0035965999000000001,\n",
       " -0.0405714966,\n",
       " -0.1101898172,\n",
       " 0.19872021510000001,\n",
       " -0.0399998513,\n",
       " -0.1156695338,\n",
       " -0.014731907299999999,\n",
       " -0.023593969100000001,\n",
       " -0.11206740530000001,\n",
       " -0.27193997349999999,\n",
       " -0.1624419389,\n",
       " 0.083344240200000003,\n",
       " -0.090493924500000003,\n",
       " 0.096102490600000007,\n",
       " -0.041296453599999998,\n",
       " -0.016504175999999999,\n",
       " 0.20185451230000001,\n",
       " 0.014969294899999999,\n",
       " -0.063659251400000005]"
      ]
     },
     "execution_count": 16,
     "metadata": {},
     "output_type": "execute_result"
    }
   ],
   "source": [
    "GP_residuals_list = list(GP_residuals)\n",
    "GP_residuals_list"
   ]
  },
  {
   "cell_type": "code",
   "execution_count": 6,
   "metadata": {},
   "outputs": [
    {
     "data": {
      "text/plain": [
       "array([ -5.37129271e-02,   2.67013160e-03,  -6.39605727e-02,\n",
       "         1.44860042e-01,   8.97057656e-02,   8.91712173e-02,\n",
       "        -2.48567923e-01,   1.62812701e-02,   3.51712162e-01,\n",
       "        -3.41869167e-02,   1.31458447e-02,  -8.68387267e-02,\n",
       "         4.64320990e-03,  -2.47262200e-04,   1.37572340e-03,\n",
       "        -1.02539336e-01,  -1.12438268e-01,   5.72451282e-02,\n",
       "        -5.99374263e-02,   6.78340373e-02,   2.02955378e-01,\n",
       "        -7.75272330e-02,  -7.75050475e-02,   1.26093066e-01,\n",
       "         1.26966026e-01,  -3.31035214e-02,   2.71207437e-02,\n",
       "         2.53889271e-02,   9.34232021e-02,  -1.65450889e-01,\n",
       "        -5.42495946e-02,  -2.54440887e-01,   4.07073899e-02,\n",
       "         7.17730197e-02,   2.49799457e-01,  -1.35570058e-01,\n",
       "        -1.49102655e-01,  -3.59659990e-03,  -4.05714966e-02,\n",
       "        -1.10189817e-01,   1.98720215e-01,  -3.99998513e-02,\n",
       "        -1.15669534e-01,  -1.47319073e-02,  -2.35939691e-02,\n",
       "        -1.12067405e-01,  -2.71939973e-01,  -1.62441939e-01,\n",
       "         8.33442402e-02,  -9.04939245e-02,   9.61024906e-02,\n",
       "        -4.12964536e-02,  -1.65041760e-02,   2.01854512e-01,\n",
       "         1.49692949e-02,  -6.36592514e-02])"
      ]
     },
     "execution_count": 6,
     "metadata": {},
     "output_type": "execute_result"
    }
   ],
   "source": [
    "GP_residuals"
   ]
  },
  {
   "cell_type": "code",
   "execution_count": 17,
   "metadata": {},
   "outputs": [
    {
     "data": {
      "text/plain": [
       "[-0.19240499999999999,\n",
       " -0.056047,\n",
       " -0.13317300000000001,\n",
       " -0.047625000000000001,\n",
       " -0.035289000000000001,\n",
       " -0.071068000000000006,\n",
       " -0.084431000000000006,\n",
       " 0.056184999999999999,\n",
       " 0.013845,\n",
       " -0.059712000000000001,\n",
       " -0.26499600000000001,\n",
       " -0.43653500000000001,\n",
       " -0.33908100000000002,\n",
       " -0.20994499999999999,\n",
       " 0.30870399999999998,\n",
       " -0.054189000000000001,\n",
       " 0.333731,\n",
       " 0.098613000000000006,\n",
       " 0.055280999999999997,\n",
       " 0.085583999999999993,\n",
       " -0.46737899999999999,\n",
       " 0.25600400000000001,\n",
       " -0.027039000000000001,\n",
       " 0.015245,\n",
       " 0.041294999999999998,\n",
       " 0.245225,\n",
       " -0.15242700000000001,\n",
       " 0.018821000000000001,\n",
       " 0.030442,\n",
       " 0.149729,\n",
       " 0.0018519999999999999,\n",
       " -0.036204,\n",
       " -0.026917,\n",
       " 0.050159000000000002,\n",
       " 0.12019100000000001,\n",
       " 0.19028600000000001,\n",
       " 0.18030099999999999,\n",
       " 0.200292,\n",
       " -0.13619200000000001,\n",
       " -0.019472,\n",
       " 0.44928600000000002,\n",
       " 0.160132,\n",
       " 0.014559000000000001,\n",
       " -0.13562399999999999,\n",
       " -0.135018,\n",
       " -0.082840999999999998,\n",
       " 0.020074000000000002,\n",
       " 0.53184799999999999,\n",
       " -0.172151,\n",
       " -0.30631900000000001,\n",
       " 0.13503000000000001,\n",
       " -0.15704299999999999,\n",
       " -0.324181,\n",
       " 0.13938,\n",
       " 0.152034,\n",
       " 0.062411000000000001]"
      ]
     },
     "execution_count": 17,
     "metadata": {},
     "output_type": "execute_result"
    }
   ],
   "source": [
    "salt_residuals_list = list(salt_residuals)\n",
    "salt_residuals_list"
   ]
  },
  {
   "cell_type": "code",
   "execution_count": 8,
   "metadata": {},
   "outputs": [
    {
     "data": {
      "text/plain": [
       "array([-0.192405, -0.056047, -0.133173, -0.047625, -0.035289, -0.071068,\n",
       "       -0.084431,  0.056185,  0.013845, -0.059712, -0.264996, -0.436535,\n",
       "       -0.339081, -0.209945,  0.308704, -0.054189,  0.333731,  0.098613,\n",
       "        0.055281,  0.085584, -0.467379,  0.256004, -0.027039,  0.015245,\n",
       "        0.041295,  0.245225, -0.152427,  0.018821,  0.030442,  0.149729,\n",
       "        0.001852, -0.036204, -0.026917,  0.050159,  0.120191,  0.190286,\n",
       "        0.180301,  0.200292, -0.136192, -0.019472,  0.449286,  0.160132,\n",
       "        0.014559, -0.135624, -0.135018, -0.082841,  0.020074,  0.531848,\n",
       "       -0.172151, -0.306319,  0.13503 , -0.157043, -0.324181,  0.13938 ,\n",
       "        0.152034,  0.062411])"
      ]
     },
     "execution_count": 8,
     "metadata": {},
     "output_type": "execute_result"
    }
   ],
   "source": [
    "salt_residuals"
   ]
  },
  {
   "cell_type": "code",
   "execution_count": 9,
   "metadata": {},
   "outputs": [
    {
     "data": {
      "text/plain": [
       "array([  4.86147835e-01,   7.99598952e-02,   3.54492730e-02,\n",
       "        -2.41029967e-01,  -1.09371080e-01,   1.78174153e-01,\n",
       "         1.21774348e-01,  -2.02166800e-04,   1.52622057e-01,\n",
       "        -9.77240657e-02,  -2.56194991e-01,  -1.13971425e-01,\n",
       "        -1.21493986e-01,   3.57361831e-01,   3.11125827e-02,\n",
       "         1.21428735e-01,  -8.31736453e-02,   9.62262069e-02,\n",
       "        -1.73520386e-01,  -3.33272827e-02,  -1.50463708e-01,\n",
       "         2.57072303e-02,   1.48277615e-01,  -1.50778832e-01,\n",
       "        -7.93070638e-02,  -5.68342836e-02,  -1.20110282e-01,\n",
       "         6.81548361e-02,   1.66781710e-01,   2.45204735e-01,\n",
       "         5.17877526e-02,  -1.37610271e-01,  -7.51052737e-02,\n",
       "        -1.08487775e-01,   5.74027167e-01,  -6.32369670e-03,\n",
       "         2.04359388e-01,  -1.38746815e-01,  -6.27125012e-02,\n",
       "        -1.46015822e-01,  -1.55137794e-01,  -6.78611587e-02,\n",
       "        -1.17781870e-01,  -1.12061492e-01,  -1.08374795e-01,\n",
       "         1.42087774e-01,   9.68676650e-03,  -9.63604299e-02,\n",
       "        -2.98887695e-01,   1.72522057e-01,  -6.26594655e-02,\n",
       "        -1.18499060e-02,  -2.27494696e-01,   1.59382997e-01,\n",
       "         2.37111484e-01,   1.62496616e-01])"
      ]
     },
     "execution_count": 9,
     "metadata": {},
     "output_type": "execute_result"
    }
   ],
   "source": [
    "snoopy_residuals"
   ]
  },
  {
   "cell_type": "code",
   "execution_count": 10,
   "metadata": {},
   "outputs": [
    {
     "data": {
      "text/plain": [
       "(56, 56, 56)"
      ]
     },
     "execution_count": 10,
     "metadata": {},
     "output_type": "execute_result"
    }
   ],
   "source": []
  },
  {
   "cell_type": "code",
   "execution_count": 14,
   "metadata": {},
   "outputs": [
    {
     "data": {
      "text/plain": [
       "Anderson_ksampResult(statistic=0.37804803357392841, critical_values=array([ 0.325,  1.226,  1.961,  2.718,  3.752]), significance_level=0.23578722855306417)"
      ]
     },
     "execution_count": 14,
     "metadata": {},
     "output_type": "execute_result"
    }
   ],
   "source": [
    "ss.anderson_ksamp([GP_residuals, salt_residuals])"
   ]
  },
  {
   "cell_type": "code",
   "execution_count": null,
   "metadata": {},
   "outputs": [],
   "source": []
  },
  {
   "cell_type": "code",
   "execution_count": null,
   "metadata": {},
   "outputs": [],
   "source": []
  },
  {
   "cell_type": "code",
   "execution_count": 18,
   "metadata": {},
   "outputs": [
    {
     "data": {
      "text/plain": [
       "Anderson_ksampResult(statistic=0.37804803357392841, critical_values=array([ 0.325,  1.226,  1.961,  2.718,  3.752]), significance_level=0.23578722855306417)"
      ]
     },
     "execution_count": 18,
     "metadata": {},
     "output_type": "execute_result"
    }
   ],
   "source": [
    "ss.anderson_ksamp([GP_residuals_list, salt_residuals_list])"
   ]
  },
  {
   "cell_type": "code",
   "execution_count": null,
   "metadata": {},
   "outputs": [],
   "source": []
  }
 ],
 "metadata": {
  "kernelspec": {
   "display_name": "Python [default]",
   "language": "python",
   "name": "python2"
  },
  "language_info": {
   "codemirror_mode": {
    "name": "ipython",
    "version": 2
   },
   "file_extension": ".py",
   "mimetype": "text/x-python",
   "name": "python",
   "nbconvert_exporter": "python",
   "pygments_lexer": "ipython2",
   "version": "2.7.13"
  }
 },
 "nbformat": 4,
 "nbformat_minor": 2
}

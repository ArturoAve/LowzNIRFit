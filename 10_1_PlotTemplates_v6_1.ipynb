{
 "cells": [
  {
   "cell_type": "markdown",
   "metadata": {},
   "source": [
    "# Plotting NIR template\n"
   ]
  },
  {
   "cell_type": "markdown",
   "metadata": {},
   "source": [
    "# User inputs\n",
    "\n",
    "### Here is the only part where I have to setup the things for a specific band\n",
    "\n",
    "The rest of the notebook can be run without any additional manipulation."
   ]
  },
  {
   "cell_type": "code",
   "execution_count": null,
   "metadata": {
    "collapsed": false
   },
   "outputs": [],
   "source": [
    "\n",
    "#--- Kind of data to be fitted ---\n",
    "\n",
    "Band = 'K'   # (Y, J, H, K)\n",
    "\n",
    "# NOTE: To plot the normalized template I have to GP fit the light curves \n",
    "# assuming a peculiar velocity uncertainty of vpec = 0, then to plot this \n",
    "# case select \"KindOfData = 'AllSamples_vpec_0'\" and \"Normalized = True\".\n",
    "\n",
    "# KindOfData = 'CfA'\n",
    "# KindOfData = 'CSP'\n",
    "# KindOfData = 'Others'\n",
    "# KindOfData = 'AllSamples_vpec_0'\n",
    "KindOfData = 'AllSamples_vpec_150'\n",
    "\n",
    "# Plot the normalized template?:\n",
    "Normalized = False\n",
    "\n",
    "# Just for plotting purposes:\n",
    "# When \"Normalized = False\" then the value of \"velPecuFix\" has to be the \n",
    "# same than the one used in the GP fit of the ABS-mag LCs.\n",
    "velPecuFix = 150  # 0, 150 , 300 # km/sec # To plot the error bars of the photometric data.\n",
    "zerrorFix = 0.001  # Error in the estimation of redshift to plot the error bars of the photometric data.\n",
    "\n",
    "# Redshift\n",
    "zcmb_min = 0.0\n",
    "# zcmb_min = 0.01\n",
    "\n",
    "#----------------------\n",
    "\n",
    "# Indicate the technique used to compute the GP fitting in the '1_AllData_InitialFit' step.\n",
    "# This information is just to label the '3_Template' folder where I will save the output.\n",
    "# TempPrior_Hyper = Using a template prior (computed from the Moving Windows \n",
    "# Average template) for the Gaussian Process fitting, then determining the \n",
    "# hyperparameters using all the LCs simultaneously.\n",
    "# FlatPrior= Assuming a flat prior at ~ -17 Abs mag, then computing the hyperparameters \n",
    "# for each LC independently.\n",
    "# For the low-z paper I use the option 'FlatPrior'.\n",
    "\n",
    "Technique = 'FlatPrior'    # ('FlatPrior', 'TempPrior_Hyper')\n",
    "\n",
    "#----------------------\n",
    "\n",
    "#-- If there are -already existing- plots overlapping the GP fit and template \n",
    "# in '2_Selection/[Sample]/Good/', then copy those plots to \"/3_Template/[Sample]/etc\".\n",
    "# Check in '2_Selection/[Sample]/Good/' the extension used and write down it below.\n",
    "TemplateOverplotted = 'TempAllz001'\n",
    "# TemplateOverplotted = 'Temp'\n",
    "# TemplateOverplotted = 'TempAllz0'\n",
    "# TemplateOverplotted = 'TempCSPz001'\n",
    "# TemplateOverplotted = 'TempCSPz0'\n",
    "\n",
    "#=========================================\n",
    "\n",
    "\n",
    "# (FIX) For the confidence-interval plots\n",
    "CL_size = 1 # For the confidence-interval plots (1.=68.3% CL or 1.9600=95% CL )\n",
    "CL_label = 68.3\n",
    "\n",
    "LegendFontSize = 11\n",
    "PlotResolution = 110 # dpi\n",
    "\n",
    "#--- Filter system\n",
    "FilterSyst = 'Std_filters/'\n",
    "# FilterSyst = 'CSP_filters/'\n"
   ]
  },
  {
   "cell_type": "markdown",
   "metadata": {},
   "source": [
    "---"
   ]
  },
  {
   "cell_type": "markdown",
   "metadata": {},
   "source": [
    "# AUTOMATIC\n",
    "\n",
    "### No need of user interaction.\n",
    "\n",
    "# Loading data"
   ]
  },
  {
   "cell_type": "code",
   "execution_count": null,
   "metadata": {},
   "outputs": [],
   "source": [
    "import numpy as np\n",
    "from matplotlib import pyplot as plt\n",
    "#---- Setting directories -----\n",
    "import glob # To read the files in my directory\n",
    "import os # To use command line like instructions\n",
    "\n",
    "4+5"
   ]
  },
  {
   "cell_type": "code",
   "execution_count": null,
   "metadata": {},
   "outputs": [],
   "source": []
  },
  {
   "cell_type": "code",
   "execution_count": null,
   "metadata": {},
   "outputs": [],
   "source": [
    "#----------------------\n",
    "\n",
    "#    J band:\n",
    "\n",
    "if Band == 'J':\n",
    "    # x_IntervalPlots = -10, 60 #\n",
    "    x_IntervalPlots = -10, 45 # \n",
    "    yIntervalPlotsUnnorma = -14, -20\n",
    "    yIntervalPlotsNorma = 4, -1\n",
    "    y_Interval_Residual = -0.8, 0.8\n",
    "\n",
    "#----------------------\n",
    "\n",
    "#    Y band:\n",
    "\n",
    "if Band == 'Y':\n",
    "    # x_IntervalPlots = -10, 60 #\n",
    "    x_IntervalPlots = -10, 43 # \n",
    "    yIntervalPlotsUnnorma = -15.5, -19.5\n",
    "    yIntervalPlotsNorma = 4, -1\n",
    "    y_Interval_Residual = -0.8, 0.8\n",
    "\n",
    "\n",
    "#----------------------\n",
    "\n",
    "# H band:\n",
    "\n",
    "if Band == 'H':\n",
    "    # x_IntervalPlots = -10, 60\n",
    "    x_IntervalPlots = -10, 40 # \n",
    "    yIntervalPlotsUnnorma = -15.5, -20\n",
    "    yIntervalPlotsNorma = 4, -1\n",
    "    y_Interval_Residual = -0.8, 0.8\n",
    "\n",
    "\n",
    "#----------------------\n",
    "\n",
    "# K band:\n",
    "\n",
    "if Band == 'K':\n",
    "    # x_IntervalPlots = -10, 55\n",
    "    x_IntervalPlots = -7.5, 40   #\n",
    "    yIntervalPlotsUnnorma = -17, -20.5\n",
    "    yIntervalPlotsNorma = 2, -1\n",
    "    y_Interval_Residual = -0.8, 0.8\n",
    "\n"
   ]
  },
  {
   "cell_type": "code",
   "execution_count": null,
   "metadata": {},
   "outputs": [],
   "source": []
  },
  {
   "cell_type": "code",
   "execution_count": null,
   "metadata": {
    "collapsed": false
   },
   "outputs": [],
   "source": [
    "# Definitions based on zcmb_min\n",
    "\n",
    "if zcmb_min==0.0:\n",
    "    zCMBFolder = 'z_gr_0/'\n",
    "elif zcmb_min==0.01:\n",
    "    zCMBFolder = 'z_gr_001/'\n",
    "else: zCMBFolder = 'z_gr_/'\n",
    "\n",
    "# The text for the zcmb_min\n",
    "if zcmb_min==0.0:\n",
    "    zCMBText = '(z > 0)'\n",
    "elif zcmb_min==0.01:\n",
    "    zCMBText = '(z > 0.01)'\n",
    "else: zCMBText = ' '\n",
    "\n",
    "#-------------------------------------------\n",
    "\n",
    "TitleForPlots = Band+' band template' + zCMBText"
   ]
  },
  {
   "cell_type": "code",
   "execution_count": null,
   "metadata": {
    "collapsed": false
   },
   "outputs": [],
   "source": [
    "import os # To use command line like instructions\n",
    "\n",
    "MainDirectory =  '/Users/arturo/Dropbox/Research/Articulos/10_AndyKaisey/10Compute/\\\n",
    "TheTemplates/'+Band+'_band/'\n",
    "\n",
    "if Normalized == True:\n",
    "    NormaFolder = 'Normalized'\n",
    "elif Normalized == False:\n",
    "    NormaFolder = 'Unnormalized'\n",
    "\n",
    "DirTempFiles = (MainDirectory+FilterSyst+'3_Template_'+Technique+'/'+KindOfData+\n",
    "                '/'+ zCMBFolder)\n",
    "DirSaveData  = (MainDirectory+FilterSyst+'3_Template_'+Technique+'/'+KindOfData+\n",
    "                '/'+ zCMBFolder+NormaFolder+'/')  \n",
    "\n",
    "if not os.path.exists(DirSaveData): os.makedirs(DirSaveData)\n",
    "    \n",
    "print 'Directory to save the outputs: \\n'\n",
    "print DirSaveData"
   ]
  },
  {
   "cell_type": "code",
   "execution_count": null,
   "metadata": {
    "collapsed": false
   },
   "outputs": [],
   "source": [
    "# Some useful difinitions based on if I'm plotting the normalized or unnormalized template\n",
    "if Normalized == True:\n",
    "    NormaSuffix = '_Norma'\n",
    "    yIntervalPlots = yIntervalPlotsNorma\n",
    "elif Normalized == False:\n",
    "    NormaSuffix = ''\n",
    "    yIntervalPlots = yIntervalPlotsUnnorma"
   ]
  },
  {
   "cell_type": "markdown",
   "metadata": {},
   "source": [
    "### Loading the list of SNe to be plotted"
   ]
  },
  {
   "cell_type": "code",
   "execution_count": null,
   "metadata": {
    "collapsed": false
   },
   "outputs": [],
   "source": [
    "import glob # To read the files in my directory\n",
    "\n",
    "# Change the working directory where the data files are located\n",
    "os.chdir(DirTempFiles)\n",
    "# Reading the data files in that folder \n",
    "ListFiles = glob.glob('SN_list_template_*.txt')\n",
    "\n",
    "# Check if 'SN_list_template_Notes_.txt' is already there, otherwise read\n",
    "# the 'SN_list_template_.txt' file.\n",
    "if 'SN_list_template%s_Notes_.txt'%(NormaSuffix) in ListFiles:\n",
    "    list_SNe = np.genfromtxt(DirTempFiles+'SN_list_template%s_Notes_.txt'%(NormaSuffix), dtype='S35')\n",
    "    print 'Reading the file:  < SN_list_template%s_Notes_.txt >'%(NormaSuffix)\n",
    "elif 'SN_list_template%s_.txt'%(NormaSuffix) in ListFiles:\n",
    "    list_SNe = np.genfromtxt(DirTempFiles+'SN_list_template%s_.txt'%(NormaSuffix), dtype='S35')\n",
    "    print 'Reading the file: < SN_list_template%s_.txt >'%(NormaSuffix)\n",
    "else: print '< SN_list_template%s_.txt > file not found'%(NormaSuffix)\n",
    "    \n",
    "print 'Number of SNe in the list:', len(list_SNe)"
   ]
  },
  {
   "cell_type": "markdown",
   "metadata": {},
   "source": [
    "### Template: Confidence interval"
   ]
  },
  {
   "cell_type": "code",
   "execution_count": null,
   "metadata": {
    "collapsed": false
   },
   "outputs": [],
   "source": [
    "Template_GP_Hier = np.genfromtxt(DirTempFiles+'Template_phase_mu_stdError_FromR%s.dat'%(NormaSuffix))\n",
    "\n",
    "x = np.atleast_2d(Template_GP_Hier[:,0]).T\n",
    "y_pred = Template_GP_Hier[:,1]\n",
    "sigma = Template_GP_Hier[:,2]"
   ]
  },
  {
   "cell_type": "markdown",
   "metadata": {},
   "source": [
    "### Template: Standard deviation"
   ]
  },
  {
   "cell_type": "code",
   "execution_count": null,
   "metadata": {
    "collapsed": false
   },
   "outputs": [],
   "source": [
    "Template_GP_Hier_2 = np.genfromtxt(DirTempFiles+'Template_phase_mu_tau_FromR%s.dat'%(NormaSuffix))\n",
    "\n",
    "x_2 = np.atleast_2d(Template_GP_Hier_2[:,0]).T\n",
    "y_pred_2 = Template_GP_Hier_2[:,1]\n",
    "sigma_2 = Template_GP_Hier_2[:,2]"
   ]
  },
  {
   "cell_type": "markdown",
   "metadata": {},
   "source": [
    "### Individual Gaussian Process mean an variance for each SN"
   ]
  },
  {
   "cell_type": "markdown",
   "metadata": {},
   "source": [
    "### Loading the light-curve data"
   ]
  },
  {
   "cell_type": "code",
   "execution_count": null,
   "metadata": {
    "collapsed": false,
    "scrolled": true
   },
   "outputs": [],
   "source": [
    "cc = 299792.458  # Speed of light\n",
    "\n",
    "#---- Setting directories -----\n",
    "import glob # To read the files in my directory\n",
    "import os # To use command line like instructions\n",
    "\n",
    "#---------------------------------\n",
    "\n",
    "#- Setting the where the LC data is located:\n",
    "DirLCs = MainDirectory+FilterSyst+'2_Selection_'+Technique+'/'+KindOfData+'/Goods/'\n",
    "os.chdir(DirLCs)\n",
    "\n",
    "#- Reading the LC data file names \n",
    "# list_SNe = glob.glob(ExtensionDataFiles) # OK. OLD\n",
    "\n",
    "#---------------------------------\n",
    "\n",
    "#- \"If the subdirectory does not exist then create it\"\n",
    "# if not os.path.exists(DirSaveData): os.makedirs(DirSaveData)\n",
    "\n",
    "print 'Directory to read the individual LC data: \\n'\n",
    "print DirLCs\n",
    "print '\\n Number of LCs to be plotted:', len(list_SNe)\n",
    "\n",
    "# Number of LCs to be plotted: 50"
   ]
  },
  {
   "cell_type": "markdown",
   "metadata": {},
   "source": [
    "Peculiar velocity uncertainty: $\\sigma_{\\mu}(v_{pec}, z, \\sigma_z)$"
   ]
  },
  {
   "cell_type": "code",
   "execution_count": null,
   "metadata": {
    "collapsed": false
   },
   "outputs": [],
   "source": [
    "# Peculiar velocity uncertainty\n",
    "\n",
    "# Wood-Vasey+08 definition\n",
    "def sigma_muPecu(vpec, z, zerror):\n",
    "    \"Sigma_mu from the peculiar velocity\"\n",
    "    sigma_mu = (5/(z*np.log(10))) * np.sqrt((vpec/cc)**2 + zerror**2)\n",
    "    return sigma_mu\n",
    "\n",
    "sigma_muPecu(150, 0.01, zerrorFix)\n",
    "# 0.2428116195960309"
   ]
  },
  {
   "cell_type": "markdown",
   "metadata": {},
   "source": [
    "#### Combininig all data in a single array"
   ]
  },
  {
   "cell_type": "code",
   "execution_count": null,
   "metadata": {
    "collapsed": false
   },
   "outputs": [],
   "source": [
    "# Combininig all the data in a single array\n",
    "\n",
    "skipFirstLines = 10 # This lines have information about the SN\n",
    "\n",
    "#-------------------------------\n",
    "#  Defining the first element to append the rest of the data\n",
    "\n",
    "# First_list_SNe = list_SNe+'.txt'\n",
    "DataLC = 0\n",
    "DataLC = np.genfromtxt(list_SNe[0], skip_header=skipFirstLines)\n",
    "\n",
    "if Normalized: AbsMag_TBmax = np.genfromtxt(list_SNe[0][:-4]+'_GP_mean_sigma_Filled.dat')[70][1]\n",
    "else: AbsMag_TBmax = 0\n",
    "    \n",
    "print 'Test. First SN:', list_SNe[0]\n",
    "print 'Test. Number of data in the first LC:', len(DataLC)\n",
    "\n",
    "# print DataLC\n",
    "\n",
    "zz = np.genfromtxt(list_SNe[0])[0,0]\n",
    "\n",
    "#- Summing the errors in quadratures:\n",
    "error_M_PecVel = 0\n",
    "error_M_PecVel = np.sqrt(DataLC[:,2]**2 + sigma_muPecu(velPecuFix, zz, zerrorFix)**2)\n",
    "print 'Test. Number of data errors in the first LC:', len(error_M_PecVel)\n",
    "\n",
    "#-------------------------------\n",
    "# Appending the rest of the SNe\n",
    "\n",
    "DataLC_temp = 0\n",
    "for i in range(1, len(list_SNe)):\n",
    "    DataLC_temp = np.genfromtxt(list_SNe[i], skip_header=skipFirstLines)\n",
    "    zz_temp = np.genfromtxt(list_SNe[i])[0,0]\n",
    "    error_M_PecVel_temp = np.sqrt(DataLC_temp[:,2]**2 + sigma_muPecu(velPecuFix, zz_temp, zerrorFix)**2)\n",
    "\n",
    "    DataLC = np.vstack((DataLC, DataLC_temp))\n",
    "    error_M_PecVel = np.hstack((error_M_PecVel, error_M_PecVel_temp))\n",
    "    \n",
    "print 'Length of final light-curve array: (', len(DataLC), ',', len(error_M_PecVel), ',', len(DataLC.T), ')'\n",
    "\n",
    "# Test. First SN: sn1998bu__U_69_B_9_J_band\n",
    "# Test. Number of data in the first LC: 18\n",
    "# Test. Number of data errors in the first LC: 18\n",
    "# Length of final light-curve array: ( 1174 , 1174 , 3 )"
   ]
  },
  {
   "cell_type": "markdown",
   "metadata": {},
   "source": [
    "### OPTIONAL: Loading the moving window average template"
   ]
  },
  {
   "cell_type": "code",
   "execution_count": null,
   "metadata": {
    "collapsed": false
   },
   "outputs": [],
   "source": [
    "# Loading the data of the weighted average template\n",
    "\"\"\" \n",
    "Template_WeightMeanSmooth = np.genfromtxt(MainDirectory+'4_WoodVaseyProcedure/Plots/'+'Template_WeightedMean_StdErrorMean_SmoothW_6_Box_3_Step_05.dat')  \n",
    "\n",
    "len(Template_WeightMeanSmooth), len(Template_WeightMeanSmooth.T)\n",
    "# (125, 3)\n",
    "\"\"\"\n",
    "0"
   ]
  },
  {
   "cell_type": "markdown",
   "metadata": {},
   "source": [
    "---"
   ]
  },
  {
   "cell_type": "markdown",
   "metadata": {},
   "source": [
    "# PLOTTING\n",
    "Automatic\n",
    "\n",
    "# Overlaying all the individual GP plots and the template"
   ]
  },
  {
   "cell_type": "markdown",
   "metadata": {},
   "source": [
    "### Plotting all the GP functions together computed for each SN"
   ]
  },
  {
   "cell_type": "code",
   "execution_count": null,
   "metadata": {
    "collapsed": false
   },
   "outputs": [],
   "source": [
    "# Plotting all the GP functions together computed for each SN\n",
    "\n",
    "ii =0\n",
    "for file in list_SNe:\n",
    "    # print file\n",
    "    ii =ii+1\n",
    "    DataGP=np.genfromtxt(file[:-4]+'_GP_mean_sigma.dat')\n",
    "    \n",
    "    if Normalized: \n",
    "        AbsMag_TBmax = np.genfromtxt(file[:-4]+\n",
    "                        '_GP_mean_sigma_Filled.dat')[70][1]\n",
    "    else: AbsMag_TBmax = 0\n",
    "        \n",
    "    plt.plot(DataGP[:,0], DataGP[:,1]-AbsMag_TBmax, label=''.format(i=ii),\n",
    "            linewidth = 0.6)\n",
    "\n",
    "plt.xlim(x_IntervalPlots)\n",
    "    \n",
    "plt.ylim(yIntervalPlots)\n",
    "\n",
    "plt.title(TitleForPlots)\n",
    "\n",
    "#---------------------\n",
    "plt.grid(True)\n",
    "\n",
    "plt.xlabel(r'Phase = (MJD - $T_{Bmax}$)/(1+$z_{hel}$)')\n",
    "plt.ylabel('Absolute magnitude')\n",
    "\n",
    "plt.savefig(DirSaveData+'Plot_GP_All_Individual_.png', dpi=(PlotResolution+20))\n",
    "# plt.show()\n",
    "plt.close()"
   ]
  },
  {
   "cell_type": "markdown",
   "metadata": {},
   "source": [
    "### Plotting all the GP functions together computed for each SN + data"
   ]
  },
  {
   "cell_type": "code",
   "execution_count": null,
   "metadata": {
    "collapsed": true
   },
   "outputs": [],
   "source": [
    "# Plotting all the GP functions together computed for each SN\n",
    "\n",
    "if Normalized == False:\n",
    "    fig = plt.figure()\n",
    "\n",
    "    ii =0\n",
    "    for file in list_SNe:\n",
    "        # print file\n",
    "        ii =ii+1\n",
    "        DataGP=np.genfromtxt(file[:-4]+'_GP_mean_sigma.dat')\n",
    "\n",
    "        if Normalized: AbsMag_TBmax = np.genfromtxt(file[:-4]+'_GP_mean_sigma_Filled.dat')[70][1]\n",
    "        else: AbsMag_TBmax = 0\n",
    "\n",
    "        plt.plot(DataGP[:,0], DataGP[:,1]-AbsMag_TBmax, label=''.format(i=ii))\n",
    "\n",
    "    #---------------------\n",
    "    # THE LIGHT-CURVE DATA. Including peculiar velocity\n",
    "\n",
    "    plt.errorbar(DataLC[:,0], DataLC[:,1], error_M_PecVel, fmt='grey', ls='', markersize=5, alpha=0.3)\n",
    "\n",
    "    #---------------------\n",
    "\n",
    "    plt.xlim(x_IntervalPlots)\n",
    "\n",
    "    plt.ylim(yIntervalPlots)\n",
    "    plt.title(TitleForPlots)\n",
    "\n",
    "    plt.grid(True)\n",
    "\n",
    "    plt.xlabel(r'Phase = (MJD - $T_{Bmax}$)/(1+$z_{hel}$)')\n",
    "    plt.ylabel('Absolute magnitude')\n",
    "\n",
    "    plt.savefig(DirSaveData+'Plot_GP_All_Individual_Data_.png', dpi=PlotResolution)\n",
    "    # plt.show()\n",
    "    plt.close()"
   ]
  },
  {
   "cell_type": "markdown",
   "metadata": {},
   "source": [
    "## Plot the abs mag data only "
   ]
  },
  {
   "cell_type": "code",
   "execution_count": null,
   "metadata": {
    "collapsed": false
   },
   "outputs": [],
   "source": [
    "# Plot the function, the prediction and the confidence interval based on\n",
    "# the MSE\n",
    "\n",
    "if Normalized == False:\n",
    "\n",
    "    fig = plt.figure()\n",
    "\n",
    "    #-----------------------------------------------\n",
    "    # THE LIGHT-CURVE DATA. Including peculiar velocity\n",
    "\n",
    "    plt.errorbar(DataLC[:,0], DataLC[:,1], error_M_PecVel, fmt='r.', markersize=5, alpha=0.3)\n",
    "\n",
    "    #---------------------\n",
    "\n",
    "    plt.xlim(x_IntervalPlots)\n",
    "    plt.ylim(yIntervalPlots)\n",
    "    plt.title(TitleForPlots)\n",
    "\n",
    "    #---------------------\n",
    "\n",
    "    plt.grid(True)\n",
    "\n",
    "    # plt.legend(loc='lower left', fontsize=LegendFontSize)\n",
    "    plt.xlabel('Phase = (MJD - $T_{Bmax}$)/(1+$z_{hel}$)')\n",
    "    plt.ylabel('Absolute magnitude')\n",
    "\n",
    "    # plt.savefig(DirSaveData+'Plot_GP_Template_.png')\n",
    "    plt.savefig(DirSaveData+'Plot_Data_%s_.png'%Band, dpi=PlotResolution)\n",
    "    # plt.show()\n",
    "    plt.close()"
   ]
  },
  {
   "cell_type": "markdown",
   "metadata": {},
   "source": [
    "## Plot the abs mag data only, with colors"
   ]
  },
  {
   "cell_type": "code",
   "execution_count": null,
   "metadata": {
    "collapsed": false
   },
   "outputs": [],
   "source": [
    "# Plotting all the GP functions together computed for each SN\n",
    "\n",
    "if Normalized == False:\n",
    "    skipFirstLines = 10 # This lines have information about the SN\n",
    "\n",
    "    fig = plt.figure()\n",
    "\n",
    "    ii = 0\n",
    "    DataLC_temp = 0\n",
    "    for i in range(1, len(list_SNe)):\n",
    "        ii =ii+1\n",
    "\n",
    "        DataLCInt = np.genfromtxt(list_SNe[i], skip_header=skipFirstLines)\n",
    "        errorM_PecVel_Int = np.sqrt(DataLCInt[:,2]**2 + sigma_muPecu(velPecuFix, zz_temp, zerrorFix)**2)\n",
    "\n",
    "        plt.errorbar(DataLCInt[:,0], DataLCInt[:,1], errorM_PecVel_Int, \n",
    "                     ls='None', markersize=5, alpha=0.7, label=''.format(i=ii))\n",
    "\n",
    "    plt.xlim(x_IntervalPlots)\n",
    "\n",
    "    plt.ylim(yIntervalPlots)\n",
    "    plt.title(TitleForPlots)\n",
    "\n",
    "    #---------------------\n",
    "    plt.grid(True)\n",
    "\n",
    "    plt.xlabel(r'Phase = (MJD - $T_{Bmax}$)/(1+$z_{hel}$)')\n",
    "    plt.ylabel('Absolute magnitude')\n",
    "\n",
    "    plt.savefig(DirSaveData+'Plot_Data_Color_%s_.png'%Band, dpi=PlotResolution)\n",
    "    # plt.show()\n",
    "    plt.close()"
   ]
  },
  {
   "cell_type": "markdown",
   "metadata": {},
   "source": [
    "## Plot the abs mag data and GP strings, with colors"
   ]
  },
  {
   "cell_type": "code",
   "execution_count": null,
   "metadata": {
    "collapsed": false
   },
   "outputs": [],
   "source": [
    "# Plotting all the GP functions together computed for each SN\n",
    "\n",
    "if Normalized == False:\n",
    "    skipFirstLines = 10 # This lines have information about the SN\n",
    "\n",
    "    fig = plt.figure()\n",
    "\n",
    "    ii = 0\n",
    "    DataLC_temp = 0\n",
    "    for i in range(1, len(list_SNe)):\n",
    "        ii =ii+1\n",
    "\n",
    "        labelInt = ''.format(i=ii)\n",
    "\n",
    "        # The GP string\n",
    "        DataGP=np.genfromtxt(list_SNe[i][:-4]+'_GP_mean_sigma.dat')\n",
    "        # plt.plot(DataGP[:,0], DataGP[:,1], label=''.format(i=ii))\n",
    "        plt.plot(DataGP[:,0], DataGP[:,1], label=labelInt)\n",
    "\n",
    "        # The data\n",
    "        DataLCInt = np.genfromtxt(list_SNe[i], skip_header=skipFirstLines)\n",
    "        errorM_PecVel_Int = np.sqrt(DataLCInt[:,2]**2 + sigma_muPecu(velPecuFix, zz_temp, zerrorFix)**2)\n",
    "        plt.errorbar(DataLCInt[:,0], DataLCInt[:,1], errorM_PecVel_Int, \n",
    "                     ls='None', markersize=5, alpha=0.7, \n",
    "                     # label=''.format(i=ii))\n",
    "                     label=labelInt)\n",
    "\n",
    "    plt.xlim(x_IntervalPlots)\n",
    "\n",
    "    plt.ylim(yIntervalPlots)\n",
    "    plt.title(TitleForPlots)\n",
    "\n",
    "    #---------------------\n",
    "    plt.grid(True)\n",
    "\n",
    "    plt.xlabel(r'Phase = (MJD - $T_{Bmax}$)/(1+$z_{hel}$)')\n",
    "    plt.ylabel('Absolute magnitude')\n",
    "\n",
    "    plt.savefig(DirSaveData+'Plot_Data_Color2_%s_.png'%Band, dpi=PlotResolution)\n",
    "    # plt.show()\n",
    "    plt.close()\n"
   ]
  },
  {
   "cell_type": "markdown",
   "metadata": {},
   "source": [
    "### Plotting all the GP function VARIANCES together computed for each SN"
   ]
  },
  {
   "cell_type": "code",
   "execution_count": null,
   "metadata": {
    "collapsed": false
   },
   "outputs": [],
   "source": [
    "# Plotting all the GP functions together computed for each SN\n",
    "\n",
    "# Defining the alpha transparency based on if I use all the data\n",
    "# or just a subsample.\n",
    "if KindOfData == '2_AllSubsamples/':\n",
    "    alphaTransparency = 0.04\n",
    "else:\n",
    "    alphaTransparency = 0.07\n",
    "\n",
    "for file in list_SNe:\n",
    "    # print file\n",
    "    DataGP=np.genfromtxt(file[:-4]+'_GP_mean_sigma.dat')\n",
    "    \n",
    "    if Normalized: AbsMag_TBmax = np.genfromtxt(file[:-4]+'_GP_mean_sigma_Filled.dat')[70][1]\n",
    "    else: AbsMag_TBmax = 0\n",
    "    \n",
    "    xx = np.atleast_2d(DataGP[:,0]).T\n",
    "    yy_pred = DataGP[:,1]-AbsMag_TBmax\n",
    "    sigmas = DataGP[:,2]\n",
    "    \n",
    "    plt.fill(np.concatenate([xx, xx[::-1]]),\n",
    "        np.concatenate([yy_pred - CL_size * sigmas,\n",
    "                      (yy_pred + CL_size * sigmas)[::-1]]),\n",
    "        # np.concatenate([y_pred - 1 * sigma,\n",
    "        #                (y_pred + 1 * sigma)[::-1]]),\n",
    "        alpha=alphaTransparency, fc='b', ec='None')\n",
    "\n",
    "plt.xlim(x_IntervalPlots)\n",
    "\n",
    "plt.ylim(yIntervalPlots)\n",
    "plt.title(TitleForPlots+' (GP std dev)')\n",
    "\n",
    "#---------------------\n",
    "plt.grid(True)\n",
    "\n",
    "plt.xlabel(r'Phase = (MJD - $T_{Bmax}$)/(1+$z_{hel}$)')\n",
    "plt.ylabel('Absolute magnitude')\n",
    "\n",
    "plt.savefig(DirSaveData+'Plot_GP_All_Individual_Var_.png', dpi=PlotResolution)\n",
    "# plt.show()\n",
    "plt.close() "
   ]
  },
  {
   "cell_type": "markdown",
   "metadata": {},
   "source": [
    "### $\\Delta_{\\rm m15}$. Plotting all the GP functions together computed for each SN with a gradient of color for $\\Delta_{\\rm m15}$ parameter "
   ]
  },
  {
   "cell_type": "code",
   "execution_count": null,
   "metadata": {
    "collapsed": false
   },
   "outputs": [],
   "source": [
    "# Plotting all the GP functions together computed for each SN\n",
    "\n",
    "for file in list_SNe:\n",
    "    # print file\n",
    "    DataGP=np.genfromtxt(file[:-4]+'_GP_mean_sigma.dat')\n",
    "    \n",
    "    if Normalized: AbsMag_TBmax = np.genfromtxt(file[:-4]+'_GP_mean_sigma_Filled.dat')[70][1]\n",
    "    else: AbsMag_TBmax = 0\n",
    "    \n",
    "    DataLC_Int = np.genfromtxt(file)\n",
    "    dm15_value = DataLC_Int[1,0]\n",
    "    plt.plot(DataGP[:,0], DataGP[:,1]-AbsMag_TBmax, lw=2\n",
    "             # , c=(1-dm15_value/2, 1-dm15_value/2, 1-dm15_value/2)\n",
    "             , c=(1-dm15_value/2, 0, 1-dm15_value/2)\n",
    "             # , c='blue'\n",
    "             # , alpha=1.9/dm15_value\n",
    "             , alpha=dm15_value/2\n",
    "            )\n",
    "\n",
    "# Creating the legend of colors by hand\n",
    "dm15Artificial = np.arange(0.8, 1.7, 0.2)\n",
    "for i in dm15Artificial:\n",
    "    plt.plot((x_IntervalPlots[1]-13,x_IntervalPlots[1]-7), \n",
    "             (yIntervalPlots[1]+i, yIntervalPlots[1]+i), \n",
    "             lw=3, c=(1-i/2, 0, 1-i/2), alpha=i/2  )\n",
    "    plt.text(x_IntervalPlots[1]-6, (yIntervalPlots[1]+i+0.1), '%r'%round(i,2))\n",
    "    \n",
    "    \n",
    "plt.text(x_IntervalPlots[1]-10, (yIntervalPlots[1]+0.4), '$\\Delta m15 $', fontsize=14)\n",
    "\n",
    "plt.xlim(x_IntervalPlots)\n",
    "\n",
    "plt.ylim(yIntervalPlots)\n",
    "plt.title(TitleForPlots+r' ($\\Delta {\\rm m15}$)')\n",
    "\n",
    "# plt.text(40,-19.4, '----- 1', color=(0, 0., 1))\n",
    "# plt.text(40,-19.2, '----- 0.8', color=(0, 0., 0.8))\n",
    "\n",
    "#---------------------\n",
    "plt.grid(True)\n",
    "\n",
    "plt.xlabel(r'Phase = (MJD - $T_{Bmax}$)/(1+$z_{hel}$)')\n",
    "plt.ylabel('Absolute magnitude')\n",
    "\n",
    "plt.savefig(DirSaveData+'Plot_GP_All_Individual_dm15_.png', dpi=PlotResolution)\n",
    "# plt.show()\n",
    "plt.close()"
   ]
  },
  {
   "cell_type": "markdown",
   "metadata": {},
   "source": [
    "### $z_{\\rm CMB}$. Plotting all the GP functions together computed for each SN with a gradient of color for $z_{\\rm CMB}$ parameter "
   ]
  },
  {
   "cell_type": "code",
   "execution_count": null,
   "metadata": {
    "collapsed": false
   },
   "outputs": [],
   "source": [
    "# Plotting all the GP functions together computed for each SN\n",
    "\n",
    "factorInt = 12\n",
    "\n",
    "for file in list_SNe:\n",
    "    # print file\n",
    "    DataGP=np.genfromtxt(file[:-4]+'_GP_mean_sigma.dat')\n",
    "    \n",
    "    if Normalized: AbsMag_TBmax = np.genfromtxt(file[:-4]+'_GP_mean_sigma_Filled.dat')[70][1]\n",
    "    else: AbsMag_TBmax = 0\n",
    "        \n",
    "    DataLC_Int = np.genfromtxt(file)\n",
    "    zcmb_value = DataLC_Int[0,0]\n",
    "    plt.plot(DataGP[:,0], DataGP[:,1]-AbsMag_TBmax, lw=2\n",
    "             # , c=(0, 0, 1-zcmb_value*factorInt)\n",
    "             , c='blue'\n",
    "             , alpha=zcmb_value*factorInt\n",
    "            )\n",
    "\n",
    "# Creating the legend of colors by hand\n",
    "zCMBArtificial = np.arange(0.002, 0.08, 0.01)\n",
    "for i in zCMBArtificial:\n",
    "    plt.plot((x_IntervalPlots[1]-13,x_IntervalPlots[1]-7), \n",
    "             (yIntervalPlots[1]+i*(factorInt+6)+0.5, yIntervalPlots[1]+i*(factorInt+6)+0.5), \n",
    "             lw=2.5, color='blue', alpha = i*factorInt )\n",
    "    plt.text(x_IntervalPlots[1]-6, (yIntervalPlots[1]+i*(factorInt+6)+0.58), '%r'%round(i,3)) \n",
    "\n",
    "    \n",
    "plt.text(x_IntervalPlots[1]-10, (yIntervalPlots[1]+0.36), 'z_CMB')\n",
    "\n",
    "plt.xlim(x_IntervalPlots)\n",
    "\n",
    "plt.ylim(yIntervalPlots)\n",
    "plt.title(TitleForPlots+r' ($z_{\\rm CMB}$)')\n",
    "\n",
    "# plt.text(40,-19.4, '----- 1', color=(0, 0., 1))\n",
    "# plt.text(40,-19.2, '----- 0.8', color=(0, 0., 0.8))\n",
    "\n",
    "#---------------------\n",
    "plt.grid(True)\n",
    "\n",
    "plt.xlabel(r'Phase = (MJD - $T_{Bmax}$)/(1+$z_{hel}$)')\n",
    "plt.ylabel('Absolute magnitude')\n",
    "\n",
    "plt.savefig(DirSaveData+'Plot_GP_All_Individual_zCMB_.png', dpi=PlotResolution)\n",
    "# plt.show()\n",
    "plt.close()"
   ]
  },
  {
   "cell_type": "markdown",
   "metadata": {},
   "source": [
    "### Plotting all the GP functions together computed for each SN and overlaying both snakes."
   ]
  },
  {
   "cell_type": "code",
   "execution_count": null,
   "metadata": {
    "collapsed": false
   },
   "outputs": [],
   "source": [
    "#-----------------------------------------------\n",
    "\n",
    "# Plotting all the GP functions together computed for each SN\n",
    "\n",
    "ii =0\n",
    "for file in list_SNe:\n",
    "    # print file\n",
    "    ii =ii +1\n",
    "    DataGP=np.genfromtxt(file[:-4]+'_GP_mean_sigma.dat')\n",
    "    \n",
    "    if Normalized: AbsMag_TBmax = np.genfromtxt(file[:-4]+'_GP_mean_sigma_Filled.dat')[70][1]\n",
    "    else: AbsMag_TBmax = 0\n",
    "        \n",
    "    plt.plot(DataGP[:,0], DataGP[:,1]-AbsMag_TBmax, label=''.format(i=ii))\n",
    "    \n",
    "#-----------------------------------------------\n",
    "#      PLOT GP TEMPLATE\n",
    "\n",
    "# Standard deviation\n",
    "\n",
    "plt.fill(np.concatenate([x_2, x_2[::-1]]),\n",
    "        # np.concatenate([y_pred_2 - 1.9600 * sigma,\n",
    "        #               (y_pred_2 + 1.9600 * sigma)[::-1]]),\n",
    "        np.concatenate([y_pred_2 - 1. * sigma_2,\n",
    "                       (y_pred_2 + 1. * sigma_2)[::-1]]),\n",
    "        alpha=0.5, fc='g', ec='None', label='Standard deviation')\n",
    "#-----------------------------------------------\n",
    "\n",
    "# Confidence interval\n",
    "plt.fill(np.concatenate([x, x[::-1]]),\n",
    "        np.concatenate([y_pred - CL_size * sigma,\n",
    "                      (y_pred + CL_size * sigma)[::-1]]),\n",
    "        # np.concatenate([y_pred - 1 * sigma,\n",
    "        #                (y_pred + 1 * sigma)[::-1]]),\n",
    "        alpha=0.7, fc='b', ec='None', label='{0}% confidence interval GP'.format(CL_label))\n",
    "\n",
    "# PLOT GP TEMPLATE mean\n",
    "plt.plot(x, y_pred, 'k-', lw=2, label=u'Gaussian Process mean (GP)')\n",
    "\n",
    "#-----------------------------------------------\n",
    "\n",
    "plt.xlim(x_IntervalPlots)\n",
    "\n",
    "if Normalized: plt.ylim(yIntervalPlotsNorma)\n",
    "else: plt.ylim(yIntervalPlots)\n",
    "\n",
    "plt.title(TitleForPlots)\n",
    "\n",
    "#---------------------\n",
    "\n",
    "plt.grid(True)\n",
    "\n",
    "plt.xlabel(r'Phase = (MJD - $T_{Bmax}$)/(1+$z_{hel}$)')\n",
    "plt.ylabel('Absolute magnitude')\n",
    "plt.legend(loc='lower left', fontsize=LegendFontSize)\n",
    "\n",
    "plt.savefig(DirSaveData+'Plot_GP_All_Template_CL_.png', dpi=PlotResolution)\n",
    "# plt.show()\n",
    "plt.close()"
   ]
  },
  {
   "cell_type": "markdown",
   "metadata": {},
   "source": [
    "# Plotting the template computed with GP and hierarchical"
   ]
  },
  {
   "cell_type": "markdown",
   "metadata": {},
   "source": [
    "### Plotting the Confidence Interval  and the template "
   ]
  },
  {
   "cell_type": "code",
   "execution_count": null,
   "metadata": {
    "collapsed": false
   },
   "outputs": [],
   "source": [
    "# Plot the function, the prediction and the confidence interval based on\n",
    "# the MSE\n",
    "\n",
    "fig = plt.figure()\n",
    "# plt.errorbar(X.ravel(), y, dy, fmt='r.', markersize=10, label=u'Observations')\n",
    "plt.plot(x, y_pred, 'k-', lw=2, label=u'Gaussian Process mean (GP)')\n",
    "plt.fill(np.concatenate([x, x[::-1]]),\n",
    "        # np.concatenate([y_pred - 1.9600 * sigma,\n",
    "        #               (y_pred + 1.9600 * sigma)[::-1]]),\n",
    "        np.concatenate([y_pred - CL_size * sigma,\n",
    "                       (y_pred + CL_size * sigma)[::-1]]),\n",
    "        alpha=.5, fc='b', ec='None', label='{0}% confidence interval GP'.format(CL_label))\n",
    "\n",
    "plt.xlim(x_IntervalPlots)\n",
    "plt.ylim(yIntervalPlots)\n",
    "plt.title(TitleForPlots)\n",
    "\n",
    "#---------------------\n",
    "\n",
    "plt.grid(True)\n",
    "\n",
    "plt.legend(loc='lower left', fontsize=LegendFontSize)\n",
    "plt.xlabel('Phase = (MJD - $T_{Bmax}$)/(1+$z_{hel}$)')\n",
    "plt.ylabel('Absolute magnitude')\n",
    "\n",
    "plt.savefig(DirSaveData+'Plot_GP_Template_CL_.png', dpi=PlotResolution)\n",
    "# plt.show()\n",
    "plt.close()"
   ]
  },
  {
   "cell_type": "markdown",
   "metadata": {},
   "source": [
    "### Plotting the Standard Deviation and the template "
   ]
  },
  {
   "cell_type": "code",
   "execution_count": null,
   "metadata": {
    "collapsed": false
   },
   "outputs": [],
   "source": [
    "# Plot the function, the prediction and the confidence interval based on\n",
    "# the MSE\n",
    "\n",
    "fig = plt.figure()\n",
    "# plt.errorbar(X.ravel(), y, dy, fmt='r.', markersize=10, label=u'Observations')\n",
    "plt.plot(x_2, y_pred_2, 'k-', lw=2, label=u'Gaussian Process mean (GP)')\n",
    "plt.fill(np.concatenate([x_2, x_2[::-1]]),\n",
    "        # np.concatenate([y_pred_2 - 1.9600 * sigma,\n",
    "        #               (y_pred_2 + 1.9600 * sigma)[::-1]]),\n",
    "        np.concatenate([y_pred_2 - 1. * sigma_2,\n",
    "                       (y_pred_2 + 1. * sigma_2)[::-1]]),\n",
    "        alpha=.5, fc='g', ec='None', label='Standard deviation')\n",
    "\n",
    "plt.xlim(x_IntervalPlots)\n",
    "plt.ylim(yIntervalPlots)\n",
    "plt.title(TitleForPlots)\n",
    "\n",
    "#---------------------\n",
    "\n",
    "plt.grid(True)\n",
    "\n",
    "plt.legend(loc='lower left', fontsize=LegendFontSize)\n",
    "plt.xlabel('Phase = (MJD - $T_{Bmax}$)/(1+$z_{hel}$)')\n",
    "plt.ylabel('Absolute magnitude')\n",
    "\n",
    "# plt.savefig(DirSaveData+'Plot_GP_Template_.png')\n",
    "plt.savefig(DirSaveData+'Plot_GP_Template_StdDev_.png', dpi=PlotResolution)\n",
    "# plt.show()\n",
    "plt.close()"
   ]
  },
  {
   "cell_type": "markdown",
   "metadata": {},
   "source": [
    "### Overlay snakes: the confidence interval and standard deviation snakes"
   ]
  },
  {
   "cell_type": "code",
   "execution_count": null,
   "metadata": {
    "collapsed": false
   },
   "outputs": [],
   "source": [
    "# Plot the function, the prediction and the confidence interval based on\n",
    "# the MSE\n",
    "\n",
    "fig = plt.figure()\n",
    "# Standard deviation\n",
    "plt.plot(x_2, y_pred_2, 'k-', lw=2, label=u'Gaussian Process mean (GP)')\n",
    "plt.fill(np.concatenate([x_2, x_2[::-1]]),\n",
    "        # np.concatenate([y_pred_2 - 1.9600 * sigma,\n",
    "        #               (y_pred_2 + 1.9600 * sigma)[::-1]]),\n",
    "        np.concatenate([y_pred_2 - 1. * sigma_2,\n",
    "                       (y_pred_2 + 1. * sigma_2)[::-1]]),\n",
    "        alpha=0.5, fc='g', ec='None', label='Standard deviation')\n",
    "\n",
    "# Confidence interval\n",
    "plt.plot(x, y_pred, 'k-', lw=2)\n",
    "plt.fill(np.concatenate([x, x[::-1]]),\n",
    "        # np.concatenate([y_pred - 1.9600 * sigma,\n",
    "        #               (y_pred + 1.9600 * sigma)[::-1]]),\n",
    "        np.concatenate([y_pred - CL_size * sigma,\n",
    "                       (y_pred + CL_size * sigma)[::-1]]),\n",
    "        alpha=0.5, fc='b', ec='None', label='{0}% confidence interval GP'.format(CL_label))\n",
    "\n",
    "plt.xlim(x_IntervalPlots)\n",
    "plt.ylim(yIntervalPlots)\n",
    "plt.title(TitleForPlots)\n",
    "\n",
    "#---------------------\n",
    "\n",
    "plt.grid(True)\n",
    "\n",
    "plt.legend(loc='lower left', fontsize=LegendFontSize)\n",
    "plt.xlabel('Phase = (MJD - $T_{Bmax}$)/(1+$z_{hel}$)')\n",
    "plt.ylabel('Absolute magnitude')\n",
    "\n",
    "# plt.savefig(DirSaveData+'Plot_GP_Template_.png')\n",
    "plt.savefig(DirSaveData+'Plot_GP_Template_CL_StdDev_.png', dpi=PlotResolution)\n",
    "# plt.show()\n",
    "plt.close()"
   ]
  },
  {
   "cell_type": "markdown",
   "metadata": {},
   "source": [
    "# Overplot: GP template and the light curve data\n",
    "\n",
    "Optional: Overplot also the weighted-mean template"
   ]
  },
  {
   "cell_type": "markdown",
   "metadata": {},
   "source": [
    "## Plot: LC data  + confidence interval snake"
   ]
  },
  {
   "cell_type": "code",
   "execution_count": null,
   "metadata": {
    "collapsed": false
   },
   "outputs": [],
   "source": [
    "# Plot the function, the prediction and the confidence interval based on\n",
    "# the MSE\n",
    "\n",
    "if Normalized == False:\n",
    "    fig = plt.figure()\n",
    "\n",
    "    #-----------------------------------------------\n",
    "    #      PLOT GP TEMPLATE\n",
    "\n",
    "    plt.fill(np.concatenate([x, x[::-1]]),\n",
    "            # np.concatenate([y_pred - 1.9600 * sigma,\n",
    "            #               (y_pred + 1.9600 * sigma)[::-1]]),\n",
    "            np.concatenate([y_pred - CL_size * sigma,\n",
    "                           (y_pred + CL_size * sigma)[::-1]]),\n",
    "            alpha=.6, fc='b', ec='None', label='{0}% confidence interval for GP'.format(CL_label))\n",
    "\n",
    "    #-----------------------------------------------\n",
    "    #      PLOT SMOOTHED WEIGHTED MEAN TEMPLATE\n",
    "    \"\"\" \n",
    "    # Mean template: Wood-Vasey algorithm\n",
    "    plt.plot(Template_WeightMeanSmooth[:,0], Template_WeightMeanSmooth[:,1], \n",
    "             color='red', lw=2, ls='-', alpha=1, label='Smooth weighted average (SWA)')\n",
    "\n",
    "    plt.fill(np.concatenate([Template_WeightMeanSmooth[:,0], Template_WeightMeanSmooth[:,0][::-1]]),\n",
    "            np.concatenate([Template_WeightMeanSmooth[:,1] - 1.960 * np.array(Template_WeightMeanSmooth[:,2]),\n",
    "                           (Template_WeightMeanSmooth[:,1] + 1.960 * np.array(Template_WeightMeanSmooth[:,2]) )[::-1]]),\n",
    "            alpha=1, fc='orange', ec='None', label='95% confidence interval for SWA')\n",
    "    \"\"\"\n",
    "    #-----------------------------------------------\n",
    "    # THE LIGHT-CURVE DATA. Including peculiar velocity\n",
    "\n",
    "    plt.errorbar(DataLC[:,0], DataLC[:,1], error_M_PecVel, ls='', fmt='grey', alpha=0.3)\n",
    "\n",
    "    #-----------------------------------------------\n",
    "\n",
    "    # PLOT GP TEMPLATE mean\n",
    "    plt.plot(x, y_pred, 'k-', lw=2, label=u'Gaussian Process mean (GP)')\n",
    "\n",
    "    plt.xlim(x_IntervalPlots)\n",
    "    plt.ylim(yIntervalPlots)\n",
    "    plt.title(TitleForPlots)\n",
    "\n",
    "    #---------------------\n",
    "\n",
    "    plt.grid(True)\n",
    "\n",
    "    plt.legend(loc='lower left', fontsize=LegendFontSize)\n",
    "    plt.xlabel('Phase = (MJD - $T_{Bmax}$)/(1+$z_{hel}$)')\n",
    "    plt.ylabel('Absolute magnitude')\n",
    "\n",
    "    plt.savefig(DirSaveData+'Plot_GP_Template_CL_Data_.png', dpi=PlotResolution)\n",
    "    # plt.show()\n",
    "    plt.close()"
   ]
  },
  {
   "cell_type": "markdown",
   "metadata": {},
   "source": [
    "## Plot: LC data  + standard deviation snake"
   ]
  },
  {
   "cell_type": "code",
   "execution_count": null,
   "metadata": {
    "collapsed": false
   },
   "outputs": [],
   "source": [
    "# Plot the function, the prediction and the confidence interval based on\n",
    "# the MSE\n",
    "\n",
    "if Normalized == False:\n",
    "    fig = plt.figure()\n",
    "\n",
    "    #-----------------------------------------------\n",
    "    #      PLOT GP TEMPLATE\n",
    "\n",
    "    plt.fill(np.concatenate([x_2, x_2[::-1]]),\n",
    "            # np.concatenate([y_pred_2 - 1.9600 * sigma,\n",
    "            #               (y_pred_2 + 1.9600 * sigma)[::-1]]),\n",
    "            np.concatenate([y_pred_2 - 1. * sigma_2,\n",
    "                           (y_pred_2 + 1. * sigma_2)[::-1]]),\n",
    "            alpha=.5, fc='g', ec='None', label='Standard deviation')\n",
    "\n",
    "    #-----------------------------------------------\n",
    "    #      PLOT SMOOTHED WEIGHTED MEAN TEMPLATE\n",
    "    \"\"\" \n",
    "    # Mean template: Wood-Vasey algorithm\n",
    "    plt.plot(Template_WeightMeanSmooth[:,0], Template_WeightMeanSmooth[:,1], \n",
    "             color='red', lw=2, ls='-', alpha=1, label='Smooth weighted average (SWA)')\n",
    "\n",
    "    plt.fill(np.concatenate([Template_WeightMeanSmooth[:,0], Template_WeightMeanSmooth[:,0][::-1]]),\n",
    "            np.concatenate([Template_WeightMeanSmooth[:,1] - 1.960 * np.array(Template_WeightMeanSmooth[:,2]),\n",
    "                           (Template_WeightMeanSmooth[:,1] + 1.960 * np.array(Template_WeightMeanSmooth[:,2]) )[::-1]]),\n",
    "            alpha=1, fc='orange', ec='None', label='95% confidence interval for SWA')\n",
    "    \"\"\"\n",
    "    #-----------------------------------------------\n",
    "    # THE LIGHT-CURVE DATA. Including peculiar velocity\n",
    "\n",
    "    plt.errorbar(DataLC[:,0], DataLC[:,1], error_M_PecVel, ls='', fmt='grey', alpha=0.3)\n",
    "\n",
    "    #-----------------------------------------------\n",
    "\n",
    "    # PLOT GP TEMPLATE mean\n",
    "    plt.plot(x_2, y_pred_2, 'k-', lw=2, label=u'Gaussian Process mean (GP)')\n",
    "\n",
    "    plt.xlim(x_IntervalPlots)\n",
    "    plt.ylim(yIntervalPlots)\n",
    "    plt.title(TitleForPlots)\n",
    "\n",
    "    #---------------------\n",
    "\n",
    "    plt.grid(True)\n",
    "\n",
    "    plt.legend(loc='lower left', fontsize=LegendFontSize)\n",
    "    plt.xlabel('Phase = (MJD - $T_{Bmax}$)/(1+$z_{hel}$)')\n",
    "    plt.ylabel('Absolute magnitude')\n",
    "\n",
    "    plt.savefig(DirSaveData+'Plot_GP_Template_StdDev_Data_.png', dpi=PlotResolution)\n",
    "    # plt.show()\n",
    "    plt.close()"
   ]
  },
  {
   "cell_type": "markdown",
   "metadata": {},
   "source": [
    "## Overlay plots of the LC data and both confidence interval and standard deviation snakes "
   ]
  },
  {
   "cell_type": "code",
   "execution_count": null,
   "metadata": {
    "collapsed": false
   },
   "outputs": [],
   "source": [
    "# Plot the function, the prediction and the confidence interval based on\n",
    "# the MSE\n",
    "\n",
    "if Normalized == False:\n",
    "    fig = plt.figure()\n",
    "    # Standard deviation\n",
    "    plt.plot(x_2, y_pred_2, 'k-', lw=2, label=u'Gaussian Process mean (GP)')\n",
    "    plt.fill(np.concatenate([x_2, x_2[::-1]]),\n",
    "            # np.concatenate([y_pred_2 - 1.9600 * sigma,\n",
    "            #               (y_pred_2 + 1.9600 * sigma)[::-1]]),\n",
    "            np.concatenate([y_pred_2 - 1. * sigma_2,\n",
    "                           (y_pred_2 + 1. * sigma_2)[::-1]]),\n",
    "            alpha=0.5, fc='g', ec='None', label='Standard deviation')\n",
    "\n",
    "    # Confidence interval\n",
    "    plt.plot(x, y_pred, 'k-', lw=2)\n",
    "    plt.fill(np.concatenate([x, x[::-1]]),\n",
    "            # np.concatenate([y_pred - 1.9600 * sigma,\n",
    "            #               (y_pred + 1.9600 * sigma)[::-1]]),\n",
    "            np.concatenate([y_pred - CL_size * sigma,\n",
    "                           (y_pred + CL_size * sigma)[::-1]]),\n",
    "            alpha=0.5, fc='b', ec='None', label='{0}% confidence interval GP'.format(CL_label))\n",
    "\n",
    "    #-----------------------------------------------\n",
    "    # THE LIGHT-CURVE DATA. Including peculiar velocity\n",
    "\n",
    "    plt.errorbar(DataLC[:,0], DataLC[:,1], error_M_PecVel, ls='', fmt='grey', alpha=0.3)\n",
    "\n",
    "    #---------------------\n",
    "\n",
    "    plt.xlim(x_IntervalPlots)\n",
    "    plt.ylim(yIntervalPlots)\n",
    "    plt.title(TitleForPlots)\n",
    "\n",
    "    #---------------------\n",
    "\n",
    "    plt.grid(True)\n",
    "\n",
    "    plt.legend(loc='lower left', fontsize=LegendFontSize)\n",
    "    plt.xlabel('Phase = (MJD - $T_{Bmax}$)/(1+$z_{hel}$)')\n",
    "    plt.ylabel('Absolute magnitude')\n",
    "\n",
    "    # plt.savefig(DirSaveData+'Plot_GP_Template_.png')\n",
    "    plt.savefig(DirSaveData+'Plot_GP_Template_CL_StdDev_Data_.png', dpi=PlotResolution)\n",
    "    # plt.show()\n",
    "    plt.close()"
   ]
  },
  {
   "cell_type": "markdown",
   "metadata": {},
   "source": [
    "### Residual plot"
   ]
  },
  {
   "cell_type": "code",
   "execution_count": null,
   "metadata": {
    "collapsed": false
   },
   "outputs": [],
   "source": [
    "# Plot the function, the prediction and the confidence interval based on\n",
    "# the MSE\n",
    "\n",
    "phaseInt = np.linspace(-10, 60, 10)\n",
    "zeroInt = np.zeros(len(phaseInt))\n",
    "\n",
    "fig = plt.figure()\n",
    "\n",
    "# Standard deviation\n",
    "plt.fill(np.concatenate([x_2, x_2[::-1]]),\n",
    "        np.concatenate([0 - 1. * sigma_2,\n",
    "                       (0 + 1. * sigma_2)[::-1]]),\n",
    "        alpha=0.5, fc='g', ec='None', label='Standard deviation')\n",
    "\n",
    "# Confidence interval\n",
    "plt.fill(np.concatenate([x, x[::-1]]),\n",
    "        np.concatenate([0 - CL_size * sigma,\n",
    "                       (0 + CL_size * sigma)[::-1]]),\n",
    "        alpha=0.5, fc='b', ec='None', label='{0}% confidence interval GP'.format(CL_label))\n",
    "\n",
    "#-----------------------------------------------\n",
    "# THE LIGHT-CURVE DATA. Including peculiar velocity\n",
    "\n",
    "# plt.errorbar(DataLC[:,0], DataLC[:,1], error_M_PecVel, ls='', fmt='grey', alpha=0.3)\n",
    "\n",
    "#---------------------\n",
    "# A black line in the center of the residual plot\n",
    "\n",
    "\n",
    "plt.plot(phaseInt, zeroInt, color='black', lw=2)\n",
    "\n",
    "#---------------------\n",
    "\n",
    "plt.xlim(x_IntervalPlots)\n",
    "plt.ylim(y_Interval_Residual)\n",
    "plt.title(TitleForPlots)\n",
    "\n",
    "#---------------------\n",
    "\n",
    "plt.grid(True)\n",
    "\n",
    "plt.legend(loc='lower left', fontsize=LegendFontSize)\n",
    "plt.xlabel('Phase = (MJD - $T_{Bmax}$)/(1+$z_{hel}$)')\n",
    "# plt.ylabel('Residual (mag)') # old\n",
    "plt.ylabel('Sample Std Dev (mag)')\n",
    "\n",
    "# plt.savefig(DirSaveData+'Plot_GP_Template_.png')\n",
    "plt.savefig(DirSaveData+'Plot_GP_Template_CL_StdDev_Residual_.png', dpi=PlotResolution)\n",
    "# plt.show()\n",
    "plt.close()"
   ]
  },
  {
   "cell_type": "markdown",
   "metadata": {},
   "source": [
    "## Template + Residual"
   ]
  },
  {
   "cell_type": "code",
   "execution_count": null,
   "metadata": {
    "collapsed": false
   },
   "outputs": [],
   "source": [
    "TitleForPlots2 = Band+' band template'\n",
    "\n",
    "# Array to create the central line:\n",
    "phaseInt = np.linspace(-10, 60, 10)\n",
    "zeroInt = np.zeros(len(phaseInt))\n",
    "\n",
    "plt.clf()\n",
    "# fig, axes = plt.subplots(2, 1, sharex=True,  gridspec_kw = {'width_ratios':[3, 1]})\n",
    "fig, axes = plt.subplots(2, 1, sharex=True, gridspec_kw = {'height_ratios':[3, 1]}  , figsize=(9, 9),)\n",
    "\n",
    "# Close the space between the subplots\n",
    "plt.subplots_adjust(hspace = .005)\n",
    "\n",
    "#-----------------------------------------------------\n",
    "#     TEMPLATE\n",
    "\n",
    "#- Standard deviation\n",
    "axes[0].plot(x_2, y_pred_2, 'k-', lw=2, label='Gaussian Process mean (GP)')\n",
    "axes[0].fill(np.concatenate([x_2, x_2[::-1]]),\n",
    "        np.concatenate([y_pred_2 - 1. * sigma_2,\n",
    "                       (y_pred_2 + 1. * sigma_2)[::-1]]),\n",
    "        alpha=0.5, fc='g', ec='None', label='Standard deviation')\n",
    "\n",
    "#- Confidence interval\n",
    "axes[0].plot(x, y_pred, 'k-', lw=2)\n",
    "axes[0].fill(np.concatenate([x, x[::-1]]),\n",
    "        np.concatenate([y_pred - CL_size * sigma,\n",
    "                       (y_pred + CL_size * sigma)[::-1]]),\n",
    "        alpha=0.5, fc='b', ec='None', label='{0}% confidence interval GP'.format(CL_label))\n",
    "\n",
    "\n",
    "axes[0].legend(loc='lower left', fontsize=LegendFontSize) # no working! :(\n",
    "# axes[0].legend() # no working! :(\n",
    "# axes[0].get_legend() # no working! :(\n",
    "\n",
    "#-- THE LIGHT-CURVE DATA. Including peculiar velocity\n",
    "\n",
    "if Normalized == False:\n",
    "    axes[0].errorbar(DataLC[:,0], DataLC[:,1], error_M_PecVel, ls='', fmt='grey', alpha=0.3)\n",
    "\n",
    "#--------\n",
    "\n",
    "axes[0].grid(True)\n",
    "\n",
    "axes[0].set_ylim(yIntervalPlots)\n",
    "axes[0].set_ylabel('Absolute magnitude')\n",
    "axes[0].set_title(TitleForPlots2)\n",
    "\n",
    "#-----------------------------------------------------\n",
    "#     RESIDUAL\n",
    "\n",
    "# The central black line:\n",
    "axes[1].plot(phaseInt, zeroInt, color='black', lw=2)\n",
    "\n",
    "#- Standard deviation\n",
    "axes[1].fill(np.concatenate([x_2, x_2[::-1]]),\n",
    "        np.concatenate([0 - 1. * sigma_2,\n",
    "                       (0 + 1. * sigma_2)[::-1]]),\n",
    "        alpha=0.5, fc='g', ec='None', label='Standard deviation')\n",
    "\n",
    "#- Confidence interval\n",
    "axes[1].fill(np.concatenate([x, x[::-1]]),\n",
    "        np.concatenate([0 - CL_size * sigma,\n",
    "                       (0 + CL_size * sigma)[::-1]]),\n",
    "        alpha=0.5, fc='b', ec='None', label='{0}% confidence interval GP'.format(CL_label))\n",
    "\n",
    "axes[1].grid(True)\n",
    "axes[1].set_xlim(x_IntervalPlots)\n",
    "# axes[1].set_ylabel('Residual (mag)')\n",
    "axes[1].set_ylabel('Sample Std Dev (mag)')\n",
    "axes[1].set_xlabel('Phase = (MJD - $T_{Bmax}$)/(1+$z_{hel}$)')\n",
    "# plt.legend(loc='upper left', fontsize=LegendFontSize)\n",
    "\n",
    "plt.savefig(DirSaveData+'Plot_GP_Template_CL_StdDev_Both_.png', dpi=PlotResolution)\n",
    "plt.close()\n"
   ]
  },
  {
   "cell_type": "code",
   "execution_count": null,
   "metadata": {
    "collapsed": true
   },
   "outputs": [],
   "source": []
  },
  {
   "cell_type": "code",
   "execution_count": null,
   "metadata": {
    "collapsed": true
   },
   "outputs": [],
   "source": []
  },
  {
   "cell_type": "code",
   "execution_count": null,
   "metadata": {},
   "outputs": [],
   "source": []
  },
  {
   "cell_type": "code",
   "execution_count": null,
   "metadata": {},
   "outputs": [],
   "source": []
  },
  {
   "cell_type": "code",
   "execution_count": null,
   "metadata": {},
   "outputs": [],
   "source": []
  }
 ],
 "metadata": {
  "kernelspec": {
   "display_name": "Python [default]",
   "language": "python",
   "name": "python2"
  },
  "language_info": {
   "codemirror_mode": {
    "name": "ipython",
    "version": 2
   },
   "file_extension": ".py",
   "mimetype": "text/x-python",
   "name": "python",
   "nbconvert_exporter": "python",
   "pygments_lexer": "ipython2",
   "version": "2.7.13"
  }
 },
 "nbformat": 4,
 "nbformat_minor": 2
}
